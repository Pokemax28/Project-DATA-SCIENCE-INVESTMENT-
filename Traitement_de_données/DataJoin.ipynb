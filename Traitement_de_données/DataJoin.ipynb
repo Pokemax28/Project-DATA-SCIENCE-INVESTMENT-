{
 "cells": [
  {
   "cell_type": "code",
   "execution_count": 1,
   "id": "82723fb0",
   "metadata": {},
   "outputs": [],
   "source": [
    "import pandas as pd\n",
    "import numpy as np"
   ]
  },
  {
   "cell_type": "code",
   "execution_count": 32,
   "id": "7bbf839f",
   "metadata": {},
   "outputs": [
    {
     "name": "stdout",
     "output_type": "stream",
     "text": [
      "  CodePostal  CultureCount  code_postal_x  prix_gazole  prix_sp95  prix_e85  \\\n",
      "0      01130           287           1130       1.5945       1.73     0.715   \n",
      "1      01130           287           1130       1.5945       1.73     0.715   \n",
      "2      01130           287           1130       1.5945       1.73     0.715   \n",
      "3      01130           287           1130       1.5945       1.73     0.715   \n",
      "4      01130           287           1130       1.5945       1.73     0.715   \n",
      "\n",
      "   prix_gplc  prix_sp98  prix_e10  totmean  ...  Loyerm2Mean  nature_mutation  \\\n",
      "0        NaN      1.761     1.646   1.4893  ...    11.872627            Vente   \n",
      "1        NaN      1.761     1.646   1.4893  ...    11.872627            Vente   \n",
      "2        NaN      1.761     1.646   1.4893  ...    11.872627            Vente   \n",
      "3        NaN      1.761     1.646   1.4893  ...    11.872627            Vente   \n",
      "4        NaN      1.761     1.646   1.4893  ...    11.872627            Vente   \n",
      "\n",
      "   valeur_fonciere code_postal_y  surface_reelle_bati  \\\n",
      "0         125000.0        1130.0                100.0   \n",
      "1           3000.0        1130.0                  NaN   \n",
      "2           3000.0        1130.0                  NaN   \n",
      "3           3000.0        1130.0                  NaN   \n",
      "4           3000.0        1130.0                  NaN   \n",
      "\n",
      "  nombre_pieces_principales  type_local  longitude   latitude  date_mutation  \n",
      "0                       5.0      Maison   5.604782  46.155466     2020-01-22  \n",
      "1                       NaN         NaN   5.686390  46.181914     2020-01-17  \n",
      "2                       NaN         NaN   5.686307  46.181891     2020-01-17  \n",
      "3                       NaN         NaN   5.685398  46.181707     2020-01-17  \n",
      "4                       NaN         NaN   5.686005  46.181616     2020-01-17  \n",
      "\n",
      "[5 rows x 24 columns]\n"
     ]
    }
   ],
   "source": [
    "df_all_temp = {}\n",
    "for dataset in ['Culture_Cleaned','Carburant_Cleaned','EducationCount_Cleaned','TransportCount_Cleaned','LoyerT1T2_Cleaned','metropoleetbanlieues_liste','DVF_Cleaned']:\n",
    "    df_all_temp[dataset] = pd.read_csv('../DataCleaned/'+dataset+'.csv', low_memory=False, sep=\",\")\n",
    "\n",
    "df_all = df_all_temp['Culture_Cleaned'].merge(df_all_temp['Carburant_Cleaned'], left_on=\"CodePostal\", right_on=\"code_postal\")\n",
    "df_all_temp.pop('Culture_Cleaned')\n",
    "df_all_temp.pop('Carburant_Cleaned')\n",
    "df_all = df_all.merge(df_all_temp['metropoleetbanlieues_liste'], left_on=\"CodePostal\", right_on=\"0\", how='left')\n",
    "df_all_temp.pop('metropoleetbanlieues_liste')\n",
    "df_all = df_all.merge(df_all_temp['EducationCount_Cleaned'], left_on=\"CodePostal\", right_on=\"CodePostal\", how='left')\n",
    "df_all_temp.pop('EducationCount_Cleaned')\n",
    "df_all = df_all.merge(df_all_temp['TransportCount_Cleaned'], left_on=\"CodePostal\", right_on=\"CodePostal\", how='left')\n",
    "df_all_temp.pop('TransportCount_Cleaned')\n",
    "df_all['Département'] = df_all['CodePostal'].apply(lambda x : str(x).zfill(5)).str[:2]\n",
    "df_all = df_all.merge(df_all_temp['LoyerT1T2_Cleaned'], left_on=\"Département\", right_on=\"Département\", how='left')\n",
    "df_all_temp.pop('LoyerT1T2_Cleaned')\n",
    "df_all = df_all.merge(df_all_temp['DVF_Cleaned'], left_on=\"CodePostal\", right_on=\"code_postal\", how='left')\n",
    "df_all_temp.pop('DVF_Cleaned')\n",
    "df_all['CodePostal'] = df_all['CodePostal'].apply(lambda value: str(value).zfill(5))\n",
    "\n",
    "\n",
    "print(df_all.head())\n",
    "\n",
    "df_all.to_csv('../DataAll/Dataset.csv', index=False)"
   ]
  }
 ],
 "metadata": {
  "kernelspec": {
   "display_name": "venvMacOS",
   "language": "python",
   "name": "python3"
  },
  "language_info": {
   "codemirror_mode": {
    "name": "ipython",
    "version": 3
   },
   "file_extension": ".py",
   "mimetype": "text/x-python",
   "name": "python",
   "nbconvert_exporter": "python",
   "pygments_lexer": "ipython3",
   "version": "3.13.9"
  }
 },
 "nbformat": 4,
 "nbformat_minor": 5
}
