{
 "cells": [
  {
   "cell_type": "code",
   "execution_count": 2,
   "id": "acb700c8",
   "metadata": {},
   "outputs": [],
   "source": [
    "import pandas as pd\n",
    "import numpy as np"
   ]
  },
  {
   "cell_type": "code",
   "execution_count": 6,
   "id": "7a45dfd7",
   "metadata": {},
   "outputs": [
    {
     "name": "stdout",
     "output_type": "stream",
     "text": [
      "Processing a new chunk...\n",
      "Processing a new chunk...\n",
      "Processing a new chunk...\n",
      "Processing a new chunk...\n",
      "Processing a new chunk...\n",
      "Processing a new chunk...\n",
      "Processing a new chunk...\n",
      "Processing a new chunk...\n",
      "Processing a new chunk...\n",
      "Processing a new chunk...\n",
      "Processing a new chunk...\n",
      "Processing a new chunk...\n",
      "Processing a new chunk...\n",
      "Processing a new chunk...\n",
      "Processing a new chunk...\n",
      "Processing a new chunk...\n",
      "Processing a new chunk...\n",
      "Processing a new chunk...\n",
      "Processing a new chunk...\n",
      "Processing a new chunk...\n",
      "Processing a new chunk...\n",
      "<class 'pandas.core.frame.DataFrame'>\n",
      "RangeIndex: 19980015 entries, 0 to 19980014\n",
      "Data columns (total 9 columns):\n",
      " #   Column                     Dtype         \n",
      "---  ------                     -----         \n",
      " 0   nature_mutation            object        \n",
      " 1   valeur_fonciere            float64       \n",
      " 2   code_postal                object        \n",
      " 3   surface_reelle_bati        float64       \n",
      " 4   nombre_pieces_principales  float64       \n",
      " 5   type_local                 object        \n",
      " 6   longitude                  float64       \n",
      " 7   latitude                   float64       \n",
      " 8   date_mutation              datetime64[ns]\n",
      "dtypes: datetime64[ns](1), float64(5), object(3)\n",
      "memory usage: 1.3+ GB\n",
      "None\n",
      "  nature_mutation  valeur_fonciere code_postal  surface_reelle_bati  \\\n",
      "0           Vente           8000.0       01250                  NaN   \n",
      "1           Vente           2175.0       01290                  NaN   \n",
      "2           Vente           2175.0       01290                  NaN   \n",
      "3           Vente           2175.0       01290                  NaN   \n",
      "4           Vente           2175.0       01290                  NaN   \n",
      "\n",
      "   nombre_pieces_principales type_local  longitude   latitude date_mutation  \n",
      "0                        NaN        NaN   5.323532  46.171941    2020-01-07  \n",
      "1                        NaN        NaN   4.893454  46.251858    2020-01-02  \n",
      "2                        NaN        NaN   4.900210  46.235277    2020-01-02  \n",
      "3                        NaN        NaN   4.882112  46.246554    2020-01-02  \n",
      "4                        NaN        NaN   4.894481  46.251841    2020-01-02  \n"
     ]
    }
   ],
   "source": [
    "# Load the CSV\n",
    "chunks = pd.read_csv('../Data/ValeurFonciere.csv', chunksize=1000000, low_memory=False, sep=\",\")\n",
    "\n",
    "chunk_list = []\n",
    "for chunk in chunks:\n",
    "    print(\"Processing a new chunk...\")\n",
    "    df1 = pd.DataFrame(chunk)\n",
    "    df1 = df1[['nature_mutation','valeur_fonciere','code_postal','surface_reelle_bati','nombre_pieces_principales','type_local','longitude','latitude','date_mutation']]\n",
    "    df1 = df1.dropna(subset=['code_postal'])\n",
    "    df1['code_postal'] = df1['code_postal'].astype(float).astype(int).astype(str).str.zfill(5)\n",
    "    df1['date_mutation'] = pd.to_datetime(df1['date_mutation'])\n",
    "    chunk_list.append(df1)\n",
    "\n",
    "# Concatenate all chunks into a single DataFrame\n",
    "dftot = pd.concat(chunk_list, ignore_index=True)\n",
    "\n",
    "# Display basic information about the dataset\n",
    "print(dftot.info())\n",
    "print(dftot.head())\n",
    "\n",
    "dftot.to_csv('../DataCleaned/DVF_Cleaned.csv', index=False)"
   ]
  }
 ],
 "metadata": {
  "kernelspec": {
   "display_name": "venvMacOS",
   "language": "python",
   "name": "python3"
  },
  "language_info": {
   "codemirror_mode": {
    "name": "ipython",
    "version": 3
   },
   "file_extension": ".py",
   "mimetype": "text/x-python",
   "name": "python",
   "nbconvert_exporter": "python",
   "pygments_lexer": "ipython3",
   "version": "3.13.9"
  }
 },
 "nbformat": 4,
 "nbformat_minor": 5
}
