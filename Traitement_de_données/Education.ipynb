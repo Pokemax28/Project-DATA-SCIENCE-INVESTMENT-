{
 "cells": [
  {
   "cell_type": "code",
   "execution_count": 2,
   "id": "76e2cf13",
   "metadata": {},
   "outputs": [],
   "source": [
    "import pandas as pd\n",
    "import numpy as np"
   ]
  },
  {
   "cell_type": "code",
   "execution_count": 5,
   "id": "c04767e9",
   "metadata": {},
   "outputs": [
    {
     "name": "stdout",
     "output_type": "stream",
     "text": [
      "Processing a new chunk...\n",
      "<class 'pandas.core.frame.DataFrame'>\n",
      "RangeIndex: 8051 entries, 0 to 8050\n",
      "Data columns (total 2 columns):\n",
      " #   Column          Non-Null Count  Dtype \n",
      "---  ------          --------------  ----- \n",
      " 0   CodePostal      8051 non-null   object\n",
      " 1   EducationCount  8051 non-null   int64 \n",
      "dtypes: int64(1), object(1)\n",
      "memory usage: 125.9+ KB\n",
      "None\n",
      "  CodePostal  EducationCount\n",
      "0      01000              36\n",
      "1      01001               2\n",
      "2      01011               4\n",
      "3      01090               9\n",
      "4      01100              36\n",
      "     CodePostal  EducationCount\n",
      "6137      75019             130\n",
      "6133      75015             125\n",
      "3779      51100             124\n",
      "1364      21000             120\n",
      "6138      75020             117\n",
      "7896      97600             107\n",
      "6131      75013             106\n",
      "6136      75018              99\n",
      "6134      75016              98\n",
      "1641      25000              95\n"
     ]
    }
   ],
   "source": [
    "# Load the CSV\n",
    "chunks = pd.read_csv('../Data/Education.csv', chunksize=1000000, low_memory=False, sep=\";\")\n",
    "\n",
    "chunk_list = []\n",
    "for chunk in chunks:\n",
    "    print(\"Processing a new chunk...\")\n",
    "    df1 = pd.DataFrame(chunk)\n",
    "    df2 = df1[['Adresse : code postal']].dropna().copy()\n",
    "    df2 = df2.rename(columns={'Adresse : code postal':'CodePostal'})\n",
    "    df2['CodePostal'] = df2['CodePostal'].apply(lambda value: str(value).zfill(5))\n",
    "    chunk_list.append(df2)\n",
    "\n",
    "# Concatenate all chunks into a single DataFrame\n",
    "df = pd.concat(chunk_list, ignore_index=True)\n",
    "count = df.groupby(\"CodePostal\").size().reset_index(name=\"EducationCount\")\n",
    "\n",
    "# Display basic information about the dataset\n",
    "print(count.info())\n",
    "print(count.head())\n",
    "print(count.sort_values(by=\"EducationCount\", ascending=False).head(10))\n",
    "count.to_csv('../DataCleaned/EducationCount_Cleaned.csv', index=False)"
   ]
  }
 ],
 "metadata": {
  "kernelspec": {
   "display_name": "venvMacOS",
   "language": "python",
   "name": "python3"
  },
  "language_info": {
   "codemirror_mode": {
    "name": "ipython",
    "version": 3
   },
   "file_extension": ".py",
   "mimetype": "text/x-python",
   "name": "python",
   "nbconvert_exporter": "python",
   "pygments_lexer": "ipython3",
   "version": "3.13.9"
  }
 },
 "nbformat": 4,
 "nbformat_minor": 5
}
