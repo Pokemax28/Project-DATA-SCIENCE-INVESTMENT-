{
 "cells": [
  {
   "cell_type": "code",
   "execution_count": 1,
   "id": "53a49b4c",
   "metadata": {},
   "outputs": [],
   "source": [
    "import pandas as pd\n",
    "import numpy as np"
   ]
  },
  {
   "cell_type": "code",
   "execution_count": 3,
   "id": "4c297078",
   "metadata": {},
   "outputs": [
    {
     "name": "stdout",
     "output_type": "stream",
     "text": [
      "Processing a new chunk...\n",
      "   Département  Loyerm2Mean\n",
      "75          75    31.101347\n",
      "92          92    24.291588\n",
      "94          94    21.240937\n",
      "93          93    20.218002\n",
      "95          95    17.707440\n"
     ]
    }
   ],
   "source": [
    "# Load the CSV\n",
    "chunks = pd.read_csv('../Data/LoyerT1T2.csv', chunksize=1000000, low_memory=False, sep=\";\", encoding=\"latin1\")\n",
    "\n",
    "chunk_list = []\n",
    "for chunk in chunks:\n",
    "    print(\"Processing a new chunk...\")\n",
    "    df1 = pd.DataFrame(chunk)\n",
    "    df2 = df1[['DEP', 'loypredm2']].dropna().copy()\n",
    "    df2 = df2.rename(columns={'DEP':'Département','loypredm2':'Loyerm2'})\n",
    "    df2['Loyerm2'] = df2['Loyerm2'].astype(str).str.replace(',', '.').astype(float)\n",
    "    chunk_list.append(df2)\n",
    "\n",
    "# Concatenate all chunks into a single DataFrame\n",
    "df = pd.concat(chunk_list, ignore_index=True)\n",
    "df['Loyerm2'] = pd.to_numeric(df['Loyerm2'], errors='coerce')\n",
    "mean = df.groupby(\"Département\")[\"Loyerm2\"].mean().reset_index(name=\"Loyerm2Mean\")\n",
    "\n",
    "# Display basic information about the dataset\n",
    "print(mean.sort_values(by=\"Loyerm2Mean\", ascending=False).head())\n",
    "mean.to_csv('../DataCleaned/LoyerT1T2_Cleaned.csv', index=False)"
   ]
  }
 ],
 "metadata": {
  "kernelspec": {
   "display_name": "venvMacOS",
   "language": "python",
   "name": "python3"
  },
  "language_info": {
   "codemirror_mode": {
    "name": "ipython",
    "version": 3
   },
   "file_extension": ".py",
   "mimetype": "text/x-python",
   "name": "python",
   "nbconvert_exporter": "python",
   "pygments_lexer": "ipython3",
   "version": "3.13.9"
  }
 },
 "nbformat": 4,
 "nbformat_minor": 5
}
