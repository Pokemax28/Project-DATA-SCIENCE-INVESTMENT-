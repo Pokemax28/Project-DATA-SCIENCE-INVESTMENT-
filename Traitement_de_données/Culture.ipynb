{
 "cells": [
  {
   "cell_type": "code",
   "execution_count": 2,
   "id": "f9adc204",
   "metadata": {},
   "outputs": [],
   "source": [
    "import pandas as pd\n",
    "import numpy as np\n",
    "from sklearn.neighbors import BallTree"
   ]
  },
  {
   "cell_type": "code",
   "execution_count": 3,
   "id": "257975e4",
   "metadata": {},
   "outputs": [
    {
     "name": "stdout",
     "output_type": "stream",
     "text": [
      "Processing a new chunk...\n",
      "    CodePostal  CultureCount\n",
      "119      92350          5700\n",
      "44       32350          3496\n",
      "1        02160          3217\n",
      "25       22330          2979\n",
      "87       71220          2308\n",
      "88       71570          2290\n",
      "62       48200          2174\n",
      "82       66420          2156\n",
      "111      86200          2139\n",
      "83       67130          1985\n"
     ]
    }
   ],
   "source": [
    "# Load the CSV\n",
    "df = pd.read_csv(\"../Data/latlongCP.csv\", sep=\",\",low_memory=False)\n",
    "chunks = pd.read_csv('../Data/Culture.csv', chunksize=1000000, low_memory=False, sep=\";\")\n",
    "\n",
    "# Extract lat/lon as radians (for haversine distance)\n",
    "df[\"lat\"] = df[\"latitude\"].astype(float)\n",
    "df[\"lon\"] = df[\"longitude\"].astype(float)\n",
    "df = df.dropna(subset=[\"lat\", \"lon\", \"code_postal\"])\n",
    "df = df.dropna()\n",
    "coords_rad = np.radians(df[[\"lat\", \"lon\"]].to_numpy())\n",
    "\n",
    "# Build BallTree (fast nearest-neighbor search)\n",
    "tree = BallTree(coords_rad, metric=\"haversine\")\n",
    "\n",
    "def latlon_to_zip(lat, lon):\n",
    "    \"\"\"Return closest postal code for given latitude, longitude.\"\"\"\n",
    "    dist, idx = tree.query(np.radians([[lat, lon]]), k=1)\n",
    "    postal = df.iloc[idx[0][0]][\"code_postal\"]\n",
    "    postal = str(postal).zfill(5)\n",
    "    return str(postal)\n",
    "\n",
    "chunk_list = []\n",
    "for chunk in chunks:\n",
    "    print(\"Processing a new chunk...\")\n",
    "    df1 = pd.DataFrame(chunk)\n",
    "    df2 = df1[['Latitude','Longitude']].dropna()\n",
    "    df3 = pd.DataFrame()\n",
    "    df3['CodePostal'] = df2.apply(lambda row: latlon_to_zip(row['Latitude'], row['Longitude']), axis=1)\n",
    "    chunk_list.append(df3)\n",
    "\n",
    "# Concatenate all chunks into a single DataFrame\n",
    "df = pd.concat(chunk_list, ignore_index=True)\n",
    "\n",
    "# Display basic information about the dataset\n",
    "counts = df3.groupby(\"CodePostal\").size().reset_index(name=\"CultureCount\")\n",
    "print(counts.sort_values(by=\"CultureCount\", ascending=False).head(10))\n",
    "\n",
    "counts.to_csv('../DataCleaned/Culture_Cleaned.csv', index=False)"
   ]
  }
 ],
 "metadata": {
  "kernelspec": {
   "display_name": "venvMacOS",
   "language": "python",
   "name": "python3"
  },
  "language_info": {
   "codemirror_mode": {
    "name": "ipython",
    "version": 3
   },
   "file_extension": ".py",
   "mimetype": "text/x-python",
   "name": "python",
   "nbconvert_exporter": "python",
   "pygments_lexer": "ipython3",
   "version": "3.13.9"
  }
 },
 "nbformat": 4,
 "nbformat_minor": 5
}
