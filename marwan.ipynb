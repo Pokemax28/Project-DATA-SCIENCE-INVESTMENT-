{
 "cells": [
  {
   "cell_type": "code",
   "execution_count": null,
   "id": "298a3efb",
   "metadata": {},
   "outputs": [],
   "source": [
    "import pandas as pd\n",
    "import numpy as np\n",
    "import matplotlib.pyplot as plt\n",
    "import seaborn as sns\n",
    "import glob\n",
    "import os\n",
    "\n",
    "dfCarbu = pd.read_csv(\"Data/Carburant.csv\", sep=\";\")\n",
    "dfCulture = pd.read_csv(\"Data/Culture.csv\", sep=\";\")\n",
    "dfEdu = pd.read_csv(\"Data/Education.csv\", sep=\";\")\n",
    "dfLoyer = pd.read_csv(\"Data/LoyerT1T2.csv\", sep=\";\", encoding=\"latin1\")\n",
    "dfTransport = pd.read_csv(\"Data/Transport.csv\", sep=\",\")\n",
    "dfVF = pd.read_csv(\"Data/ValeurFonciere.csv\", sep=\",\")"
   ]
  }
 ],
 "metadata": {
  "kernelspec": {
   "display_name": "venvMacOS",
   "language": "python",
   "name": "python3"
  },
  "language_info": {
   "name": "python",
   "version": "3.13.8"
  }
 },
 "nbformat": 4,
 "nbformat_minor": 5
}
