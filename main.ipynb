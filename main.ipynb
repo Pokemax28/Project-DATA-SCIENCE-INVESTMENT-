{
 "cells": [
  {
   "cell_type": "code",
   "execution_count": null,
   "id": "f8094c4a",
   "metadata": {},
   "outputs": [],
   "source": [
    "from ipywidgets import interact\n",
    "\n",
    "def filtre(ville, prix_max):\n",
    "    print(f\"📍 {ville} – Budget max : {prix_max} €\")\n",
    "\n",
    "interact(filtre, ville=['Paris', 'Lyon', 'Nice'], prix_max=(100000, 1000000, 10000))\n"
   ]
  }
 ],
 "metadata": {
  "kernelspec": {
   "display_name": "venvMacOS",
   "language": "python",
   "name": "python3"
  },
  "language_info": {
   "name": "python",
   "version": "3.13.8"
  }
 },
 "nbformat": 4,
 "nbformat_minor": 5
}
