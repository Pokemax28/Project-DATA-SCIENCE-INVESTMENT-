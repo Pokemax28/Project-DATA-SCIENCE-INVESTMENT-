{
 "cells": [
  {
   "cell_type": "code",
   "execution_count": 21,
   "id": "7abacff9",
   "metadata": {},
   "outputs": [],
   "source": [
    "import time\n",
    "import pandas as pd\n",
    "import numpy as np\n",
    "from geopy.distance import distance"
   ]
  },
  {
   "cell_type": "code",
   "execution_count": null,
   "id": "94359037",
   "metadata": {},
   "outputs": [
    {
     "name": "stderr",
     "output_type": "stream",
     "text": [
      "/var/folders/nw/13n2z96d7jv211k2c2mk6pkh0000gp/T/ipykernel_11652/3016908160.py:1: DtypeWarning: Columns (3,4,6,7,14,18,21,22,23,24,25,29,30,31,32,33,34,41,44,49,53) have mixed types. Specify dtype option on import or set low_memory=False.\n",
      "  dfCulture = pd.read_csv(\"Data/Culture.csv\", sep=\";\")\n"
     ]
    },
    {
     "name": "stdout",
     "output_type": "stream",
     "text": [
      "Processing a new chunk...\n"
     ]
    },
    {
     "name": "stderr",
     "output_type": "stream",
     "text": [
      "/var/folders/nw/13n2z96d7jv211k2c2mk6pkh0000gp/T/ipykernel_11652/3016908160.py:20: PerformanceWarning: indexing past lexsort depth may impact performance.\n",
      "  temp = dfZip.loc[dftemp['dist'].idxmin(), 'postal_code']\n"
     ]
    },
    {
     "name": "stdout",
     "output_type": "stream",
     "text": [
      "01500\n"
     ]
    },
    {
     "name": "stderr",
     "output_type": "stream",
     "text": [
      "/var/folders/nw/13n2z96d7jv211k2c2mk6pkh0000gp/T/ipykernel_11652/3016908160.py:20: PerformanceWarning: indexing past lexsort depth may impact performance.\n",
      "  temp = dfZip.loc[dftemp['dist'].idxmin(), 'postal_code']\n"
     ]
    },
    {
     "name": "stdout",
     "output_type": "stream",
     "text": [
      "02200\n"
     ]
    },
    {
     "name": "stderr",
     "output_type": "stream",
     "text": [
      "/var/folders/nw/13n2z96d7jv211k2c2mk6pkh0000gp/T/ipykernel_11652/3016908160.py:20: PerformanceWarning: indexing past lexsort depth may impact performance.\n",
      "  temp = dfZip.loc[dftemp['dist'].idxmin(), 'postal_code']\n"
     ]
    },
    {
     "name": "stdout",
     "output_type": "stream",
     "text": [
      "14610\n"
     ]
    },
    {
     "name": "stderr",
     "output_type": "stream",
     "text": [
      "/var/folders/nw/13n2z96d7jv211k2c2mk6pkh0000gp/T/ipykernel_11652/3016908160.py:20: PerformanceWarning: indexing past lexsort depth may impact performance.\n",
      "  temp = dfZip.loc[dftemp['dist'].idxmin(), 'postal_code']\n"
     ]
    },
    {
     "name": "stdout",
     "output_type": "stream",
     "text": [
      "14600\n"
     ]
    },
    {
     "name": "stderr",
     "output_type": "stream",
     "text": [
      "/var/folders/nw/13n2z96d7jv211k2c2mk6pkh0000gp/T/ipykernel_11652/3016908160.py:20: PerformanceWarning: indexing past lexsort depth may impact performance.\n",
      "  temp = dfZip.loc[dftemp['dist'].idxmin(), 'postal_code']\n"
     ]
    },
    {
     "name": "stdout",
     "output_type": "stream",
     "text": [
      "15000\n"
     ]
    },
    {
     "name": "stderr",
     "output_type": "stream",
     "text": [
      "/var/folders/nw/13n2z96d7jv211k2c2mk6pkh0000gp/T/ipykernel_11652/3016908160.py:20: PerformanceWarning: indexing past lexsort depth may impact performance.\n",
      "  temp = dfZip.loc[dftemp['dist'].idxmin(), 'postal_code']\n"
     ]
    },
    {
     "name": "stdout",
     "output_type": "stream",
     "text": [
      "15000\n"
     ]
    },
    {
     "name": "stderr",
     "output_type": "stream",
     "text": [
      "/var/folders/nw/13n2z96d7jv211k2c2mk6pkh0000gp/T/ipykernel_11652/3016908160.py:20: PerformanceWarning: indexing past lexsort depth may impact performance.\n",
      "  temp = dfZip.loc[dftemp['dist'].idxmin(), 'postal_code']\n"
     ]
    },
    {
     "name": "stdout",
     "output_type": "stream",
     "text": [
      "15100\n"
     ]
    },
    {
     "name": "stderr",
     "output_type": "stream",
     "text": [
      "/var/folders/nw/13n2z96d7jv211k2c2mk6pkh0000gp/T/ipykernel_11652/3016908160.py:20: PerformanceWarning: indexing past lexsort depth may impact performance.\n",
      "  temp = dfZip.loc[dftemp['dist'].idxmin(), 'postal_code']\n"
     ]
    },
    {
     "name": "stdout",
     "output_type": "stream",
     "text": [
      "16000\n"
     ]
    },
    {
     "name": "stderr",
     "output_type": "stream",
     "text": [
      "/var/folders/nw/13n2z96d7jv211k2c2mk6pkh0000gp/T/ipykernel_11652/3016908160.py:20: PerformanceWarning: indexing past lexsort depth may impact performance.\n",
      "  temp = dfZip.loc[dftemp['dist'].idxmin(), 'postal_code']\n"
     ]
    },
    {
     "name": "stdout",
     "output_type": "stream",
     "text": [
      "16000\n"
     ]
    },
    {
     "name": "stderr",
     "output_type": "stream",
     "text": [
      "/var/folders/nw/13n2z96d7jv211k2c2mk6pkh0000gp/T/ipykernel_11652/3016908160.py:20: PerformanceWarning: indexing past lexsort depth may impact performance.\n",
      "  temp = dfZip.loc[dftemp['dist'].idxmin(), 'postal_code']\n"
     ]
    },
    {
     "name": "stdout",
     "output_type": "stream",
     "text": [
      "16000\n"
     ]
    },
    {
     "name": "stderr",
     "output_type": "stream",
     "text": [
      "/var/folders/nw/13n2z96d7jv211k2c2mk6pkh0000gp/T/ipykernel_11652/3016908160.py:20: PerformanceWarning: indexing past lexsort depth may impact performance.\n",
      "  temp = dfZip.loc[dftemp['dist'].idxmin(), 'postal_code']\n"
     ]
    },
    {
     "name": "stdout",
     "output_type": "stream",
     "text": [
      "16100\n"
     ]
    },
    {
     "name": "stderr",
     "output_type": "stream",
     "text": [
      "/var/folders/nw/13n2z96d7jv211k2c2mk6pkh0000gp/T/ipykernel_11652/3016908160.py:20: PerformanceWarning: indexing past lexsort depth may impact performance.\n",
      "  temp = dfZip.loc[dftemp['dist'].idxmin(), 'postal_code']\n"
     ]
    },
    {
     "name": "stdout",
     "output_type": "stream",
     "text": [
      "17500\n"
     ]
    },
    {
     "name": "stderr",
     "output_type": "stream",
     "text": [
      "/var/folders/nw/13n2z96d7jv211k2c2mk6pkh0000gp/T/ipykernel_11652/3016908160.py:20: PerformanceWarning: indexing past lexsort depth may impact performance.\n",
      "  temp = dfZip.loc[dftemp['dist'].idxmin(), 'postal_code']\n"
     ]
    },
    {
     "name": "stdout",
     "output_type": "stream",
     "text": [
      "03300\n"
     ]
    },
    {
     "name": "stderr",
     "output_type": "stream",
     "text": [
      "/var/folders/nw/13n2z96d7jv211k2c2mk6pkh0000gp/T/ipykernel_11652/3016908160.py:20: PerformanceWarning: indexing past lexsort depth may impact performance.\n",
      "  temp = dfZip.loc[dftemp['dist'].idxmin(), 'postal_code']\n"
     ]
    },
    {
     "name": "stdout",
     "output_type": "stream",
     "text": [
      "17133 AIR\n"
     ]
    },
    {
     "name": "stderr",
     "output_type": "stream",
     "text": [
      "/var/folders/nw/13n2z96d7jv211k2c2mk6pkh0000gp/T/ipykernel_11652/3016908160.py:20: PerformanceWarning: indexing past lexsort depth may impact performance.\n",
      "  temp = dfZip.loc[dftemp['dist'].idxmin(), 'postal_code']\n"
     ]
    },
    {
     "name": "stdout",
     "output_type": "stream",
     "text": [
      "17000\n"
     ]
    },
    {
     "name": "stderr",
     "output_type": "stream",
     "text": [
      "/var/folders/nw/13n2z96d7jv211k2c2mk6pkh0000gp/T/ipykernel_11652/3016908160.py:20: PerformanceWarning: indexing past lexsort depth may impact performance.\n",
      "  temp = dfZip.loc[dftemp['dist'].idxmin(), 'postal_code']\n"
     ]
    },
    {
     "name": "stdout",
     "output_type": "stream",
     "text": [
      "17000\n"
     ]
    },
    {
     "name": "stderr",
     "output_type": "stream",
     "text": [
      "/var/folders/nw/13n2z96d7jv211k2c2mk6pkh0000gp/T/ipykernel_11652/3016908160.py:20: PerformanceWarning: indexing past lexsort depth may impact performance.\n",
      "  temp = dfZip.loc[dftemp['dist'].idxmin(), 'postal_code']\n"
     ]
    },
    {
     "name": "stdout",
     "output_type": "stream",
     "text": [
      "17000\n"
     ]
    },
    {
     "name": "stderr",
     "output_type": "stream",
     "text": [
      "/var/folders/nw/13n2z96d7jv211k2c2mk6pkh0000gp/T/ipykernel_11652/3016908160.py:20: PerformanceWarning: indexing past lexsort depth may impact performance.\n",
      "  temp = dfZip.loc[dftemp['dist'].idxmin(), 'postal_code']\n"
     ]
    },
    {
     "name": "stdout",
     "output_type": "stream",
     "text": [
      "17100\n"
     ]
    },
    {
     "name": "stderr",
     "output_type": "stream",
     "text": [
      "/var/folders/nw/13n2z96d7jv211k2c2mk6pkh0000gp/T/ipykernel_11652/3016908160.py:20: PerformanceWarning: indexing past lexsort depth may impact performance.\n",
      "  temp = dfZip.loc[dftemp['dist'].idxmin(), 'postal_code']\n"
     ]
    },
    {
     "name": "stdout",
     "output_type": "stream",
     "text": [
      "18000\n"
     ]
    },
    {
     "name": "stderr",
     "output_type": "stream",
     "text": [
      "/var/folders/nw/13n2z96d7jv211k2c2mk6pkh0000gp/T/ipykernel_11652/3016908160.py:20: PerformanceWarning: indexing past lexsort depth may impact performance.\n",
      "  temp = dfZip.loc[dftemp['dist'].idxmin(), 'postal_code']\n"
     ]
    },
    {
     "name": "stdout",
     "output_type": "stream",
     "text": [
      "18000\n"
     ]
    },
    {
     "name": "stderr",
     "output_type": "stream",
     "text": [
      "/var/folders/nw/13n2z96d7jv211k2c2mk6pkh0000gp/T/ipykernel_11652/3016908160.py:20: PerformanceWarning: indexing past lexsort depth may impact performance.\n",
      "  temp = dfZip.loc[dftemp['dist'].idxmin(), 'postal_code']\n"
     ]
    },
    {
     "name": "stdout",
     "output_type": "stream",
     "text": [
      "19400\n"
     ]
    },
    {
     "name": "stderr",
     "output_type": "stream",
     "text": [
      "/var/folders/nw/13n2z96d7jv211k2c2mk6pkh0000gp/T/ipykernel_11652/3016908160.py:20: PerformanceWarning: indexing past lexsort depth may impact performance.\n",
      "  temp = dfZip.loc[dftemp['dist'].idxmin(), 'postal_code']\n"
     ]
    },
    {
     "name": "stdout",
     "output_type": "stream",
     "text": [
      "19100\n"
     ]
    },
    {
     "name": "stderr",
     "output_type": "stream",
     "text": [
      "/var/folders/nw/13n2z96d7jv211k2c2mk6pkh0000gp/T/ipykernel_11652/3016908160.py:20: PerformanceWarning: indexing past lexsort depth may impact performance.\n",
      "  temp = dfZip.loc[dftemp['dist'].idxmin(), 'postal_code']\n"
     ]
    },
    {
     "name": "stdout",
     "output_type": "stream",
     "text": [
      "19000\n"
     ]
    },
    {
     "name": "stderr",
     "output_type": "stream",
     "text": [
      "/var/folders/nw/13n2z96d7jv211k2c2mk6pkh0000gp/T/ipykernel_11652/3016908160.py:20: PerformanceWarning: indexing past lexsort depth may impact performance.\n",
      "  temp = dfZip.loc[dftemp['dist'].idxmin(), 'postal_code']\n"
     ]
    },
    {
     "name": "stdout",
     "output_type": "stream",
     "text": [
      "03100\n"
     ]
    },
    {
     "name": "stderr",
     "output_type": "stream",
     "text": [
      "/var/folders/nw/13n2z96d7jv211k2c2mk6pkh0000gp/T/ipykernel_11652/3016908160.py:20: PerformanceWarning: indexing past lexsort depth may impact performance.\n",
      "  temp = dfZip.loc[dftemp['dist'].idxmin(), 'postal_code']\n"
     ]
    },
    {
     "name": "stdout",
     "output_type": "stream",
     "text": [
      "19000\n"
     ]
    },
    {
     "name": "stderr",
     "output_type": "stream",
     "text": [
      "/var/folders/nw/13n2z96d7jv211k2c2mk6pkh0000gp/T/ipykernel_11652/3016908160.py:20: PerformanceWarning: indexing past lexsort depth may impact performance.\n",
      "  temp = dfZip.loc[dftemp['dist'].idxmin(), 'postal_code']\n"
     ]
    },
    {
     "name": "stdout",
     "output_type": "stream",
     "text": [
      "21200\n"
     ]
    },
    {
     "name": "stderr",
     "output_type": "stream",
     "text": [
      "/var/folders/nw/13n2z96d7jv211k2c2mk6pkh0000gp/T/ipykernel_11652/3016908160.py:20: PerformanceWarning: indexing past lexsort depth may impact performance.\n",
      "  temp = dfZip.loc[dftemp['dist'].idxmin(), 'postal_code']\n"
     ]
    },
    {
     "name": "stdout",
     "output_type": "stream",
     "text": [
      "21000\n"
     ]
    },
    {
     "name": "stderr",
     "output_type": "stream",
     "text": [
      "/var/folders/nw/13n2z96d7jv211k2c2mk6pkh0000gp/T/ipykernel_11652/3016908160.py:20: PerformanceWarning: indexing past lexsort depth may impact performance.\n",
      "  temp = dfZip.loc[dftemp['dist'].idxmin(), 'postal_code']\n"
     ]
    },
    {
     "name": "stdout",
     "output_type": "stream",
     "text": [
      "21000\n"
     ]
    },
    {
     "name": "stderr",
     "output_type": "stream",
     "text": [
      "/var/folders/nw/13n2z96d7jv211k2c2mk6pkh0000gp/T/ipykernel_11652/3016908160.py:20: PerformanceWarning: indexing past lexsort depth may impact performance.\n",
      "  temp = dfZip.loc[dftemp['dist'].idxmin(), 'postal_code']\n"
     ]
    },
    {
     "name": "stdout",
     "output_type": "stream",
     "text": [
      "21000\n"
     ]
    },
    {
     "name": "stderr",
     "output_type": "stream",
     "text": [
      "/var/folders/nw/13n2z96d7jv211k2c2mk6pkh0000gp/T/ipykernel_11652/3016908160.py:20: PerformanceWarning: indexing past lexsort depth may impact performance.\n",
      "  temp = dfZip.loc[dftemp['dist'].idxmin(), 'postal_code']\n"
     ]
    },
    {
     "name": "stdout",
     "output_type": "stream",
     "text": [
      "21850\n"
     ]
    },
    {
     "name": "stderr",
     "output_type": "stream",
     "text": [
      "/var/folders/nw/13n2z96d7jv211k2c2mk6pkh0000gp/T/ipykernel_11652/3016908160.py:20: PerformanceWarning: indexing past lexsort depth may impact performance.\n",
      "  temp = dfZip.loc[dftemp['dist'].idxmin(), 'postal_code']\n"
     ]
    },
    {
     "name": "stdout",
     "output_type": "stream",
     "text": [
      "21850\n"
     ]
    },
    {
     "name": "stderr",
     "output_type": "stream",
     "text": [
      "/var/folders/nw/13n2z96d7jv211k2c2mk6pkh0000gp/T/ipykernel_11652/3016908160.py:20: PerformanceWarning: indexing past lexsort depth may impact performance.\n",
      "  temp = dfZip.loc[dftemp['dist'].idxmin(), 'postal_code']\n"
     ]
    },
    {
     "name": "stdout",
     "output_type": "stream",
     "text": [
      "21000\n"
     ]
    },
    {
     "name": "stderr",
     "output_type": "stream",
     "text": [
      "/var/folders/nw/13n2z96d7jv211k2c2mk6pkh0000gp/T/ipykernel_11652/3016908160.py:20: PerformanceWarning: indexing past lexsort depth may impact performance.\n",
      "  temp = dfZip.loc[dftemp['dist'].idxmin(), 'postal_code']\n"
     ]
    },
    {
     "name": "stdout",
     "output_type": "stream",
     "text": [
      "21500\n"
     ]
    },
    {
     "name": "stderr",
     "output_type": "stream",
     "text": [
      "/var/folders/nw/13n2z96d7jv211k2c2mk6pkh0000gp/T/ipykernel_11652/3016908160.py:20: PerformanceWarning: indexing past lexsort depth may impact performance.\n",
      "  temp = dfZip.loc[dftemp['dist'].idxmin(), 'postal_code']\n"
     ]
    },
    {
     "name": "stdout",
     "output_type": "stream",
     "text": [
      "22190\n"
     ]
    },
    {
     "name": "stderr",
     "output_type": "stream",
     "text": [
      "/var/folders/nw/13n2z96d7jv211k2c2mk6pkh0000gp/T/ipykernel_11652/3016908160.py:20: PerformanceWarning: indexing past lexsort depth may impact performance.\n",
      "  temp = dfZip.loc[dftemp['dist'].idxmin(), 'postal_code']\n"
     ]
    },
    {
     "name": "stdout",
     "output_type": "stream",
     "text": [
      "03000\n"
     ]
    },
    {
     "name": "stderr",
     "output_type": "stream",
     "text": [
      "/var/folders/nw/13n2z96d7jv211k2c2mk6pkh0000gp/T/ipykernel_11652/3016908160.py:20: PerformanceWarning: indexing past lexsort depth may impact performance.\n",
      "  temp = dfZip.loc[dftemp['dist'].idxmin(), 'postal_code']\n"
     ]
    },
    {
     "name": "stdout",
     "output_type": "stream",
     "text": [
      "22000\n"
     ]
    },
    {
     "name": "stderr",
     "output_type": "stream",
     "text": [
      "/var/folders/nw/13n2z96d7jv211k2c2mk6pkh0000gp/T/ipykernel_11652/3016908160.py:20: PerformanceWarning: indexing past lexsort depth may impact performance.\n",
      "  temp = dfZip.loc[dftemp['dist'].idxmin(), 'postal_code']\n"
     ]
    },
    {
     "name": "stdout",
     "output_type": "stream",
     "text": [
      "22000\n"
     ]
    },
    {
     "name": "stderr",
     "output_type": "stream",
     "text": [
      "/var/folders/nw/13n2z96d7jv211k2c2mk6pkh0000gp/T/ipykernel_11652/3016908160.py:20: PerformanceWarning: indexing past lexsort depth may impact performance.\n",
      "  temp = dfZip.loc[dftemp['dist'].idxmin(), 'postal_code']\n"
     ]
    },
    {
     "name": "stdout",
     "output_type": "stream",
     "text": [
      "23000\n"
     ]
    },
    {
     "name": "stderr",
     "output_type": "stream",
     "text": [
      "/var/folders/nw/13n2z96d7jv211k2c2mk6pkh0000gp/T/ipykernel_11652/3016908160.py:20: PerformanceWarning: indexing past lexsort depth may impact performance.\n",
      "  temp = dfZip.loc[dftemp['dist'].idxmin(), 'postal_code']\n"
     ]
    },
    {
     "name": "stdout",
     "output_type": "stream",
     "text": [
      "23000\n"
     ]
    },
    {
     "name": "stderr",
     "output_type": "stream",
     "text": [
      "/var/folders/nw/13n2z96d7jv211k2c2mk6pkh0000gp/T/ipykernel_11652/3016908160.py:20: PerformanceWarning: indexing past lexsort depth may impact performance.\n",
      "  temp = dfZip.loc[dftemp['dist'].idxmin(), 'postal_code']\n"
     ]
    },
    {
     "name": "stdout",
     "output_type": "stream",
     "text": [
      "24100\n"
     ]
    },
    {
     "name": "stderr",
     "output_type": "stream",
     "text": [
      "/var/folders/nw/13n2z96d7jv211k2c2mk6pkh0000gp/T/ipykernel_11652/3016908160.py:20: PerformanceWarning: indexing past lexsort depth may impact performance.\n",
      "  temp = dfZip.loc[dftemp['dist'].idxmin(), 'postal_code']\n"
     ]
    },
    {
     "name": "stdout",
     "output_type": "stream",
     "text": [
      "24000\n"
     ]
    },
    {
     "name": "stderr",
     "output_type": "stream",
     "text": [
      "/var/folders/nw/13n2z96d7jv211k2c2mk6pkh0000gp/T/ipykernel_11652/3016908160.py:20: PerformanceWarning: indexing past lexsort depth may impact performance.\n",
      "  temp = dfZip.loc[dftemp['dist'].idxmin(), 'postal_code']\n"
     ]
    },
    {
     "name": "stdout",
     "output_type": "stream",
     "text": [
      "24650\n"
     ]
    },
    {
     "name": "stderr",
     "output_type": "stream",
     "text": [
      "/var/folders/nw/13n2z96d7jv211k2c2mk6pkh0000gp/T/ipykernel_11652/3016908160.py:20: PerformanceWarning: indexing past lexsort depth may impact performance.\n",
      "  temp = dfZip.loc[dftemp['dist'].idxmin(), 'postal_code']\n"
     ]
    },
    {
     "name": "stdout",
     "output_type": "stream",
     "text": [
      "24000\n"
     ]
    },
    {
     "name": "stderr",
     "output_type": "stream",
     "text": [
      "/var/folders/nw/13n2z96d7jv211k2c2mk6pkh0000gp/T/ipykernel_11652/3016908160.py:20: PerformanceWarning: indexing past lexsort depth may impact performance.\n",
      "  temp = dfZip.loc[dftemp['dist'].idxmin(), 'postal_code']\n"
     ]
    },
    {
     "name": "stdout",
     "output_type": "stream",
     "text": [
      "25720\n"
     ]
    },
    {
     "name": "stderr",
     "output_type": "stream",
     "text": [
      "/var/folders/nw/13n2z96d7jv211k2c2mk6pkh0000gp/T/ipykernel_11652/3016908160.py:20: PerformanceWarning: indexing past lexsort depth may impact performance.\n",
      "  temp = dfZip.loc[dftemp['dist'].idxmin(), 'postal_code']\n"
     ]
    },
    {
     "name": "stdout",
     "output_type": "stream",
     "text": [
      "25000\n"
     ]
    },
    {
     "name": "stderr",
     "output_type": "stream",
     "text": [
      "/var/folders/nw/13n2z96d7jv211k2c2mk6pkh0000gp/T/ipykernel_11652/3016908160.py:20: PerformanceWarning: indexing past lexsort depth may impact performance.\n",
      "  temp = dfZip.loc[dftemp['dist'].idxmin(), 'postal_code']\n"
     ]
    },
    {
     "name": "stdout",
     "output_type": "stream",
     "text": [
      "03200\n"
     ]
    },
    {
     "name": "stderr",
     "output_type": "stream",
     "text": [
      "/var/folders/nw/13n2z96d7jv211k2c2mk6pkh0000gp/T/ipykernel_11652/3016908160.py:20: PerformanceWarning: indexing past lexsort depth may impact performance.\n",
      "  temp = dfZip.loc[dftemp['dist'].idxmin(), 'postal_code']\n"
     ]
    },
    {
     "name": "stdout",
     "output_type": "stream",
     "text": [
      "25000\n"
     ]
    },
    {
     "name": "stderr",
     "output_type": "stream",
     "text": [
      "/var/folders/nw/13n2z96d7jv211k2c2mk6pkh0000gp/T/ipykernel_11652/3016908160.py:20: PerformanceWarning: indexing past lexsort depth may impact performance.\n",
      "  temp = dfZip.loc[dftemp['dist'].idxmin(), 'postal_code']\n"
     ]
    },
    {
     "name": "stdout",
     "output_type": "stream",
     "text": [
      "25200\n"
     ]
    },
    {
     "name": "stderr",
     "output_type": "stream",
     "text": [
      "/var/folders/nw/13n2z96d7jv211k2c2mk6pkh0000gp/T/ipykernel_11652/3016908160.py:20: PerformanceWarning: indexing past lexsort depth may impact performance.\n",
      "  temp = dfZip.loc[dftemp['dist'].idxmin(), 'postal_code']\n"
     ]
    },
    {
     "name": "stdout",
     "output_type": "stream",
     "text": [
      "25200\n"
     ]
    },
    {
     "name": "stderr",
     "output_type": "stream",
     "text": [
      "/var/folders/nw/13n2z96d7jv211k2c2mk6pkh0000gp/T/ipykernel_11652/3016908160.py:20: PerformanceWarning: indexing past lexsort depth may impact performance.\n",
      "  temp = dfZip.loc[dftemp['dist'].idxmin(), 'postal_code']\n"
     ]
    },
    {
     "name": "stdout",
     "output_type": "stream",
     "text": [
      "25300\n"
     ]
    },
    {
     "name": "stderr",
     "output_type": "stream",
     "text": [
      "/var/folders/nw/13n2z96d7jv211k2c2mk6pkh0000gp/T/ipykernel_11652/3016908160.py:20: PerformanceWarning: indexing past lexsort depth may impact performance.\n",
      "  temp = dfZip.loc[dftemp['dist'].idxmin(), 'postal_code']\n"
     ]
    },
    {
     "name": "stdout",
     "output_type": "stream",
     "text": [
      "26500\n"
     ]
    },
    {
     "name": "stderr",
     "output_type": "stream",
     "text": [
      "/var/folders/nw/13n2z96d7jv211k2c2mk6pkh0000gp/T/ipykernel_11652/3016908160.py:20: PerformanceWarning: indexing past lexsort depth may impact performance.\n",
      "  temp = dfZip.loc[dftemp['dist'].idxmin(), 'postal_code']\n"
     ]
    },
    {
     "name": "stdout",
     "output_type": "stream",
     "text": [
      "26170\n"
     ]
    },
    {
     "name": "stderr",
     "output_type": "stream",
     "text": [
      "/var/folders/nw/13n2z96d7jv211k2c2mk6pkh0000gp/T/ipykernel_11652/3016908160.py:20: PerformanceWarning: indexing past lexsort depth may impact performance.\n",
      "  temp = dfZip.loc[dftemp['dist'].idxmin(), 'postal_code']\n"
     ]
    },
    {
     "name": "stdout",
     "output_type": "stream",
     "text": [
      "26220\n"
     ]
    },
    {
     "name": "stderr",
     "output_type": "stream",
     "text": [
      "/var/folders/nw/13n2z96d7jv211k2c2mk6pkh0000gp/T/ipykernel_11652/3016908160.py:20: PerformanceWarning: indexing past lexsort depth may impact performance.\n",
      "  temp = dfZip.loc[dftemp['dist'].idxmin(), 'postal_code']\n"
     ]
    },
    {
     "name": "stdout",
     "output_type": "stream",
     "text": [
      "26200\n"
     ]
    },
    {
     "name": "stderr",
     "output_type": "stream",
     "text": [
      "/var/folders/nw/13n2z96d7jv211k2c2mk6pkh0000gp/T/ipykernel_11652/3016908160.py:20: PerformanceWarning: indexing past lexsort depth may impact performance.\n",
      "  temp = dfZip.loc[dftemp['dist'].idxmin(), 'postal_code']\n"
     ]
    },
    {
     "name": "stdout",
     "output_type": "stream",
     "text": [
      "26131 CEDEX\n"
     ]
    },
    {
     "name": "stderr",
     "output_type": "stream",
     "text": [
      "/var/folders/nw/13n2z96d7jv211k2c2mk6pkh0000gp/T/ipykernel_11652/3016908160.py:20: PerformanceWarning: indexing past lexsort depth may impact performance.\n",
      "  temp = dfZip.loc[dftemp['dist'].idxmin(), 'postal_code']\n"
     ]
    },
    {
     "name": "stdout",
     "output_type": "stream",
     "text": [
      "26300\n"
     ]
    },
    {
     "name": "stderr",
     "output_type": "stream",
     "text": [
      "/var/folders/nw/13n2z96d7jv211k2c2mk6pkh0000gp/T/ipykernel_11652/3016908160.py:20: PerformanceWarning: indexing past lexsort depth may impact performance.\n",
      "  temp = dfZip.loc[dftemp['dist'].idxmin(), 'postal_code']\n"
     ]
    },
    {
     "name": "stdout",
     "output_type": "stream",
     "text": [
      "03400\n"
     ]
    },
    {
     "name": "stderr",
     "output_type": "stream",
     "text": [
      "/var/folders/nw/13n2z96d7jv211k2c2mk6pkh0000gp/T/ipykernel_11652/3016908160.py:20: PerformanceWarning: indexing past lexsort depth may impact performance.\n",
      "  temp = dfZip.loc[dftemp['dist'].idxmin(), 'postal_code']\n"
     ]
    },
    {
     "name": "stdout",
     "output_type": "stream",
     "text": [
      "26130\n"
     ]
    },
    {
     "name": "stderr",
     "output_type": "stream",
     "text": [
      "/var/folders/nw/13n2z96d7jv211k2c2mk6pkh0000gp/T/ipykernel_11652/3016908160.py:20: PerformanceWarning: indexing past lexsort depth may impact performance.\n",
      "  temp = dfZip.loc[dftemp['dist'].idxmin(), 'postal_code']\n"
     ]
    },
    {
     "name": "stdout",
     "output_type": "stream",
     "text": [
      "26000\n"
     ]
    },
    {
     "name": "stderr",
     "output_type": "stream",
     "text": [
      "/var/folders/nw/13n2z96d7jv211k2c2mk6pkh0000gp/T/ipykernel_11652/3016908160.py:20: PerformanceWarning: indexing past lexsort depth may impact performance.\n",
      "  temp = dfZip.loc[dftemp['dist'].idxmin(), 'postal_code']\n"
     ]
    },
    {
     "name": "stdout",
     "output_type": "stream",
     "text": [
      "26500\n"
     ]
    },
    {
     "name": "stderr",
     "output_type": "stream",
     "text": [
      "/var/folders/nw/13n2z96d7jv211k2c2mk6pkh0000gp/T/ipykernel_11652/3016908160.py:20: PerformanceWarning: indexing past lexsort depth may impact performance.\n",
      "  temp = dfZip.loc[dftemp['dist'].idxmin(), 'postal_code']\n"
     ]
    },
    {
     "name": "stdout",
     "output_type": "stream",
     "text": [
      "26500\n"
     ]
    },
    {
     "name": "stderr",
     "output_type": "stream",
     "text": [
      "/var/folders/nw/13n2z96d7jv211k2c2mk6pkh0000gp/T/ipykernel_11652/3016908160.py:20: PerformanceWarning: indexing past lexsort depth may impact performance.\n",
      "  temp = dfZip.loc[dftemp['dist'].idxmin(), 'postal_code']\n"
     ]
    },
    {
     "name": "stdout",
     "output_type": "stream",
     "text": [
      "27000\n"
     ]
    },
    {
     "name": "stderr",
     "output_type": "stream",
     "text": [
      "/var/folders/nw/13n2z96d7jv211k2c2mk6pkh0000gp/T/ipykernel_11652/3016908160.py:20: PerformanceWarning: indexing past lexsort depth may impact performance.\n",
      "  temp = dfZip.loc[dftemp['dist'].idxmin(), 'postal_code']\n"
     ]
    },
    {
     "name": "stdout",
     "output_type": "stream",
     "text": [
      "27930\n"
     ]
    },
    {
     "name": "stderr",
     "output_type": "stream",
     "text": [
      "/var/folders/nw/13n2z96d7jv211k2c2mk6pkh0000gp/T/ipykernel_11652/3016908160.py:20: PerformanceWarning: indexing past lexsort depth may impact performance.\n",
      "  temp = dfZip.loc[dftemp['dist'].idxmin(), 'postal_code']\n"
     ]
    },
    {
     "name": "stdout",
     "output_type": "stream",
     "text": [
      "27000\n"
     ]
    },
    {
     "name": "stderr",
     "output_type": "stream",
     "text": [
      "/var/folders/nw/13n2z96d7jv211k2c2mk6pkh0000gp/T/ipykernel_11652/3016908160.py:20: PerformanceWarning: indexing past lexsort depth may impact performance.\n",
      "  temp = dfZip.loc[dftemp['dist'].idxmin(), 'postal_code']\n"
     ]
    },
    {
     "name": "stdout",
     "output_type": "stream",
     "text": [
      "27140\n"
     ]
    },
    {
     "name": "stderr",
     "output_type": "stream",
     "text": [
      "/var/folders/nw/13n2z96d7jv211k2c2mk6pkh0000gp/T/ipykernel_11652/3016908160.py:20: PerformanceWarning: indexing past lexsort depth may impact performance.\n",
      "  temp = dfZip.loc[dftemp['dist'].idxmin(), 'postal_code']\n"
     ]
    },
    {
     "name": "stdout",
     "output_type": "stream",
     "text": [
      "27400\n"
     ]
    },
    {
     "name": "stderr",
     "output_type": "stream",
     "text": [
      "/var/folders/nw/13n2z96d7jv211k2c2mk6pkh0000gp/T/ipykernel_11652/3016908160.py:20: PerformanceWarning: indexing past lexsort depth may impact performance.\n",
      "  temp = dfZip.loc[dftemp['dist'].idxmin(), 'postal_code']\n"
     ]
    },
    {
     "name": "stdout",
     "output_type": "stream",
     "text": [
      "27950\n"
     ]
    },
    {
     "name": "stderr",
     "output_type": "stream",
     "text": [
      "/var/folders/nw/13n2z96d7jv211k2c2mk6pkh0000gp/T/ipykernel_11652/3016908160.py:20: PerformanceWarning: indexing past lexsort depth may impact performance.\n",
      "  temp = dfZip.loc[dftemp['dist'].idxmin(), 'postal_code']\n"
     ]
    },
    {
     "name": "stdout",
     "output_type": "stream",
     "text": [
      "04000\n"
     ]
    },
    {
     "name": "stderr",
     "output_type": "stream",
     "text": [
      "/var/folders/nw/13n2z96d7jv211k2c2mk6pkh0000gp/T/ipykernel_11652/3016908160.py:20: PerformanceWarning: indexing past lexsort depth may impact performance.\n",
      "  temp = dfZip.loc[dftemp['dist'].idxmin(), 'postal_code']\n"
     ]
    },
    {
     "name": "stdout",
     "output_type": "stream",
     "text": [
      "27200\n"
     ]
    },
    {
     "name": "stderr",
     "output_type": "stream",
     "text": [
      "/var/folders/nw/13n2z96d7jv211k2c2mk6pkh0000gp/T/ipykernel_11652/3016908160.py:20: PerformanceWarning: indexing past lexsort depth may impact performance.\n",
      "  temp = dfZip.loc[dftemp['dist'].idxmin(), 'postal_code']\n"
     ]
    },
    {
     "name": "stdout",
     "output_type": "stream",
     "text": [
      "28000\n"
     ]
    },
    {
     "name": "stderr",
     "output_type": "stream",
     "text": [
      "/var/folders/nw/13n2z96d7jv211k2c2mk6pkh0000gp/T/ipykernel_11652/3016908160.py:20: PerformanceWarning: indexing past lexsort depth may impact performance.\n",
      "  temp = dfZip.loc[dftemp['dist'].idxmin(), 'postal_code']\n"
     ]
    },
    {
     "name": "stdout",
     "output_type": "stream",
     "text": [
      "28200\n"
     ]
    },
    {
     "name": "stderr",
     "output_type": "stream",
     "text": [
      "/var/folders/nw/13n2z96d7jv211k2c2mk6pkh0000gp/T/ipykernel_11652/3016908160.py:20: PerformanceWarning: indexing past lexsort depth may impact performance.\n",
      "  temp = dfZip.loc[dftemp['dist'].idxmin(), 'postal_code']\n"
     ]
    },
    {
     "name": "stdout",
     "output_type": "stream",
     "text": [
      "28100\n"
     ]
    },
    {
     "name": "stderr",
     "output_type": "stream",
     "text": [
      "/var/folders/nw/13n2z96d7jv211k2c2mk6pkh0000gp/T/ipykernel_11652/3016908160.py:20: PerformanceWarning: indexing past lexsort depth may impact performance.\n",
      "  temp = dfZip.loc[dftemp['dist'].idxmin(), 'postal_code']\n"
     ]
    },
    {
     "name": "stdout",
     "output_type": "stream",
     "text": [
      "28110\n"
     ]
    },
    {
     "name": "stderr",
     "output_type": "stream",
     "text": [
      "/var/folders/nw/13n2z96d7jv211k2c2mk6pkh0000gp/T/ipykernel_11652/3016908160.py:20: PerformanceWarning: indexing past lexsort depth may impact performance.\n",
      "  temp = dfZip.loc[dftemp['dist'].idxmin(), 'postal_code']\n"
     ]
    },
    {
     "name": "stdout",
     "output_type": "stream",
     "text": [
      "28110\n"
     ]
    },
    {
     "name": "stderr",
     "output_type": "stream",
     "text": [
      "/var/folders/nw/13n2z96d7jv211k2c2mk6pkh0000gp/T/ipykernel_11652/3016908160.py:20: PerformanceWarning: indexing past lexsort depth may impact performance.\n",
      "  temp = dfZip.loc[dftemp['dist'].idxmin(), 'postal_code']\n"
     ]
    },
    {
     "name": "stdout",
     "output_type": "stream",
     "text": [
      "28300\n"
     ]
    },
    {
     "name": "stderr",
     "output_type": "stream",
     "text": [
      "/var/folders/nw/13n2z96d7jv211k2c2mk6pkh0000gp/T/ipykernel_11652/3016908160.py:20: PerformanceWarning: indexing past lexsort depth may impact performance.\n",
      "  temp = dfZip.loc[dftemp['dist'].idxmin(), 'postal_code']\n"
     ]
    },
    {
     "name": "stdout",
     "output_type": "stream",
     "text": [
      "28400\n"
     ]
    },
    {
     "name": "stderr",
     "output_type": "stream",
     "text": [
      "/var/folders/nw/13n2z96d7jv211k2c2mk6pkh0000gp/T/ipykernel_11652/3016908160.py:20: PerformanceWarning: indexing past lexsort depth may impact performance.\n",
      "  temp = dfZip.loc[dftemp['dist'].idxmin(), 'postal_code']\n"
     ]
    },
    {
     "name": "stdout",
     "output_type": "stream",
     "text": [
      "29200\n"
     ]
    },
    {
     "name": "stderr",
     "output_type": "stream",
     "text": [
      "/var/folders/nw/13n2z96d7jv211k2c2mk6pkh0000gp/T/ipykernel_11652/3016908160.py:20: PerformanceWarning: indexing past lexsort depth may impact performance.\n",
      "  temp = dfZip.loc[dftemp['dist'].idxmin(), 'postal_code']\n"
     ]
    },
    {
     "name": "stdout",
     "output_type": "stream",
     "text": [
      "29200\n"
     ]
    },
    {
     "name": "stderr",
     "output_type": "stream",
     "text": [
      "/var/folders/nw/13n2z96d7jv211k2c2mk6pkh0000gp/T/ipykernel_11652/3016908160.py:20: PerformanceWarning: indexing past lexsort depth may impact performance.\n",
      "  temp = dfZip.loc[dftemp['dist'].idxmin(), 'postal_code']\n"
     ]
    },
    {
     "name": "stdout",
     "output_type": "stream",
     "text": [
      "04000\n"
     ]
    },
    {
     "name": "stderr",
     "output_type": "stream",
     "text": [
      "/var/folders/nw/13n2z96d7jv211k2c2mk6pkh0000gp/T/ipykernel_11652/3016908160.py:20: PerformanceWarning: indexing past lexsort depth may impact performance.\n",
      "  temp = dfZip.loc[dftemp['dist'].idxmin(), 'postal_code']\n"
     ]
    },
    {
     "name": "stdout",
     "output_type": "stream",
     "text": [
      "29181 CEDEX\n"
     ]
    },
    {
     "name": "stderr",
     "output_type": "stream",
     "text": [
      "/var/folders/nw/13n2z96d7jv211k2c2mk6pkh0000gp/T/ipykernel_11652/3016908160.py:20: PerformanceWarning: indexing past lexsort depth may impact performance.\n",
      "  temp = dfZip.loc[dftemp['dist'].idxmin(), 'postal_code']\n"
     ]
    },
    {
     "name": "stdout",
     "output_type": "stream",
     "text": [
      "29181 CEDEX\n"
     ]
    },
    {
     "name": "stderr",
     "output_type": "stream",
     "text": [
      "/var/folders/nw/13n2z96d7jv211k2c2mk6pkh0000gp/T/ipykernel_11652/3016908160.py:20: PerformanceWarning: indexing past lexsort depth may impact performance.\n",
      "  temp = dfZip.loc[dftemp['dist'].idxmin(), 'postal_code']\n"
     ]
    },
    {
     "name": "stdout",
     "output_type": "stream",
     "text": [
      "29206 CEDEX\n"
     ]
    },
    {
     "name": "stderr",
     "output_type": "stream",
     "text": [
      "/var/folders/nw/13n2z96d7jv211k2c2mk6pkh0000gp/T/ipykernel_11652/3016908160.py:20: PerformanceWarning: indexing past lexsort depth may impact performance.\n",
      "  temp = dfZip.loc[dftemp['dist'].idxmin(), 'postal_code']\n"
     ]
    },
    {
     "name": "stdout",
     "output_type": "stream",
     "text": [
      "29299 CEDEX\n"
     ]
    },
    {
     "name": "stderr",
     "output_type": "stream",
     "text": [
      "/var/folders/nw/13n2z96d7jv211k2c2mk6pkh0000gp/T/ipykernel_11652/3016908160.py:20: PerformanceWarning: indexing past lexsort depth may impact performance.\n",
      "  temp = dfZip.loc[dftemp['dist'].idxmin(), 'postal_code']\n"
     ]
    },
    {
     "name": "stdout",
     "output_type": "stream",
     "text": [
      "29000\n"
     ]
    },
    {
     "name": "stderr",
     "output_type": "stream",
     "text": [
      "/var/folders/nw/13n2z96d7jv211k2c2mk6pkh0000gp/T/ipykernel_11652/3016908160.py:20: PerformanceWarning: indexing past lexsort depth may impact performance.\n",
      "  temp = dfZip.loc[dftemp['dist'].idxmin(), 'postal_code']\n"
     ]
    },
    {
     "name": "stdout",
     "output_type": "stream",
     "text": [
      "29000\n"
     ]
    },
    {
     "name": "stderr",
     "output_type": "stream",
     "text": [
      "/var/folders/nw/13n2z96d7jv211k2c2mk6pkh0000gp/T/ipykernel_11652/3016908160.py:20: PerformanceWarning: indexing past lexsort depth may impact performance.\n",
      "  temp = dfZip.loc[dftemp['dist'].idxmin(), 'postal_code']\n"
     ]
    },
    {
     "name": "stdout",
     "output_type": "stream",
     "text": [
      "29000\n"
     ]
    },
    {
     "name": "stderr",
     "output_type": "stream",
     "text": [
      "/var/folders/nw/13n2z96d7jv211k2c2mk6pkh0000gp/T/ipykernel_11652/3016908160.py:20: PerformanceWarning: indexing past lexsort depth may impact performance.\n",
      "  temp = dfZip.loc[dftemp['dist'].idxmin(), 'postal_code']\n"
     ]
    },
    {
     "name": "stdout",
     "output_type": "stream",
     "text": [
      "20000\n"
     ]
    },
    {
     "name": "stderr",
     "output_type": "stream",
     "text": [
      "/var/folders/nw/13n2z96d7jv211k2c2mk6pkh0000gp/T/ipykernel_11652/3016908160.py:20: PerformanceWarning: indexing past lexsort depth may impact performance.\n",
      "  temp = dfZip.loc[dftemp['dist'].idxmin(), 'postal_code']\n"
     ]
    },
    {
     "name": "stdout",
     "output_type": "stream",
     "text": [
      "20200\n"
     ]
    },
    {
     "name": "stderr",
     "output_type": "stream",
     "text": [
      "/var/folders/nw/13n2z96d7jv211k2c2mk6pkh0000gp/T/ipykernel_11652/3016908160.py:20: PerformanceWarning: indexing past lexsort depth may impact performance.\n",
      "  temp = dfZip.loc[dftemp['dist'].idxmin(), 'postal_code']\n"
     ]
    },
    {
     "name": "stdout",
     "output_type": "stream",
     "text": [
      "30100\n"
     ]
    },
    {
     "name": "stderr",
     "output_type": "stream",
     "text": [
      "/var/folders/nw/13n2z96d7jv211k2c2mk6pkh0000gp/T/ipykernel_11652/3016908160.py:20: PerformanceWarning: indexing past lexsort depth may impact performance.\n",
      "  temp = dfZip.loc[dftemp['dist'].idxmin(), 'postal_code']\n"
     ]
    },
    {
     "name": "stdout",
     "output_type": "stream",
     "text": [
      "04000\n"
     ]
    },
    {
     "name": "stderr",
     "output_type": "stream",
     "text": [
      "/var/folders/nw/13n2z96d7jv211k2c2mk6pkh0000gp/T/ipykernel_11652/3016908160.py:20: PerformanceWarning: indexing past lexsort depth may impact performance.\n",
      "  temp = dfZip.loc[dftemp['dist'].idxmin(), 'postal_code']\n"
     ]
    },
    {
     "name": "stdout",
     "output_type": "stream",
     "text": [
      "30200\n"
     ]
    },
    {
     "name": "stderr",
     "output_type": "stream",
     "text": [
      "/var/folders/nw/13n2z96d7jv211k2c2mk6pkh0000gp/T/ipykernel_11652/3016908160.py:20: PerformanceWarning: indexing past lexsort depth may impact performance.\n",
      "  temp = dfZip.loc[dftemp['dist'].idxmin(), 'postal_code']\n"
     ]
    },
    {
     "name": "stdout",
     "output_type": "stream",
     "text": [
      "30300\n"
     ]
    },
    {
     "name": "stderr",
     "output_type": "stream",
     "text": [
      "/var/folders/nw/13n2z96d7jv211k2c2mk6pkh0000gp/T/ipykernel_11652/3016908160.py:20: PerformanceWarning: indexing past lexsort depth may impact performance.\n",
      "  temp = dfZip.loc[dftemp['dist'].idxmin(), 'postal_code']\n"
     ]
    },
    {
     "name": "stdout",
     "output_type": "stream",
     "text": [
      "30000\n"
     ]
    },
    {
     "name": "stderr",
     "output_type": "stream",
     "text": [
      "/var/folders/nw/13n2z96d7jv211k2c2mk6pkh0000gp/T/ipykernel_11652/3016908160.py:20: PerformanceWarning: indexing past lexsort depth may impact performance.\n",
      "  temp = dfZip.loc[dftemp['dist'].idxmin(), 'postal_code']\n"
     ]
    },
    {
     "name": "stdout",
     "output_type": "stream",
     "text": [
      "30000\n"
     ]
    },
    {
     "name": "stderr",
     "output_type": "stream",
     "text": [
      "/var/folders/nw/13n2z96d7jv211k2c2mk6pkh0000gp/T/ipykernel_11652/3016908160.py:20: PerformanceWarning: indexing past lexsort depth may impact performance.\n",
      "  temp = dfZip.loc[dftemp['dist'].idxmin(), 'postal_code']\n"
     ]
    },
    {
     "name": "stdout",
     "output_type": "stream",
     "text": [
      "30700\n"
     ]
    },
    {
     "name": "stderr",
     "output_type": "stream",
     "text": [
      "/var/folders/nw/13n2z96d7jv211k2c2mk6pkh0000gp/T/ipykernel_11652/3016908160.py:20: PerformanceWarning: indexing past lexsort depth may impact performance.\n",
      "  temp = dfZip.loc[dftemp['dist'].idxmin(), 'postal_code']\n"
     ]
    },
    {
     "name": "stdout",
     "output_type": "stream",
     "text": [
      "31700\n"
     ]
    },
    {
     "name": "stderr",
     "output_type": "stream",
     "text": [
      "/var/folders/nw/13n2z96d7jv211k2c2mk6pkh0000gp/T/ipykernel_11652/3016908160.py:20: PerformanceWarning: indexing past lexsort depth may impact performance.\n",
      "  temp = dfZip.loc[dftemp['dist'].idxmin(), 'postal_code']\n"
     ]
    },
    {
     "name": "stdout",
     "output_type": "stream",
     "text": [
      "31770\n"
     ]
    },
    {
     "name": "stderr",
     "output_type": "stream",
     "text": [
      "/var/folders/nw/13n2z96d7jv211k2c2mk6pkh0000gp/T/ipykernel_11652/3016908160.py:20: PerformanceWarning: indexing past lexsort depth may impact performance.\n",
      "  temp = dfZip.loc[dftemp['dist'].idxmin(), 'postal_code']\n"
     ]
    },
    {
     "name": "stdout",
     "output_type": "stream",
     "text": [
      "31700\n"
     ]
    },
    {
     "name": "stderr",
     "output_type": "stream",
     "text": [
      "/var/folders/nw/13n2z96d7jv211k2c2mk6pkh0000gp/T/ipykernel_11652/3016908160.py:20: PerformanceWarning: indexing past lexsort depth may impact performance.\n",
      "  temp = dfZip.loc[dftemp['dist'].idxmin(), 'postal_code']\n"
     ]
    },
    {
     "name": "stdout",
     "output_type": "stream",
     "text": [
      "31470\n"
     ]
    },
    {
     "name": "stderr",
     "output_type": "stream",
     "text": [
      "/var/folders/nw/13n2z96d7jv211k2c2mk6pkh0000gp/T/ipykernel_11652/3016908160.py:20: PerformanceWarning: indexing past lexsort depth may impact performance.\n",
      "  temp = dfZip.loc[dftemp['dist'].idxmin(), 'postal_code']\n"
     ]
    },
    {
     "name": "stdout",
     "output_type": "stream",
     "text": [
      "31600\n"
     ]
    },
    {
     "name": "stderr",
     "output_type": "stream",
     "text": [
      "/var/folders/nw/13n2z96d7jv211k2c2mk6pkh0000gp/T/ipykernel_11652/3016908160.py:20: PerformanceWarning: indexing past lexsort depth may impact performance.\n",
      "  temp = dfZip.loc[dftemp['dist'].idxmin(), 'postal_code']\n"
     ]
    },
    {
     "name": "stdout",
     "output_type": "stream",
     "text": [
      "04300\n"
     ]
    },
    {
     "name": "stderr",
     "output_type": "stream",
     "text": [
      "/var/folders/nw/13n2z96d7jv211k2c2mk6pkh0000gp/T/ipykernel_11652/3016908160.py:20: PerformanceWarning: indexing past lexsort depth may impact performance.\n",
      "  temp = dfZip.loc[dftemp['dist'].idxmin(), 'postal_code']\n"
     ]
    },
    {
     "name": "stdout",
     "output_type": "stream",
     "text": [
      "31800\n"
     ]
    },
    {
     "name": "stderr",
     "output_type": "stream",
     "text": [
      "/var/folders/nw/13n2z96d7jv211k2c2mk6pkh0000gp/T/ipykernel_11652/3016908160.py:20: PerformanceWarning: indexing past lexsort depth may impact performance.\n",
      "  temp = dfZip.loc[dftemp['dist'].idxmin(), 'postal_code']\n"
     ]
    },
    {
     "name": "stdout",
     "output_type": "stream",
     "text": [
      "31000\n"
     ]
    },
    {
     "name": "stderr",
     "output_type": "stream",
     "text": [
      "/var/folders/nw/13n2z96d7jv211k2c2mk6pkh0000gp/T/ipykernel_11652/3016908160.py:20: PerformanceWarning: indexing past lexsort depth may impact performance.\n",
      "  temp = dfZip.loc[dftemp['dist'].idxmin(), 'postal_code']\n"
     ]
    },
    {
     "name": "stdout",
     "output_type": "stream",
     "text": [
      "31000\n"
     ]
    },
    {
     "name": "stderr",
     "output_type": "stream",
     "text": [
      "/var/folders/nw/13n2z96d7jv211k2c2mk6pkh0000gp/T/ipykernel_11652/3016908160.py:20: PerformanceWarning: indexing past lexsort depth may impact performance.\n",
      "  temp = dfZip.loc[dftemp['dist'].idxmin(), 'postal_code']\n"
     ]
    },
    {
     "name": "stdout",
     "output_type": "stream",
     "text": [
      "31000\n"
     ]
    },
    {
     "name": "stderr",
     "output_type": "stream",
     "text": [
      "/var/folders/nw/13n2z96d7jv211k2c2mk6pkh0000gp/T/ipykernel_11652/3016908160.py:20: PerformanceWarning: indexing past lexsort depth may impact performance.\n",
      "  temp = dfZip.loc[dftemp['dist'].idxmin(), 'postal_code']\n"
     ]
    },
    {
     "name": "stdout",
     "output_type": "stream",
     "text": [
      "31170\n"
     ]
    },
    {
     "name": "stderr",
     "output_type": "stream",
     "text": [
      "/var/folders/nw/13n2z96d7jv211k2c2mk6pkh0000gp/T/ipykernel_11652/3016908160.py:20: PerformanceWarning: indexing past lexsort depth may impact performance.\n",
      "  temp = dfZip.loc[dftemp['dist'].idxmin(), 'postal_code']\n"
     ]
    },
    {
     "name": "stdout",
     "output_type": "stream",
     "text": [
      "32000\n"
     ]
    },
    {
     "name": "stderr",
     "output_type": "stream",
     "text": [
      "/var/folders/nw/13n2z96d7jv211k2c2mk6pkh0000gp/T/ipykernel_11652/3016908160.py:20: PerformanceWarning: indexing past lexsort depth may impact performance.\n",
      "  temp = dfZip.loc[dftemp['dist'].idxmin(), 'postal_code']\n"
     ]
    },
    {
     "name": "stdout",
     "output_type": "stream",
     "text": [
      "32100\n"
     ]
    },
    {
     "name": "stderr",
     "output_type": "stream",
     "text": [
      "/var/folders/nw/13n2z96d7jv211k2c2mk6pkh0000gp/T/ipykernel_11652/3016908160.py:20: PerformanceWarning: indexing past lexsort depth may impact performance.\n",
      "  temp = dfZip.loc[dftemp['dist'].idxmin(), 'postal_code']\n"
     ]
    },
    {
     "name": "stdout",
     "output_type": "stream",
     "text": [
      "32700\n"
     ]
    },
    {
     "name": "stderr",
     "output_type": "stream",
     "text": [
      "/var/folders/nw/13n2z96d7jv211k2c2mk6pkh0000gp/T/ipykernel_11652/3016908160.py:20: PerformanceWarning: indexing past lexsort depth may impact performance.\n",
      "  temp = dfZip.loc[dftemp['dist'].idxmin(), 'postal_code']\n"
     ]
    },
    {
     "name": "stdout",
     "output_type": "stream",
     "text": [
      "33510\n"
     ]
    },
    {
     "name": "stderr",
     "output_type": "stream",
     "text": [
      "/var/folders/nw/13n2z96d7jv211k2c2mk6pkh0000gp/T/ipykernel_11652/3016908160.py:20: PerformanceWarning: indexing past lexsort depth may impact performance.\n",
      "  temp = dfZip.loc[dftemp['dist'].idxmin(), 'postal_code']\n"
     ]
    },
    {
     "name": "stdout",
     "output_type": "stream",
     "text": [
      "33120\n"
     ]
    },
    {
     "name": "stderr",
     "output_type": "stream",
     "text": [
      "/var/folders/nw/13n2z96d7jv211k2c2mk6pkh0000gp/T/ipykernel_11652/3016908160.py:20: PerformanceWarning: indexing past lexsort depth may impact performance.\n",
      "  temp = dfZip.loc[dftemp['dist'].idxmin(), 'postal_code']\n"
     ]
    },
    {
     "name": "stdout",
     "output_type": "stream",
     "text": [
      "01000\n"
     ]
    },
    {
     "name": "stderr",
     "output_type": "stream",
     "text": [
      "/var/folders/nw/13n2z96d7jv211k2c2mk6pkh0000gp/T/ipykernel_11652/3016908160.py:20: PerformanceWarning: indexing past lexsort depth may impact performance.\n",
      "  temp = dfZip.loc[dftemp['dist'].idxmin(), 'postal_code']\n"
     ]
    },
    {
     "name": "stdout",
     "output_type": "stream",
     "text": [
      "04100\n"
     ]
    },
    {
     "name": "stderr",
     "output_type": "stream",
     "text": [
      "/var/folders/nw/13n2z96d7jv211k2c2mk6pkh0000gp/T/ipykernel_11652/3016908160.py:20: PerformanceWarning: indexing past lexsort depth may impact performance.\n",
      "  temp = dfZip.loc[dftemp['dist'].idxmin(), 'postal_code']\n"
     ]
    },
    {
     "name": "stdout",
     "output_type": "stream",
     "text": [
      "33430\n"
     ]
    },
    {
     "name": "stderr",
     "output_type": "stream",
     "text": [
      "/var/folders/nw/13n2z96d7jv211k2c2mk6pkh0000gp/T/ipykernel_11652/3016908160.py:20: PerformanceWarning: indexing past lexsort depth may impact performance.\n",
      "  temp = dfZip.loc[dftemp['dist'].idxmin(), 'postal_code']\n"
     ]
    },
    {
     "name": "stdout",
     "output_type": "stream",
     "text": [
      "33130\n"
     ]
    },
    {
     "name": "stderr",
     "output_type": "stream",
     "text": [
      "/var/folders/nw/13n2z96d7jv211k2c2mk6pkh0000gp/T/ipykernel_11652/3016908160.py:20: PerformanceWarning: indexing past lexsort depth may impact performance.\n",
      "  temp = dfZip.loc[dftemp['dist'].idxmin(), 'postal_code']\n"
     ]
    },
    {
     "name": "stdout",
     "output_type": "stream",
     "text": [
      "33000\n"
     ]
    },
    {
     "name": "stderr",
     "output_type": "stream",
     "text": [
      "/var/folders/nw/13n2z96d7jv211k2c2mk6pkh0000gp/T/ipykernel_11652/3016908160.py:20: PerformanceWarning: indexing past lexsort depth may impact performance.\n",
      "  temp = dfZip.loc[dftemp['dist'].idxmin(), 'postal_code']\n"
     ]
    },
    {
     "name": "stdout",
     "output_type": "stream",
     "text": [
      "33000\n"
     ]
    },
    {
     "name": "stderr",
     "output_type": "stream",
     "text": [
      "/var/folders/nw/13n2z96d7jv211k2c2mk6pkh0000gp/T/ipykernel_11652/3016908160.py:20: PerformanceWarning: indexing past lexsort depth may impact performance.\n",
      "  temp = dfZip.loc[dftemp['dist'].idxmin(), 'postal_code']\n"
     ]
    },
    {
     "name": "stdout",
     "output_type": "stream",
     "text": [
      "33305 CEDEX\n"
     ]
    },
    {
     "name": "stderr",
     "output_type": "stream",
     "text": [
      "/var/folders/nw/13n2z96d7jv211k2c2mk6pkh0000gp/T/ipykernel_11652/3016908160.py:20: PerformanceWarning: indexing past lexsort depth may impact performance.\n",
      "  temp = dfZip.loc[dftemp['dist'].idxmin(), 'postal_code']\n"
     ]
    },
    {
     "name": "stdout",
     "output_type": "stream",
     "text": [
      "33110\n"
     ]
    },
    {
     "name": "stderr",
     "output_type": "stream",
     "text": [
      "/var/folders/nw/13n2z96d7jv211k2c2mk6pkh0000gp/T/ipykernel_11652/3016908160.py:20: PerformanceWarning: indexing past lexsort depth may impact performance.\n",
      "  temp = dfZip.loc[dftemp['dist'].idxmin(), 'postal_code']\n"
     ]
    },
    {
     "name": "stdout",
     "output_type": "stream",
     "text": [
      "33110\n"
     ]
    },
    {
     "name": "stderr",
     "output_type": "stream",
     "text": [
      "/var/folders/nw/13n2z96d7jv211k2c2mk6pkh0000gp/T/ipykernel_11652/3016908160.py:20: PerformanceWarning: indexing past lexsort depth may impact performance.\n",
      "  temp = dfZip.loc[dftemp['dist'].idxmin(), 'postal_code']\n"
     ]
    },
    {
     "name": "stdout",
     "output_type": "stream",
     "text": [
      "33150\n"
     ]
    },
    {
     "name": "stderr",
     "output_type": "stream",
     "text": [
      "/var/folders/nw/13n2z96d7jv211k2c2mk6pkh0000gp/T/ipykernel_11652/3016908160.py:20: PerformanceWarning: indexing past lexsort depth may impact performance.\n",
      "  temp = dfZip.loc[dftemp['dist'].idxmin(), 'postal_code']\n"
     ]
    },
    {
     "name": "stdout",
     "output_type": "stream",
     "text": [
      "33270\n"
     ]
    },
    {
     "name": "stderr",
     "output_type": "stream",
     "text": [
      "/var/folders/nw/13n2z96d7jv211k2c2mk6pkh0000gp/T/ipykernel_11652/3016908160.py:20: PerformanceWarning: indexing past lexsort depth may impact performance.\n",
      "  temp = dfZip.loc[dftemp['dist'].idxmin(), 'postal_code']\n"
     ]
    },
    {
     "name": "stdout",
     "output_type": "stream",
     "text": [
      "33470\n"
     ]
    },
    {
     "name": "stderr",
     "output_type": "stream",
     "text": [
      "/var/folders/nw/13n2z96d7jv211k2c2mk6pkh0000gp/T/ipykernel_11652/3016908160.py:20: PerformanceWarning: indexing past lexsort depth may impact performance.\n",
      "  temp = dfZip.loc[dftemp['dist'].idxmin(), 'postal_code']\n"
     ]
    },
    {
     "name": "stdout",
     "output_type": "stream",
     "text": [
      "05100\n"
     ]
    },
    {
     "name": "stderr",
     "output_type": "stream",
     "text": [
      "/var/folders/nw/13n2z96d7jv211k2c2mk6pkh0000gp/T/ipykernel_11652/3016908160.py:20: PerformanceWarning: indexing past lexsort depth may impact performance.\n",
      "  temp = dfZip.loc[dftemp['dist'].idxmin(), 'postal_code']\n"
     ]
    },
    {
     "name": "stdout",
     "output_type": "stream",
     "text": [
      "33950\n"
     ]
    },
    {
     "name": "stderr",
     "output_type": "stream",
     "text": [
      "/var/folders/nw/13n2z96d7jv211k2c2mk6pkh0000gp/T/ipykernel_11652/3016908160.py:20: PerformanceWarning: indexing past lexsort depth may impact performance.\n",
      "  temp = dfZip.loc[dftemp['dist'].idxmin(), 'postal_code']\n"
     ]
    },
    {
     "name": "stdout",
     "output_type": "stream",
     "text": [
      "33500\n"
     ]
    },
    {
     "name": "stderr",
     "output_type": "stream",
     "text": [
      "/var/folders/nw/13n2z96d7jv211k2c2mk6pkh0000gp/T/ipykernel_11652/3016908160.py:20: PerformanceWarning: indexing past lexsort depth may impact performance.\n",
      "  temp = dfZip.loc[dftemp['dist'].idxmin(), 'postal_code']\n"
     ]
    },
    {
     "name": "stdout",
     "output_type": "stream",
     "text": [
      "33305 CEDEX\n"
     ]
    },
    {
     "name": "stderr",
     "output_type": "stream",
     "text": [
      "/var/folders/nw/13n2z96d7jv211k2c2mk6pkh0000gp/T/ipykernel_11652/3016908160.py:20: PerformanceWarning: indexing past lexsort depth may impact performance.\n",
      "  temp = dfZip.loc[dftemp['dist'].idxmin(), 'postal_code']\n"
     ]
    },
    {
     "name": "stdout",
     "output_type": "stream",
     "text": [
      "33688 CEDEX\n"
     ]
    },
    {
     "name": "stderr",
     "output_type": "stream",
     "text": [
      "/var/folders/nw/13n2z96d7jv211k2c2mk6pkh0000gp/T/ipykernel_11652/3016908160.py:20: PerformanceWarning: indexing past lexsort depth may impact performance.\n",
      "  temp = dfZip.loc[dftemp['dist'].idxmin(), 'postal_code']\n"
     ]
    },
    {
     "name": "stdout",
     "output_type": "stream",
     "text": [
      "33380\n"
     ]
    },
    {
     "name": "stderr",
     "output_type": "stream",
     "text": [
      "/var/folders/nw/13n2z96d7jv211k2c2mk6pkh0000gp/T/ipykernel_11652/3016908160.py:20: PerformanceWarning: indexing past lexsort depth may impact performance.\n",
      "  temp = dfZip.loc[dftemp['dist'].idxmin(), 'postal_code']\n"
     ]
    },
    {
     "name": "stdout",
     "output_type": "stream",
     "text": [
      "33400\n"
     ]
    },
    {
     "name": "stderr",
     "output_type": "stream",
     "text": [
      "/var/folders/nw/13n2z96d7jv211k2c2mk6pkh0000gp/T/ipykernel_11652/3016908160.py:20: PerformanceWarning: indexing past lexsort depth may impact performance.\n",
      "  temp = dfZip.loc[dftemp['dist'].idxmin(), 'postal_code']\n"
     ]
    },
    {
     "name": "stdout",
     "output_type": "stream",
     "text": [
      "33115\n"
     ]
    },
    {
     "name": "stderr",
     "output_type": "stream",
     "text": [
      "/var/folders/nw/13n2z96d7jv211k2c2mk6pkh0000gp/T/ipykernel_11652/3016908160.py:20: PerformanceWarning: indexing past lexsort depth may impact performance.\n",
      "  temp = dfZip.loc[dftemp['dist'].idxmin(), 'postal_code']\n"
     ]
    },
    {
     "name": "stdout",
     "output_type": "stream",
     "text": [
      "33140\n"
     ]
    },
    {
     "name": "stderr",
     "output_type": "stream",
     "text": [
      "/var/folders/nw/13n2z96d7jv211k2c2mk6pkh0000gp/T/ipykernel_11652/3016908160.py:20: PerformanceWarning: indexing past lexsort depth may impact performance.\n",
      "  temp = dfZip.loc[dftemp['dist'].idxmin(), 'postal_code']\n"
     ]
    },
    {
     "name": "stdout",
     "output_type": "stream",
     "text": [
      "34300\n"
     ]
    },
    {
     "name": "stderr",
     "output_type": "stream",
     "text": [
      "/var/folders/nw/13n2z96d7jv211k2c2mk6pkh0000gp/T/ipykernel_11652/3016908160.py:20: PerformanceWarning: indexing past lexsort depth may impact performance.\n",
      "  temp = dfZip.loc[dftemp['dist'].idxmin(), 'postal_code']\n"
     ]
    },
    {
     "name": "stdout",
     "output_type": "stream",
     "text": [
      "34600\n"
     ]
    },
    {
     "name": "stderr",
     "output_type": "stream",
     "text": [
      "/var/folders/nw/13n2z96d7jv211k2c2mk6pkh0000gp/T/ipykernel_11652/3016908160.py:20: PerformanceWarning: indexing past lexsort depth may impact performance.\n",
      "  temp = dfZip.loc[dftemp['dist'].idxmin(), 'postal_code']\n"
     ]
    },
    {
     "name": "stdout",
     "output_type": "stream",
     "text": [
      "05200\n"
     ]
    },
    {
     "name": "stderr",
     "output_type": "stream",
     "text": [
      "/var/folders/nw/13n2z96d7jv211k2c2mk6pkh0000gp/T/ipykernel_11652/3016908160.py:20: PerformanceWarning: indexing past lexsort depth may impact performance.\n",
      "  temp = dfZip.loc[dftemp['dist'].idxmin(), 'postal_code']\n"
     ]
    },
    {
     "name": "stdout",
     "output_type": "stream",
     "text": [
      "34500\n"
     ]
    },
    {
     "name": "stderr",
     "output_type": "stream",
     "text": [
      "/var/folders/nw/13n2z96d7jv211k2c2mk6pkh0000gp/T/ipykernel_11652/3016908160.py:20: PerformanceWarning: indexing past lexsort depth may impact performance.\n",
      "  temp = dfZip.loc[dftemp['dist'].idxmin(), 'postal_code']\n"
     ]
    },
    {
     "name": "stdout",
     "output_type": "stream",
     "text": [
      "34990\n"
     ]
    },
    {
     "name": "stderr",
     "output_type": "stream",
     "text": [
      "/var/folders/nw/13n2z96d7jv211k2c2mk6pkh0000gp/T/ipykernel_11652/3016908160.py:20: PerformanceWarning: indexing past lexsort depth may impact performance.\n",
      "  temp = dfZip.loc[dftemp['dist'].idxmin(), 'postal_code']\n"
     ]
    },
    {
     "name": "stdout",
     "output_type": "stream",
     "text": [
      "34000\n"
     ]
    },
    {
     "name": "stderr",
     "output_type": "stream",
     "text": [
      "/var/folders/nw/13n2z96d7jv211k2c2mk6pkh0000gp/T/ipykernel_11652/3016908160.py:20: PerformanceWarning: indexing past lexsort depth may impact performance.\n",
      "  temp = dfZip.loc[dftemp['dist'].idxmin(), 'postal_code']\n"
     ]
    },
    {
     "name": "stdout",
     "output_type": "stream",
     "text": [
      "34990\n"
     ]
    },
    {
     "name": "stderr",
     "output_type": "stream",
     "text": [
      "/var/folders/nw/13n2z96d7jv211k2c2mk6pkh0000gp/T/ipykernel_11652/3016908160.py:20: PerformanceWarning: indexing past lexsort depth may impact performance.\n",
      "  temp = dfZip.loc[dftemp['dist'].idxmin(), 'postal_code']\n"
     ]
    },
    {
     "name": "stdout",
     "output_type": "stream",
     "text": [
      "34980\n"
     ]
    },
    {
     "name": "stderr",
     "output_type": "stream",
     "text": [
      "/var/folders/nw/13n2z96d7jv211k2c2mk6pkh0000gp/T/ipykernel_11652/3016908160.py:20: PerformanceWarning: indexing past lexsort depth may impact performance.\n",
      "  temp = dfZip.loc[dftemp['dist'].idxmin(), 'postal_code']\n"
     ]
    },
    {
     "name": "stdout",
     "output_type": "stream",
     "text": [
      "34200\n"
     ]
    },
    {
     "name": "stderr",
     "output_type": "stream",
     "text": [
      "/var/folders/nw/13n2z96d7jv211k2c2mk6pkh0000gp/T/ipykernel_11652/3016908160.py:20: PerformanceWarning: indexing past lexsort depth may impact performance.\n",
      "  temp = dfZip.loc[dftemp['dist'].idxmin(), 'postal_code']\n"
     ]
    },
    {
     "name": "stdout",
     "output_type": "stream",
     "text": [
      "35800\n"
     ]
    },
    {
     "name": "stderr",
     "output_type": "stream",
     "text": [
      "/var/folders/nw/13n2z96d7jv211k2c2mk6pkh0000gp/T/ipykernel_11652/3016908160.py:20: PerformanceWarning: indexing past lexsort depth may impact performance.\n",
      "  temp = dfZip.loc[dftemp['dist'].idxmin(), 'postal_code']\n"
     ]
    },
    {
     "name": "stdout",
     "output_type": "stream",
     "text": [
      "35300\n"
     ]
    },
    {
     "name": "stderr",
     "output_type": "stream",
     "text": [
      "/var/folders/nw/13n2z96d7jv211k2c2mk6pkh0000gp/T/ipykernel_11652/3016908160.py:20: PerformanceWarning: indexing past lexsort depth may impact performance.\n",
      "  temp = dfZip.loc[dftemp['dist'].idxmin(), 'postal_code']\n"
     ]
    },
    {
     "name": "stdout",
     "output_type": "stream",
     "text": [
      "35000\n"
     ]
    },
    {
     "name": "stderr",
     "output_type": "stream",
     "text": [
      "/var/folders/nw/13n2z96d7jv211k2c2mk6pkh0000gp/T/ipykernel_11652/3016908160.py:20: PerformanceWarning: indexing past lexsort depth may impact performance.\n",
      "  temp = dfZip.loc[dftemp['dist'].idxmin(), 'postal_code']\n"
     ]
    },
    {
     "name": "stdout",
     "output_type": "stream",
     "text": [
      "35521 CEDEX\n"
     ]
    },
    {
     "name": "stderr",
     "output_type": "stream",
     "text": [
      "/var/folders/nw/13n2z96d7jv211k2c2mk6pkh0000gp/T/ipykernel_11652/3016908160.py:20: PerformanceWarning: indexing past lexsort depth may impact performance.\n",
      "  temp = dfZip.loc[dftemp['dist'].idxmin(), 'postal_code']\n"
     ]
    },
    {
     "name": "stdout",
     "output_type": "stream",
     "text": [
      "05000\n"
     ]
    },
    {
     "name": "stderr",
     "output_type": "stream",
     "text": [
      "/var/folders/nw/13n2z96d7jv211k2c2mk6pkh0000gp/T/ipykernel_11652/3016908160.py:20: PerformanceWarning: indexing past lexsort depth may impact performance.\n",
      "  temp = dfZip.loc[dftemp['dist'].idxmin(), 'postal_code']\n"
     ]
    },
    {
     "name": "stdout",
     "output_type": "stream",
     "text": [
      "35000\n"
     ]
    },
    {
     "name": "stderr",
     "output_type": "stream",
     "text": [
      "/var/folders/nw/13n2z96d7jv211k2c2mk6pkh0000gp/T/ipykernel_11652/3016908160.py:20: PerformanceWarning: indexing past lexsort depth may impact performance.\n",
      "  temp = dfZip.loc[dftemp['dist'].idxmin(), 'postal_code']\n"
     ]
    },
    {
     "name": "stdout",
     "output_type": "stream",
     "text": [
      "35400\n"
     ]
    },
    {
     "name": "stderr",
     "output_type": "stream",
     "text": [
      "/var/folders/nw/13n2z96d7jv211k2c2mk6pkh0000gp/T/ipykernel_11652/3016908160.py:20: PerformanceWarning: indexing past lexsort depth may impact performance.\n",
      "  temp = dfZip.loc[dftemp['dist'].idxmin(), 'postal_code']\n"
     ]
    },
    {
     "name": "stdout",
     "output_type": "stream",
     "text": [
      "35500\n"
     ]
    },
    {
     "name": "stderr",
     "output_type": "stream",
     "text": [
      "/var/folders/nw/13n2z96d7jv211k2c2mk6pkh0000gp/T/ipykernel_11652/3016908160.py:20: PerformanceWarning: indexing past lexsort depth may impact performance.\n",
      "  temp = dfZip.loc[dftemp['dist'].idxmin(), 'postal_code']\n"
     ]
    },
    {
     "name": "stdout",
     "output_type": "stream",
     "text": [
      "36000\n"
     ]
    },
    {
     "name": "stderr",
     "output_type": "stream",
     "text": [
      "/var/folders/nw/13n2z96d7jv211k2c2mk6pkh0000gp/T/ipykernel_11652/3016908160.py:20: PerformanceWarning: indexing past lexsort depth may impact performance.\n",
      "  temp = dfZip.loc[dftemp['dist'].idxmin(), 'postal_code']\n"
     ]
    },
    {
     "name": "stdout",
     "output_type": "stream",
     "text": [
      "36000\n"
     ]
    },
    {
     "name": "stderr",
     "output_type": "stream",
     "text": [
      "/var/folders/nw/13n2z96d7jv211k2c2mk6pkh0000gp/T/ipykernel_11652/3016908160.py:20: PerformanceWarning: indexing past lexsort depth may impact performance.\n",
      "  temp = dfZip.loc[dftemp['dist'].idxmin(), 'postal_code']\n"
     ]
    },
    {
     "name": "stdout",
     "output_type": "stream",
     "text": [
      "36100\n"
     ]
    },
    {
     "name": "stderr",
     "output_type": "stream",
     "text": [
      "/var/folders/nw/13n2z96d7jv211k2c2mk6pkh0000gp/T/ipykernel_11652/3016908160.py:20: PerformanceWarning: indexing past lexsort depth may impact performance.\n",
      "  temp = dfZip.loc[dftemp['dist'].idxmin(), 'postal_code']\n"
     ]
    },
    {
     "name": "stdout",
     "output_type": "stream",
     "text": [
      "37400\n"
     ]
    },
    {
     "name": "stderr",
     "output_type": "stream",
     "text": [
      "/var/folders/nw/13n2z96d7jv211k2c2mk6pkh0000gp/T/ipykernel_11652/3016908160.py:20: PerformanceWarning: indexing past lexsort depth may impact performance.\n",
      "  temp = dfZip.loc[dftemp['dist'].idxmin(), 'postal_code']\n"
     ]
    },
    {
     "name": "stdout",
     "output_type": "stream",
     "text": [
      "37170\n"
     ]
    },
    {
     "name": "stderr",
     "output_type": "stream",
     "text": [
      "/var/folders/nw/13n2z96d7jv211k2c2mk6pkh0000gp/T/ipykernel_11652/3016908160.py:20: PerformanceWarning: indexing past lexsort depth may impact performance.\n",
      "  temp = dfZip.loc[dftemp['dist'].idxmin(), 'postal_code']\n"
     ]
    },
    {
     "name": "stdout",
     "output_type": "stream",
     "text": [
      "37500\n"
     ]
    },
    {
     "name": "stderr",
     "output_type": "stream",
     "text": [
      "/var/folders/nw/13n2z96d7jv211k2c2mk6pkh0000gp/T/ipykernel_11652/3016908160.py:20: PerformanceWarning: indexing past lexsort depth may impact performance.\n",
      "  temp = dfZip.loc[dftemp['dist'].idxmin(), 'postal_code']\n"
     ]
    },
    {
     "name": "stdout",
     "output_type": "stream",
     "text": [
      "37300\n"
     ]
    },
    {
     "name": "stderr",
     "output_type": "stream",
     "text": [
      "/var/folders/nw/13n2z96d7jv211k2c2mk6pkh0000gp/T/ipykernel_11652/3016908160.py:20: PerformanceWarning: indexing past lexsort depth may impact performance.\n",
      "  temp = dfZip.loc[dftemp['dist'].idxmin(), 'postal_code']\n"
     ]
    },
    {
     "name": "stdout",
     "output_type": "stream",
     "text": [
      "05000\n"
     ]
    },
    {
     "name": "stderr",
     "output_type": "stream",
     "text": [
      "/var/folders/nw/13n2z96d7jv211k2c2mk6pkh0000gp/T/ipykernel_11652/3016908160.py:20: PerformanceWarning: indexing past lexsort depth may impact performance.\n",
      "  temp = dfZip.loc[dftemp['dist'].idxmin(), 'postal_code']\n"
     ]
    },
    {
     "name": "stdout",
     "output_type": "stream",
     "text": [
      "37270\n"
     ]
    },
    {
     "name": "stderr",
     "output_type": "stream",
     "text": [
      "/var/folders/nw/13n2z96d7jv211k2c2mk6pkh0000gp/T/ipykernel_11652/3016908160.py:20: PerformanceWarning: indexing past lexsort depth may impact performance.\n",
      "  temp = dfZip.loc[dftemp['dist'].idxmin(), 'postal_code']\n"
     ]
    },
    {
     "name": "stdout",
     "output_type": "stream",
     "text": [
      "37540\n"
     ]
    },
    {
     "name": "stderr",
     "output_type": "stream",
     "text": [
      "/var/folders/nw/13n2z96d7jv211k2c2mk6pkh0000gp/T/ipykernel_11652/3016908160.py:20: PerformanceWarning: indexing past lexsort depth may impact performance.\n",
      "  temp = dfZip.loc[dftemp['dist'].idxmin(), 'postal_code']\n"
     ]
    },
    {
     "name": "stdout",
     "output_type": "stream",
     "text": [
      "37000\n"
     ]
    },
    {
     "name": "stderr",
     "output_type": "stream",
     "text": [
      "/var/folders/nw/13n2z96d7jv211k2c2mk6pkh0000gp/T/ipykernel_11652/3016908160.py:20: PerformanceWarning: indexing past lexsort depth may impact performance.\n",
      "  temp = dfZip.loc[dftemp['dist'].idxmin(), 'postal_code']\n"
     ]
    },
    {
     "name": "stdout",
     "output_type": "stream",
     "text": [
      "37520\n"
     ]
    },
    {
     "name": "stderr",
     "output_type": "stream",
     "text": [
      "/var/folders/nw/13n2z96d7jv211k2c2mk6pkh0000gp/T/ipykernel_11652/3016908160.py:20: PerformanceWarning: indexing past lexsort depth may impact performance.\n",
      "  temp = dfZip.loc[dftemp['dist'].idxmin(), 'postal_code']\n"
     ]
    },
    {
     "name": "stdout",
     "output_type": "stream",
     "text": [
      "37000\n"
     ]
    },
    {
     "name": "stderr",
     "output_type": "stream",
     "text": [
      "/var/folders/nw/13n2z96d7jv211k2c2mk6pkh0000gp/T/ipykernel_11652/3016908160.py:20: PerformanceWarning: indexing past lexsort depth may impact performance.\n",
      "  temp = dfZip.loc[dftemp['dist'].idxmin(), 'postal_code']\n"
     ]
    },
    {
     "name": "stdout",
     "output_type": "stream",
     "text": [
      "37000\n"
     ]
    },
    {
     "name": "stderr",
     "output_type": "stream",
     "text": [
      "/var/folders/nw/13n2z96d7jv211k2c2mk6pkh0000gp/T/ipykernel_11652/3016908160.py:20: PerformanceWarning: indexing past lexsort depth may impact performance.\n",
      "  temp = dfZip.loc[dftemp['dist'].idxmin(), 'postal_code']\n"
     ]
    },
    {
     "name": "stdout",
     "output_type": "stream",
     "text": [
      "38920\n"
     ]
    },
    {
     "name": "stderr",
     "output_type": "stream",
     "text": [
      "/var/folders/nw/13n2z96d7jv211k2c2mk6pkh0000gp/T/ipykernel_11652/3016908160.py:20: PerformanceWarning: indexing past lexsort depth may impact performance.\n",
      "  temp = dfZip.loc[dftemp['dist'].idxmin(), 'postal_code']\n"
     ]
    },
    {
     "name": "stdout",
     "output_type": "stream",
     "text": [
      "38920\n"
     ]
    },
    {
     "name": "stderr",
     "output_type": "stream",
     "text": [
      "/var/folders/nw/13n2z96d7jv211k2c2mk6pkh0000gp/T/ipykernel_11652/3016908160.py:20: PerformanceWarning: indexing past lexsort depth may impact performance.\n",
      "  temp = dfZip.loc[dftemp['dist'].idxmin(), 'postal_code']\n"
     ]
    },
    {
     "name": "stdout",
     "output_type": "stream",
     "text": [
      "38600\n"
     ]
    },
    {
     "name": "stderr",
     "output_type": "stream",
     "text": [
      "/var/folders/nw/13n2z96d7jv211k2c2mk6pkh0000gp/T/ipykernel_11652/3016908160.py:20: PerformanceWarning: indexing past lexsort depth may impact performance.\n",
      "  temp = dfZip.loc[dftemp['dist'].idxmin(), 'postal_code']\n"
     ]
    },
    {
     "name": "stdout",
     "output_type": "stream",
     "text": [
      "38000\n"
     ]
    },
    {
     "name": "stderr",
     "output_type": "stream",
     "text": [
      "/var/folders/nw/13n2z96d7jv211k2c2mk6pkh0000gp/T/ipykernel_11652/3016908160.py:20: PerformanceWarning: indexing past lexsort depth may impact performance.\n",
      "  temp = dfZip.loc[dftemp['dist'].idxmin(), 'postal_code']\n"
     ]
    },
    {
     "name": "stdout",
     "output_type": "stream",
     "text": [
      "06160\n"
     ]
    },
    {
     "name": "stderr",
     "output_type": "stream",
     "text": [
      "/var/folders/nw/13n2z96d7jv211k2c2mk6pkh0000gp/T/ipykernel_11652/3016908160.py:20: PerformanceWarning: indexing past lexsort depth may impact performance.\n",
      "  temp = dfZip.loc[dftemp['dist'].idxmin(), 'postal_code']\n"
     ]
    },
    {
     "name": "stdout",
     "output_type": "stream",
     "text": [
      "38700\n"
     ]
    },
    {
     "name": "stderr",
     "output_type": "stream",
     "text": [
      "/var/folders/nw/13n2z96d7jv211k2c2mk6pkh0000gp/T/ipykernel_11652/3016908160.py:20: PerformanceWarning: indexing past lexsort depth may impact performance.\n",
      "  temp = dfZip.loc[dftemp['dist'].idxmin(), 'postal_code']\n"
     ]
    },
    {
     "name": "stdout",
     "output_type": "stream",
     "text": [
      "38240\n"
     ]
    },
    {
     "name": "stderr",
     "output_type": "stream",
     "text": [
      "/var/folders/nw/13n2z96d7jv211k2c2mk6pkh0000gp/T/ipykernel_11652/3016908160.py:20: PerformanceWarning: indexing past lexsort depth may impact performance.\n",
      "  temp = dfZip.loc[dftemp['dist'].idxmin(), 'postal_code']\n"
     ]
    },
    {
     "name": "stdout",
     "output_type": "stream",
     "text": [
      "38345 CEDEX\n"
     ]
    },
    {
     "name": "stderr",
     "output_type": "stream",
     "text": [
      "/var/folders/nw/13n2z96d7jv211k2c2mk6pkh0000gp/T/ipykernel_11652/3016908160.py:20: PerformanceWarning: indexing past lexsort depth may impact performance.\n",
      "  temp = dfZip.loc[dftemp['dist'].idxmin(), 'postal_code']\n"
     ]
    },
    {
     "name": "stdout",
     "output_type": "stream",
     "text": [
      "38800\n"
     ]
    },
    {
     "name": "stderr",
     "output_type": "stream",
     "text": [
      "/var/folders/nw/13n2z96d7jv211k2c2mk6pkh0000gp/T/ipykernel_11652/3016908160.py:20: PerformanceWarning: indexing past lexsort depth may impact performance.\n",
      "  temp = dfZip.loc[dftemp['dist'].idxmin(), 'postal_code']\n"
     ]
    },
    {
     "name": "stdout",
     "output_type": "stream",
     "text": [
      "38140\n"
     ]
    },
    {
     "name": "stderr",
     "output_type": "stream",
     "text": [
      "/var/folders/nw/13n2z96d7jv211k2c2mk6pkh0000gp/T/ipykernel_11652/3016908160.py:20: PerformanceWarning: indexing past lexsort depth may impact performance.\n",
      "  temp = dfZip.loc[dftemp['dist'].idxmin(), 'postal_code']\n"
     ]
    },
    {
     "name": "stdout",
     "output_type": "stream",
     "text": [
      "38120\n"
     ]
    },
    {
     "name": "stderr",
     "output_type": "stream",
     "text": [
      "/var/folders/nw/13n2z96d7jv211k2c2mk6pkh0000gp/T/ipykernel_11652/3016908160.py:20: PerformanceWarning: indexing past lexsort depth may impact performance.\n",
      "  temp = dfZip.loc[dftemp['dist'].idxmin(), 'postal_code']\n"
     ]
    },
    {
     "name": "stdout",
     "output_type": "stream",
     "text": [
      "38400\n"
     ]
    },
    {
     "name": "stderr",
     "output_type": "stream",
     "text": [
      "/var/folders/nw/13n2z96d7jv211k2c2mk6pkh0000gp/T/ipykernel_11652/3016908160.py:20: PerformanceWarning: indexing past lexsort depth may impact performance.\n",
      "  temp = dfZip.loc[dftemp['dist'].idxmin(), 'postal_code']\n"
     ]
    },
    {
     "name": "stdout",
     "output_type": "stream",
     "text": [
      "38400\n"
     ]
    },
    {
     "name": "stderr",
     "output_type": "stream",
     "text": [
      "/var/folders/nw/13n2z96d7jv211k2c2mk6pkh0000gp/T/ipykernel_11652/3016908160.py:20: PerformanceWarning: indexing past lexsort depth may impact performance.\n",
      "  temp = dfZip.loc[dftemp['dist'].idxmin(), 'postal_code']\n"
     ]
    },
    {
     "name": "stdout",
     "output_type": "stream",
     "text": [
      "38200\n"
     ]
    },
    {
     "name": "stderr",
     "output_type": "stream",
     "text": [
      "/var/folders/nw/13n2z96d7jv211k2c2mk6pkh0000gp/T/ipykernel_11652/3016908160.py:20: PerformanceWarning: indexing past lexsort depth may impact performance.\n",
      "  temp = dfZip.loc[dftemp['dist'].idxmin(), 'postal_code']\n"
     ]
    },
    {
     "name": "stdout",
     "output_type": "stream",
     "text": [
      "38090\n"
     ]
    },
    {
     "name": "stderr",
     "output_type": "stream",
     "text": [
      "/var/folders/nw/13n2z96d7jv211k2c2mk6pkh0000gp/T/ipykernel_11652/3016908160.py:20: PerformanceWarning: indexing past lexsort depth may impact performance.\n",
      "  temp = dfZip.loc[dftemp['dist'].idxmin(), 'postal_code']\n"
     ]
    },
    {
     "name": "stdout",
     "output_type": "stream",
     "text": [
      "06240\n"
     ]
    },
    {
     "name": "stderr",
     "output_type": "stream",
     "text": [
      "/var/folders/nw/13n2z96d7jv211k2c2mk6pkh0000gp/T/ipykernel_11652/3016908160.py:20: PerformanceWarning: indexing past lexsort depth may impact performance.\n",
      "  temp = dfZip.loc[dftemp['dist'].idxmin(), 'postal_code']\n"
     ]
    },
    {
     "name": "stdout",
     "output_type": "stream",
     "text": [
      "38500\n"
     ]
    },
    {
     "name": "stderr",
     "output_type": "stream",
     "text": [
      "/var/folders/nw/13n2z96d7jv211k2c2mk6pkh0000gp/T/ipykernel_11652/3016908160.py:20: PerformanceWarning: indexing past lexsort depth may impact performance.\n",
      "  temp = dfZip.loc[dftemp['dist'].idxmin(), 'postal_code']\n"
     ]
    },
    {
     "name": "stdout",
     "output_type": "stream",
     "text": [
      "38500\n"
     ]
    },
    {
     "name": "stderr",
     "output_type": "stream",
     "text": [
      "/var/folders/nw/13n2z96d7jv211k2c2mk6pkh0000gp/T/ipykernel_11652/3016908160.py:20: PerformanceWarning: indexing past lexsort depth may impact performance.\n",
      "  temp = dfZip.loc[dftemp['dist'].idxmin(), 'postal_code']\n"
     ]
    },
    {
     "name": "stdout",
     "output_type": "stream",
     "text": [
      "39300\n"
     ]
    },
    {
     "name": "stderr",
     "output_type": "stream",
     "text": [
      "/var/folders/nw/13n2z96d7jv211k2c2mk6pkh0000gp/T/ipykernel_11652/3016908160.py:20: PerformanceWarning: indexing past lexsort depth may impact performance.\n",
      "  temp = dfZip.loc[dftemp['dist'].idxmin(), 'postal_code']\n"
     ]
    },
    {
     "name": "stdout",
     "output_type": "stream",
     "text": [
      "39100\n"
     ]
    },
    {
     "name": "stderr",
     "output_type": "stream",
     "text": [
      "/var/folders/nw/13n2z96d7jv211k2c2mk6pkh0000gp/T/ipykernel_11652/3016908160.py:20: PerformanceWarning: indexing past lexsort depth may impact performance.\n",
      "  temp = dfZip.loc[dftemp['dist'].idxmin(), 'postal_code']\n"
     ]
    },
    {
     "name": "stdout",
     "output_type": "stream",
     "text": [
      "39570\n"
     ]
    },
    {
     "name": "stderr",
     "output_type": "stream",
     "text": [
      "/var/folders/nw/13n2z96d7jv211k2c2mk6pkh0000gp/T/ipykernel_11652/3016908160.py:20: PerformanceWarning: indexing past lexsort depth may impact performance.\n",
      "  temp = dfZip.loc[dftemp['dist'].idxmin(), 'postal_code']\n"
     ]
    },
    {
     "name": "stdout",
     "output_type": "stream",
     "text": [
      "39200\n"
     ]
    },
    {
     "name": "stderr",
     "output_type": "stream",
     "text": [
      "/var/folders/nw/13n2z96d7jv211k2c2mk6pkh0000gp/T/ipykernel_11652/3016908160.py:20: PerformanceWarning: indexing past lexsort depth may impact performance.\n",
      "  temp = dfZip.loc[dftemp['dist'].idxmin(), 'postal_code']\n"
     ]
    },
    {
     "name": "stdout",
     "output_type": "stream",
     "text": [
      "40800\n"
     ]
    },
    {
     "name": "stderr",
     "output_type": "stream",
     "text": [
      "/var/folders/nw/13n2z96d7jv211k2c2mk6pkh0000gp/T/ipykernel_11652/3016908160.py:20: PerformanceWarning: indexing past lexsort depth may impact performance.\n",
      "  temp = dfZip.loc[dftemp['dist'].idxmin(), 'postal_code']\n"
     ]
    },
    {
     "name": "stdout",
     "output_type": "stream",
     "text": [
      "40100\n"
     ]
    },
    {
     "name": "stderr",
     "output_type": "stream",
     "text": [
      "/var/folders/nw/13n2z96d7jv211k2c2mk6pkh0000gp/T/ipykernel_11652/3016908160.py:20: PerformanceWarning: indexing past lexsort depth may impact performance.\n",
      "  temp = dfZip.loc[dftemp['dist'].idxmin(), 'postal_code']\n"
     ]
    },
    {
     "name": "stdout",
     "output_type": "stream",
     "text": [
      "40000\n"
     ]
    },
    {
     "name": "stderr",
     "output_type": "stream",
     "text": [
      "/var/folders/nw/13n2z96d7jv211k2c2mk6pkh0000gp/T/ipykernel_11652/3016908160.py:20: PerformanceWarning: indexing past lexsort depth may impact performance.\n",
      "  temp = dfZip.loc[dftemp['dist'].idxmin(), 'postal_code']\n"
     ]
    },
    {
     "name": "stdout",
     "output_type": "stream",
     "text": [
      "40000\n"
     ]
    },
    {
     "name": "stderr",
     "output_type": "stream",
     "text": [
      "/var/folders/nw/13n2z96d7jv211k2c2mk6pkh0000gp/T/ipykernel_11652/3016908160.py:20: PerformanceWarning: indexing past lexsort depth may impact performance.\n",
      "  temp = dfZip.loc[dftemp['dist'].idxmin(), 'postal_code']\n"
     ]
    },
    {
     "name": "stdout",
     "output_type": "stream",
     "text": [
      "06800\n"
     ]
    },
    {
     "name": "stderr",
     "output_type": "stream",
     "text": [
      "/var/folders/nw/13n2z96d7jv211k2c2mk6pkh0000gp/T/ipykernel_11652/3016908160.py:20: PerformanceWarning: indexing past lexsort depth may impact performance.\n",
      "  temp = dfZip.loc[dftemp['dist'].idxmin(), 'postal_code']\n"
     ]
    },
    {
     "name": "stdout",
     "output_type": "stream",
     "text": [
      "40140\n"
     ]
    },
    {
     "name": "stderr",
     "output_type": "stream",
     "text": [
      "/var/folders/nw/13n2z96d7jv211k2c2mk6pkh0000gp/T/ipykernel_11652/3016908160.py:20: PerformanceWarning: indexing past lexsort depth may impact performance.\n",
      "  temp = dfZip.loc[dftemp['dist'].idxmin(), 'postal_code']\n"
     ]
    },
    {
     "name": "stdout",
     "output_type": "stream",
     "text": [
      "40220\n"
     ]
    },
    {
     "name": "stderr",
     "output_type": "stream",
     "text": [
      "/var/folders/nw/13n2z96d7jv211k2c2mk6pkh0000gp/T/ipykernel_11652/3016908160.py:20: PerformanceWarning: indexing past lexsort depth may impact performance.\n",
      "  temp = dfZip.loc[dftemp['dist'].idxmin(), 'postal_code']\n"
     ]
    },
    {
     "name": "stdout",
     "output_type": "stream",
     "text": [
      "41000\n"
     ]
    },
    {
     "name": "stderr",
     "output_type": "stream",
     "text": [
      "/var/folders/nw/13n2z96d7jv211k2c2mk6pkh0000gp/T/ipykernel_11652/3016908160.py:20: PerformanceWarning: indexing past lexsort depth may impact performance.\n",
      "  temp = dfZip.loc[dftemp['dist'].idxmin(), 'postal_code']\n"
     ]
    },
    {
     "name": "stdout",
     "output_type": "stream",
     "text": [
      "41000\n"
     ]
    },
    {
     "name": "stderr",
     "output_type": "stream",
     "text": [
      "/var/folders/nw/13n2z96d7jv211k2c2mk6pkh0000gp/T/ipykernel_11652/3016908160.py:20: PerformanceWarning: indexing past lexsort depth may impact performance.\n",
      "  temp = dfZip.loc[dftemp['dist'].idxmin(), 'postal_code']\n"
     ]
    },
    {
     "name": "stdout",
     "output_type": "stream",
     "text": [
      "41200\n"
     ]
    },
    {
     "name": "stderr",
     "output_type": "stream",
     "text": [
      "/var/folders/nw/13n2z96d7jv211k2c2mk6pkh0000gp/T/ipykernel_11652/3016908160.py:20: PerformanceWarning: indexing past lexsort depth may impact performance.\n",
      "  temp = dfZip.loc[dftemp['dist'].idxmin(), 'postal_code']\n"
     ]
    },
    {
     "name": "stdout",
     "output_type": "stream",
     "text": [
      "41100\n"
     ]
    },
    {
     "name": "stderr",
     "output_type": "stream",
     "text": [
      "/var/folders/nw/13n2z96d7jv211k2c2mk6pkh0000gp/T/ipykernel_11652/3016908160.py:20: PerformanceWarning: indexing past lexsort depth may impact performance.\n",
      "  temp = dfZip.loc[dftemp['dist'].idxmin(), 'postal_code']\n"
     ]
    },
    {
     "name": "stdout",
     "output_type": "stream",
     "text": [
      "41350\n"
     ]
    },
    {
     "name": "stderr",
     "output_type": "stream",
     "text": [
      "/var/folders/nw/13n2z96d7jv211k2c2mk6pkh0000gp/T/ipykernel_11652/3016908160.py:20: PerformanceWarning: indexing past lexsort depth may impact performance.\n",
      "  temp = dfZip.loc[dftemp['dist'].idxmin(), 'postal_code']\n"
     ]
    },
    {
     "name": "stdout",
     "output_type": "stream",
     "text": [
      "42500\n"
     ]
    },
    {
     "name": "stderr",
     "output_type": "stream",
     "text": [
      "/var/folders/nw/13n2z96d7jv211k2c2mk6pkh0000gp/T/ipykernel_11652/3016908160.py:20: PerformanceWarning: indexing past lexsort depth may impact performance.\n",
      "  temp = dfZip.loc[dftemp['dist'].idxmin(), 'postal_code']\n"
     ]
    },
    {
     "name": "stdout",
     "output_type": "stream",
     "text": [
      "42700\n"
     ]
    },
    {
     "name": "stderr",
     "output_type": "stream",
     "text": [
      "/var/folders/nw/13n2z96d7jv211k2c2mk6pkh0000gp/T/ipykernel_11652/3016908160.py:20: PerformanceWarning: indexing past lexsort depth may impact performance.\n",
      "  temp = dfZip.loc[dftemp['dist'].idxmin(), 'postal_code']\n"
     ]
    },
    {
     "name": "stdout",
     "output_type": "stream",
     "text": [
      "42600\n"
     ]
    },
    {
     "name": "stderr",
     "output_type": "stream",
     "text": [
      "/var/folders/nw/13n2z96d7jv211k2c2mk6pkh0000gp/T/ipykernel_11652/3016908160.py:20: PerformanceWarning: indexing past lexsort depth may impact performance.\n",
      "  temp = dfZip.loc[dftemp['dist'].idxmin(), 'postal_code']\n"
     ]
    },
    {
     "name": "stdout",
     "output_type": "stream",
     "text": [
      "06150\n"
     ]
    },
    {
     "name": "stderr",
     "output_type": "stream",
     "text": [
      "/var/folders/nw/13n2z96d7jv211k2c2mk6pkh0000gp/T/ipykernel_11652/3016908160.py:20: PerformanceWarning: indexing past lexsort depth may impact performance.\n",
      "  temp = dfZip.loc[dftemp['dist'].idxmin(), 'postal_code']\n"
     ]
    },
    {
     "name": "stdout",
     "output_type": "stream",
     "text": [
      "42600\n"
     ]
    },
    {
     "name": "stderr",
     "output_type": "stream",
     "text": [
      "/var/folders/nw/13n2z96d7jv211k2c2mk6pkh0000gp/T/ipykernel_11652/3016908160.py:20: PerformanceWarning: indexing past lexsort depth may impact performance.\n",
      "  temp = dfZip.loc[dftemp['dist'].idxmin(), 'postal_code']\n"
     ]
    },
    {
     "name": "stdout",
     "output_type": "stream",
     "text": [
      "42800\n"
     ]
    },
    {
     "name": "stderr",
     "output_type": "stream",
     "text": [
      "/var/folders/nw/13n2z96d7jv211k2c2mk6pkh0000gp/T/ipykernel_11652/3016908160.py:20: PerformanceWarning: indexing past lexsort depth may impact performance.\n",
      "  temp = dfZip.loc[dftemp['dist'].idxmin(), 'postal_code']\n"
     ]
    },
    {
     "name": "stdout",
     "output_type": "stream",
     "text": [
      "42300\n"
     ]
    },
    {
     "name": "stderr",
     "output_type": "stream",
     "text": [
      "/var/folders/nw/13n2z96d7jv211k2c2mk6pkh0000gp/T/ipykernel_11652/3016908160.py:20: PerformanceWarning: indexing past lexsort depth may impact performance.\n",
      "  temp = dfZip.loc[dftemp['dist'].idxmin(), 'postal_code']\n"
     ]
    },
    {
     "name": "stdout",
     "output_type": "stream",
     "text": [
      "42300\n"
     ]
    },
    {
     "name": "stderr",
     "output_type": "stream",
     "text": [
      "/var/folders/nw/13n2z96d7jv211k2c2mk6pkh0000gp/T/ipykernel_11652/3016908160.py:20: PerformanceWarning: indexing past lexsort depth may impact performance.\n",
      "  temp = dfZip.loc[dftemp['dist'].idxmin(), 'postal_code']\n"
     ]
    },
    {
     "name": "stdout",
     "output_type": "stream",
     "text": [
      "42400\n"
     ]
    },
    {
     "name": "stderr",
     "output_type": "stream",
     "text": [
      "/var/folders/nw/13n2z96d7jv211k2c2mk6pkh0000gp/T/ipykernel_11652/3016908160.py:20: PerformanceWarning: indexing past lexsort depth may impact performance.\n",
      "  temp = dfZip.loc[dftemp['dist'].idxmin(), 'postal_code']\n"
     ]
    },
    {
     "name": "stdout",
     "output_type": "stream",
     "text": [
      "42000\n"
     ]
    },
    {
     "name": "stderr",
     "output_type": "stream",
     "text": [
      "/var/folders/nw/13n2z96d7jv211k2c2mk6pkh0000gp/T/ipykernel_11652/3016908160.py:20: PerformanceWarning: indexing past lexsort depth may impact performance.\n",
      "  temp = dfZip.loc[dftemp['dist'].idxmin(), 'postal_code']\n"
     ]
    },
    {
     "name": "stdout",
     "output_type": "stream",
     "text": [
      "42000\n"
     ]
    },
    {
     "name": "stderr",
     "output_type": "stream",
     "text": [
      "/var/folders/nw/13n2z96d7jv211k2c2mk6pkh0000gp/T/ipykernel_11652/3016908160.py:20: PerformanceWarning: indexing past lexsort depth may impact performance.\n",
      "  temp = dfZip.loc[dftemp['dist'].idxmin(), 'postal_code']\n"
     ]
    },
    {
     "name": "stdout",
     "output_type": "stream",
     "text": [
      "42000\n"
     ]
    },
    {
     "name": "stderr",
     "output_type": "stream",
     "text": [
      "/var/folders/nw/13n2z96d7jv211k2c2mk6pkh0000gp/T/ipykernel_11652/3016908160.py:20: PerformanceWarning: indexing past lexsort depth may impact performance.\n",
      "  temp = dfZip.loc[dftemp['dist'].idxmin(), 'postal_code']\n"
     ]
    },
    {
     "name": "stdout",
     "output_type": "stream",
     "text": [
      "42000\n"
     ]
    },
    {
     "name": "stderr",
     "output_type": "stream",
     "text": [
      "/var/folders/nw/13n2z96d7jv211k2c2mk6pkh0000gp/T/ipykernel_11652/3016908160.py:20: PerformanceWarning: indexing past lexsort depth may impact performance.\n",
      "  temp = dfZip.loc[dftemp['dist'].idxmin(), 'postal_code']\n"
     ]
    },
    {
     "name": "stdout",
     "output_type": "stream",
     "text": [
      "43000\n"
     ]
    },
    {
     "name": "stderr",
     "output_type": "stream",
     "text": [
      "/var/folders/nw/13n2z96d7jv211k2c2mk6pkh0000gp/T/ipykernel_11652/3016908160.py:20: PerformanceWarning: indexing past lexsort depth may impact performance.\n",
      "  temp = dfZip.loc[dftemp['dist'].idxmin(), 'postal_code']\n"
     ]
    },
    {
     "name": "stdout",
     "output_type": "stream",
     "text": [
      "06150\n"
     ]
    },
    {
     "name": "stderr",
     "output_type": "stream",
     "text": [
      "/var/folders/nw/13n2z96d7jv211k2c2mk6pkh0000gp/T/ipykernel_11652/3016908160.py:20: PerformanceWarning: indexing past lexsort depth may impact performance.\n",
      "  temp = dfZip.loc[dftemp['dist'].idxmin(), 'postal_code']\n"
     ]
    },
    {
     "name": "stdout",
     "output_type": "stream",
     "text": [
      "43000\n"
     ]
    },
    {
     "name": "stderr",
     "output_type": "stream",
     "text": [
      "/var/folders/nw/13n2z96d7jv211k2c2mk6pkh0000gp/T/ipykernel_11652/3016908160.py:20: PerformanceWarning: indexing past lexsort depth may impact performance.\n",
      "  temp = dfZip.loc[dftemp['dist'].idxmin(), 'postal_code']\n"
     ]
    },
    {
     "name": "stdout",
     "output_type": "stream",
     "text": [
      "43000\n"
     ]
    },
    {
     "name": "stderr",
     "output_type": "stream",
     "text": [
      "/var/folders/nw/13n2z96d7jv211k2c2mk6pkh0000gp/T/ipykernel_11652/3016908160.py:20: PerformanceWarning: indexing past lexsort depth may impact performance.\n",
      "  temp = dfZip.loc[dftemp['dist'].idxmin(), 'postal_code']\n"
     ]
    },
    {
     "name": "stdout",
     "output_type": "stream",
     "text": [
      "43000\n"
     ]
    },
    {
     "name": "stderr",
     "output_type": "stream",
     "text": [
      "/var/folders/nw/13n2z96d7jv211k2c2mk6pkh0000gp/T/ipykernel_11652/3016908160.py:20: PerformanceWarning: indexing past lexsort depth may impact performance.\n",
      "  temp = dfZip.loc[dftemp['dist'].idxmin(), 'postal_code']\n"
     ]
    },
    {
     "name": "stdout",
     "output_type": "stream",
     "text": [
      "44220\n"
     ]
    },
    {
     "name": "stderr",
     "output_type": "stream",
     "text": [
      "/var/folders/nw/13n2z96d7jv211k2c2mk6pkh0000gp/T/ipykernel_11652/3016908160.py:20: PerformanceWarning: indexing past lexsort depth may impact performance.\n",
      "  temp = dfZip.loc[dftemp['dist'].idxmin(), 'postal_code']\n"
     ]
    },
    {
     "name": "stdout",
     "output_type": "stream",
     "text": [
      "44500\n"
     ]
    },
    {
     "name": "stderr",
     "output_type": "stream",
     "text": [
      "/var/folders/nw/13n2z96d7jv211k2c2mk6pkh0000gp/T/ipykernel_11652/3016908160.py:20: PerformanceWarning: indexing past lexsort depth may impact performance.\n",
      "  temp = dfZip.loc[dftemp['dist'].idxmin(), 'postal_code']\n"
     ]
    },
    {
     "name": "stdout",
     "output_type": "stream",
     "text": [
      "44500\n"
     ]
    },
    {
     "name": "stderr",
     "output_type": "stream",
     "text": [
      "/var/folders/nw/13n2z96d7jv211k2c2mk6pkh0000gp/T/ipykernel_11652/3016908160.py:20: PerformanceWarning: indexing past lexsort depth may impact performance.\n",
      "  temp = dfZip.loc[dftemp['dist'].idxmin(), 'postal_code']\n"
     ]
    },
    {
     "name": "stdout",
     "output_type": "stream",
     "text": [
      "44350\n"
     ]
    },
    {
     "name": "stderr",
     "output_type": "stream",
     "text": [
      "/var/folders/nw/13n2z96d7jv211k2c2mk6pkh0000gp/T/ipykernel_11652/3016908160.py:20: PerformanceWarning: indexing past lexsort depth may impact performance.\n",
      "  temp = dfZip.loc[dftemp['dist'].idxmin(), 'postal_code']\n"
     ]
    },
    {
     "name": "stdout",
     "output_type": "stream",
     "text": [
      "44550\n"
     ]
    },
    {
     "name": "stderr",
     "output_type": "stream",
     "text": [
      "/var/folders/nw/13n2z96d7jv211k2c2mk6pkh0000gp/T/ipykernel_11652/3016908160.py:20: PerformanceWarning: indexing past lexsort depth may impact performance.\n",
      "  temp = dfZip.loc[dftemp['dist'].idxmin(), 'postal_code']\n"
     ]
    },
    {
     "name": "stdout",
     "output_type": "stream",
     "text": [
      "44230\n"
     ]
    },
    {
     "name": "stderr",
     "output_type": "stream",
     "text": [
      "/var/folders/nw/13n2z96d7jv211k2c2mk6pkh0000gp/T/ipykernel_11652/3016908160.py:20: PerformanceWarning: indexing past lexsort depth may impact performance.\n",
      "  temp = dfZip.loc[dftemp['dist'].idxmin(), 'postal_code']\n"
     ]
    },
    {
     "name": "stdout",
     "output_type": "stream",
     "text": [
      "44000\n"
     ]
    },
    {
     "name": "stderr",
     "output_type": "stream",
     "text": [
      "/var/folders/nw/13n2z96d7jv211k2c2mk6pkh0000gp/T/ipykernel_11652/3016908160.py:20: PerformanceWarning: indexing past lexsort depth may impact performance.\n",
      "  temp = dfZip.loc[dftemp['dist'].idxmin(), 'postal_code']\n"
     ]
    },
    {
     "name": "stdout",
     "output_type": "stream",
     "text": [
      "01000\n"
     ]
    },
    {
     "name": "stderr",
     "output_type": "stream",
     "text": [
      "/var/folders/nw/13n2z96d7jv211k2c2mk6pkh0000gp/T/ipykernel_11652/3016908160.py:20: PerformanceWarning: indexing past lexsort depth may impact performance.\n",
      "  temp = dfZip.loc[dftemp['dist'].idxmin(), 'postal_code']\n"
     ]
    },
    {
     "name": "stdout",
     "output_type": "stream",
     "text": [
      "06110\n"
     ]
    },
    {
     "name": "stderr",
     "output_type": "stream",
     "text": [
      "/var/folders/nw/13n2z96d7jv211k2c2mk6pkh0000gp/T/ipykernel_11652/3016908160.py:20: PerformanceWarning: indexing past lexsort depth may impact performance.\n",
      "  temp = dfZip.loc[dftemp['dist'].idxmin(), 'postal_code']\n"
     ]
    },
    {
     "name": "stdout",
     "output_type": "stream",
     "text": [
      "44000\n"
     ]
    },
    {
     "name": "stderr",
     "output_type": "stream",
     "text": [
      "/var/folders/nw/13n2z96d7jv211k2c2mk6pkh0000gp/T/ipykernel_11652/3016908160.py:20: PerformanceWarning: indexing past lexsort depth may impact performance.\n",
      "  temp = dfZip.loc[dftemp['dist'].idxmin(), 'postal_code']\n"
     ]
    },
    {
     "name": "stdout",
     "output_type": "stream",
     "text": [
      "44000\n"
     ]
    },
    {
     "name": "stderr",
     "output_type": "stream",
     "text": [
      "/var/folders/nw/13n2z96d7jv211k2c2mk6pkh0000gp/T/ipykernel_11652/3016908160.py:20: PerformanceWarning: indexing past lexsort depth may impact performance.\n",
      "  temp = dfZip.loc[dftemp['dist'].idxmin(), 'postal_code']\n"
     ]
    },
    {
     "name": "stdout",
     "output_type": "stream",
     "text": [
      "44700\n"
     ]
    },
    {
     "name": "stderr",
     "output_type": "stream",
     "text": [
      "/var/folders/nw/13n2z96d7jv211k2c2mk6pkh0000gp/T/ipykernel_11652/3016908160.py:20: PerformanceWarning: indexing past lexsort depth may impact performance.\n",
      "  temp = dfZip.loc[dftemp['dist'].idxmin(), 'postal_code']\n"
     ]
    },
    {
     "name": "stdout",
     "output_type": "stream",
     "text": [
      "44510\n"
     ]
    },
    {
     "name": "stderr",
     "output_type": "stream",
     "text": [
      "/var/folders/nw/13n2z96d7jv211k2c2mk6pkh0000gp/T/ipykernel_11652/3016908160.py:20: PerformanceWarning: indexing past lexsort depth may impact performance.\n",
      "  temp = dfZip.loc[dftemp['dist'].idxmin(), 'postal_code']\n"
     ]
    },
    {
     "name": "stdout",
     "output_type": "stream",
     "text": [
      "44400\n"
     ]
    },
    {
     "name": "stderr",
     "output_type": "stream",
     "text": [
      "/var/folders/nw/13n2z96d7jv211k2c2mk6pkh0000gp/T/ipykernel_11652/3016908160.py:20: PerformanceWarning: indexing past lexsort depth may impact performance.\n",
      "  temp = dfZip.loc[dftemp['dist'].idxmin(), 'postal_code']\n"
     ]
    },
    {
     "name": "stdout",
     "output_type": "stream",
     "text": [
      "44800\n"
     ]
    },
    {
     "name": "stderr",
     "output_type": "stream",
     "text": [
      "/var/folders/nw/13n2z96d7jv211k2c2mk6pkh0000gp/T/ipykernel_11652/3016908160.py:20: PerformanceWarning: indexing past lexsort depth may impact performance.\n",
      "  temp = dfZip.loc[dftemp['dist'].idxmin(), 'postal_code']\n"
     ]
    },
    {
     "name": "stdout",
     "output_type": "stream",
     "text": [
      "44600\n"
     ]
    },
    {
     "name": "stderr",
     "output_type": "stream",
     "text": [
      "/var/folders/nw/13n2z96d7jv211k2c2mk6pkh0000gp/T/ipykernel_11652/3016908160.py:20: PerformanceWarning: indexing past lexsort depth may impact performance.\n",
      "  temp = dfZip.loc[dftemp['dist'].idxmin(), 'postal_code']\n"
     ]
    },
    {
     "name": "stdout",
     "output_type": "stream",
     "text": [
      "44600\n"
     ]
    },
    {
     "name": "stderr",
     "output_type": "stream",
     "text": [
      "/var/folders/nw/13n2z96d7jv211k2c2mk6pkh0000gp/T/ipykernel_11652/3016908160.py:20: PerformanceWarning: indexing past lexsort depth may impact performance.\n",
      "  temp = dfZip.loc[dftemp['dist'].idxmin(), 'postal_code']\n"
     ]
    },
    {
     "name": "stdout",
     "output_type": "stream",
     "text": [
      "44120\n"
     ]
    },
    {
     "name": "stderr",
     "output_type": "stream",
     "text": [
      "/var/folders/nw/13n2z96d7jv211k2c2mk6pkh0000gp/T/ipykernel_11652/3016908160.py:20: PerformanceWarning: indexing past lexsort depth may impact performance.\n",
      "  temp = dfZip.loc[dftemp['dist'].idxmin(), 'postal_code']\n"
     ]
    },
    {
     "name": "stdout",
     "output_type": "stream",
     "text": [
      "45380\n"
     ]
    },
    {
     "name": "stderr",
     "output_type": "stream",
     "text": [
      "/var/folders/nw/13n2z96d7jv211k2c2mk6pkh0000gp/T/ipykernel_11652/3016908160.py:20: PerformanceWarning: indexing past lexsort depth may impact performance.\n",
      "  temp = dfZip.loc[dftemp['dist'].idxmin(), 'postal_code']\n"
     ]
    },
    {
     "name": "stdout",
     "output_type": "stream",
     "text": [
      "06510\n"
     ]
    },
    {
     "name": "stderr",
     "output_type": "stream",
     "text": [
      "/var/folders/nw/13n2z96d7jv211k2c2mk6pkh0000gp/T/ipykernel_11652/3016908160.py:20: PerformanceWarning: indexing past lexsort depth may impact performance.\n",
      "  temp = dfZip.loc[dftemp['dist'].idxmin(), 'postal_code']\n"
     ]
    },
    {
     "name": "stdout",
     "output_type": "stream",
     "text": [
      "45430\n"
     ]
    },
    {
     "name": "stderr",
     "output_type": "stream",
     "text": [
      "/var/folders/nw/13n2z96d7jv211k2c2mk6pkh0000gp/T/ipykernel_11652/3016908160.py:20: PerformanceWarning: indexing past lexsort depth may impact performance.\n",
      "  temp = dfZip.loc[dftemp['dist'].idxmin(), 'postal_code']\n"
     ]
    },
    {
     "name": "stdout",
     "output_type": "stream",
     "text": [
      "45500\n"
     ]
    },
    {
     "name": "stderr",
     "output_type": "stream",
     "text": [
      "/var/folders/nw/13n2z96d7jv211k2c2mk6pkh0000gp/T/ipykernel_11652/3016908160.py:20: PerformanceWarning: indexing past lexsort depth may impact performance.\n",
      "  temp = dfZip.loc[dftemp['dist'].idxmin(), 'postal_code']\n"
     ]
    },
    {
     "name": "stdout",
     "output_type": "stream",
     "text": [
      "45130\n"
     ]
    },
    {
     "name": "stderr",
     "output_type": "stream",
     "text": [
      "/var/folders/nw/13n2z96d7jv211k2c2mk6pkh0000gp/T/ipykernel_11652/3016908160.py:20: PerformanceWarning: indexing past lexsort depth may impact performance.\n",
      "  temp = dfZip.loc[dftemp['dist'].idxmin(), 'postal_code']\n"
     ]
    },
    {
     "name": "stdout",
     "output_type": "stream",
     "text": [
      "45200\n"
     ]
    },
    {
     "name": "stderr",
     "output_type": "stream",
     "text": [
      "/var/folders/nw/13n2z96d7jv211k2c2mk6pkh0000gp/T/ipykernel_11652/3016908160.py:20: PerformanceWarning: indexing past lexsort depth may impact performance.\n",
      "  temp = dfZip.loc[dftemp['dist'].idxmin(), 'postal_code']\n"
     ]
    },
    {
     "name": "stdout",
     "output_type": "stream",
     "text": [
      "45160\n"
     ]
    },
    {
     "name": "stderr",
     "output_type": "stream",
     "text": [
      "/var/folders/nw/13n2z96d7jv211k2c2mk6pkh0000gp/T/ipykernel_11652/3016908160.py:20: PerformanceWarning: indexing past lexsort depth may impact performance.\n",
      "  temp = dfZip.loc[dftemp['dist'].idxmin(), 'postal_code']\n"
     ]
    },
    {
     "name": "stdout",
     "output_type": "stream",
     "text": [
      "45900 CEDEX 9\n"
     ]
    },
    {
     "name": "stderr",
     "output_type": "stream",
     "text": [
      "/var/folders/nw/13n2z96d7jv211k2c2mk6pkh0000gp/T/ipykernel_11652/3016908160.py:20: PerformanceWarning: indexing past lexsort depth may impact performance.\n",
      "  temp = dfZip.loc[dftemp['dist'].idxmin(), 'postal_code']\n"
     ]
    },
    {
     "name": "stdout",
     "output_type": "stream",
     "text": [
      "45000\n"
     ]
    },
    {
     "name": "stderr",
     "output_type": "stream",
     "text": [
      "/var/folders/nw/13n2z96d7jv211k2c2mk6pkh0000gp/T/ipykernel_11652/3016908160.py:20: PerformanceWarning: indexing past lexsort depth may impact performance.\n",
      "  temp = dfZip.loc[dftemp['dist'].idxmin(), 'postal_code']\n"
     ]
    },
    {
     "name": "stdout",
     "output_type": "stream",
     "text": [
      "45000\n"
     ]
    },
    {
     "name": "stderr",
     "output_type": "stream",
     "text": [
      "/var/folders/nw/13n2z96d7jv211k2c2mk6pkh0000gp/T/ipykernel_11652/3016908160.py:20: PerformanceWarning: indexing past lexsort depth may impact performance.\n",
      "  temp = dfZip.loc[dftemp['dist'].idxmin(), 'postal_code']\n"
     ]
    },
    {
     "name": "stdout",
     "output_type": "stream",
     "text": [
      "45000\n"
     ]
    },
    {
     "name": "stderr",
     "output_type": "stream",
     "text": [
      "/var/folders/nw/13n2z96d7jv211k2c2mk6pkh0000gp/T/ipykernel_11652/3016908160.py:20: PerformanceWarning: indexing past lexsort depth may impact performance.\n",
      "  temp = dfZip.loc[dftemp['dist'].idxmin(), 'postal_code']\n"
     ]
    },
    {
     "name": "stdout",
     "output_type": "stream",
     "text": [
      "45300\n"
     ]
    },
    {
     "name": "stderr",
     "output_type": "stream",
     "text": [
      "/var/folders/nw/13n2z96d7jv211k2c2mk6pkh0000gp/T/ipykernel_11652/3016908160.py:20: PerformanceWarning: indexing past lexsort depth may impact performance.\n",
      "  temp = dfZip.loc[dftemp['dist'].idxmin(), 'postal_code']\n"
     ]
    },
    {
     "name": "stdout",
     "output_type": "stream",
     "text": [
      "06130\n"
     ]
    },
    {
     "name": "stderr",
     "output_type": "stream",
     "text": [
      "/var/folders/nw/13n2z96d7jv211k2c2mk6pkh0000gp/T/ipykernel_11652/3016908160.py:20: PerformanceWarning: indexing past lexsort depth may impact performance.\n",
      "  temp = dfZip.loc[dftemp['dist'].idxmin(), 'postal_code']\n"
     ]
    },
    {
     "name": "stdout",
     "output_type": "stream",
     "text": [
      "46000\n"
     ]
    },
    {
     "name": "stderr",
     "output_type": "stream",
     "text": [
      "/var/folders/nw/13n2z96d7jv211k2c2mk6pkh0000gp/T/ipykernel_11652/3016908160.py:20: PerformanceWarning: indexing past lexsort depth may impact performance.\n",
      "  temp = dfZip.loc[dftemp['dist'].idxmin(), 'postal_code']\n"
     ]
    },
    {
     "name": "stdout",
     "output_type": "stream",
     "text": [
      "46000\n"
     ]
    },
    {
     "name": "stderr",
     "output_type": "stream",
     "text": [
      "/var/folders/nw/13n2z96d7jv211k2c2mk6pkh0000gp/T/ipykernel_11652/3016908160.py:20: PerformanceWarning: indexing past lexsort depth may impact performance.\n",
      "  temp = dfZip.loc[dftemp['dist'].idxmin(), 'postal_code']\n"
     ]
    },
    {
     "name": "stdout",
     "output_type": "stream",
     "text": [
      "46100\n"
     ]
    },
    {
     "name": "stderr",
     "output_type": "stream",
     "text": [
      "/var/folders/nw/13n2z96d7jv211k2c2mk6pkh0000gp/T/ipykernel_11652/3016908160.py:20: PerformanceWarning: indexing past lexsort depth may impact performance.\n",
      "  temp = dfZip.loc[dftemp['dist'].idxmin(), 'postal_code']\n"
     ]
    },
    {
     "name": "stdout",
     "output_type": "stream",
     "text": [
      "46090\n"
     ]
    },
    {
     "name": "stderr",
     "output_type": "stream",
     "text": [
      "/var/folders/nw/13n2z96d7jv211k2c2mk6pkh0000gp/T/ipykernel_11652/3016908160.py:20: PerformanceWarning: indexing past lexsort depth may impact performance.\n",
      "  temp = dfZip.loc[dftemp['dist'].idxmin(), 'postal_code']\n"
     ]
    },
    {
     "name": "stdout",
     "output_type": "stream",
     "text": [
      "47000\n"
     ]
    },
    {
     "name": "stderr",
     "output_type": "stream",
     "text": [
      "/var/folders/nw/13n2z96d7jv211k2c2mk6pkh0000gp/T/ipykernel_11652/3016908160.py:20: PerformanceWarning: indexing past lexsort depth may impact performance.\n",
      "  temp = dfZip.loc[dftemp['dist'].idxmin(), 'postal_code']\n"
     ]
    },
    {
     "name": "stdout",
     "output_type": "stream",
     "text": [
      "47000\n"
     ]
    },
    {
     "name": "stderr",
     "output_type": "stream",
     "text": [
      "/var/folders/nw/13n2z96d7jv211k2c2mk6pkh0000gp/T/ipykernel_11652/3016908160.py:20: PerformanceWarning: indexing past lexsort depth may impact performance.\n",
      "  temp = dfZip.loc[dftemp['dist'].idxmin(), 'postal_code']\n"
     ]
    },
    {
     "name": "stdout",
     "output_type": "stream",
     "text": [
      "47000\n"
     ]
    },
    {
     "name": "stderr",
     "output_type": "stream",
     "text": [
      "/var/folders/nw/13n2z96d7jv211k2c2mk6pkh0000gp/T/ipykernel_11652/3016908160.py:20: PerformanceWarning: indexing past lexsort depth may impact performance.\n",
      "  temp = dfZip.loc[dftemp['dist'].idxmin(), 'postal_code']\n"
     ]
    },
    {
     "name": "stdout",
     "output_type": "stream",
     "text": [
      "47200\n"
     ]
    },
    {
     "name": "stderr",
     "output_type": "stream",
     "text": [
      "/var/folders/nw/13n2z96d7jv211k2c2mk6pkh0000gp/T/ipykernel_11652/3016908160.py:20: PerformanceWarning: indexing past lexsort depth may impact performance.\n",
      "  temp = dfZip.loc[dftemp['dist'].idxmin(), 'postal_code']\n"
     ]
    },
    {
     "name": "stdout",
     "output_type": "stream",
     "text": [
      "47300\n"
     ]
    },
    {
     "name": "stderr",
     "output_type": "stream",
     "text": [
      "/var/folders/nw/13n2z96d7jv211k2c2mk6pkh0000gp/T/ipykernel_11652/3016908160.py:20: PerformanceWarning: indexing past lexsort depth may impact performance.\n",
      "  temp = dfZip.loc[dftemp['dist'].idxmin(), 'postal_code']\n"
     ]
    },
    {
     "name": "stdout",
     "output_type": "stream",
     "text": [
      "48000\n"
     ]
    },
    {
     "name": "stderr",
     "output_type": "stream",
     "text": [
      "/var/folders/nw/13n2z96d7jv211k2c2mk6pkh0000gp/T/ipykernel_11652/3016908160.py:20: PerformanceWarning: indexing past lexsort depth may impact performance.\n",
      "  temp = dfZip.loc[dftemp['dist'].idxmin(), 'postal_code']\n"
     ]
    },
    {
     "name": "stdout",
     "output_type": "stream",
     "text": [
      "06210\n"
     ]
    },
    {
     "name": "stderr",
     "output_type": "stream",
     "text": [
      "/var/folders/nw/13n2z96d7jv211k2c2mk6pkh0000gp/T/ipykernel_11652/3016908160.py:20: PerformanceWarning: indexing past lexsort depth may impact performance.\n",
      "  temp = dfZip.loc[dftemp['dist'].idxmin(), 'postal_code']\n"
     ]
    },
    {
     "name": "stdout",
     "output_type": "stream",
     "text": [
      "48000\n"
     ]
    },
    {
     "name": "stderr",
     "output_type": "stream",
     "text": [
      "/var/folders/nw/13n2z96d7jv211k2c2mk6pkh0000gp/T/ipykernel_11652/3016908160.py:20: PerformanceWarning: indexing past lexsort depth may impact performance.\n",
      "  temp = dfZip.loc[dftemp['dist'].idxmin(), 'postal_code']\n"
     ]
    },
    {
     "name": "stdout",
     "output_type": "stream",
     "text": [
      "48000\n"
     ]
    },
    {
     "name": "stderr",
     "output_type": "stream",
     "text": [
      "/var/folders/nw/13n2z96d7jv211k2c2mk6pkh0000gp/T/ipykernel_11652/3016908160.py:20: PerformanceWarning: indexing past lexsort depth may impact performance.\n",
      "  temp = dfZip.loc[dftemp['dist'].idxmin(), 'postal_code']\n"
     ]
    },
    {
     "name": "stdout",
     "output_type": "stream",
     "text": [
      "49000\n"
     ]
    },
    {
     "name": "stderr",
     "output_type": "stream",
     "text": [
      "/var/folders/nw/13n2z96d7jv211k2c2mk6pkh0000gp/T/ipykernel_11652/3016908160.py:20: PerformanceWarning: indexing past lexsort depth may impact performance.\n",
      "  temp = dfZip.loc[dftemp['dist'].idxmin(), 'postal_code']\n"
     ]
    },
    {
     "name": "stdout",
     "output_type": "stream",
     "text": [
      "49000\n"
     ]
    },
    {
     "name": "stderr",
     "output_type": "stream",
     "text": [
      "/var/folders/nw/13n2z96d7jv211k2c2mk6pkh0000gp/T/ipykernel_11652/3016908160.py:20: PerformanceWarning: indexing past lexsort depth may impact performance.\n",
      "  temp = dfZip.loc[dftemp['dist'].idxmin(), 'postal_code']\n"
     ]
    },
    {
     "name": "stdout",
     "output_type": "stream",
     "text": [
      "49000\n"
     ]
    },
    {
     "name": "stderr",
     "output_type": "stream",
     "text": [
      "/var/folders/nw/13n2z96d7jv211k2c2mk6pkh0000gp/T/ipykernel_11652/3016908160.py:20: PerformanceWarning: indexing past lexsort depth may impact performance.\n",
      "  temp = dfZip.loc[dftemp['dist'].idxmin(), 'postal_code']\n"
     ]
    },
    {
     "name": "stdout",
     "output_type": "stream",
     "text": [
      "49300\n"
     ]
    },
    {
     "name": "stderr",
     "output_type": "stream",
     "text": [
      "/var/folders/nw/13n2z96d7jv211k2c2mk6pkh0000gp/T/ipykernel_11652/3016908160.py:20: PerformanceWarning: indexing past lexsort depth may impact performance.\n",
      "  temp = dfZip.loc[dftemp['dist'].idxmin(), 'postal_code']\n"
     ]
    },
    {
     "name": "stdout",
     "output_type": "stream",
     "text": [
      "49400\n"
     ]
    },
    {
     "name": "stderr",
     "output_type": "stream",
     "text": [
      "/var/folders/nw/13n2z96d7jv211k2c2mk6pkh0000gp/T/ipykernel_11652/3016908160.py:20: PerformanceWarning: indexing past lexsort depth may impact performance.\n",
      "  temp = dfZip.loc[dftemp['dist'].idxmin(), 'postal_code']\n"
     ]
    },
    {
     "name": "stdout",
     "output_type": "stream",
     "text": [
      "49400\n"
     ]
    },
    {
     "name": "stderr",
     "output_type": "stream",
     "text": [
      "/var/folders/nw/13n2z96d7jv211k2c2mk6pkh0000gp/T/ipykernel_11652/3016908160.py:20: PerformanceWarning: indexing past lexsort depth may impact performance.\n",
      "  temp = dfZip.loc[dftemp['dist'].idxmin(), 'postal_code']\n"
     ]
    },
    {
     "name": "stdout",
     "output_type": "stream",
     "text": [
      "50100\n"
     ]
    },
    {
     "name": "stderr",
     "output_type": "stream",
     "text": [
      "/var/folders/nw/13n2z96d7jv211k2c2mk6pkh0000gp/T/ipykernel_11652/3016908160.py:20: PerformanceWarning: indexing past lexsort depth may impact performance.\n",
      "  temp = dfZip.loc[dftemp['dist'].idxmin(), 'postal_code']\n"
     ]
    },
    {
     "name": "stdout",
     "output_type": "stream",
     "text": [
      "50200\n"
     ]
    },
    {
     "name": "stderr",
     "output_type": "stream",
     "text": [
      "/var/folders/nw/13n2z96d7jv211k2c2mk6pkh0000gp/T/ipykernel_11652/3016908160.py:20: PerformanceWarning: indexing past lexsort depth may impact performance.\n",
      "  temp = dfZip.loc[dftemp['dist'].idxmin(), 'postal_code']\n"
     ]
    },
    {
     "name": "stdout",
     "output_type": "stream",
     "text": [
      "06500\n"
     ]
    },
    {
     "name": "stderr",
     "output_type": "stream",
     "text": [
      "/var/folders/nw/13n2z96d7jv211k2c2mk6pkh0000gp/T/ipykernel_11652/3016908160.py:20: PerformanceWarning: indexing past lexsort depth may impact performance.\n",
      "  temp = dfZip.loc[dftemp['dist'].idxmin(), 'postal_code']\n"
     ]
    },
    {
     "name": "stdout",
     "output_type": "stream",
     "text": [
      "50000\n"
     ]
    },
    {
     "name": "stderr",
     "output_type": "stream",
     "text": [
      "/var/folders/nw/13n2z96d7jv211k2c2mk6pkh0000gp/T/ipykernel_11652/3016908160.py:20: PerformanceWarning: indexing past lexsort depth may impact performance.\n",
      "  temp = dfZip.loc[dftemp['dist'].idxmin(), 'postal_code']\n"
     ]
    },
    {
     "name": "stdout",
     "output_type": "stream",
     "text": [
      "50000\n"
     ]
    },
    {
     "name": "stderr",
     "output_type": "stream",
     "text": [
      "/var/folders/nw/13n2z96d7jv211k2c2mk6pkh0000gp/T/ipykernel_11652/3016908160.py:20: PerformanceWarning: indexing past lexsort depth may impact performance.\n",
      "  temp = dfZip.loc[dftemp['dist'].idxmin(), 'postal_code']\n"
     ]
    },
    {
     "name": "stdout",
     "output_type": "stream",
     "text": [
      "51000\n"
     ]
    },
    {
     "name": "stderr",
     "output_type": "stream",
     "text": [
      "/var/folders/nw/13n2z96d7jv211k2c2mk6pkh0000gp/T/ipykernel_11652/3016908160.py:20: PerformanceWarning: indexing past lexsort depth may impact performance.\n",
      "  temp = dfZip.loc[dftemp['dist'].idxmin(), 'postal_code']\n"
     ]
    },
    {
     "name": "stdout",
     "output_type": "stream",
     "text": [
      "51000\n"
     ]
    },
    {
     "name": "stderr",
     "output_type": "stream",
     "text": [
      "/var/folders/nw/13n2z96d7jv211k2c2mk6pkh0000gp/T/ipykernel_11652/3016908160.py:20: PerformanceWarning: indexing past lexsort depth may impact performance.\n",
      "  temp = dfZip.loc[dftemp['dist'].idxmin(), 'postal_code']\n"
     ]
    },
    {
     "name": "stdout",
     "output_type": "stream",
     "text": [
      "51000\n"
     ]
    },
    {
     "name": "stderr",
     "output_type": "stream",
     "text": [
      "/var/folders/nw/13n2z96d7jv211k2c2mk6pkh0000gp/T/ipykernel_11652/3016908160.py:20: PerformanceWarning: indexing past lexsort depth may impact performance.\n",
      "  temp = dfZip.loc[dftemp['dist'].idxmin(), 'postal_code']\n"
     ]
    },
    {
     "name": "stdout",
     "output_type": "stream",
     "text": [
      "51200\n"
     ]
    },
    {
     "name": "stderr",
     "output_type": "stream",
     "text": [
      "/var/folders/nw/13n2z96d7jv211k2c2mk6pkh0000gp/T/ipykernel_11652/3016908160.py:20: PerformanceWarning: indexing past lexsort depth may impact performance.\n",
      "  temp = dfZip.loc[dftemp['dist'].idxmin(), 'postal_code']\n"
     ]
    },
    {
     "name": "stdout",
     "output_type": "stream",
     "text": [
      "51500\n"
     ]
    },
    {
     "name": "stderr",
     "output_type": "stream",
     "text": [
      "/var/folders/nw/13n2z96d7jv211k2c2mk6pkh0000gp/T/ipykernel_11652/3016908160.py:20: PerformanceWarning: indexing past lexsort depth may impact performance.\n",
      "  temp = dfZip.loc[dftemp['dist'].idxmin(), 'postal_code']\n"
     ]
    },
    {
     "name": "stdout",
     "output_type": "stream",
     "text": [
      "51051 CEDEX\n"
     ]
    },
    {
     "name": "stderr",
     "output_type": "stream",
     "text": [
      "/var/folders/nw/13n2z96d7jv211k2c2mk6pkh0000gp/T/ipykernel_11652/3016908160.py:20: PerformanceWarning: indexing past lexsort depth may impact performance.\n",
      "  temp = dfZip.loc[dftemp['dist'].idxmin(), 'postal_code']\n"
     ]
    },
    {
     "name": "stdout",
     "output_type": "stream",
     "text": [
      "52000\n"
     ]
    },
    {
     "name": "stderr",
     "output_type": "stream",
     "text": [
      "/var/folders/nw/13n2z96d7jv211k2c2mk6pkh0000gp/T/ipykernel_11652/3016908160.py:20: PerformanceWarning: indexing past lexsort depth may impact performance.\n",
      "  temp = dfZip.loc[dftemp['dist'].idxmin(), 'postal_code']\n"
     ]
    },
    {
     "name": "stdout",
     "output_type": "stream",
     "text": [
      "52000\n"
     ]
    },
    {
     "name": "stderr",
     "output_type": "stream",
     "text": [
      "/var/folders/nw/13n2z96d7jv211k2c2mk6pkh0000gp/T/ipykernel_11652/3016908160.py:20: PerformanceWarning: indexing past lexsort depth may impact performance.\n",
      "  temp = dfZip.loc[dftemp['dist'].idxmin(), 'postal_code']\n"
     ]
    },
    {
     "name": "stdout",
     "output_type": "stream",
     "text": [
      "06250\n"
     ]
    },
    {
     "name": "stderr",
     "output_type": "stream",
     "text": [
      "/var/folders/nw/13n2z96d7jv211k2c2mk6pkh0000gp/T/ipykernel_11652/3016908160.py:20: PerformanceWarning: indexing past lexsort depth may impact performance.\n",
      "  temp = dfZip.loc[dftemp['dist'].idxmin(), 'postal_code']\n"
     ]
    },
    {
     "name": "stdout",
     "output_type": "stream",
     "text": [
      "52300\n"
     ]
    },
    {
     "name": "stderr",
     "output_type": "stream",
     "text": [
      "/var/folders/nw/13n2z96d7jv211k2c2mk6pkh0000gp/T/ipykernel_11652/3016908160.py:20: PerformanceWarning: indexing past lexsort depth may impact performance.\n",
      "  temp = dfZip.loc[dftemp['dist'].idxmin(), 'postal_code']\n"
     ]
    },
    {
     "name": "stdout",
     "output_type": "stream",
     "text": [
      "52100\n"
     ]
    },
    {
     "name": "stderr",
     "output_type": "stream",
     "text": [
      "/var/folders/nw/13n2z96d7jv211k2c2mk6pkh0000gp/T/ipykernel_11652/3016908160.py:20: PerformanceWarning: indexing past lexsort depth may impact performance.\n",
      "  temp = dfZip.loc[dftemp['dist'].idxmin(), 'postal_code']\n"
     ]
    },
    {
     "name": "stdout",
     "output_type": "stream",
     "text": [
      "53810\n"
     ]
    },
    {
     "name": "stderr",
     "output_type": "stream",
     "text": [
      "/var/folders/nw/13n2z96d7jv211k2c2mk6pkh0000gp/T/ipykernel_11652/3016908160.py:20: PerformanceWarning: indexing past lexsort depth may impact performance.\n",
      "  temp = dfZip.loc[dftemp['dist'].idxmin(), 'postal_code']\n"
     ]
    },
    {
     "name": "stdout",
     "output_type": "stream",
     "text": [
      "53200\n"
     ]
    },
    {
     "name": "stderr",
     "output_type": "stream",
     "text": [
      "/var/folders/nw/13n2z96d7jv211k2c2mk6pkh0000gp/T/ipykernel_11652/3016908160.py:20: PerformanceWarning: indexing past lexsort depth may impact performance.\n",
      "  temp = dfZip.loc[dftemp['dist'].idxmin(), 'postal_code']\n"
     ]
    },
    {
     "name": "stdout",
     "output_type": "stream",
     "text": [
      "53600\n"
     ]
    },
    {
     "name": "stderr",
     "output_type": "stream",
     "text": [
      "/var/folders/nw/13n2z96d7jv211k2c2mk6pkh0000gp/T/ipykernel_11652/3016908160.py:20: PerformanceWarning: indexing past lexsort depth may impact performance.\n",
      "  temp = dfZip.loc[dftemp['dist'].idxmin(), 'postal_code']\n"
     ]
    },
    {
     "name": "stdout",
     "output_type": "stream",
     "text": [
      "53000\n"
     ]
    },
    {
     "name": "stderr",
     "output_type": "stream",
     "text": [
      "/var/folders/nw/13n2z96d7jv211k2c2mk6pkh0000gp/T/ipykernel_11652/3016908160.py:20: PerformanceWarning: indexing past lexsort depth may impact performance.\n",
      "  temp = dfZip.loc[dftemp['dist'].idxmin(), 'postal_code']\n"
     ]
    },
    {
     "name": "stdout",
     "output_type": "stream",
     "text": [
      "53000\n"
     ]
    },
    {
     "name": "stderr",
     "output_type": "stream",
     "text": [
      "/var/folders/nw/13n2z96d7jv211k2c2mk6pkh0000gp/T/ipykernel_11652/3016908160.py:20: PerformanceWarning: indexing past lexsort depth may impact performance.\n",
      "  temp = dfZip.loc[dftemp['dist'].idxmin(), 'postal_code']\n"
     ]
    },
    {
     "name": "stdout",
     "output_type": "stream",
     "text": [
      "54400\n"
     ]
    },
    {
     "name": "stderr",
     "output_type": "stream",
     "text": [
      "/var/folders/nw/13n2z96d7jv211k2c2mk6pkh0000gp/T/ipykernel_11652/3016908160.py:20: PerformanceWarning: indexing past lexsort depth may impact performance.\n",
      "  temp = dfZip.loc[dftemp['dist'].idxmin(), 'postal_code']\n"
     ]
    },
    {
     "name": "stdout",
     "output_type": "stream",
     "text": [
      "54300\n"
     ]
    },
    {
     "name": "stderr",
     "output_type": "stream",
     "text": [
      "/var/folders/nw/13n2z96d7jv211k2c2mk6pkh0000gp/T/ipykernel_11652/3016908160.py:20: PerformanceWarning: indexing past lexsort depth may impact performance.\n",
      "  temp = dfZip.loc[dftemp['dist'].idxmin(), 'postal_code']\n"
     ]
    },
    {
     "name": "stdout",
     "output_type": "stream",
     "text": [
      "54000\n"
     ]
    },
    {
     "name": "stderr",
     "output_type": "stream",
     "text": [
      "/var/folders/nw/13n2z96d7jv211k2c2mk6pkh0000gp/T/ipykernel_11652/3016908160.py:20: PerformanceWarning: indexing past lexsort depth may impact performance.\n",
      "  temp = dfZip.loc[dftemp['dist'].idxmin(), 'postal_code']\n"
     ]
    },
    {
     "name": "stdout",
     "output_type": "stream",
     "text": [
      "06000\n"
     ]
    },
    {
     "name": "stderr",
     "output_type": "stream",
     "text": [
      "/var/folders/nw/13n2z96d7jv211k2c2mk6pkh0000gp/T/ipykernel_11652/3016908160.py:20: PerformanceWarning: indexing past lexsort depth may impact performance.\n",
      "  temp = dfZip.loc[dftemp['dist'].idxmin(), 'postal_code']\n"
     ]
    },
    {
     "name": "stdout",
     "output_type": "stream",
     "text": [
      "54000\n"
     ]
    },
    {
     "name": "stderr",
     "output_type": "stream",
     "text": [
      "/var/folders/nw/13n2z96d7jv211k2c2mk6pkh0000gp/T/ipykernel_11652/3016908160.py:20: PerformanceWarning: indexing past lexsort depth may impact performance.\n",
      "  temp = dfZip.loc[dftemp['dist'].idxmin(), 'postal_code']\n"
     ]
    },
    {
     "name": "stdout",
     "output_type": "stream",
     "text": [
      "54000\n"
     ]
    },
    {
     "name": "stderr",
     "output_type": "stream",
     "text": [
      "/var/folders/nw/13n2z96d7jv211k2c2mk6pkh0000gp/T/ipykernel_11652/3016908160.py:20: PerformanceWarning: indexing past lexsort depth may impact performance.\n",
      "  temp = dfZip.loc[dftemp['dist'].idxmin(), 'postal_code']\n"
     ]
    },
    {
     "name": "stdout",
     "output_type": "stream",
     "text": [
      "54200\n"
     ]
    },
    {
     "name": "stderr",
     "output_type": "stream",
     "text": [
      "/var/folders/nw/13n2z96d7jv211k2c2mk6pkh0000gp/T/ipykernel_11652/3016908160.py:20: PerformanceWarning: indexing past lexsort depth may impact performance.\n",
      "  temp = dfZip.loc[dftemp['dist'].idxmin(), 'postal_code']\n"
     ]
    },
    {
     "name": "stdout",
     "output_type": "stream",
     "text": [
      "55000\n"
     ]
    },
    {
     "name": "stderr",
     "output_type": "stream",
     "text": [
      "/var/folders/nw/13n2z96d7jv211k2c2mk6pkh0000gp/T/ipykernel_11652/3016908160.py:20: PerformanceWarning: indexing past lexsort depth may impact performance.\n",
      "  temp = dfZip.loc[dftemp['dist'].idxmin(), 'postal_code']\n"
     ]
    },
    {
     "name": "stdout",
     "output_type": "stream",
     "text": [
      "55200\n"
     ]
    },
    {
     "name": "stderr",
     "output_type": "stream",
     "text": [
      "/var/folders/nw/13n2z96d7jv211k2c2mk6pkh0000gp/T/ipykernel_11652/3016908160.py:20: PerformanceWarning: indexing past lexsort depth may impact performance.\n",
      "  temp = dfZip.loc[dftemp['dist'].idxmin(), 'postal_code']\n"
     ]
    },
    {
     "name": "stdout",
     "output_type": "stream",
     "text": [
      "55200\n"
     ]
    },
    {
     "name": "stderr",
     "output_type": "stream",
     "text": [
      "/var/folders/nw/13n2z96d7jv211k2c2mk6pkh0000gp/T/ipykernel_11652/3016908160.py:20: PerformanceWarning: indexing past lexsort depth may impact performance.\n",
      "  temp = dfZip.loc[dftemp['dist'].idxmin(), 'postal_code']\n"
     ]
    },
    {
     "name": "stdout",
     "output_type": "stream",
     "text": [
      "55700\n"
     ]
    },
    {
     "name": "stderr",
     "output_type": "stream",
     "text": [
      "/var/folders/nw/13n2z96d7jv211k2c2mk6pkh0000gp/T/ipykernel_11652/3016908160.py:20: PerformanceWarning: indexing past lexsort depth may impact performance.\n",
      "  temp = dfZip.loc[dftemp['dist'].idxmin(), 'postal_code']\n"
     ]
    },
    {
     "name": "stdout",
     "output_type": "stream",
     "text": [
      "55700\n"
     ]
    },
    {
     "name": "stderr",
     "output_type": "stream",
     "text": [
      "/var/folders/nw/13n2z96d7jv211k2c2mk6pkh0000gp/T/ipykernel_11652/3016908160.py:20: PerformanceWarning: indexing past lexsort depth may impact performance.\n",
      "  temp = dfZip.loc[dftemp['dist'].idxmin(), 'postal_code']\n"
     ]
    },
    {
     "name": "stdout",
     "output_type": "stream",
     "text": [
      "55100\n"
     ]
    },
    {
     "name": "stderr",
     "output_type": "stream",
     "text": [
      "/var/folders/nw/13n2z96d7jv211k2c2mk6pkh0000gp/T/ipykernel_11652/3016908160.py:20: PerformanceWarning: indexing past lexsort depth may impact performance.\n",
      "  temp = dfZip.loc[dftemp['dist'].idxmin(), 'postal_code']\n"
     ]
    },
    {
     "name": "stdout",
     "output_type": "stream",
     "text": [
      "56400\n"
     ]
    },
    {
     "name": "stderr",
     "output_type": "stream",
     "text": [
      "/var/folders/nw/13n2z96d7jv211k2c2mk6pkh0000gp/T/ipykernel_11652/3016908160.py:20: PerformanceWarning: indexing past lexsort depth may impact performance.\n",
      "  temp = dfZip.loc[dftemp['dist'].idxmin(), 'postal_code']\n"
     ]
    },
    {
     "name": "stdout",
     "output_type": "stream",
     "text": [
      "06000\n"
     ]
    },
    {
     "name": "stderr",
     "output_type": "stream",
     "text": [
      "/var/folders/nw/13n2z96d7jv211k2c2mk6pkh0000gp/T/ipykernel_11652/3016908160.py:20: PerformanceWarning: indexing past lexsort depth may impact performance.\n",
      "  temp = dfZip.loc[dftemp['dist'].idxmin(), 'postal_code']\n"
     ]
    },
    {
     "name": "stdout",
     "output_type": "stream",
     "text": [
      "56700\n"
     ]
    },
    {
     "name": "stderr",
     "output_type": "stream",
     "text": [
      "/var/folders/nw/13n2z96d7jv211k2c2mk6pkh0000gp/T/ipykernel_11652/3016908160.py:20: PerformanceWarning: indexing past lexsort depth may impact performance.\n",
      "  temp = dfZip.loc[dftemp['dist'].idxmin(), 'postal_code']\n"
     ]
    },
    {
     "name": "stdout",
     "output_type": "stream",
     "text": [
      "56600\n"
     ]
    },
    {
     "name": "stderr",
     "output_type": "stream",
     "text": [
      "/var/folders/nw/13n2z96d7jv211k2c2mk6pkh0000gp/T/ipykernel_11652/3016908160.py:20: PerformanceWarning: indexing past lexsort depth may impact performance.\n",
      "  temp = dfZip.loc[dftemp['dist'].idxmin(), 'postal_code']\n"
     ]
    },
    {
     "name": "stdout",
     "output_type": "stream",
     "text": [
      "56100\n"
     ]
    },
    {
     "name": "stderr",
     "output_type": "stream",
     "text": [
      "/var/folders/nw/13n2z96d7jv211k2c2mk6pkh0000gp/T/ipykernel_11652/3016908160.py:20: PerformanceWarning: indexing past lexsort depth may impact performance.\n",
      "  temp = dfZip.loc[dftemp['dist'].idxmin(), 'postal_code']\n"
     ]
    },
    {
     "name": "stdout",
     "output_type": "stream",
     "text": [
      "56100\n"
     ]
    },
    {
     "name": "stderr",
     "output_type": "stream",
     "text": [
      "/var/folders/nw/13n2z96d7jv211k2c2mk6pkh0000gp/T/ipykernel_11652/3016908160.py:20: PerformanceWarning: indexing past lexsort depth may impact performance.\n",
      "  temp = dfZip.loc[dftemp['dist'].idxmin(), 'postal_code']\n"
     ]
    },
    {
     "name": "stdout",
     "output_type": "stream",
     "text": [
      "56270\n"
     ]
    },
    {
     "name": "stderr",
     "output_type": "stream",
     "text": [
      "/var/folders/nw/13n2z96d7jv211k2c2mk6pkh0000gp/T/ipykernel_11652/3016908160.py:20: PerformanceWarning: indexing past lexsort depth may impact performance.\n",
      "  temp = dfZip.loc[dftemp['dist'].idxmin(), 'postal_code']\n"
     ]
    },
    {
     "name": "stdout",
     "output_type": "stream",
     "text": [
      "56300\n"
     ]
    },
    {
     "name": "stderr",
     "output_type": "stream",
     "text": [
      "/var/folders/nw/13n2z96d7jv211k2c2mk6pkh0000gp/T/ipykernel_11652/3016908160.py:20: PerformanceWarning: indexing past lexsort depth may impact performance.\n",
      "  temp = dfZip.loc[dftemp['dist'].idxmin(), 'postal_code']\n"
     ]
    },
    {
     "name": "stdout",
     "output_type": "stream",
     "text": [
      "56000\n"
     ]
    },
    {
     "name": "stderr",
     "output_type": "stream",
     "text": [
      "/var/folders/nw/13n2z96d7jv211k2c2mk6pkh0000gp/T/ipykernel_11652/3016908160.py:20: PerformanceWarning: indexing past lexsort depth may impact performance.\n",
      "  temp = dfZip.loc[dftemp['dist'].idxmin(), 'postal_code']\n"
     ]
    },
    {
     "name": "stdout",
     "output_type": "stream",
     "text": [
      "56000\n"
     ]
    },
    {
     "name": "stderr",
     "output_type": "stream",
     "text": [
      "/var/folders/nw/13n2z96d7jv211k2c2mk6pkh0000gp/T/ipykernel_11652/3016908160.py:20: PerformanceWarning: indexing past lexsort depth may impact performance.\n",
      "  temp = dfZip.loc[dftemp['dist'].idxmin(), 'postal_code']\n"
     ]
    },
    {
     "name": "stdout",
     "output_type": "stream",
     "text": [
      "57600\n"
     ]
    },
    {
     "name": "stderr",
     "output_type": "stream",
     "text": [
      "/var/folders/nw/13n2z96d7jv211k2c2mk6pkh0000gp/T/ipykernel_11652/3016908160.py:20: PerformanceWarning: indexing past lexsort depth may impact performance.\n",
      "  temp = dfZip.loc[dftemp['dist'].idxmin(), 'postal_code']\n"
     ]
    },
    {
     "name": "stdout",
     "output_type": "stream",
     "text": [
      "57800\n"
     ]
    },
    {
     "name": "stderr",
     "output_type": "stream",
     "text": [
      "/var/folders/nw/13n2z96d7jv211k2c2mk6pkh0000gp/T/ipykernel_11652/3016908160.py:20: PerformanceWarning: indexing past lexsort depth may impact performance.\n",
      "  temp = dfZip.loc[dftemp['dist'].idxmin(), 'postal_code']\n"
     ]
    },
    {
     "name": "stdout",
     "output_type": "stream",
     "text": [
      "06700\n"
     ]
    },
    {
     "name": "stderr",
     "output_type": "stream",
     "text": [
      "/var/folders/nw/13n2z96d7jv211k2c2mk6pkh0000gp/T/ipykernel_11652/3016908160.py:20: PerformanceWarning: indexing past lexsort depth may impact performance.\n",
      "  temp = dfZip.loc[dftemp['dist'].idxmin(), 'postal_code']\n"
     ]
    },
    {
     "name": "stdout",
     "output_type": "stream",
     "text": [
      "57000\n"
     ]
    },
    {
     "name": "stderr",
     "output_type": "stream",
     "text": [
      "/var/folders/nw/13n2z96d7jv211k2c2mk6pkh0000gp/T/ipykernel_11652/3016908160.py:20: PerformanceWarning: indexing past lexsort depth may impact performance.\n",
      "  temp = dfZip.loc[dftemp['dist'].idxmin(), 'postal_code']\n"
     ]
    },
    {
     "name": "stdout",
     "output_type": "stream",
     "text": [
      "57000\n"
     ]
    },
    {
     "name": "stderr",
     "output_type": "stream",
     "text": [
      "/var/folders/nw/13n2z96d7jv211k2c2mk6pkh0000gp/T/ipykernel_11652/3016908160.py:20: PerformanceWarning: indexing past lexsort depth may impact performance.\n",
      "  temp = dfZip.loc[dftemp['dist'].idxmin(), 'postal_code']\n"
     ]
    },
    {
     "name": "stdout",
     "output_type": "stream",
     "text": [
      "57490\n"
     ]
    },
    {
     "name": "stderr",
     "output_type": "stream",
     "text": [
      "/var/folders/nw/13n2z96d7jv211k2c2mk6pkh0000gp/T/ipykernel_11652/3016908160.py:20: PerformanceWarning: indexing past lexsort depth may impact performance.\n",
      "  temp = dfZip.loc[dftemp['dist'].idxmin(), 'postal_code']\n"
     ]
    },
    {
     "name": "stdout",
     "output_type": "stream",
     "text": [
      "57490\n"
     ]
    },
    {
     "name": "stderr",
     "output_type": "stream",
     "text": [
      "/var/folders/nw/13n2z96d7jv211k2c2mk6pkh0000gp/T/ipykernel_11652/3016908160.py:20: PerformanceWarning: indexing past lexsort depth may impact performance.\n",
      "  temp = dfZip.loc[dftemp['dist'].idxmin(), 'postal_code']\n"
     ]
    },
    {
     "name": "stdout",
     "output_type": "stream",
     "text": [
      "57070\n"
     ]
    },
    {
     "name": "stderr",
     "output_type": "stream",
     "text": [
      "/var/folders/nw/13n2z96d7jv211k2c2mk6pkh0000gp/T/ipykernel_11652/3016908160.py:20: PerformanceWarning: indexing past lexsort depth may impact performance.\n",
      "  temp = dfZip.loc[dftemp['dist'].idxmin(), 'postal_code']\n"
     ]
    },
    {
     "name": "stdout",
     "output_type": "stream",
     "text": [
      "57400\n"
     ]
    },
    {
     "name": "stderr",
     "output_type": "stream",
     "text": [
      "/var/folders/nw/13n2z96d7jv211k2c2mk6pkh0000gp/T/ipykernel_11652/3016908160.py:20: PerformanceWarning: indexing past lexsort depth may impact performance.\n",
      "  temp = dfZip.loc[dftemp['dist'].idxmin(), 'postal_code']\n"
     ]
    },
    {
     "name": "stdout",
     "output_type": "stream",
     "text": [
      "57200\n"
     ]
    },
    {
     "name": "stderr",
     "output_type": "stream",
     "text": [
      "/var/folders/nw/13n2z96d7jv211k2c2mk6pkh0000gp/T/ipykernel_11652/3016908160.py:20: PerformanceWarning: indexing past lexsort depth may impact performance.\n",
      "  temp = dfZip.loc[dftemp['dist'].idxmin(), 'postal_code']\n"
     ]
    },
    {
     "name": "stdout",
     "output_type": "stream",
     "text": [
      "57100\n"
     ]
    },
    {
     "name": "stderr",
     "output_type": "stream",
     "text": [
      "/var/folders/nw/13n2z96d7jv211k2c2mk6pkh0000gp/T/ipykernel_11652/3016908160.py:20: PerformanceWarning: indexing past lexsort depth may impact performance.\n",
      "  temp = dfZip.loc[dftemp['dist'].idxmin(), 'postal_code']\n"
     ]
    },
    {
     "name": "stdout",
     "output_type": "stream",
     "text": [
      "58200\n"
     ]
    },
    {
     "name": "stderr",
     "output_type": "stream",
     "text": [
      "/var/folders/nw/13n2z96d7jv211k2c2mk6pkh0000gp/T/ipykernel_11652/3016908160.py:20: PerformanceWarning: indexing past lexsort depth may impact performance.\n",
      "  temp = dfZip.loc[dftemp['dist'].idxmin(), 'postal_code']\n"
     ]
    },
    {
     "name": "stdout",
     "output_type": "stream",
     "text": [
      "58000\n"
     ]
    },
    {
     "name": "stderr",
     "output_type": "stream",
     "text": [
      "/var/folders/nw/13n2z96d7jv211k2c2mk6pkh0000gp/T/ipykernel_11652/3016908160.py:20: PerformanceWarning: indexing past lexsort depth may impact performance.\n",
      "  temp = dfZip.loc[dftemp['dist'].idxmin(), 'postal_code']\n"
     ]
    },
    {
     "name": "stdout",
     "output_type": "stream",
     "text": [
      "06700\n"
     ]
    },
    {
     "name": "stderr",
     "output_type": "stream",
     "text": [
      "/var/folders/nw/13n2z96d7jv211k2c2mk6pkh0000gp/T/ipykernel_11652/3016908160.py:20: PerformanceWarning: indexing past lexsort depth may impact performance.\n",
      "  temp = dfZip.loc[dftemp['dist'].idxmin(), 'postal_code']\n"
     ]
    },
    {
     "name": "stdout",
     "output_type": "stream",
     "text": [
      "58180\n"
     ]
    },
    {
     "name": "stderr",
     "output_type": "stream",
     "text": [
      "/var/folders/nw/13n2z96d7jv211k2c2mk6pkh0000gp/T/ipykernel_11652/3016908160.py:20: PerformanceWarning: indexing past lexsort depth may impact performance.\n",
      "  temp = dfZip.loc[dftemp['dist'].idxmin(), 'postal_code']\n"
     ]
    },
    {
     "name": "stdout",
     "output_type": "stream",
     "text": [
      "59260\n"
     ]
    },
    {
     "name": "stderr",
     "output_type": "stream",
     "text": [
      "/var/folders/nw/13n2z96d7jv211k2c2mk6pkh0000gp/T/ipykernel_11652/3016908160.py:20: PerformanceWarning: indexing past lexsort depth may impact performance.\n",
      "  temp = dfZip.loc[dftemp['dist'].idxmin(), 'postal_code']\n"
     ]
    },
    {
     "name": "stdout",
     "output_type": "stream",
     "text": [
      "59280\n"
     ]
    },
    {
     "name": "stderr",
     "output_type": "stream",
     "text": [
      "/var/folders/nw/13n2z96d7jv211k2c2mk6pkh0000gp/T/ipykernel_11652/3016908160.py:20: PerformanceWarning: indexing past lexsort depth may impact performance.\n",
      "  temp = dfZip.loc[dftemp['dist'].idxmin(), 'postal_code']\n"
     ]
    },
    {
     "name": "stdout",
     "output_type": "stream",
     "text": [
      "59341 CEDEX\n"
     ]
    },
    {
     "name": "stderr",
     "output_type": "stream",
     "text": [
      "/var/folders/nw/13n2z96d7jv211k2c2mk6pkh0000gp/T/ipykernel_11652/3016908160.py:20: PerformanceWarning: indexing past lexsort depth may impact performance.\n",
      "  temp = dfZip.loc[dftemp['dist'].idxmin(), 'postal_code']\n"
     ]
    },
    {
     "name": "stdout",
     "output_type": "stream",
     "text": [
      "59351 CEDEX\n"
     ]
    },
    {
     "name": "stderr",
     "output_type": "stream",
     "text": [
      "/var/folders/nw/13n2z96d7jv211k2c2mk6pkh0000gp/T/ipykernel_11652/3016908160.py:20: PerformanceWarning: indexing past lexsort depth may impact performance.\n",
      "  temp = dfZip.loc[dftemp['dist'].idxmin(), 'postal_code']\n"
     ]
    },
    {
     "name": "stdout",
     "output_type": "stream",
     "text": [
      "59430\n"
     ]
    },
    {
     "name": "stderr",
     "output_type": "stream",
     "text": [
      "/var/folders/nw/13n2z96d7jv211k2c2mk6pkh0000gp/T/ipykernel_11652/3016908160.py:20: PerformanceWarning: indexing past lexsort depth may impact performance.\n",
      "  temp = dfZip.loc[dftemp['dist'].idxmin(), 'postal_code']\n"
     ]
    },
    {
     "name": "stdout",
     "output_type": "stream",
     "text": [
      "59820\n"
     ]
    },
    {
     "name": "stderr",
     "output_type": "stream",
     "text": [
      "/var/folders/nw/13n2z96d7jv211k2c2mk6pkh0000gp/T/ipykernel_11652/3016908160.py:20: PerformanceWarning: indexing past lexsort depth may impact performance.\n",
      "  temp = dfZip.loc[dftemp['dist'].idxmin(), 'postal_code']\n"
     ]
    },
    {
     "name": "stdout",
     "output_type": "stream",
     "text": [
      "59250\n"
     ]
    },
    {
     "name": "stderr",
     "output_type": "stream",
     "text": [
      "/var/folders/nw/13n2z96d7jv211k2c2mk6pkh0000gp/T/ipykernel_11652/3016908160.py:20: PerformanceWarning: indexing past lexsort depth may impact performance.\n",
      "  temp = dfZip.loc[dftemp['dist'].idxmin(), 'postal_code']\n"
     ]
    },
    {
     "name": "stdout",
     "output_type": "stream",
     "text": [
      "59330\n"
     ]
    },
    {
     "name": "stderr",
     "output_type": "stream",
     "text": [
      "/var/folders/nw/13n2z96d7jv211k2c2mk6pkh0000gp/T/ipykernel_11652/3016908160.py:20: PerformanceWarning: indexing past lexsort depth may impact performance.\n",
      "  temp = dfZip.loc[dftemp['dist'].idxmin(), 'postal_code']\n"
     ]
    },
    {
     "name": "stdout",
     "output_type": "stream",
     "text": [
      "59190\n"
     ]
    },
    {
     "name": "stderr",
     "output_type": "stream",
     "text": [
      "/var/folders/nw/13n2z96d7jv211k2c2mk6pkh0000gp/T/ipykernel_11652/3016908160.py:20: PerformanceWarning: indexing past lexsort depth may impact performance.\n",
      "  temp = dfZip.loc[dftemp['dist'].idxmin(), 'postal_code']\n"
     ]
    },
    {
     "name": "stdout",
     "output_type": "stream",
     "text": [
      "01100\n"
     ]
    },
    {
     "name": "stderr",
     "output_type": "stream",
     "text": [
      "/var/folders/nw/13n2z96d7jv211k2c2mk6pkh0000gp/T/ipykernel_11652/3016908160.py:20: PerformanceWarning: indexing past lexsort depth may impact performance.\n",
      "  temp = dfZip.loc[dftemp['dist'].idxmin(), 'postal_code']\n"
     ]
    },
    {
     "name": "stdout",
     "output_type": "stream",
     "text": [
      "06220\n"
     ]
    },
    {
     "name": "stderr",
     "output_type": "stream",
     "text": [
      "/var/folders/nw/13n2z96d7jv211k2c2mk6pkh0000gp/T/ipykernel_11652/3016908160.py:20: PerformanceWarning: indexing past lexsort depth may impact performance.\n",
      "  temp = dfZip.loc[dftemp['dist'].idxmin(), 'postal_code']\n"
     ]
    },
    {
     "name": "stdout",
     "output_type": "stream",
     "text": [
      "59000\n"
     ]
    },
    {
     "name": "stderr",
     "output_type": "stream",
     "text": [
      "/var/folders/nw/13n2z96d7jv211k2c2mk6pkh0000gp/T/ipykernel_11652/3016908160.py:20: PerformanceWarning: indexing past lexsort depth may impact performance.\n",
      "  temp = dfZip.loc[dftemp['dist'].idxmin(), 'postal_code']\n"
     ]
    },
    {
     "name": "stdout",
     "output_type": "stream",
     "text": [
      "59000\n"
     ]
    },
    {
     "name": "stderr",
     "output_type": "stream",
     "text": [
      "/var/folders/nw/13n2z96d7jv211k2c2mk6pkh0000gp/T/ipykernel_11652/3016908160.py:20: PerformanceWarning: indexing past lexsort depth may impact performance.\n",
      "  temp = dfZip.loc[dftemp['dist'].idxmin(), 'postal_code']\n"
     ]
    },
    {
     "name": "stdout",
     "output_type": "stream",
     "text": [
      "59000\n"
     ]
    },
    {
     "name": "stderr",
     "output_type": "stream",
     "text": [
      "/var/folders/nw/13n2z96d7jv211k2c2mk6pkh0000gp/T/ipykernel_11652/3016908160.py:20: PerformanceWarning: indexing past lexsort depth may impact performance.\n",
      "  temp = dfZip.loc[dftemp['dist'].idxmin(), 'postal_code']\n"
     ]
    },
    {
     "name": "stdout",
     "output_type": "stream",
     "text": [
      "59000\n"
     ]
    },
    {
     "name": "stderr",
     "output_type": "stream",
     "text": [
      "/var/folders/nw/13n2z96d7jv211k2c2mk6pkh0000gp/T/ipykernel_11652/3016908160.py:20: PerformanceWarning: indexing past lexsort depth may impact performance.\n",
      "  temp = dfZip.loc[dftemp['dist'].idxmin(), 'postal_code']\n"
     ]
    },
    {
     "name": "stdout",
     "output_type": "stream",
     "text": [
      "59370\n"
     ]
    },
    {
     "name": "stderr",
     "output_type": "stream",
     "text": [
      "/var/folders/nw/13n2z96d7jv211k2c2mk6pkh0000gp/T/ipykernel_11652/3016908160.py:20: PerformanceWarning: indexing past lexsort depth may impact performance.\n",
      "  temp = dfZip.loc[dftemp['dist'].idxmin(), 'postal_code']\n"
     ]
    },
    {
     "name": "stdout",
     "output_type": "stream",
     "text": [
      "59455 CEDEX\n"
     ]
    },
    {
     "name": "stderr",
     "output_type": "stream",
     "text": [
      "/var/folders/nw/13n2z96d7jv211k2c2mk6pkh0000gp/T/ipykernel_11652/3016908160.py:20: PerformanceWarning: indexing past lexsort depth may impact performance.\n",
      "  temp = dfZip.loc[dftemp['dist'].idxmin(), 'postal_code']\n"
     ]
    },
    {
     "name": "stdout",
     "output_type": "stream",
     "text": [
      "59455 CEDEX\n"
     ]
    },
    {
     "name": "stderr",
     "output_type": "stream",
     "text": [
      "/var/folders/nw/13n2z96d7jv211k2c2mk6pkh0000gp/T/ipykernel_11652/3016908160.py:20: PerformanceWarning: indexing past lexsort depth may impact performance.\n",
      "  temp = dfZip.loc[dftemp['dist'].idxmin(), 'postal_code']\n"
     ]
    },
    {
     "name": "stdout",
     "output_type": "stream",
     "text": [
      "59700\n"
     ]
    },
    {
     "name": "stderr",
     "output_type": "stream",
     "text": [
      "/var/folders/nw/13n2z96d7jv211k2c2mk6pkh0000gp/T/ipykernel_11652/3016908160.py:20: PerformanceWarning: indexing past lexsort depth may impact performance.\n",
      "  temp = dfZip.loc[dftemp['dist'].idxmin(), 'postal_code']\n"
     ]
    },
    {
     "name": "stdout",
     "output_type": "stream",
     "text": [
      "59520\n"
     ]
    },
    {
     "name": "stderr",
     "output_type": "stream",
     "text": [
      "/var/folders/nw/13n2z96d7jv211k2c2mk6pkh0000gp/T/ipykernel_11652/3016908160.py:20: PerformanceWarning: indexing past lexsort depth may impact performance.\n",
      "  temp = dfZip.loc[dftemp['dist'].idxmin(), 'postal_code']\n"
     ]
    },
    {
     "name": "stdout",
     "output_type": "stream",
     "text": [
      "59750\n"
     ]
    },
    {
     "name": "stderr",
     "output_type": "stream",
     "text": [
      "/var/folders/nw/13n2z96d7jv211k2c2mk6pkh0000gp/T/ipykernel_11652/3016908160.py:20: PerformanceWarning: indexing past lexsort depth may impact performance.\n",
      "  temp = dfZip.loc[dftemp['dist'].idxmin(), 'postal_code']\n"
     ]
    },
    {
     "name": "stdout",
     "output_type": "stream",
     "text": [
      "06270\n"
     ]
    },
    {
     "name": "stderr",
     "output_type": "stream",
     "text": [
      "/var/folders/nw/13n2z96d7jv211k2c2mk6pkh0000gp/T/ipykernel_11652/3016908160.py:20: PerformanceWarning: indexing past lexsort depth may impact performance.\n",
      "  temp = dfZip.loc[dftemp['dist'].idxmin(), 'postal_code']\n"
     ]
    },
    {
     "name": "stdout",
     "output_type": "stream",
     "text": [
      "59223\n"
     ]
    },
    {
     "name": "stderr",
     "output_type": "stream",
     "text": [
      "/var/folders/nw/13n2z96d7jv211k2c2mk6pkh0000gp/T/ipykernel_11652/3016908160.py:20: PerformanceWarning: indexing past lexsort depth may impact performance.\n",
      "  temp = dfZip.loc[dftemp['dist'].idxmin(), 'postal_code']\n"
     ]
    },
    {
     "name": "stdout",
     "output_type": "stream",
     "text": [
      "59051 CEDEX 1\n"
     ]
    },
    {
     "name": "stderr",
     "output_type": "stream",
     "text": [
      "/var/folders/nw/13n2z96d7jv211k2c2mk6pkh0000gp/T/ipykernel_11652/3016908160.py:20: PerformanceWarning: indexing past lexsort depth may impact performance.\n",
      "  temp = dfZip.loc[dftemp['dist'].idxmin(), 'postal_code']\n"
     ]
    },
    {
     "name": "stdout",
     "output_type": "stream",
     "text": [
      "59051 CEDEX 1\n"
     ]
    },
    {
     "name": "stderr",
     "output_type": "stream",
     "text": [
      "/var/folders/nw/13n2z96d7jv211k2c2mk6pkh0000gp/T/ipykernel_11652/3016908160.py:20: PerformanceWarning: indexing past lexsort depth may impact performance.\n",
      "  temp = dfZip.loc[dftemp['dist'].idxmin(), 'postal_code']\n"
     ]
    },
    {
     "name": "stdout",
     "output_type": "stream",
     "text": [
      "59113\n"
     ]
    },
    {
     "name": "stderr",
     "output_type": "stream",
     "text": [
      "/var/folders/nw/13n2z96d7jv211k2c2mk6pkh0000gp/T/ipykernel_11652/3016908160.py:20: PerformanceWarning: indexing past lexsort depth may impact performance.\n",
      "  temp = dfZip.loc[dftemp['dist'].idxmin(), 'postal_code']\n"
     ]
    },
    {
     "name": "stdout",
     "output_type": "stream",
     "text": [
      "59320\n"
     ]
    },
    {
     "name": "stderr",
     "output_type": "stream",
     "text": [
      "/var/folders/nw/13n2z96d7jv211k2c2mk6pkh0000gp/T/ipykernel_11652/3016908160.py:20: PerformanceWarning: indexing past lexsort depth may impact performance.\n",
      "  temp = dfZip.loc[dftemp['dist'].idxmin(), 'postal_code']\n"
     ]
    },
    {
     "name": "stdout",
     "output_type": "stream",
     "text": [
      "59200\n"
     ]
    },
    {
     "name": "stderr",
     "output_type": "stream",
     "text": [
      "/var/folders/nw/13n2z96d7jv211k2c2mk6pkh0000gp/T/ipykernel_11652/3016908160.py:20: PerformanceWarning: indexing past lexsort depth may impact performance.\n",
      "  temp = dfZip.loc[dftemp['dist'].idxmin(), 'postal_code']\n"
     ]
    },
    {
     "name": "stdout",
     "output_type": "stream",
     "text": [
      "59300\n"
     ]
    },
    {
     "name": "stderr",
     "output_type": "stream",
     "text": [
      "/var/folders/nw/13n2z96d7jv211k2c2mk6pkh0000gp/T/ipykernel_11652/3016908160.py:20: PerformanceWarning: indexing past lexsort depth may impact performance.\n",
      "  temp = dfZip.loc[dftemp['dist'].idxmin(), 'postal_code']\n"
     ]
    },
    {
     "name": "stdout",
     "output_type": "stream",
     "text": [
      "59150\n"
     ]
    },
    {
     "name": "stderr",
     "output_type": "stream",
     "text": [
      "/var/folders/nw/13n2z96d7jv211k2c2mk6pkh0000gp/T/ipykernel_11652/3016908160.py:20: PerformanceWarning: indexing past lexsort depth may impact performance.\n",
      "  temp = dfZip.loc[dftemp['dist'].idxmin(), 'postal_code']\n"
     ]
    },
    {
     "name": "stdout",
     "output_type": "stream",
     "text": [
      "60000\n"
     ]
    },
    {
     "name": "stderr",
     "output_type": "stream",
     "text": [
      "/var/folders/nw/13n2z96d7jv211k2c2mk6pkh0000gp/T/ipykernel_11652/3016908160.py:20: PerformanceWarning: indexing past lexsort depth may impact performance.\n",
      "  temp = dfZip.loc[dftemp['dist'].idxmin(), 'postal_code']\n"
     ]
    },
    {
     "name": "stdout",
     "output_type": "stream",
     "text": [
      "60000\n"
     ]
    },
    {
     "name": "stderr",
     "output_type": "stream",
     "text": [
      "/var/folders/nw/13n2z96d7jv211k2c2mk6pkh0000gp/T/ipykernel_11652/3016908160.py:20: PerformanceWarning: indexing past lexsort depth may impact performance.\n",
      "  temp = dfZip.loc[dftemp['dist'].idxmin(), 'postal_code']\n"
     ]
    },
    {
     "name": "stdout",
     "output_type": "stream",
     "text": [
      "07100\n"
     ]
    },
    {
     "name": "stderr",
     "output_type": "stream",
     "text": [
      "/var/folders/nw/13n2z96d7jv211k2c2mk6pkh0000gp/T/ipykernel_11652/3016908160.py:20: PerformanceWarning: indexing past lexsort depth may impact performance.\n",
      "  temp = dfZip.loc[dftemp['dist'].idxmin(), 'postal_code']\n"
     ]
    },
    {
     "name": "stdout",
     "output_type": "stream",
     "text": [
      "60000\n"
     ]
    },
    {
     "name": "stderr",
     "output_type": "stream",
     "text": [
      "/var/folders/nw/13n2z96d7jv211k2c2mk6pkh0000gp/T/ipykernel_11652/3016908160.py:20: PerformanceWarning: indexing past lexsort depth may impact performance.\n",
      "  temp = dfZip.loc[dftemp['dist'].idxmin(), 'postal_code']\n"
     ]
    },
    {
     "name": "stdout",
     "output_type": "stream",
     "text": [
      "60100\n"
     ]
    },
    {
     "name": "stderr",
     "output_type": "stream",
     "text": [
      "/var/folders/nw/13n2z96d7jv211k2c2mk6pkh0000gp/T/ipykernel_11652/3016908160.py:20: PerformanceWarning: indexing past lexsort depth may impact performance.\n",
      "  temp = dfZip.loc[dftemp['dist'].idxmin(), 'postal_code']\n"
     ]
    },
    {
     "name": "stdout",
     "output_type": "stream",
     "text": [
      "60800\n"
     ]
    },
    {
     "name": "stderr",
     "output_type": "stream",
     "text": [
      "/var/folders/nw/13n2z96d7jv211k2c2mk6pkh0000gp/T/ipykernel_11652/3016908160.py:20: PerformanceWarning: indexing past lexsort depth may impact performance.\n",
      "  temp = dfZip.loc[dftemp['dist'].idxmin(), 'postal_code']\n"
     ]
    },
    {
     "name": "stdout",
     "output_type": "stream",
     "text": [
      "60280\n"
     ]
    },
    {
     "name": "stderr",
     "output_type": "stream",
     "text": [
      "/var/folders/nw/13n2z96d7jv211k2c2mk6pkh0000gp/T/ipykernel_11652/3016908160.py:20: PerformanceWarning: indexing past lexsort depth may impact performance.\n",
      "  temp = dfZip.loc[dftemp['dist'].idxmin(), 'postal_code']\n"
     ]
    },
    {
     "name": "stdout",
     "output_type": "stream",
     "text": [
      "60160\n"
     ]
    },
    {
     "name": "stderr",
     "output_type": "stream",
     "text": [
      "/var/folders/nw/13n2z96d7jv211k2c2mk6pkh0000gp/T/ipykernel_11652/3016908160.py:20: PerformanceWarning: indexing past lexsort depth may impact performance.\n",
      "  temp = dfZip.loc[dftemp['dist'].idxmin(), 'postal_code']\n"
     ]
    },
    {
     "name": "stdout",
     "output_type": "stream",
     "text": [
      "61000\n"
     ]
    },
    {
     "name": "stderr",
     "output_type": "stream",
     "text": [
      "/var/folders/nw/13n2z96d7jv211k2c2mk6pkh0000gp/T/ipykernel_11652/3016908160.py:20: PerformanceWarning: indexing past lexsort depth may impact performance.\n",
      "  temp = dfZip.loc[dftemp['dist'].idxmin(), 'postal_code']\n"
     ]
    },
    {
     "name": "stdout",
     "output_type": "stream",
     "text": [
      "61000\n"
     ]
    },
    {
     "name": "stderr",
     "output_type": "stream",
     "text": [
      "/var/folders/nw/13n2z96d7jv211k2c2mk6pkh0000gp/T/ipykernel_11652/3016908160.py:20: PerformanceWarning: indexing past lexsort depth may impact performance.\n",
      "  temp = dfZip.loc[dftemp['dist'].idxmin(), 'postal_code']\n"
     ]
    },
    {
     "name": "stdout",
     "output_type": "stream",
     "text": [
      "61200\n"
     ]
    },
    {
     "name": "stderr",
     "output_type": "stream",
     "text": [
      "/var/folders/nw/13n2z96d7jv211k2c2mk6pkh0000gp/T/ipykernel_11652/3016908160.py:20: PerformanceWarning: indexing past lexsort depth may impact performance.\n",
      "  temp = dfZip.loc[dftemp['dist'].idxmin(), 'postal_code']\n"
     ]
    },
    {
     "name": "stdout",
     "output_type": "stream",
     "text": [
      "61100\n"
     ]
    },
    {
     "name": "stderr",
     "output_type": "stream",
     "text": [
      "/var/folders/nw/13n2z96d7jv211k2c2mk6pkh0000gp/T/ipykernel_11652/3016908160.py:20: PerformanceWarning: indexing past lexsort depth may impact performance.\n",
      "  temp = dfZip.loc[dftemp['dist'].idxmin(), 'postal_code']\n"
     ]
    },
    {
     "name": "stdout",
     "output_type": "stream",
     "text": [
      "61300\n"
     ]
    },
    {
     "name": "stderr",
     "output_type": "stream",
     "text": [
      "/var/folders/nw/13n2z96d7jv211k2c2mk6pkh0000gp/T/ipykernel_11652/3016908160.py:20: PerformanceWarning: indexing past lexsort depth may impact performance.\n",
      "  temp = dfZip.loc[dftemp['dist'].idxmin(), 'postal_code']\n"
     ]
    },
    {
     "name": "stdout",
     "output_type": "stream",
     "text": [
      "07700\n"
     ]
    },
    {
     "name": "stderr",
     "output_type": "stream",
     "text": [
      "/var/folders/nw/13n2z96d7jv211k2c2mk6pkh0000gp/T/ipykernel_11652/3016908160.py:20: PerformanceWarning: indexing past lexsort depth may impact performance.\n",
      "  temp = dfZip.loc[dftemp['dist'].idxmin(), 'postal_code']\n"
     ]
    },
    {
     "name": "stdout",
     "output_type": "stream",
     "text": [
      "62120\n"
     ]
    },
    {
     "name": "stderr",
     "output_type": "stream",
     "text": [
      "/var/folders/nw/13n2z96d7jv211k2c2mk6pkh0000gp/T/ipykernel_11652/3016908160.py:20: PerformanceWarning: indexing past lexsort depth may impact performance.\n",
      "  temp = dfZip.loc[dftemp['dist'].idxmin(), 'postal_code']\n"
     ]
    },
    {
     "name": "stdout",
     "output_type": "stream",
     "text": [
      "62000\n"
     ]
    },
    {
     "name": "stderr",
     "output_type": "stream",
     "text": [
      "/var/folders/nw/13n2z96d7jv211k2c2mk6pkh0000gp/T/ipykernel_11652/3016908160.py:20: PerformanceWarning: indexing past lexsort depth may impact performance.\n",
      "  temp = dfZip.loc[dftemp['dist'].idxmin(), 'postal_code']\n"
     ]
    },
    {
     "name": "stdout",
     "output_type": "stream",
     "text": [
      "62400\n"
     ]
    },
    {
     "name": "stderr",
     "output_type": "stream",
     "text": [
      "/var/folders/nw/13n2z96d7jv211k2c2mk6pkh0000gp/T/ipykernel_11652/3016908160.py:20: PerformanceWarning: indexing past lexsort depth may impact performance.\n",
      "  temp = dfZip.loc[dftemp['dist'].idxmin(), 'postal_code']\n"
     ]
    },
    {
     "name": "stdout",
     "output_type": "stream",
     "text": [
      "62400\n"
     ]
    },
    {
     "name": "stderr",
     "output_type": "stream",
     "text": [
      "/var/folders/nw/13n2z96d7jv211k2c2mk6pkh0000gp/T/ipykernel_11652/3016908160.py:20: PerformanceWarning: indexing past lexsort depth may impact performance.\n",
      "  temp = dfZip.loc[dftemp['dist'].idxmin(), 'postal_code']\n"
     ]
    },
    {
     "name": "stdout",
     "output_type": "stream",
     "text": [
      "62232\n"
     ]
    },
    {
     "name": "stderr",
     "output_type": "stream",
     "text": [
      "/var/folders/nw/13n2z96d7jv211k2c2mk6pkh0000gp/T/ipykernel_11652/3016908160.py:20: PerformanceWarning: indexing past lexsort depth may impact performance.\n",
      "  temp = dfZip.loc[dftemp['dist'].idxmin(), 'postal_code']\n"
     ]
    },
    {
     "name": "stdout",
     "output_type": "stream",
     "text": [
      "62200\n"
     ]
    },
    {
     "name": "stderr",
     "output_type": "stream",
     "text": [
      "/var/folders/nw/13n2z96d7jv211k2c2mk6pkh0000gp/T/ipykernel_11652/3016908160.py:20: PerformanceWarning: indexing past lexsort depth may impact performance.\n",
      "  temp = dfZip.loc[dftemp['dist'].idxmin(), 'postal_code']\n"
     ]
    },
    {
     "name": "stdout",
     "output_type": "stream",
     "text": [
      "62700\n"
     ]
    },
    {
     "name": "stderr",
     "output_type": "stream",
     "text": [
      "/var/folders/nw/13n2z96d7jv211k2c2mk6pkh0000gp/T/ipykernel_11652/3016908160.py:20: PerformanceWarning: indexing past lexsort depth may impact performance.\n",
      "  temp = dfZip.loc[dftemp['dist'].idxmin(), 'postal_code']\n"
     ]
    },
    {
     "name": "stdout",
     "output_type": "stream",
     "text": [
      "62100\n"
     ]
    },
    {
     "name": "stderr",
     "output_type": "stream",
     "text": [
      "/var/folders/nw/13n2z96d7jv211k2c2mk6pkh0000gp/T/ipykernel_11652/3016908160.py:20: PerformanceWarning: indexing past lexsort depth may impact performance.\n",
      "  temp = dfZip.loc[dftemp['dist'].idxmin(), 'postal_code']\n"
     ]
    },
    {
     "name": "stdout",
     "output_type": "stream",
     "text": [
      "62000\n"
     ]
    },
    {
     "name": "stderr",
     "output_type": "stream",
     "text": [
      "/var/folders/nw/13n2z96d7jv211k2c2mk6pkh0000gp/T/ipykernel_11652/3016908160.py:20: PerformanceWarning: indexing past lexsort depth may impact performance.\n",
      "  temp = dfZip.loc[dftemp['dist'].idxmin(), 'postal_code']\n"
     ]
    },
    {
     "name": "stdout",
     "output_type": "stream",
     "text": [
      "62640\n"
     ]
    },
    {
     "name": "stderr",
     "output_type": "stream",
     "text": [
      "/var/folders/nw/13n2z96d7jv211k2c2mk6pkh0000gp/T/ipykernel_11652/3016908160.py:20: PerformanceWarning: indexing past lexsort depth may impact performance.\n",
      "  temp = dfZip.loc[dftemp['dist'].idxmin(), 'postal_code']\n"
     ]
    },
    {
     "name": "stdout",
     "output_type": "stream",
     "text": [
      "07000\n"
     ]
    },
    {
     "name": "stderr",
     "output_type": "stream",
     "text": [
      "/var/folders/nw/13n2z96d7jv211k2c2mk6pkh0000gp/T/ipykernel_11652/3016908160.py:20: PerformanceWarning: indexing past lexsort depth may impact performance.\n",
      "  temp = dfZip.loc[dftemp['dist'].idxmin(), 'postal_code']\n"
     ]
    },
    {
     "name": "stdout",
     "output_type": "stream",
     "text": [
      "62300\n"
     ]
    },
    {
     "name": "stderr",
     "output_type": "stream",
     "text": [
      "/var/folders/nw/13n2z96d7jv211k2c2mk6pkh0000gp/T/ipykernel_11652/3016908160.py:20: PerformanceWarning: indexing past lexsort depth may impact performance.\n",
      "  temp = dfZip.loc[dftemp['dist'].idxmin(), 'postal_code']\n"
     ]
    },
    {
     "name": "stdout",
     "output_type": "stream",
     "text": [
      "62500\n"
     ]
    },
    {
     "name": "stderr",
     "output_type": "stream",
     "text": [
      "/var/folders/nw/13n2z96d7jv211k2c2mk6pkh0000gp/T/ipykernel_11652/3016908160.py:20: PerformanceWarning: indexing past lexsort depth may impact performance.\n",
      "  temp = dfZip.loc[dftemp['dist'].idxmin(), 'postal_code']\n"
     ]
    },
    {
     "name": "stdout",
     "output_type": "stream",
     "text": [
      "63000\n"
     ]
    },
    {
     "name": "stderr",
     "output_type": "stream",
     "text": [
      "/var/folders/nw/13n2z96d7jv211k2c2mk6pkh0000gp/T/ipykernel_11652/3016908160.py:20: PerformanceWarning: indexing past lexsort depth may impact performance.\n",
      "  temp = dfZip.loc[dftemp['dist'].idxmin(), 'postal_code']\n"
     ]
    },
    {
     "name": "stdout",
     "output_type": "stream",
     "text": [
      "63170\n"
     ]
    },
    {
     "name": "stderr",
     "output_type": "stream",
     "text": [
      "/var/folders/nw/13n2z96d7jv211k2c2mk6pkh0000gp/T/ipykernel_11652/3016908160.py:20: PerformanceWarning: indexing past lexsort depth may impact performance.\n",
      "  temp = dfZip.loc[dftemp['dist'].idxmin(), 'postal_code']\n"
     ]
    },
    {
     "name": "stdout",
     "output_type": "stream",
     "text": [
      "63118\n"
     ]
    },
    {
     "name": "stderr",
     "output_type": "stream",
     "text": [
      "/var/folders/nw/13n2z96d7jv211k2c2mk6pkh0000gp/T/ipykernel_11652/3016908160.py:20: PerformanceWarning: indexing past lexsort depth may impact performance.\n",
      "  temp = dfZip.loc[dftemp['dist'].idxmin(), 'postal_code']\n"
     ]
    },
    {
     "name": "stdout",
     "output_type": "stream",
     "text": [
      "63000\n"
     ]
    },
    {
     "name": "stderr",
     "output_type": "stream",
     "text": [
      "/var/folders/nw/13n2z96d7jv211k2c2mk6pkh0000gp/T/ipykernel_11652/3016908160.py:20: PerformanceWarning: indexing past lexsort depth may impact performance.\n",
      "  temp = dfZip.loc[dftemp['dist'].idxmin(), 'postal_code']\n"
     ]
    },
    {
     "name": "stdout",
     "output_type": "stream",
     "text": [
      "63500\n"
     ]
    },
    {
     "name": "stderr",
     "output_type": "stream",
     "text": [
      "/var/folders/nw/13n2z96d7jv211k2c2mk6pkh0000gp/T/ipykernel_11652/3016908160.py:20: PerformanceWarning: indexing past lexsort depth may impact performance.\n",
      "  temp = dfZip.loc[dftemp['dist'].idxmin(), 'postal_code']\n"
     ]
    },
    {
     "name": "stdout",
     "output_type": "stream",
     "text": [
      "63200\n"
     ]
    },
    {
     "name": "stderr",
     "output_type": "stream",
     "text": [
      "/var/folders/nw/13n2z96d7jv211k2c2mk6pkh0000gp/T/ipykernel_11652/3016908160.py:20: PerformanceWarning: indexing past lexsort depth may impact performance.\n",
      "  temp = dfZip.loc[dftemp['dist'].idxmin(), 'postal_code']\n"
     ]
    },
    {
     "name": "stdout",
     "output_type": "stream",
     "text": [
      "63300\n"
     ]
    },
    {
     "name": "stderr",
     "output_type": "stream",
     "text": [
      "/var/folders/nw/13n2z96d7jv211k2c2mk6pkh0000gp/T/ipykernel_11652/3016908160.py:20: PerformanceWarning: indexing past lexsort depth may impact performance.\n",
      "  temp = dfZip.loc[dftemp['dist'].idxmin(), 'postal_code']\n"
     ]
    },
    {
     "name": "stdout",
     "output_type": "stream",
     "text": [
      "64600\n"
     ]
    },
    {
     "name": "stderr",
     "output_type": "stream",
     "text": [
      "/var/folders/nw/13n2z96d7jv211k2c2mk6pkh0000gp/T/ipykernel_11652/3016908160.py:20: PerformanceWarning: indexing past lexsort depth may impact performance.\n",
      "  temp = dfZip.loc[dftemp['dist'].idxmin(), 'postal_code']\n"
     ]
    },
    {
     "name": "stdout",
     "output_type": "stream",
     "text": [
      "08000\n"
     ]
    },
    {
     "name": "stderr",
     "output_type": "stream",
     "text": [
      "/var/folders/nw/13n2z96d7jv211k2c2mk6pkh0000gp/T/ipykernel_11652/3016908160.py:20: PerformanceWarning: indexing past lexsort depth may impact performance.\n",
      "  temp = dfZip.loc[dftemp['dist'].idxmin(), 'postal_code']\n"
     ]
    },
    {
     "name": "stdout",
     "output_type": "stream",
     "text": [
      "64100\n"
     ]
    },
    {
     "name": "stderr",
     "output_type": "stream",
     "text": [
      "/var/folders/nw/13n2z96d7jv211k2c2mk6pkh0000gp/T/ipykernel_11652/3016908160.py:20: PerformanceWarning: indexing past lexsort depth may impact performance.\n",
      "  temp = dfZip.loc[dftemp['dist'].idxmin(), 'postal_code']\n"
     ]
    },
    {
     "name": "stdout",
     "output_type": "stream",
     "text": [
      "64100\n"
     ]
    },
    {
     "name": "stderr",
     "output_type": "stream",
     "text": [
      "/var/folders/nw/13n2z96d7jv211k2c2mk6pkh0000gp/T/ipykernel_11652/3016908160.py:20: PerformanceWarning: indexing past lexsort depth may impact performance.\n",
      "  temp = dfZip.loc[dftemp['dist'].idxmin(), 'postal_code']\n"
     ]
    },
    {
     "name": "stdout",
     "output_type": "stream",
     "text": [
      "64110\n"
     ]
    },
    {
     "name": "stderr",
     "output_type": "stream",
     "text": [
      "/var/folders/nw/13n2z96d7jv211k2c2mk6pkh0000gp/T/ipykernel_11652/3016908160.py:20: PerformanceWarning: indexing past lexsort depth may impact performance.\n",
      "  temp = dfZip.loc[dftemp['dist'].idxmin(), 'postal_code']\n"
     ]
    },
    {
     "name": "stdout",
     "output_type": "stream",
     "text": [
      "64320\n"
     ]
    },
    {
     "name": "stderr",
     "output_type": "stream",
     "text": [
      "/var/folders/nw/13n2z96d7jv211k2c2mk6pkh0000gp/T/ipykernel_11652/3016908160.py:20: PerformanceWarning: indexing past lexsort depth may impact performance.\n",
      "  temp = dfZip.loc[dftemp['dist'].idxmin(), 'postal_code']\n"
     ]
    },
    {
     "name": "stdout",
     "output_type": "stream",
     "text": [
      "64000\n"
     ]
    },
    {
     "name": "stderr",
     "output_type": "stream",
     "text": [
      "/var/folders/nw/13n2z96d7jv211k2c2mk6pkh0000gp/T/ipykernel_11652/3016908160.py:20: PerformanceWarning: indexing past lexsort depth may impact performance.\n",
      "  temp = dfZip.loc[dftemp['dist'].idxmin(), 'postal_code']\n"
     ]
    },
    {
     "name": "stdout",
     "output_type": "stream",
     "text": [
      "64000\n"
     ]
    },
    {
     "name": "stderr",
     "output_type": "stream",
     "text": [
      "/var/folders/nw/13n2z96d7jv211k2c2mk6pkh0000gp/T/ipykernel_11652/3016908160.py:20: PerformanceWarning: indexing past lexsort depth may impact performance.\n",
      "  temp = dfZip.loc[dftemp['dist'].idxmin(), 'postal_code']\n"
     ]
    },
    {
     "name": "stdout",
     "output_type": "stream",
     "text": [
      "65600\n"
     ]
    },
    {
     "name": "stderr",
     "output_type": "stream",
     "text": [
      "/var/folders/nw/13n2z96d7jv211k2c2mk6pkh0000gp/T/ipykernel_11652/3016908160.py:20: PerformanceWarning: indexing past lexsort depth may impact performance.\n",
      "  temp = dfZip.loc[dftemp['dist'].idxmin(), 'postal_code']\n"
     ]
    },
    {
     "name": "stdout",
     "output_type": "stream",
     "text": [
      "65000\n"
     ]
    },
    {
     "name": "stderr",
     "output_type": "stream",
     "text": [
      "/var/folders/nw/13n2z96d7jv211k2c2mk6pkh0000gp/T/ipykernel_11652/3016908160.py:20: PerformanceWarning: indexing past lexsort depth may impact performance.\n",
      "  temp = dfZip.loc[dftemp['dist'].idxmin(), 'postal_code']\n"
     ]
    },
    {
     "name": "stdout",
     "output_type": "stream",
     "text": [
      "65000\n"
     ]
    },
    {
     "name": "stderr",
     "output_type": "stream",
     "text": [
      "/var/folders/nw/13n2z96d7jv211k2c2mk6pkh0000gp/T/ipykernel_11652/3016908160.py:20: PerformanceWarning: indexing past lexsort depth may impact performance.\n",
      "  temp = dfZip.loc[dftemp['dist'].idxmin(), 'postal_code']\n"
     ]
    },
    {
     "name": "stdout",
     "output_type": "stream",
     "text": [
      "66000\n"
     ]
    },
    {
     "name": "stderr",
     "output_type": "stream",
     "text": [
      "/var/folders/nw/13n2z96d7jv211k2c2mk6pkh0000gp/T/ipykernel_11652/3016908160.py:20: PerformanceWarning: indexing past lexsort depth may impact performance.\n",
      "  temp = dfZip.loc[dftemp['dist'].idxmin(), 'postal_code']\n"
     ]
    },
    {
     "name": "stdout",
     "output_type": "stream",
     "text": [
      "08000\n"
     ]
    },
    {
     "name": "stderr",
     "output_type": "stream",
     "text": [
      "/var/folders/nw/13n2z96d7jv211k2c2mk6pkh0000gp/T/ipykernel_11652/3016908160.py:20: PerformanceWarning: indexing past lexsort depth may impact performance.\n",
      "  temp = dfZip.loc[dftemp['dist'].idxmin(), 'postal_code']\n"
     ]
    },
    {
     "name": "stdout",
     "output_type": "stream",
     "text": [
      "66000\n"
     ]
    },
    {
     "name": "stderr",
     "output_type": "stream",
     "text": [
      "/var/folders/nw/13n2z96d7jv211k2c2mk6pkh0000gp/T/ipykernel_11652/3016908160.py:20: PerformanceWarning: indexing past lexsort depth may impact performance.\n",
      "  temp = dfZip.loc[dftemp['dist'].idxmin(), 'postal_code']\n"
     ]
    },
    {
     "name": "stdout",
     "output_type": "stream",
     "text": [
      "67150\n"
     ]
    },
    {
     "name": "stderr",
     "output_type": "stream",
     "text": [
      "/var/folders/nw/13n2z96d7jv211k2c2mk6pkh0000gp/T/ipykernel_11652/3016908160.py:20: PerformanceWarning: indexing past lexsort depth may impact performance.\n",
      "  temp = dfZip.loc[dftemp['dist'].idxmin(), 'postal_code']\n"
     ]
    },
    {
     "name": "stdout",
     "output_type": "stream",
     "text": [
      "67500\n"
     ]
    },
    {
     "name": "stderr",
     "output_type": "stream",
     "text": [
      "/var/folders/nw/13n2z96d7jv211k2c2mk6pkh0000gp/T/ipykernel_11652/3016908160.py:20: PerformanceWarning: indexing past lexsort depth may impact performance.\n",
      "  temp = dfZip.loc[dftemp['dist'].idxmin(), 'postal_code']\n"
     ]
    },
    {
     "name": "stdout",
     "output_type": "stream",
     "text": [
      "67400\n"
     ]
    },
    {
     "name": "stderr",
     "output_type": "stream",
     "text": [
      "/var/folders/nw/13n2z96d7jv211k2c2mk6pkh0000gp/T/ipykernel_11652/3016908160.py:20: PerformanceWarning: indexing past lexsort depth may impact performance.\n",
      "  temp = dfZip.loc[dftemp['dist'].idxmin(), 'postal_code']\n"
     ]
    },
    {
     "name": "stdout",
     "output_type": "stream",
     "text": [
      "67831 CEDEX\n"
     ]
    },
    {
     "name": "stderr",
     "output_type": "stream",
     "text": [
      "/var/folders/nw/13n2z96d7jv211k2c2mk6pkh0000gp/T/ipykernel_11652/3016908160.py:20: PerformanceWarning: indexing past lexsort depth may impact performance.\n",
      "  temp = dfZip.loc[dftemp['dist'].idxmin(), 'postal_code']\n"
     ]
    },
    {
     "name": "stdout",
     "output_type": "stream",
     "text": [
      "67700\n"
     ]
    },
    {
     "name": "stderr",
     "output_type": "stream",
     "text": [
      "/var/folders/nw/13n2z96d7jv211k2c2mk6pkh0000gp/T/ipykernel_11652/3016908160.py:20: PerformanceWarning: indexing past lexsort depth may impact performance.\n",
      "  temp = dfZip.loc[dftemp['dist'].idxmin(), 'postal_code']\n"
     ]
    },
    {
     "name": "stdout",
     "output_type": "stream",
     "text": [
      "67300\n"
     ]
    },
    {
     "name": "stderr",
     "output_type": "stream",
     "text": [
      "/var/folders/nw/13n2z96d7jv211k2c2mk6pkh0000gp/T/ipykernel_11652/3016908160.py:20: PerformanceWarning: indexing past lexsort depth may impact performance.\n",
      "  temp = dfZip.loc[dftemp['dist'].idxmin(), 'postal_code']\n"
     ]
    },
    {
     "name": "stdout",
     "output_type": "stream",
     "text": [
      "67600\n"
     ]
    },
    {
     "name": "stderr",
     "output_type": "stream",
     "text": [
      "/var/folders/nw/13n2z96d7jv211k2c2mk6pkh0000gp/T/ipykernel_11652/3016908160.py:20: PerformanceWarning: indexing past lexsort depth may impact performance.\n",
      "  temp = dfZip.loc[dftemp['dist'].idxmin(), 'postal_code']\n"
     ]
    },
    {
     "name": "stdout",
     "output_type": "stream",
     "text": [
      "67000\n"
     ]
    },
    {
     "name": "stderr",
     "output_type": "stream",
     "text": [
      "/var/folders/nw/13n2z96d7jv211k2c2mk6pkh0000gp/T/ipykernel_11652/3016908160.py:20: PerformanceWarning: indexing past lexsort depth may impact performance.\n",
      "  temp = dfZip.loc[dftemp['dist'].idxmin(), 'postal_code']\n"
     ]
    },
    {
     "name": "stdout",
     "output_type": "stream",
     "text": [
      "67000\n"
     ]
    },
    {
     "name": "stderr",
     "output_type": "stream",
     "text": [
      "/var/folders/nw/13n2z96d7jv211k2c2mk6pkh0000gp/T/ipykernel_11652/3016908160.py:20: PerformanceWarning: indexing past lexsort depth may impact performance.\n",
      "  temp = dfZip.loc[dftemp['dist'].idxmin(), 'postal_code']\n"
     ]
    },
    {
     "name": "stdout",
     "output_type": "stream",
     "text": [
      "08000\n"
     ]
    },
    {
     "name": "stderr",
     "output_type": "stream",
     "text": [
      "/var/folders/nw/13n2z96d7jv211k2c2mk6pkh0000gp/T/ipykernel_11652/3016908160.py:20: PerformanceWarning: indexing past lexsort depth may impact performance.\n",
      "  temp = dfZip.loc[dftemp['dist'].idxmin(), 'postal_code']\n"
     ]
    },
    {
     "name": "stdout",
     "output_type": "stream",
     "text": [
      "67300\n"
     ]
    },
    {
     "name": "stderr",
     "output_type": "stream",
     "text": [
      "/var/folders/nw/13n2z96d7jv211k2c2mk6pkh0000gp/T/ipykernel_11652/3016908160.py:20: PerformanceWarning: indexing past lexsort depth may impact performance.\n",
      "  temp = dfZip.loc[dftemp['dist'].idxmin(), 'postal_code']\n"
     ]
    },
    {
     "name": "stdout",
     "output_type": "stream",
     "text": [
      "67160\n"
     ]
    },
    {
     "name": "stderr",
     "output_type": "stream",
     "text": [
      "/var/folders/nw/13n2z96d7jv211k2c2mk6pkh0000gp/T/ipykernel_11652/3016908160.py:20: PerformanceWarning: indexing past lexsort depth may impact performance.\n",
      "  temp = dfZip.loc[dftemp['dist'].idxmin(), 'postal_code']\n"
     ]
    },
    {
     "name": "stdout",
     "output_type": "stream",
     "text": [
      "68700\n"
     ]
    },
    {
     "name": "stderr",
     "output_type": "stream",
     "text": [
      "/var/folders/nw/13n2z96d7jv211k2c2mk6pkh0000gp/T/ipykernel_11652/3016908160.py:20: PerformanceWarning: indexing past lexsort depth may impact performance.\n",
      "  temp = dfZip.loc[dftemp['dist'].idxmin(), 'postal_code']\n"
     ]
    },
    {
     "name": "stdout",
     "output_type": "stream",
     "text": [
      "68000\n"
     ]
    },
    {
     "name": "stderr",
     "output_type": "stream",
     "text": [
      "/var/folders/nw/13n2z96d7jv211k2c2mk6pkh0000gp/T/ipykernel_11652/3016908160.py:20: PerformanceWarning: indexing past lexsort depth may impact performance.\n",
      "  temp = dfZip.loc[dftemp['dist'].idxmin(), 'postal_code']\n"
     ]
    },
    {
     "name": "stdout",
     "output_type": "stream",
     "text": [
      "68000\n"
     ]
    },
    {
     "name": "stderr",
     "output_type": "stream",
     "text": [
      "/var/folders/nw/13n2z96d7jv211k2c2mk6pkh0000gp/T/ipykernel_11652/3016908160.py:20: PerformanceWarning: indexing past lexsort depth may impact performance.\n",
      "  temp = dfZip.loc[dftemp['dist'].idxmin(), 'postal_code']\n"
     ]
    },
    {
     "name": "stdout",
     "output_type": "stream",
     "text": [
      "68000\n"
     ]
    },
    {
     "name": "stderr",
     "output_type": "stream",
     "text": [
      "/var/folders/nw/13n2z96d7jv211k2c2mk6pkh0000gp/T/ipykernel_11652/3016908160.py:20: PerformanceWarning: indexing past lexsort depth may impact performance.\n",
      "  temp = dfZip.loc[dftemp['dist'].idxmin(), 'postal_code']\n"
     ]
    },
    {
     "name": "stdout",
     "output_type": "stream",
     "text": [
      "68500\n"
     ]
    },
    {
     "name": "stderr",
     "output_type": "stream",
     "text": [
      "/var/folders/nw/13n2z96d7jv211k2c2mk6pkh0000gp/T/ipykernel_11652/3016908160.py:20: PerformanceWarning: indexing past lexsort depth may impact performance.\n",
      "  temp = dfZip.loc[dftemp['dist'].idxmin(), 'postal_code']\n"
     ]
    },
    {
     "name": "stdout",
     "output_type": "stream",
     "text": [
      "68720\n"
     ]
    },
    {
     "name": "stderr",
     "output_type": "stream",
     "text": [
      "/var/folders/nw/13n2z96d7jv211k2c2mk6pkh0000gp/T/ipykernel_11652/3016908160.py:20: PerformanceWarning: indexing past lexsort depth may impact performance.\n",
      "  temp = dfZip.loc[dftemp['dist'].idxmin(), 'postal_code']\n"
     ]
    },
    {
     "name": "stdout",
     "output_type": "stream",
     "text": [
      "68110\n"
     ]
    },
    {
     "name": "stderr",
     "output_type": "stream",
     "text": [
      "/var/folders/nw/13n2z96d7jv211k2c2mk6pkh0000gp/T/ipykernel_11652/3016908160.py:20: PerformanceWarning: indexing past lexsort depth may impact performance.\n",
      "  temp = dfZip.loc[dftemp['dist'].idxmin(), 'postal_code']\n"
     ]
    },
    {
     "name": "stdout",
     "output_type": "stream",
     "text": [
      "68050 CEDEX 1\n"
     ]
    },
    {
     "name": "stderr",
     "output_type": "stream",
     "text": [
      "/var/folders/nw/13n2z96d7jv211k2c2mk6pkh0000gp/T/ipykernel_11652/3016908160.py:20: PerformanceWarning: indexing past lexsort depth may impact performance.\n",
      "  temp = dfZip.loc[dftemp['dist'].idxmin(), 'postal_code']\n"
     ]
    },
    {
     "name": "stdout",
     "output_type": "stream",
     "text": [
      "09000\n"
     ]
    },
    {
     "name": "stderr",
     "output_type": "stream",
     "text": [
      "/var/folders/nw/13n2z96d7jv211k2c2mk6pkh0000gp/T/ipykernel_11652/3016908160.py:20: PerformanceWarning: indexing past lexsort depth may impact performance.\n",
      "  temp = dfZip.loc[dftemp['dist'].idxmin(), 'postal_code']\n"
     ]
    },
    {
     "name": "stdout",
     "output_type": "stream",
     "text": [
      "68140\n"
     ]
    },
    {
     "name": "stderr",
     "output_type": "stream",
     "text": [
      "/var/folders/nw/13n2z96d7jv211k2c2mk6pkh0000gp/T/ipykernel_11652/3016908160.py:20: PerformanceWarning: indexing past lexsort depth may impact performance.\n",
      "  temp = dfZip.loc[dftemp['dist'].idxmin(), 'postal_code']\n"
     ]
    },
    {
     "name": "stdout",
     "output_type": "stream",
     "text": [
      "68140\n"
     ]
    },
    {
     "name": "stderr",
     "output_type": "stream",
     "text": [
      "/var/folders/nw/13n2z96d7jv211k2c2mk6pkh0000gp/T/ipykernel_11652/3016908160.py:20: PerformanceWarning: indexing past lexsort depth may impact performance.\n",
      "  temp = dfZip.loc[dftemp['dist'].idxmin(), 'postal_code']\n"
     ]
    },
    {
     "name": "stdout",
     "output_type": "stream",
     "text": [
      "68150\n"
     ]
    },
    {
     "name": "stderr",
     "output_type": "stream",
     "text": [
      "/var/folders/nw/13n2z96d7jv211k2c2mk6pkh0000gp/T/ipykernel_11652/3016908160.py:20: PerformanceWarning: indexing past lexsort depth may impact performance.\n",
      "  temp = dfZip.loc[dftemp['dist'].idxmin(), 'postal_code']\n"
     ]
    },
    {
     "name": "stdout",
     "output_type": "stream",
     "text": [
      "68400\n"
     ]
    },
    {
     "name": "stderr",
     "output_type": "stream",
     "text": [
      "/var/folders/nw/13n2z96d7jv211k2c2mk6pkh0000gp/T/ipykernel_11652/3016908160.py:20: PerformanceWarning: indexing past lexsort depth may impact performance.\n",
      "  temp = dfZip.loc[dftemp['dist'].idxmin(), 'postal_code']\n"
     ]
    },
    {
     "name": "stdout",
     "output_type": "stream",
     "text": [
      "68170\n"
     ]
    },
    {
     "name": "stderr",
     "output_type": "stream",
     "text": [
      "/var/folders/nw/13n2z96d7jv211k2c2mk6pkh0000gp/T/ipykernel_11652/3016908160.py:20: PerformanceWarning: indexing past lexsort depth may impact performance.\n",
      "  temp = dfZip.loc[dftemp['dist'].idxmin(), 'postal_code']\n"
     ]
    },
    {
     "name": "stdout",
     "output_type": "stream",
     "text": [
      "68250\n"
     ]
    },
    {
     "name": "stderr",
     "output_type": "stream",
     "text": [
      "/var/folders/nw/13n2z96d7jv211k2c2mk6pkh0000gp/T/ipykernel_11652/3016908160.py:20: PerformanceWarning: indexing past lexsort depth may impact performance.\n",
      "  temp = dfZip.loc[dftemp['dist'].idxmin(), 'postal_code']\n"
     ]
    },
    {
     "name": "stdout",
     "output_type": "stream",
     "text": [
      "68160\n"
     ]
    },
    {
     "name": "stderr",
     "output_type": "stream",
     "text": [
      "/var/folders/nw/13n2z96d7jv211k2c2mk6pkh0000gp/T/ipykernel_11652/3016908160.py:20: PerformanceWarning: indexing past lexsort depth may impact performance.\n",
      "  temp = dfZip.loc[dftemp['dist'].idxmin(), 'postal_code']\n"
     ]
    },
    {
     "name": "stdout",
     "output_type": "stream",
     "text": [
      "68128\n"
     ]
    },
    {
     "name": "stderr",
     "output_type": "stream",
     "text": [
      "/var/folders/nw/13n2z96d7jv211k2c2mk6pkh0000gp/T/ipykernel_11652/3016908160.py:20: PerformanceWarning: indexing past lexsort depth may impact performance.\n",
      "  temp = dfZip.loc[dftemp['dist'].idxmin(), 'postal_code']\n"
     ]
    },
    {
     "name": "stdout",
     "output_type": "stream",
     "text": [
      "68128\n"
     ]
    },
    {
     "name": "stderr",
     "output_type": "stream",
     "text": [
      "/var/folders/nw/13n2z96d7jv211k2c2mk6pkh0000gp/T/ipykernel_11652/3016908160.py:20: PerformanceWarning: indexing past lexsort depth may impact performance.\n",
      "  temp = dfZip.loc[dftemp['dist'].idxmin(), 'postal_code']\n"
     ]
    },
    {
     "name": "stdout",
     "output_type": "stream",
     "text": [
      "68160\n"
     ]
    },
    {
     "name": "stderr",
     "output_type": "stream",
     "text": [
      "/var/folders/nw/13n2z96d7jv211k2c2mk6pkh0000gp/T/ipykernel_11652/3016908160.py:20: PerformanceWarning: indexing past lexsort depth may impact performance.\n",
      "  temp = dfZip.loc[dftemp['dist'].idxmin(), 'postal_code']\n"
     ]
    },
    {
     "name": "stdout",
     "output_type": "stream",
     "text": [
      "09100\n"
     ]
    },
    {
     "name": "stderr",
     "output_type": "stream",
     "text": [
      "/var/folders/nw/13n2z96d7jv211k2c2mk6pkh0000gp/T/ipykernel_11652/3016908160.py:20: PerformanceWarning: indexing past lexsort depth may impact performance.\n",
      "  temp = dfZip.loc[dftemp['dist'].idxmin(), 'postal_code']\n"
     ]
    },
    {
     "name": "stdout",
     "output_type": "stream",
     "text": [
      "68570\n"
     ]
    },
    {
     "name": "stderr",
     "output_type": "stream",
     "text": [
      "/var/folders/nw/13n2z96d7jv211k2c2mk6pkh0000gp/T/ipykernel_11652/3016908160.py:20: PerformanceWarning: indexing past lexsort depth may impact performance.\n",
      "  temp = dfZip.loc[dftemp['dist'].idxmin(), 'postal_code']\n"
     ]
    },
    {
     "name": "stdout",
     "output_type": "stream",
     "text": [
      "69530\n"
     ]
    },
    {
     "name": "stderr",
     "output_type": "stream",
     "text": [
      "/var/folders/nw/13n2z96d7jv211k2c2mk6pkh0000gp/T/ipykernel_11652/3016908160.py:20: PerformanceWarning: indexing past lexsort depth may impact performance.\n",
      "  temp = dfZip.loc[dftemp['dist'].idxmin(), 'postal_code']\n"
     ]
    },
    {
     "name": "stdout",
     "output_type": "stream",
     "text": [
      "69500\n"
     ]
    },
    {
     "name": "stderr",
     "output_type": "stream",
     "text": [
      "/var/folders/nw/13n2z96d7jv211k2c2mk6pkh0000gp/T/ipykernel_11652/3016908160.py:20: PerformanceWarning: indexing past lexsort depth may impact performance.\n",
      "  temp = dfZip.loc[dftemp['dist'].idxmin(), 'postal_code']\n"
     ]
    },
    {
     "name": "stdout",
     "output_type": "stream",
     "text": [
      "69300\n"
     ]
    },
    {
     "name": "stderr",
     "output_type": "stream",
     "text": [
      "/var/folders/nw/13n2z96d7jv211k2c2mk6pkh0000gp/T/ipykernel_11652/3016908160.py:20: PerformanceWarning: indexing past lexsort depth may impact performance.\n",
      "  temp = dfZip.loc[dftemp['dist'].idxmin(), 'postal_code']\n"
     ]
    },
    {
     "name": "stdout",
     "output_type": "stream",
     "text": [
      "69700\n"
     ]
    },
    {
     "name": "stderr",
     "output_type": "stream",
     "text": [
      "/var/folders/nw/13n2z96d7jv211k2c2mk6pkh0000gp/T/ipykernel_11652/3016908160.py:20: PerformanceWarning: indexing past lexsort depth may impact performance.\n",
      "  temp = dfZip.loc[dftemp['dist'].idxmin(), 'postal_code']\n"
     ]
    },
    {
     "name": "stdout",
     "output_type": "stream",
     "text": [
      "69520\n"
     ]
    },
    {
     "name": "stderr",
     "output_type": "stream",
     "text": [
      "/var/folders/nw/13n2z96d7jv211k2c2mk6pkh0000gp/T/ipykernel_11652/3016908160.py:20: PerformanceWarning: indexing past lexsort depth may impact performance.\n",
      "  temp = dfZip.loc[dftemp['dist'].idxmin(), 'postal_code']\n"
     ]
    },
    {
     "name": "stdout",
     "output_type": "stream",
     "text": [
      "69540\n"
     ]
    },
    {
     "name": "stderr",
     "output_type": "stream",
     "text": [
      "/var/folders/nw/13n2z96d7jv211k2c2mk6pkh0000gp/T/ipykernel_11652/3016908160.py:20: PerformanceWarning: indexing past lexsort depth may impact performance.\n",
      "  temp = dfZip.loc[dftemp['dist'].idxmin(), 'postal_code']\n"
     ]
    },
    {
     "name": "stdout",
     "output_type": "stream",
     "text": [
      "69600\n"
     ]
    },
    {
     "name": "stderr",
     "output_type": "stream",
     "text": [
      "/var/folders/nw/13n2z96d7jv211k2c2mk6pkh0000gp/T/ipykernel_11652/3016908160.py:20: PerformanceWarning: indexing past lexsort depth may impact performance.\n",
      "  temp = dfZip.loc[dftemp['dist'].idxmin(), 'postal_code']\n"
     ]
    },
    {
     "name": "stdout",
     "output_type": "stream",
     "text": [
      "69310\n"
     ]
    },
    {
     "name": "stderr",
     "output_type": "stream",
     "text": [
      "/var/folders/nw/13n2z96d7jv211k2c2mk6pkh0000gp/T/ipykernel_11652/3016908160.py:20: PerformanceWarning: indexing past lexsort depth may impact performance.\n",
      "  temp = dfZip.loc[dftemp['dist'].idxmin(), 'postal_code']\n"
     ]
    },
    {
     "name": "stdout",
     "output_type": "stream",
     "text": [
      "69190\n"
     ]
    },
    {
     "name": "stderr",
     "output_type": "stream",
     "text": [
      "/var/folders/nw/13n2z96d7jv211k2c2mk6pkh0000gp/T/ipykernel_11652/3016908160.py:20: PerformanceWarning: indexing past lexsort depth may impact performance.\n",
      "  temp = dfZip.loc[dftemp['dist'].idxmin(), 'postal_code']\n"
     ]
    },
    {
     "name": "stdout",
     "output_type": "stream",
     "text": [
      "01960\n"
     ]
    },
    {
     "name": "stderr",
     "output_type": "stream",
     "text": [
      "/var/folders/nw/13n2z96d7jv211k2c2mk6pkh0000gp/T/ipykernel_11652/3016908160.py:20: PerformanceWarning: indexing past lexsort depth may impact performance.\n",
      "  temp = dfZip.loc[dftemp['dist'].idxmin(), 'postal_code']\n"
     ]
    },
    {
     "name": "stdout",
     "output_type": "stream",
     "text": [
      "10600\n"
     ]
    },
    {
     "name": "stderr",
     "output_type": "stream",
     "text": [
      "/var/folders/nw/13n2z96d7jv211k2c2mk6pkh0000gp/T/ipykernel_11652/3016908160.py:20: PerformanceWarning: indexing past lexsort depth may impact performance.\n",
      "  temp = dfZip.loc[dftemp['dist'].idxmin(), 'postal_code']\n"
     ]
    },
    {
     "name": "stdout",
     "output_type": "stream",
     "text": [
      "69110\n"
     ]
    },
    {
     "name": "stderr",
     "output_type": "stream",
     "text": [
      "/var/folders/nw/13n2z96d7jv211k2c2mk6pkh0000gp/T/ipykernel_11652/3016908160.py:20: PerformanceWarning: indexing past lexsort depth may impact performance.\n",
      "  temp = dfZip.loc[dftemp['dist'].idxmin(), 'postal_code']\n"
     ]
    },
    {
     "name": "stdout",
     "output_type": "stream",
     "text": [
      "69110\n"
     ]
    },
    {
     "name": "stderr",
     "output_type": "stream",
     "text": [
      "/var/folders/nw/13n2z96d7jv211k2c2mk6pkh0000gp/T/ipykernel_11652/3016908160.py:20: PerformanceWarning: indexing past lexsort depth may impact performance.\n",
      "  temp = dfZip.loc[dftemp['dist'].idxmin(), 'postal_code']\n"
     ]
    },
    {
     "name": "stdout",
     "output_type": "stream",
     "text": [
      "69170\n"
     ]
    },
    {
     "name": "stderr",
     "output_type": "stream",
     "text": [
      "/var/folders/nw/13n2z96d7jv211k2c2mk6pkh0000gp/T/ipykernel_11652/3016908160.py:20: PerformanceWarning: indexing past lexsort depth may impact performance.\n",
      "  temp = dfZip.loc[dftemp['dist'].idxmin(), 'postal_code']\n"
     ]
    },
    {
     "name": "stdout",
     "output_type": "stream",
     "text": [
      "69120\n"
     ]
    },
    {
     "name": "stderr",
     "output_type": "stream",
     "text": [
      "/var/folders/nw/13n2z96d7jv211k2c2mk6pkh0000gp/T/ipykernel_11652/3016908160.py:20: PerformanceWarning: indexing past lexsort depth may impact performance.\n",
      "  temp = dfZip.loc[dftemp['dist'].idxmin(), 'postal_code']\n"
     ]
    },
    {
     "name": "stdout",
     "output_type": "stream",
     "text": [
      "69200\n"
     ]
    },
    {
     "name": "stderr",
     "output_type": "stream",
     "text": [
      "/var/folders/nw/13n2z96d7jv211k2c2mk6pkh0000gp/T/ipykernel_11652/3016908160.py:20: PerformanceWarning: indexing past lexsort depth may impact performance.\n",
      "  temp = dfZip.loc[dftemp['dist'].idxmin(), 'postal_code']\n"
     ]
    },
    {
     "name": "stdout",
     "output_type": "stream",
     "text": [
      "69400\n"
     ]
    },
    {
     "name": "stderr",
     "output_type": "stream",
     "text": [
      "/var/folders/nw/13n2z96d7jv211k2c2mk6pkh0000gp/T/ipykernel_11652/3016908160.py:20: PerformanceWarning: indexing past lexsort depth may impact performance.\n",
      "  temp = dfZip.loc[dftemp['dist'].idxmin(), 'postal_code']\n"
     ]
    },
    {
     "name": "stdout",
     "output_type": "stream",
     "text": [
      "69100\n"
     ]
    },
    {
     "name": "stderr",
     "output_type": "stream",
     "text": [
      "/var/folders/nw/13n2z96d7jv211k2c2mk6pkh0000gp/T/ipykernel_11652/3016908160.py:20: PerformanceWarning: indexing past lexsort depth may impact performance.\n",
      "  temp = dfZip.loc[dftemp['dist'].idxmin(), 'postal_code']\n"
     ]
    },
    {
     "name": "stdout",
     "output_type": "stream",
     "text": [
      "69680\n"
     ]
    },
    {
     "name": "stderr",
     "output_type": "stream",
     "text": [
      "/var/folders/nw/13n2z96d7jv211k2c2mk6pkh0000gp/T/ipykernel_11652/3016908160.py:20: PerformanceWarning: indexing past lexsort depth may impact performance.\n",
      "  temp = dfZip.loc[dftemp['dist'].idxmin(), 'postal_code']\n"
     ]
    },
    {
     "name": "stdout",
     "output_type": "stream",
     "text": [
      "69150\n"
     ]
    },
    {
     "name": "stderr",
     "output_type": "stream",
     "text": [
      "/var/folders/nw/13n2z96d7jv211k2c2mk6pkh0000gp/T/ipykernel_11652/3016908160.py:20: PerformanceWarning: indexing past lexsort depth may impact performance.\n",
      "  temp = dfZip.loc[dftemp['dist'].idxmin(), 'postal_code']\n"
     ]
    },
    {
     "name": "stdout",
     "output_type": "stream",
     "text": [
      "69740\n"
     ]
    },
    {
     "name": "stderr",
     "output_type": "stream",
     "text": [
      "/var/folders/nw/13n2z96d7jv211k2c2mk6pkh0000gp/T/ipykernel_11652/3016908160.py:20: PerformanceWarning: indexing past lexsort depth may impact performance.\n",
      "  temp = dfZip.loc[dftemp['dist'].idxmin(), 'postal_code']\n"
     ]
    },
    {
     "name": "stdout",
     "output_type": "stream",
     "text": [
      "10100\n"
     ]
    },
    {
     "name": "stderr",
     "output_type": "stream",
     "text": [
      "/var/folders/nw/13n2z96d7jv211k2c2mk6pkh0000gp/T/ipykernel_11652/3016908160.py:20: PerformanceWarning: indexing past lexsort depth may impact performance.\n",
      "  temp = dfZip.loc[dftemp['dist'].idxmin(), 'postal_code']\n"
     ]
    },
    {
     "name": "stdout",
     "output_type": "stream",
     "text": [
      "69330\n"
     ]
    },
    {
     "name": "stderr",
     "output_type": "stream",
     "text": [
      "/var/folders/nw/13n2z96d7jv211k2c2mk6pkh0000gp/T/ipykernel_11652/3016908160.py:20: PerformanceWarning: indexing past lexsort depth may impact performance.\n",
      "  temp = dfZip.loc[dftemp['dist'].idxmin(), 'postal_code']\n"
     ]
    },
    {
     "name": "stdout",
     "output_type": "stream",
     "text": [
      "69140\n"
     ]
    },
    {
     "name": "stderr",
     "output_type": "stream",
     "text": [
      "/var/folders/nw/13n2z96d7jv211k2c2mk6pkh0000gp/T/ipykernel_11652/3016908160.py:20: PerformanceWarning: indexing past lexsort depth may impact performance.\n",
      "  temp = dfZip.loc[dftemp['dist'].idxmin(), 'postal_code']\n"
     ]
    },
    {
     "name": "stdout",
     "output_type": "stream",
     "text": [
      "69791 CEDEX\n"
     ]
    },
    {
     "name": "stderr",
     "output_type": "stream",
     "text": [
      "/var/folders/nw/13n2z96d7jv211k2c2mk6pkh0000gp/T/ipykernel_11652/3016908160.py:20: PerformanceWarning: indexing past lexsort depth may impact performance.\n",
      "  temp = dfZip.loc[dftemp['dist'].idxmin(), 'postal_code']\n"
     ]
    },
    {
     "name": "stdout",
     "output_type": "stream",
     "text": [
      "69350\n"
     ]
    },
    {
     "name": "stderr",
     "output_type": "stream",
     "text": [
      "/var/folders/nw/13n2z96d7jv211k2c2mk6pkh0000gp/T/ipykernel_11652/3016908160.py:20: PerformanceWarning: indexing past lexsort depth may impact performance.\n",
      "  temp = dfZip.loc[dftemp['dist'].idxmin(), 'postal_code']\n"
     ]
    },
    {
     "name": "stdout",
     "output_type": "stream",
     "text": [
      "69002\n"
     ]
    },
    {
     "name": "stderr",
     "output_type": "stream",
     "text": [
      "/var/folders/nw/13n2z96d7jv211k2c2mk6pkh0000gp/T/ipykernel_11652/3016908160.py:20: PerformanceWarning: indexing past lexsort depth may impact performance.\n",
      "  temp = dfZip.loc[dftemp['dist'].idxmin(), 'postal_code']\n"
     ]
    },
    {
     "name": "stdout",
     "output_type": "stream",
     "text": [
      "69003\n"
     ]
    },
    {
     "name": "stderr",
     "output_type": "stream",
     "text": [
      "/var/folders/nw/13n2z96d7jv211k2c2mk6pkh0000gp/T/ipykernel_11652/3016908160.py:20: PerformanceWarning: indexing past lexsort depth may impact performance.\n",
      "  temp = dfZip.loc[dftemp['dist'].idxmin(), 'postal_code']\n"
     ]
    },
    {
     "name": "stdout",
     "output_type": "stream",
     "text": [
      "70400\n"
     ]
    },
    {
     "name": "stderr",
     "output_type": "stream",
     "text": [
      "/var/folders/nw/13n2z96d7jv211k2c2mk6pkh0000gp/T/ipykernel_11652/3016908160.py:20: PerformanceWarning: indexing past lexsort depth may impact performance.\n",
      "  temp = dfZip.loc[dftemp['dist'].idxmin(), 'postal_code']\n"
     ]
    },
    {
     "name": "stdout",
     "output_type": "stream",
     "text": [
      "70200\n"
     ]
    },
    {
     "name": "stderr",
     "output_type": "stream",
     "text": [
      "/var/folders/nw/13n2z96d7jv211k2c2mk6pkh0000gp/T/ipykernel_11652/3016908160.py:20: PerformanceWarning: indexing past lexsort depth may impact performance.\n",
      "  temp = dfZip.loc[dftemp['dist'].idxmin(), 'postal_code']\n"
     ]
    },
    {
     "name": "stdout",
     "output_type": "stream",
     "text": [
      "70000\n"
     ]
    },
    {
     "name": "stderr",
     "output_type": "stream",
     "text": [
      "/var/folders/nw/13n2z96d7jv211k2c2mk6pkh0000gp/T/ipykernel_11652/3016908160.py:20: PerformanceWarning: indexing past lexsort depth may impact performance.\n",
      "  temp = dfZip.loc[dftemp['dist'].idxmin(), 'postal_code']\n"
     ]
    },
    {
     "name": "stdout",
     "output_type": "stream",
     "text": [
      "70000\n"
     ]
    },
    {
     "name": "stderr",
     "output_type": "stream",
     "text": [
      "/var/folders/nw/13n2z96d7jv211k2c2mk6pkh0000gp/T/ipykernel_11652/3016908160.py:20: PerformanceWarning: indexing past lexsort depth may impact performance.\n",
      "  temp = dfZip.loc[dftemp['dist'].idxmin(), 'postal_code']\n"
     ]
    },
    {
     "name": "stdout",
     "output_type": "stream",
     "text": [
      "10440\n"
     ]
    },
    {
     "name": "stderr",
     "output_type": "stream",
     "text": [
      "/var/folders/nw/13n2z96d7jv211k2c2mk6pkh0000gp/T/ipykernel_11652/3016908160.py:20: PerformanceWarning: indexing past lexsort depth may impact performance.\n",
      "  temp = dfZip.loc[dftemp['dist'].idxmin(), 'postal_code']\n"
     ]
    },
    {
     "name": "stdout",
     "output_type": "stream",
     "text": [
      "70000\n"
     ]
    },
    {
     "name": "stderr",
     "output_type": "stream",
     "text": [
      "/var/folders/nw/13n2z96d7jv211k2c2mk6pkh0000gp/T/ipykernel_11652/3016908160.py:20: PerformanceWarning: indexing past lexsort depth may impact performance.\n",
      "  temp = dfZip.loc[dftemp['dist'].idxmin(), 'postal_code']\n"
     ]
    },
    {
     "name": "stdout",
     "output_type": "stream",
     "text": [
      "71880\n"
     ]
    },
    {
     "name": "stderr",
     "output_type": "stream",
     "text": [
      "/var/folders/nw/13n2z96d7jv211k2c2mk6pkh0000gp/T/ipykernel_11652/3016908160.py:20: PerformanceWarning: indexing past lexsort depth may impact performance.\n",
      "  temp = dfZip.loc[dftemp['dist'].idxmin(), 'postal_code']\n"
     ]
    },
    {
     "name": "stdout",
     "output_type": "stream",
     "text": [
      "01750\n"
     ]
    },
    {
     "name": "stderr",
     "output_type": "stream",
     "text": [
      "/var/folders/nw/13n2z96d7jv211k2c2mk6pkh0000gp/T/ipykernel_11652/3016908160.py:20: PerformanceWarning: indexing past lexsort depth may impact performance.\n",
      "  temp = dfZip.loc[dftemp['dist'].idxmin(), 'postal_code']\n"
     ]
    },
    {
     "name": "stdout",
     "output_type": "stream",
     "text": [
      "01750\n"
     ]
    },
    {
     "name": "stderr",
     "output_type": "stream",
     "text": [
      "/var/folders/nw/13n2z96d7jv211k2c2mk6pkh0000gp/T/ipykernel_11652/3016908160.py:20: PerformanceWarning: indexing past lexsort depth may impact performance.\n",
      "  temp = dfZip.loc[dftemp['dist'].idxmin(), 'postal_code']\n"
     ]
    },
    {
     "name": "stdout",
     "output_type": "stream",
     "text": [
      "71000\n"
     ]
    },
    {
     "name": "stderr",
     "output_type": "stream",
     "text": [
      "/var/folders/nw/13n2z96d7jv211k2c2mk6pkh0000gp/T/ipykernel_11652/3016908160.py:20: PerformanceWarning: indexing past lexsort depth may impact performance.\n",
      "  temp = dfZip.loc[dftemp['dist'].idxmin(), 'postal_code']\n"
     ]
    },
    {
     "name": "stdout",
     "output_type": "stream",
     "text": [
      "72000\n"
     ]
    },
    {
     "name": "stderr",
     "output_type": "stream",
     "text": [
      "/var/folders/nw/13n2z96d7jv211k2c2mk6pkh0000gp/T/ipykernel_11652/3016908160.py:20: PerformanceWarning: indexing past lexsort depth may impact performance.\n",
      "  temp = dfZip.loc[dftemp['dist'].idxmin(), 'postal_code']\n"
     ]
    },
    {
     "name": "stdout",
     "output_type": "stream",
     "text": [
      "72000\n"
     ]
    },
    {
     "name": "stderr",
     "output_type": "stream",
     "text": [
      "/var/folders/nw/13n2z96d7jv211k2c2mk6pkh0000gp/T/ipykernel_11652/3016908160.py:20: PerformanceWarning: indexing past lexsort depth may impact performance.\n",
      "  temp = dfZip.loc[dftemp['dist'].idxmin(), 'postal_code']\n"
     ]
    },
    {
     "name": "stdout",
     "output_type": "stream",
     "text": [
      "73100\n"
     ]
    },
    {
     "name": "stderr",
     "output_type": "stream",
     "text": [
      "/var/folders/nw/13n2z96d7jv211k2c2mk6pkh0000gp/T/ipykernel_11652/3016908160.py:20: PerformanceWarning: indexing past lexsort depth may impact performance.\n",
      "  temp = dfZip.loc[dftemp['dist'].idxmin(), 'postal_code']\n"
     ]
    },
    {
     "name": "stdout",
     "output_type": "stream",
     "text": [
      "73200\n"
     ]
    },
    {
     "name": "stderr",
     "output_type": "stream",
     "text": [
      "/var/folders/nw/13n2z96d7jv211k2c2mk6pkh0000gp/T/ipykernel_11652/3016908160.py:20: PerformanceWarning: indexing past lexsort depth may impact performance.\n",
      "  temp = dfZip.loc[dftemp['dist'].idxmin(), 'postal_code']\n"
     ]
    },
    {
     "name": "stdout",
     "output_type": "stream",
     "text": [
      "73200\n"
     ]
    },
    {
     "name": "stderr",
     "output_type": "stream",
     "text": [
      "/var/folders/nw/13n2z96d7jv211k2c2mk6pkh0000gp/T/ipykernel_11652/3016908160.py:20: PerformanceWarning: indexing past lexsort depth may impact performance.\n",
      "  temp = dfZip.loc[dftemp['dist'].idxmin(), 'postal_code']\n"
     ]
    },
    {
     "name": "stdout",
     "output_type": "stream",
     "text": [
      "10000\n"
     ]
    },
    {
     "name": "stderr",
     "output_type": "stream",
     "text": [
      "/var/folders/nw/13n2z96d7jv211k2c2mk6pkh0000gp/T/ipykernel_11652/3016908160.py:20: PerformanceWarning: indexing past lexsort depth may impact performance.\n",
      "  temp = dfZip.loc[dftemp['dist'].idxmin(), 'postal_code']\n"
     ]
    },
    {
     "name": "stdout",
     "output_type": "stream",
     "text": [
      "73700\n"
     ]
    },
    {
     "name": "stderr",
     "output_type": "stream",
     "text": [
      "/var/folders/nw/13n2z96d7jv211k2c2mk6pkh0000gp/T/ipykernel_11652/3016908160.py:20: PerformanceWarning: indexing past lexsort depth may impact performance.\n",
      "  temp = dfZip.loc[dftemp['dist'].idxmin(), 'postal_code']\n"
     ]
    },
    {
     "name": "stdout",
     "output_type": "stream",
     "text": [
      "73000\n"
     ]
    },
    {
     "name": "stderr",
     "output_type": "stream",
     "text": [
      "/var/folders/nw/13n2z96d7jv211k2c2mk6pkh0000gp/T/ipykernel_11652/3016908160.py:20: PerformanceWarning: indexing past lexsort depth may impact performance.\n",
      "  temp = dfZip.loc[dftemp['dist'].idxmin(), 'postal_code']\n"
     ]
    },
    {
     "name": "stdout",
     "output_type": "stream",
     "text": [
      "73000\n"
     ]
    },
    {
     "name": "stderr",
     "output_type": "stream",
     "text": [
      "/var/folders/nw/13n2z96d7jv211k2c2mk6pkh0000gp/T/ipykernel_11652/3016908160.py:20: PerformanceWarning: indexing past lexsort depth may impact performance.\n",
      "  temp = dfZip.loc[dftemp['dist'].idxmin(), 'postal_code']\n"
     ]
    },
    {
     "name": "stdout",
     "output_type": "stream",
     "text": [
      "73420\n"
     ]
    },
    {
     "name": "stderr",
     "output_type": "stream",
     "text": [
      "/var/folders/nw/13n2z96d7jv211k2c2mk6pkh0000gp/T/ipykernel_11652/3016908160.py:20: PerformanceWarning: indexing past lexsort depth may impact performance.\n",
      "  temp = dfZip.loc[dftemp['dist'].idxmin(), 'postal_code']\n"
     ]
    },
    {
     "name": "stdout",
     "output_type": "stream",
     "text": [
      "73800\n"
     ]
    },
    {
     "name": "stderr",
     "output_type": "stream",
     "text": [
      "/var/folders/nw/13n2z96d7jv211k2c2mk6pkh0000gp/T/ipykernel_11652/3016908160.py:20: PerformanceWarning: indexing past lexsort depth may impact performance.\n",
      "  temp = dfZip.loc[dftemp['dist'].idxmin(), 'postal_code']\n"
     ]
    },
    {
     "name": "stdout",
     "output_type": "stream",
     "text": [
      "73320\n"
     ]
    },
    {
     "name": "stderr",
     "output_type": "stream",
     "text": [
      "/var/folders/nw/13n2z96d7jv211k2c2mk6pkh0000gp/T/ipykernel_11652/3016908160.py:20: PerformanceWarning: indexing past lexsort depth may impact performance.\n",
      "  temp = dfZip.loc[dftemp['dist'].idxmin(), 'postal_code']\n"
     ]
    },
    {
     "name": "stdout",
     "output_type": "stream",
     "text": [
      "74000\n"
     ]
    },
    {
     "name": "stderr",
     "output_type": "stream",
     "text": [
      "/var/folders/nw/13n2z96d7jv211k2c2mk6pkh0000gp/T/ipykernel_11652/3016908160.py:20: PerformanceWarning: indexing past lexsort depth may impact performance.\n",
      "  temp = dfZip.loc[dftemp['dist'].idxmin(), 'postal_code']\n"
     ]
    },
    {
     "name": "stdout",
     "output_type": "stream",
     "text": [
      "74960\n"
     ]
    },
    {
     "name": "stderr",
     "output_type": "stream",
     "text": [
      "/var/folders/nw/13n2z96d7jv211k2c2mk6pkh0000gp/T/ipykernel_11652/3016908160.py:20: PerformanceWarning: indexing past lexsort depth may impact performance.\n",
      "  temp = dfZip.loc[dftemp['dist'].idxmin(), 'postal_code']\n"
     ]
    },
    {
     "name": "stdout",
     "output_type": "stream",
     "text": [
      "74000\n"
     ]
    },
    {
     "name": "stderr",
     "output_type": "stream",
     "text": [
      "/var/folders/nw/13n2z96d7jv211k2c2mk6pkh0000gp/T/ipykernel_11652/3016908160.py:20: PerformanceWarning: indexing past lexsort depth may impact performance.\n",
      "  temp = dfZip.loc[dftemp['dist'].idxmin(), 'postal_code']\n"
     ]
    },
    {
     "name": "stdout",
     "output_type": "stream",
     "text": [
      "74100\n"
     ]
    },
    {
     "name": "stderr",
     "output_type": "stream",
     "text": [
      "/var/folders/nw/13n2z96d7jv211k2c2mk6pkh0000gp/T/ipykernel_11652/3016908160.py:20: PerformanceWarning: indexing past lexsort depth may impact performance.\n",
      "  temp = dfZip.loc[dftemp['dist'].idxmin(), 'postal_code']\n"
     ]
    },
    {
     "name": "stdout",
     "output_type": "stream",
     "text": [
      "10150\n"
     ]
    },
    {
     "name": "stderr",
     "output_type": "stream",
     "text": [
      "/var/folders/nw/13n2z96d7jv211k2c2mk6pkh0000gp/T/ipykernel_11652/3016908160.py:20: PerformanceWarning: indexing past lexsort depth may impact performance.\n",
      "  temp = dfZip.loc[dftemp['dist'].idxmin(), 'postal_code']\n"
     ]
    },
    {
     "name": "stdout",
     "output_type": "stream",
     "text": [
      "74100\n"
     ]
    },
    {
     "name": "stderr",
     "output_type": "stream",
     "text": [
      "/var/folders/nw/13n2z96d7jv211k2c2mk6pkh0000gp/T/ipykernel_11652/3016908160.py:20: PerformanceWarning: indexing past lexsort depth may impact performance.\n",
      "  temp = dfZip.loc[dftemp['dist'].idxmin(), 'postal_code']\n"
     ]
    },
    {
     "name": "stdout",
     "output_type": "stream",
     "text": [
      "74400\n"
     ]
    },
    {
     "name": "stderr",
     "output_type": "stream",
     "text": [
      "/var/folders/nw/13n2z96d7jv211k2c2mk6pkh0000gp/T/ipykernel_11652/3016908160.py:20: PerformanceWarning: indexing past lexsort depth may impact performance.\n",
      "  temp = dfZip.loc[dftemp['dist'].idxmin(), 'postal_code']\n"
     ]
    },
    {
     "name": "stdout",
     "output_type": "stream",
     "text": [
      "74300\n"
     ]
    },
    {
     "name": "stderr",
     "output_type": "stream",
     "text": [
      "/var/folders/nw/13n2z96d7jv211k2c2mk6pkh0000gp/T/ipykernel_11652/3016908160.py:20: PerformanceWarning: indexing past lexsort depth may impact performance.\n",
      "  temp = dfZip.loc[dftemp['dist'].idxmin(), 'postal_code']\n"
     ]
    },
    {
     "name": "stdout",
     "output_type": "stream",
     "text": [
      "74800\n"
     ]
    },
    {
     "name": "stderr",
     "output_type": "stream",
     "text": [
      "/var/folders/nw/13n2z96d7jv211k2c2mk6pkh0000gp/T/ipykernel_11652/3016908160.py:20: PerformanceWarning: indexing past lexsort depth may impact performance.\n",
      "  temp = dfZip.loc[dftemp['dist'].idxmin(), 'postal_code']\n"
     ]
    },
    {
     "name": "stdout",
     "output_type": "stream",
     "text": [
      "74200\n"
     ]
    },
    {
     "name": "stderr",
     "output_type": "stream",
     "text": [
      "/var/folders/nw/13n2z96d7jv211k2c2mk6pkh0000gp/T/ipykernel_11652/3016908160.py:20: PerformanceWarning: indexing past lexsort depth may impact performance.\n",
      "  temp = dfZip.loc[dftemp['dist'].idxmin(), 'postal_code']\n"
     ]
    },
    {
     "name": "stdout",
     "output_type": "stream",
     "text": [
      "75003\n"
     ]
    },
    {
     "name": "stderr",
     "output_type": "stream",
     "text": [
      "/var/folders/nw/13n2z96d7jv211k2c2mk6pkh0000gp/T/ipykernel_11652/3016908160.py:20: PerformanceWarning: indexing past lexsort depth may impact performance.\n",
      "  temp = dfZip.loc[dftemp['dist'].idxmin(), 'postal_code']\n"
     ]
    },
    {
     "name": "stdout",
     "output_type": "stream",
     "text": [
      "93310\n"
     ]
    },
    {
     "name": "stderr",
     "output_type": "stream",
     "text": [
      "/var/folders/nw/13n2z96d7jv211k2c2mk6pkh0000gp/T/ipykernel_11652/3016908160.py:20: PerformanceWarning: indexing past lexsort depth may impact performance.\n",
      "  temp = dfZip.loc[dftemp['dist'].idxmin(), 'postal_code']\n"
     ]
    },
    {
     "name": "stdout",
     "output_type": "stream",
     "text": [
      "76210\n"
     ]
    },
    {
     "name": "stderr",
     "output_type": "stream",
     "text": [
      "/var/folders/nw/13n2z96d7jv211k2c2mk6pkh0000gp/T/ipykernel_11652/3016908160.py:20: PerformanceWarning: indexing past lexsort depth may impact performance.\n",
      "  temp = dfZip.loc[dftemp['dist'].idxmin(), 'postal_code']\n"
     ]
    },
    {
     "name": "stdout",
     "output_type": "stream",
     "text": [
      "76160\n"
     ]
    },
    {
     "name": "stderr",
     "output_type": "stream",
     "text": [
      "/var/folders/nw/13n2z96d7jv211k2c2mk6pkh0000gp/T/ipykernel_11652/3016908160.py:20: PerformanceWarning: indexing past lexsort depth may impact performance.\n",
      "  temp = dfZip.loc[dftemp['dist'].idxmin(), 'postal_code']\n"
     ]
    },
    {
     "name": "stdout",
     "output_type": "stream",
     "text": [
      "76250\n"
     ]
    },
    {
     "name": "stderr",
     "output_type": "stream",
     "text": [
      "/var/folders/nw/13n2z96d7jv211k2c2mk6pkh0000gp/T/ipykernel_11652/3016908160.py:20: PerformanceWarning: indexing past lexsort depth may impact performance.\n",
      "  temp = dfZip.loc[dftemp['dist'].idxmin(), 'postal_code']\n"
     ]
    },
    {
     "name": "stdout",
     "output_type": "stream",
     "text": [
      "11000\n"
     ]
    },
    {
     "name": "stderr",
     "output_type": "stream",
     "text": [
      "/var/folders/nw/13n2z96d7jv211k2c2mk6pkh0000gp/T/ipykernel_11652/3016908160.py:20: PerformanceWarning: indexing past lexsort depth may impact performance.\n",
      "  temp = dfZip.loc[dftemp['dist'].idxmin(), 'postal_code']\n"
     ]
    },
    {
     "name": "stdout",
     "output_type": "stream",
     "text": [
      "76200\n"
     ]
    },
    {
     "name": "stderr",
     "output_type": "stream",
     "text": [
      "/var/folders/nw/13n2z96d7jv211k2c2mk6pkh0000gp/T/ipykernel_11652/3016908160.py:20: PerformanceWarning: indexing past lexsort depth may impact performance.\n",
      "  temp = dfZip.loc[dftemp['dist'].idxmin(), 'postal_code']\n"
     ]
    },
    {
     "name": "stdout",
     "output_type": "stream",
     "text": [
      "76200\n"
     ]
    },
    {
     "name": "stderr",
     "output_type": "stream",
     "text": [
      "/var/folders/nw/13n2z96d7jv211k2c2mk6pkh0000gp/T/ipykernel_11652/3016908160.py:20: PerformanceWarning: indexing past lexsort depth may impact performance.\n",
      "  temp = dfZip.loc[dftemp['dist'].idxmin(), 'postal_code']\n"
     ]
    },
    {
     "name": "stdout",
     "output_type": "stream",
     "text": [
      "76500\n"
     ]
    },
    {
     "name": "stderr",
     "output_type": "stream",
     "text": [
      "/var/folders/nw/13n2z96d7jv211k2c2mk6pkh0000gp/T/ipykernel_11652/3016908160.py:20: PerformanceWarning: indexing past lexsort depth may impact performance.\n",
      "  temp = dfZip.loc[dftemp['dist'].idxmin(), 'postal_code']\n"
     ]
    },
    {
     "name": "stdout",
     "output_type": "stream",
     "text": [
      "76400\n"
     ]
    },
    {
     "name": "stderr",
     "output_type": "stream",
     "text": [
      "/var/folders/nw/13n2z96d7jv211k2c2mk6pkh0000gp/T/ipykernel_11652/3016908160.py:20: PerformanceWarning: indexing past lexsort depth may impact performance.\n",
      "  temp = dfZip.loc[dftemp['dist'].idxmin(), 'postal_code']\n"
     ]
    },
    {
     "name": "stdout",
     "output_type": "stream",
     "text": [
      "76530\n"
     ]
    },
    {
     "name": "stderr",
     "output_type": "stream",
     "text": [
      "/var/folders/nw/13n2z96d7jv211k2c2mk6pkh0000gp/T/ipykernel_11652/3016908160.py:20: PerformanceWarning: indexing past lexsort depth may impact performance.\n",
      "  temp = dfZip.loc[dftemp['dist'].idxmin(), 'postal_code']\n"
     ]
    },
    {
     "name": "stdout",
     "output_type": "stream",
     "text": [
      "76140\n"
     ]
    },
    {
     "name": "stderr",
     "output_type": "stream",
     "text": [
      "/var/folders/nw/13n2z96d7jv211k2c2mk6pkh0000gp/T/ipykernel_11652/3016908160.py:20: PerformanceWarning: indexing past lexsort depth may impact performance.\n",
      "  temp = dfZip.loc[dftemp['dist'].idxmin(), 'postal_code']\n"
     ]
    },
    {
     "name": "stdout",
     "output_type": "stream",
     "text": [
      "76700\n"
     ]
    },
    {
     "name": "stderr",
     "output_type": "stream",
     "text": [
      "/var/folders/nw/13n2z96d7jv211k2c2mk6pkh0000gp/T/ipykernel_11652/3016908160.py:20: PerformanceWarning: indexing past lexsort depth may impact performance.\n",
      "  temp = dfZip.loc[dftemp['dist'].idxmin(), 'postal_code']\n"
     ]
    },
    {
     "name": "stdout",
     "output_type": "stream",
     "text": [
      "76230\n"
     ]
    },
    {
     "name": "stderr",
     "output_type": "stream",
     "text": [
      "/var/folders/nw/13n2z96d7jv211k2c2mk6pkh0000gp/T/ipykernel_11652/3016908160.py:20: PerformanceWarning: indexing past lexsort depth may impact performance.\n",
      "  temp = dfZip.loc[dftemp['dist'].idxmin(), 'postal_code']\n"
     ]
    },
    {
     "name": "stdout",
     "output_type": "stream",
     "text": [
      "76140\n"
     ]
    },
    {
     "name": "stderr",
     "output_type": "stream",
     "text": [
      "/var/folders/nw/13n2z96d7jv211k2c2mk6pkh0000gp/T/ipykernel_11652/3016908160.py:20: PerformanceWarning: indexing past lexsort depth may impact performance.\n",
      "  temp = dfZip.loc[dftemp['dist'].idxmin(), 'postal_code']\n"
     ]
    },
    {
     "name": "stdout",
     "output_type": "stream",
     "text": [
      "76000\n"
     ]
    },
    {
     "name": "stderr",
     "output_type": "stream",
     "text": [
      "/var/folders/nw/13n2z96d7jv211k2c2mk6pkh0000gp/T/ipykernel_11652/3016908160.py:20: PerformanceWarning: indexing past lexsort depth may impact performance.\n",
      "  temp = dfZip.loc[dftemp['dist'].idxmin(), 'postal_code']\n"
     ]
    },
    {
     "name": "stdout",
     "output_type": "stream",
     "text": [
      "11000\n"
     ]
    },
    {
     "name": "stderr",
     "output_type": "stream",
     "text": [
      "/var/folders/nw/13n2z96d7jv211k2c2mk6pkh0000gp/T/ipykernel_11652/3016908160.py:20: PerformanceWarning: indexing past lexsort depth may impact performance.\n",
      "  temp = dfZip.loc[dftemp['dist'].idxmin(), 'postal_code']\n"
     ]
    },
    {
     "name": "stdout",
     "output_type": "stream",
     "text": [
      "76000\n"
     ]
    },
    {
     "name": "stderr",
     "output_type": "stream",
     "text": [
      "/var/folders/nw/13n2z96d7jv211k2c2mk6pkh0000gp/T/ipykernel_11652/3016908160.py:20: PerformanceWarning: indexing past lexsort depth may impact performance.\n",
      "  temp = dfZip.loc[dftemp['dist'].idxmin(), 'postal_code']\n"
     ]
    },
    {
     "name": "stdout",
     "output_type": "stream",
     "text": [
      "76000\n"
     ]
    },
    {
     "name": "stderr",
     "output_type": "stream",
     "text": [
      "/var/folders/nw/13n2z96d7jv211k2c2mk6pkh0000gp/T/ipykernel_11652/3016908160.py:20: PerformanceWarning: indexing past lexsort depth may impact performance.\n",
      "  temp = dfZip.loc[dftemp['dist'].idxmin(), 'postal_code']\n"
     ]
    },
    {
     "name": "stdout",
     "output_type": "stream",
     "text": [
      "76000\n"
     ]
    },
    {
     "name": "stderr",
     "output_type": "stream",
     "text": [
      "/var/folders/nw/13n2z96d7jv211k2c2mk6pkh0000gp/T/ipykernel_11652/3016908160.py:20: PerformanceWarning: indexing past lexsort depth may impact performance.\n",
      "  temp = dfZip.loc[dftemp['dist'].idxmin(), 'postal_code']\n"
     ]
    },
    {
     "name": "stdout",
     "output_type": "stream",
     "text": [
      "76190\n"
     ]
    },
    {
     "name": "stderr",
     "output_type": "stream",
     "text": [
      "/var/folders/nw/13n2z96d7jv211k2c2mk6pkh0000gp/T/ipykernel_11652/3016908160.py:20: PerformanceWarning: indexing past lexsort depth may impact performance.\n",
      "  temp = dfZip.loc[dftemp['dist'].idxmin(), 'postal_code']\n"
     ]
    },
    {
     "name": "stdout",
     "output_type": "stream",
     "text": [
      "77420\n"
     ]
    },
    {
     "name": "stderr",
     "output_type": "stream",
     "text": [
      "/var/folders/nw/13n2z96d7jv211k2c2mk6pkh0000gp/T/ipykernel_11652/3016908160.py:20: PerformanceWarning: indexing past lexsort depth may impact performance.\n",
      "  temp = dfZip.loc[dftemp['dist'].idxmin(), 'postal_code']\n"
     ]
    },
    {
     "name": "stdout",
     "output_type": "stream",
     "text": [
      "77500\n"
     ]
    },
    {
     "name": "stderr",
     "output_type": "stream",
     "text": [
      "/var/folders/nw/13n2z96d7jv211k2c2mk6pkh0000gp/T/ipykernel_11652/3016908160.py:20: PerformanceWarning: indexing past lexsort depth may impact performance.\n",
      "  temp = dfZip.loc[dftemp['dist'].idxmin(), 'postal_code']\n"
     ]
    },
    {
     "name": "stdout",
     "output_type": "stream",
     "text": [
      "77700\n"
     ]
    },
    {
     "name": "stderr",
     "output_type": "stream",
     "text": [
      "/var/folders/nw/13n2z96d7jv211k2c2mk6pkh0000gp/T/ipykernel_11652/3016908160.py:20: PerformanceWarning: indexing past lexsort depth may impact performance.\n",
      "  temp = dfZip.loc[dftemp['dist'].idxmin(), 'postal_code']\n"
     ]
    },
    {
     "name": "stdout",
     "output_type": "stream",
     "text": [
      "77700\n"
     ]
    },
    {
     "name": "stderr",
     "output_type": "stream",
     "text": [
      "/var/folders/nw/13n2z96d7jv211k2c2mk6pkh0000gp/T/ipykernel_11652/3016908160.py:20: PerformanceWarning: indexing past lexsort depth may impact performance.\n",
      "  temp = dfZip.loc[dftemp['dist'].idxmin(), 'postal_code']\n"
     ]
    },
    {
     "name": "stdout",
     "output_type": "stream",
     "text": [
      "77380\n"
     ]
    },
    {
     "name": "stderr",
     "output_type": "stream",
     "text": [
      "/var/folders/nw/13n2z96d7jv211k2c2mk6pkh0000gp/T/ipykernel_11652/3016908160.py:20: PerformanceWarning: indexing past lexsort depth may impact performance.\n",
      "  temp = dfZip.loc[dftemp['dist'].idxmin(), 'postal_code']\n"
     ]
    },
    {
     "name": "stdout",
     "output_type": "stream",
     "text": [
      "77187 CEDEX\n"
     ]
    },
    {
     "name": "stderr",
     "output_type": "stream",
     "text": [
      "/var/folders/nw/13n2z96d7jv211k2c2mk6pkh0000gp/T/ipykernel_11652/3016908160.py:20: PerformanceWarning: indexing past lexsort depth may impact performance.\n",
      "  temp = dfZip.loc[dftemp['dist'].idxmin(), 'postal_code']\n"
     ]
    },
    {
     "name": "stdout",
     "output_type": "stream",
     "text": [
      "11400\n"
     ]
    },
    {
     "name": "stderr",
     "output_type": "stream",
     "text": [
      "/var/folders/nw/13n2z96d7jv211k2c2mk6pkh0000gp/T/ipykernel_11652/3016908160.py:20: PerformanceWarning: indexing past lexsort depth may impact performance.\n",
      "  temp = dfZip.loc[dftemp['dist'].idxmin(), 'postal_code']\n"
     ]
    },
    {
     "name": "stdout",
     "output_type": "stream",
     "text": [
      "77350\n"
     ]
    },
    {
     "name": "stderr",
     "output_type": "stream",
     "text": [
      "/var/folders/nw/13n2z96d7jv211k2c2mk6pkh0000gp/T/ipykernel_11652/3016908160.py:20: PerformanceWarning: indexing past lexsort depth may impact performance.\n",
      "  temp = dfZip.loc[dftemp['dist'].idxmin(), 'postal_code']\n"
     ]
    },
    {
     "name": "stdout",
     "output_type": "stream",
     "text": [
      "77187 CEDEX\n"
     ]
    },
    {
     "name": "stderr",
     "output_type": "stream",
     "text": [
      "/var/folders/nw/13n2z96d7jv211k2c2mk6pkh0000gp/T/ipykernel_11652/3016908160.py:20: PerformanceWarning: indexing past lexsort depth may impact performance.\n",
      "  temp = dfZip.loc[dftemp['dist'].idxmin(), 'postal_code']\n"
     ]
    },
    {
     "name": "stdout",
     "output_type": "stream",
     "text": [
      "77300\n"
     ]
    },
    {
     "name": "stderr",
     "output_type": "stream",
     "text": [
      "/var/folders/nw/13n2z96d7jv211k2c2mk6pkh0000gp/T/ipykernel_11652/3016908160.py:20: PerformanceWarning: indexing past lexsort depth may impact performance.\n",
      "  temp = dfZip.loc[dftemp['dist'].idxmin(), 'postal_code']\n"
     ]
    },
    {
     "name": "stdout",
     "output_type": "stream",
     "text": [
      "77127\n"
     ]
    },
    {
     "name": "stderr",
     "output_type": "stream",
     "text": [
      "/var/folders/nw/13n2z96d7jv211k2c2mk6pkh0000gp/T/ipykernel_11652/3016908160.py:20: PerformanceWarning: indexing past lexsort depth may impact performance.\n",
      "  temp = dfZip.loc[dftemp['dist'].idxmin(), 'postal_code']\n"
     ]
    },
    {
     "name": "stdout",
     "output_type": "stream",
     "text": [
      "77100\n"
     ]
    },
    {
     "name": "stderr",
     "output_type": "stream",
     "text": [
      "/var/folders/nw/13n2z96d7jv211k2c2mk6pkh0000gp/T/ipykernel_11652/3016908160.py:20: PerformanceWarning: indexing past lexsort depth may impact performance.\n",
      "  temp = dfZip.loc[dftemp['dist'].idxmin(), 'postal_code']\n"
     ]
    },
    {
     "name": "stdout",
     "output_type": "stream",
     "text": [
      "77000\n"
     ]
    },
    {
     "name": "stderr",
     "output_type": "stream",
     "text": [
      "/var/folders/nw/13n2z96d7jv211k2c2mk6pkh0000gp/T/ipykernel_11652/3016908160.py:20: PerformanceWarning: indexing past lexsort depth may impact performance.\n",
      "  temp = dfZip.loc[dftemp['dist'].idxmin(), 'postal_code']\n"
     ]
    },
    {
     "name": "stdout",
     "output_type": "stream",
     "text": [
      "77130\n"
     ]
    },
    {
     "name": "stderr",
     "output_type": "stream",
     "text": [
      "/var/folders/nw/13n2z96d7jv211k2c2mk6pkh0000gp/T/ipykernel_11652/3016908160.py:20: PerformanceWarning: indexing past lexsort depth may impact performance.\n",
      "  temp = dfZip.loc[dftemp['dist'].idxmin(), 'postal_code']\n"
     ]
    },
    {
     "name": "stdout",
     "output_type": "stream",
     "text": [
      "77144\n"
     ]
    },
    {
     "name": "stderr",
     "output_type": "stream",
     "text": [
      "/var/folders/nw/13n2z96d7jv211k2c2mk6pkh0000gp/T/ipykernel_11652/3016908160.py:20: PerformanceWarning: indexing past lexsort depth may impact performance.\n",
      "  temp = dfZip.loc[dftemp['dist'].idxmin(), 'postal_code']\n"
     ]
    },
    {
     "name": "stdout",
     "output_type": "stream",
     "text": [
      "77140\n"
     ]
    },
    {
     "name": "stderr",
     "output_type": "stream",
     "text": [
      "/var/folders/nw/13n2z96d7jv211k2c2mk6pkh0000gp/T/ipykernel_11652/3016908160.py:20: PerformanceWarning: indexing past lexsort depth may impact performance.\n",
      "  temp = dfZip.loc[dftemp['dist'].idxmin(), 'postal_code']\n"
     ]
    },
    {
     "name": "stdout",
     "output_type": "stream",
     "text": [
      "77186\n"
     ]
    },
    {
     "name": "stderr",
     "output_type": "stream",
     "text": [
      "/var/folders/nw/13n2z96d7jv211k2c2mk6pkh0000gp/T/ipykernel_11652/3016908160.py:20: PerformanceWarning: indexing past lexsort depth may impact performance.\n",
      "  temp = dfZip.loc[dftemp['dist'].idxmin(), 'postal_code']\n"
     ]
    },
    {
     "name": "stdout",
     "output_type": "stream",
     "text": [
      "11100\n"
     ]
    },
    {
     "name": "stderr",
     "output_type": "stream",
     "text": [
      "/var/folders/nw/13n2z96d7jv211k2c2mk6pkh0000gp/T/ipykernel_11652/3016908160.py:20: PerformanceWarning: indexing past lexsort depth may impact performance.\n",
      "  temp = dfZip.loc[dftemp['dist'].idxmin(), 'postal_code']\n"
     ]
    },
    {
     "name": "stdout",
     "output_type": "stream",
     "text": [
      "77330\n"
     ]
    },
    {
     "name": "stderr",
     "output_type": "stream",
     "text": [
      "/var/folders/nw/13n2z96d7jv211k2c2mk6pkh0000gp/T/ipykernel_11652/3016908160.py:20: PerformanceWarning: indexing past lexsort depth may impact performance.\n",
      "  temp = dfZip.loc[dftemp['dist'].idxmin(), 'postal_code']\n"
     ]
    },
    {
     "name": "stdout",
     "output_type": "stream",
     "text": [
      "77340\n"
     ]
    },
    {
     "name": "stderr",
     "output_type": "stream",
     "text": [
      "/var/folders/nw/13n2z96d7jv211k2c2mk6pkh0000gp/T/ipykernel_11652/3016908160.py:20: PerformanceWarning: indexing past lexsort depth may impact performance.\n",
      "  temp = dfZip.loc[dftemp['dist'].idxmin(), 'postal_code']\n"
     ]
    },
    {
     "name": "stdout",
     "output_type": "stream",
     "text": [
      "77160\n"
     ]
    },
    {
     "name": "stderr",
     "output_type": "stream",
     "text": [
      "/var/folders/nw/13n2z96d7jv211k2c2mk6pkh0000gp/T/ipykernel_11652/3016908160.py:20: PerformanceWarning: indexing past lexsort depth may impact performance.\n",
      "  temp = dfZip.loc[dftemp['dist'].idxmin(), 'postal_code']\n"
     ]
    },
    {
     "name": "stdout",
     "output_type": "stream",
     "text": [
      "77176\n"
     ]
    },
    {
     "name": "stderr",
     "output_type": "stream",
     "text": [
      "/var/folders/nw/13n2z96d7jv211k2c2mk6pkh0000gp/T/ipykernel_11652/3016908160.py:20: PerformanceWarning: indexing past lexsort depth may impact performance.\n",
      "  temp = dfZip.loc[dftemp['dist'].idxmin(), 'postal_code']\n"
     ]
    },
    {
     "name": "stdout",
     "output_type": "stream",
     "text": [
      "77186\n"
     ]
    },
    {
     "name": "stderr",
     "output_type": "stream",
     "text": [
      "/var/folders/nw/13n2z96d7jv211k2c2mk6pkh0000gp/T/ipykernel_11652/3016908160.py:20: PerformanceWarning: indexing past lexsort depth may impact performance.\n",
      "  temp = dfZip.loc[dftemp['dist'].idxmin(), 'postal_code']\n"
     ]
    },
    {
     "name": "stdout",
     "output_type": "stream",
     "text": [
      "77360\n"
     ]
    },
    {
     "name": "stderr",
     "output_type": "stream",
     "text": [
      "/var/folders/nw/13n2z96d7jv211k2c2mk6pkh0000gp/T/ipykernel_11652/3016908160.py:20: PerformanceWarning: indexing past lexsort depth may impact performance.\n",
      "  temp = dfZip.loc[dftemp['dist'].idxmin(), 'postal_code']\n"
     ]
    },
    {
     "name": "stdout",
     "output_type": "stream",
     "text": [
      "78650\n"
     ]
    },
    {
     "name": "stderr",
     "output_type": "stream",
     "text": [
      "/var/folders/nw/13n2z96d7jv211k2c2mk6pkh0000gp/T/ipykernel_11652/3016908160.py:20: PerformanceWarning: indexing past lexsort depth may impact performance.\n",
      "  temp = dfZip.loc[dftemp['dist'].idxmin(), 'postal_code']\n"
     ]
    },
    {
     "name": "stdout",
     "output_type": "stream",
     "text": [
      "78530\n"
     ]
    },
    {
     "name": "stderr",
     "output_type": "stream",
     "text": [
      "/var/folders/nw/13n2z96d7jv211k2c2mk6pkh0000gp/T/ipykernel_11652/3016908160.py:20: PerformanceWarning: indexing past lexsort depth may impact performance.\n",
      "  temp = dfZip.loc[dftemp['dist'].idxmin(), 'postal_code']\n"
     ]
    },
    {
     "name": "stdout",
     "output_type": "stream",
     "text": [
      "78955\n"
     ]
    },
    {
     "name": "stderr",
     "output_type": "stream",
     "text": [
      "/var/folders/nw/13n2z96d7jv211k2c2mk6pkh0000gp/T/ipykernel_11652/3016908160.py:20: PerformanceWarning: indexing past lexsort depth may impact performance.\n",
      "  temp = dfZip.loc[dftemp['dist'].idxmin(), 'postal_code']\n"
     ]
    },
    {
     "name": "stdout",
     "output_type": "stream",
     "text": [
      "78170\n"
     ]
    },
    {
     "name": "stderr",
     "output_type": "stream",
     "text": [
      "/var/folders/nw/13n2z96d7jv211k2c2mk6pkh0000gp/T/ipykernel_11652/3016908160.py:20: PerformanceWarning: indexing past lexsort depth may impact performance.\n",
      "  temp = dfZip.loc[dftemp['dist'].idxmin(), 'postal_code']\n"
     ]
    },
    {
     "name": "stdout",
     "output_type": "stream",
     "text": [
      "11100\n"
     ]
    },
    {
     "name": "stderr",
     "output_type": "stream",
     "text": [
      "/var/folders/nw/13n2z96d7jv211k2c2mk6pkh0000gp/T/ipykernel_11652/3016908160.py:20: PerformanceWarning: indexing past lexsort depth may impact performance.\n",
      "  temp = dfZip.loc[dftemp['dist'].idxmin(), 'postal_code']\n"
     ]
    },
    {
     "name": "stdout",
     "output_type": "stream",
     "text": [
      "78400\n"
     ]
    },
    {
     "name": "stderr",
     "output_type": "stream",
     "text": [
      "/var/folders/nw/13n2z96d7jv211k2c2mk6pkh0000gp/T/ipykernel_11652/3016908160.py:20: PerformanceWarning: indexing past lexsort depth may impact performance.\n",
      "  temp = dfZip.loc[dftemp['dist'].idxmin(), 'postal_code']\n"
     ]
    },
    {
     "name": "stdout",
     "output_type": "stream",
     "text": [
      "78150\n"
     ]
    },
    {
     "name": "stderr",
     "output_type": "stream",
     "text": [
      "/var/folders/nw/13n2z96d7jv211k2c2mk6pkh0000gp/T/ipykernel_11652/3016908160.py:20: PerformanceWarning: indexing past lexsort depth may impact performance.\n",
      "  temp = dfZip.loc[dftemp['dist'].idxmin(), 'postal_code']\n"
     ]
    },
    {
     "name": "stdout",
     "output_type": "stream",
     "text": [
      "78450\n"
     ]
    },
    {
     "name": "stderr",
     "output_type": "stream",
     "text": [
      "/var/folders/nw/13n2z96d7jv211k2c2mk6pkh0000gp/T/ipykernel_11652/3016908160.py:20: PerformanceWarning: indexing past lexsort depth may impact performance.\n",
      "  temp = dfZip.loc[dftemp['dist'].idxmin(), 'postal_code']\n"
     ]
    },
    {
     "name": "stdout",
     "output_type": "stream",
     "text": [
      "78700\n"
     ]
    },
    {
     "name": "stderr",
     "output_type": "stream",
     "text": [
      "/var/folders/nw/13n2z96d7jv211k2c2mk6pkh0000gp/T/ipykernel_11652/3016908160.py:20: PerformanceWarning: indexing past lexsort depth may impact performance.\n",
      "  temp = dfZip.loc[dftemp['dist'].idxmin(), 'postal_code']\n"
     ]
    },
    {
     "name": "stdout",
     "output_type": "stream",
     "text": [
      "78290\n"
     ]
    },
    {
     "name": "stderr",
     "output_type": "stream",
     "text": [
      "/var/folders/nw/13n2z96d7jv211k2c2mk6pkh0000gp/T/ipykernel_11652/3016908160.py:20: PerformanceWarning: indexing past lexsort depth may impact performance.\n",
      "  temp = dfZip.loc[dftemp['dist'].idxmin(), 'postal_code']\n"
     ]
    },
    {
     "name": "stdout",
     "output_type": "stream",
     "text": [
      "78310\n"
     ]
    },
    {
     "name": "stderr",
     "output_type": "stream",
     "text": [
      "/var/folders/nw/13n2z96d7jv211k2c2mk6pkh0000gp/T/ipykernel_11652/3016908160.py:20: PerformanceWarning: indexing past lexsort depth may impact performance.\n",
      "  temp = dfZip.loc[dftemp['dist'].idxmin(), 'postal_code']\n"
     ]
    },
    {
     "name": "stdout",
     "output_type": "stream",
     "text": [
      "78041 CEDEX\n"
     ]
    },
    {
     "name": "stderr",
     "output_type": "stream",
     "text": [
      "/var/folders/nw/13n2z96d7jv211k2c2mk6pkh0000gp/T/ipykernel_11652/3016908160.py:20: PerformanceWarning: indexing past lexsort depth may impact performance.\n",
      "  temp = dfZip.loc[dftemp['dist'].idxmin(), 'postal_code']\n"
     ]
    },
    {
     "name": "stdout",
     "output_type": "stream",
     "text": [
      "78041 CEDEX\n"
     ]
    },
    {
     "name": "stderr",
     "output_type": "stream",
     "text": [
      "/var/folders/nw/13n2z96d7jv211k2c2mk6pkh0000gp/T/ipykernel_11652/3016908160.py:20: PerformanceWarning: indexing past lexsort depth may impact performance.\n",
      "  temp = dfZip.loc[dftemp['dist'].idxmin(), 'postal_code']\n"
     ]
    },
    {
     "name": "stdout",
     "output_type": "stream",
     "text": [
      "78800\n"
     ]
    },
    {
     "name": "stderr",
     "output_type": "stream",
     "text": [
      "/var/folders/nw/13n2z96d7jv211k2c2mk6pkh0000gp/T/ipykernel_11652/3016908160.py:20: PerformanceWarning: indexing past lexsort depth may impact performance.\n",
      "  temp = dfZip.loc[dftemp['dist'].idxmin(), 'postal_code']\n"
     ]
    },
    {
     "name": "stdout",
     "output_type": "stream",
     "text": [
      "78520\n"
     ]
    },
    {
     "name": "stderr",
     "output_type": "stream",
     "text": [
      "/var/folders/nw/13n2z96d7jv211k2c2mk6pkh0000gp/T/ipykernel_11652/3016908160.py:20: PerformanceWarning: indexing past lexsort depth may impact performance.\n",
      "  temp = dfZip.loc[dftemp['dist'].idxmin(), 'postal_code']\n"
     ]
    },
    {
     "name": "stdout",
     "output_type": "stream",
     "text": [
      "02300\n"
     ]
    },
    {
     "name": "stderr",
     "output_type": "stream",
     "text": [
      "/var/folders/nw/13n2z96d7jv211k2c2mk6pkh0000gp/T/ipykernel_11652/3016908160.py:20: PerformanceWarning: indexing past lexsort depth may impact performance.\n",
      "  temp = dfZip.loc[dftemp['dist'].idxmin(), 'postal_code']\n"
     ]
    },
    {
     "name": "stdout",
     "output_type": "stream",
     "text": [
      "12100\n"
     ]
    },
    {
     "name": "stderr",
     "output_type": "stream",
     "text": [
      "/var/folders/nw/13n2z96d7jv211k2c2mk6pkh0000gp/T/ipykernel_11652/3016908160.py:20: PerformanceWarning: indexing past lexsort depth may impact performance.\n",
      "  temp = dfZip.loc[dftemp['dist'].idxmin(), 'postal_code']\n"
     ]
    },
    {
     "name": "stdout",
     "output_type": "stream",
     "text": [
      "78711\n"
     ]
    },
    {
     "name": "stderr",
     "output_type": "stream",
     "text": [
      "/var/folders/nw/13n2z96d7jv211k2c2mk6pkh0000gp/T/ipykernel_11652/3016908160.py:20: PerformanceWarning: indexing past lexsort depth may impact performance.\n",
      "  temp = dfZip.loc[dftemp['dist'].idxmin(), 'postal_code']\n"
     ]
    },
    {
     "name": "stdout",
     "output_type": "stream",
     "text": [
      "78600\n"
     ]
    },
    {
     "name": "stderr",
     "output_type": "stream",
     "text": [
      "/var/folders/nw/13n2z96d7jv211k2c2mk6pkh0000gp/T/ipykernel_11652/3016908160.py:20: PerformanceWarning: indexing past lexsort depth may impact performance.\n",
      "  temp = dfZip.loc[dftemp['dist'].idxmin(), 'postal_code']\n"
     ]
    },
    {
     "name": "stdout",
     "output_type": "stream",
     "text": [
      "78200\n"
     ]
    },
    {
     "name": "stderr",
     "output_type": "stream",
     "text": [
      "/var/folders/nw/13n2z96d7jv211k2c2mk6pkh0000gp/T/ipykernel_11652/3016908160.py:20: PerformanceWarning: indexing past lexsort depth may impact performance.\n",
      "  temp = dfZip.loc[dftemp['dist'].idxmin(), 'postal_code']\n"
     ]
    },
    {
     "name": "stdout",
     "output_type": "stream",
     "text": [
      "78160\n"
     ]
    },
    {
     "name": "stderr",
     "output_type": "stream",
     "text": [
      "/var/folders/nw/13n2z96d7jv211k2c2mk6pkh0000gp/T/ipykernel_11652/3016908160.py:20: PerformanceWarning: indexing past lexsort depth may impact performance.\n",
      "  temp = dfZip.loc[dftemp['dist'].idxmin(), 'postal_code']\n"
     ]
    },
    {
     "name": "stdout",
     "output_type": "stream",
     "text": [
      "78210\n"
     ]
    },
    {
     "name": "stderr",
     "output_type": "stream",
     "text": [
      "/var/folders/nw/13n2z96d7jv211k2c2mk6pkh0000gp/T/ipykernel_11652/3016908160.py:20: PerformanceWarning: indexing past lexsort depth may impact performance.\n",
      "  temp = dfZip.loc[dftemp['dist'].idxmin(), 'postal_code']\n"
     ]
    },
    {
     "name": "stdout",
     "output_type": "stream",
     "text": [
      "78130\n"
     ]
    },
    {
     "name": "stderr",
     "output_type": "stream",
     "text": [
      "/var/folders/nw/13n2z96d7jv211k2c2mk6pkh0000gp/T/ipykernel_11652/3016908160.py:20: PerformanceWarning: indexing past lexsort depth may impact performance.\n",
      "  temp = dfZip.loc[dftemp['dist'].idxmin(), 'postal_code']\n"
     ]
    },
    {
     "name": "stdout",
     "output_type": "stream",
     "text": [
      "78230\n"
     ]
    },
    {
     "name": "stderr",
     "output_type": "stream",
     "text": [
      "/var/folders/nw/13n2z96d7jv211k2c2mk6pkh0000gp/T/ipykernel_11652/3016908160.py:20: PerformanceWarning: indexing past lexsort depth may impact performance.\n",
      "  temp = dfZip.loc[dftemp['dist'].idxmin(), 'postal_code']\n"
     ]
    },
    {
     "name": "stdout",
     "output_type": "stream",
     "text": [
      "78230\n"
     ]
    },
    {
     "name": "stderr",
     "output_type": "stream",
     "text": [
      "/var/folders/nw/13n2z96d7jv211k2c2mk6pkh0000gp/T/ipykernel_11652/3016908160.py:20: PerformanceWarning: indexing past lexsort depth may impact performance.\n",
      "  temp = dfZip.loc[dftemp['dist'].idxmin(), 'postal_code']\n"
     ]
    },
    {
     "name": "stdout",
     "output_type": "stream",
     "text": [
      "78370\n"
     ]
    },
    {
     "name": "stderr",
     "output_type": "stream",
     "text": [
      "/var/folders/nw/13n2z96d7jv211k2c2mk6pkh0000gp/T/ipykernel_11652/3016908160.py:20: PerformanceWarning: indexing past lexsort depth may impact performance.\n",
      "  temp = dfZip.loc[dftemp['dist'].idxmin(), 'postal_code']\n"
     ]
    },
    {
     "name": "stdout",
     "output_type": "stream",
     "text": [
      "78300\n"
     ]
    },
    {
     "name": "stderr",
     "output_type": "stream",
     "text": [
      "/var/folders/nw/13n2z96d7jv211k2c2mk6pkh0000gp/T/ipykernel_11652/3016908160.py:20: PerformanceWarning: indexing past lexsort depth may impact performance.\n",
      "  temp = dfZip.loc[dftemp['dist'].idxmin(), 'postal_code']\n"
     ]
    },
    {
     "name": "stdout",
     "output_type": "stream",
     "text": [
      "12000\n"
     ]
    },
    {
     "name": "stderr",
     "output_type": "stream",
     "text": [
      "/var/folders/nw/13n2z96d7jv211k2c2mk6pkh0000gp/T/ipykernel_11652/3016908160.py:20: PerformanceWarning: indexing past lexsort depth may impact performance.\n",
      "  temp = dfZip.loc[dftemp['dist'].idxmin(), 'postal_code']\n"
     ]
    },
    {
     "name": "stdout",
     "output_type": "stream",
     "text": [
      "78120\n"
     ]
    },
    {
     "name": "stderr",
     "output_type": "stream",
     "text": [
      "/var/folders/nw/13n2z96d7jv211k2c2mk6pkh0000gp/T/ipykernel_11652/3016908160.py:20: PerformanceWarning: indexing past lexsort depth may impact performance.\n",
      "  temp = dfZip.loc[dftemp['dist'].idxmin(), 'postal_code']\n"
     ]
    },
    {
     "name": "stdout",
     "output_type": "stream",
     "text": [
      "78100\n"
     ]
    },
    {
     "name": "stderr",
     "output_type": "stream",
     "text": [
      "/var/folders/nw/13n2z96d7jv211k2c2mk6pkh0000gp/T/ipykernel_11652/3016908160.py:20: PerformanceWarning: indexing past lexsort depth may impact performance.\n",
      "  temp = dfZip.loc[dftemp['dist'].idxmin(), 'postal_code']\n"
     ]
    },
    {
     "name": "stdout",
     "output_type": "stream",
     "text": [
      "78600\n"
     ]
    },
    {
     "name": "stderr",
     "output_type": "stream",
     "text": [
      "/var/folders/nw/13n2z96d7jv211k2c2mk6pkh0000gp/T/ipykernel_11652/3016908160.py:20: PerformanceWarning: indexing past lexsort depth may impact performance.\n",
      "  temp = dfZip.loc[dftemp['dist'].idxmin(), 'postal_code']\n"
     ]
    },
    {
     "name": "stdout",
     "output_type": "stream",
     "text": [
      "78190\n"
     ]
    },
    {
     "name": "stderr",
     "output_type": "stream",
     "text": [
      "/var/folders/nw/13n2z96d7jv211k2c2mk6pkh0000gp/T/ipykernel_11652/3016908160.py:20: PerformanceWarning: indexing past lexsort depth may impact performance.\n",
      "  temp = dfZip.loc[dftemp['dist'].idxmin(), 'postal_code']\n"
     ]
    },
    {
     "name": "stdout",
     "output_type": "stream",
     "text": [
      "78129 CEDEX\n"
     ]
    },
    {
     "name": "stderr",
     "output_type": "stream",
     "text": [
      "/var/folders/nw/13n2z96d7jv211k2c2mk6pkh0000gp/T/ipykernel_11652/3016908160.py:20: PerformanceWarning: indexing past lexsort depth may impact performance.\n",
      "  temp = dfZip.loc[dftemp['dist'].idxmin(), 'postal_code']\n"
     ]
    },
    {
     "name": "stdout",
     "output_type": "stream",
     "text": [
      "78220\n"
     ]
    },
    {
     "name": "stderr",
     "output_type": "stream",
     "text": [
      "/var/folders/nw/13n2z96d7jv211k2c2mk6pkh0000gp/T/ipykernel_11652/3016908160.py:20: PerformanceWarning: indexing past lexsort depth may impact performance.\n",
      "  temp = dfZip.loc[dftemp['dist'].idxmin(), 'postal_code']\n"
     ]
    },
    {
     "name": "stdout",
     "output_type": "stream",
     "text": [
      "78000\n"
     ]
    },
    {
     "name": "stderr",
     "output_type": "stream",
     "text": [
      "/var/folders/nw/13n2z96d7jv211k2c2mk6pkh0000gp/T/ipykernel_11652/3016908160.py:20: PerformanceWarning: indexing past lexsort depth may impact performance.\n",
      "  temp = dfZip.loc[dftemp['dist'].idxmin(), 'postal_code']\n"
     ]
    },
    {
     "name": "stdout",
     "output_type": "stream",
     "text": [
      "78110\n"
     ]
    },
    {
     "name": "stderr",
     "output_type": "stream",
     "text": [
      "/var/folders/nw/13n2z96d7jv211k2c2mk6pkh0000gp/T/ipykernel_11652/3016908160.py:20: PerformanceWarning: indexing past lexsort depth may impact performance.\n",
      "  temp = dfZip.loc[dftemp['dist'].idxmin(), 'postal_code']\n"
     ]
    },
    {
     "name": "stdout",
     "output_type": "stream",
     "text": [
      "78960\n"
     ]
    },
    {
     "name": "stderr",
     "output_type": "stream",
     "text": [
      "/var/folders/nw/13n2z96d7jv211k2c2mk6pkh0000gp/T/ipykernel_11652/3016908160.py:20: PerformanceWarning: indexing past lexsort depth may impact performance.\n",
      "  temp = dfZip.loc[dftemp['dist'].idxmin(), 'postal_code']\n"
     ]
    },
    {
     "name": "stdout",
     "output_type": "stream",
     "text": [
      "79300\n"
     ]
    },
    {
     "name": "stderr",
     "output_type": "stream",
     "text": [
      "/var/folders/nw/13n2z96d7jv211k2c2mk6pkh0000gp/T/ipykernel_11652/3016908160.py:20: PerformanceWarning: indexing past lexsort depth may impact performance.\n",
      "  temp = dfZip.loc[dftemp['dist'].idxmin(), 'postal_code']\n"
     ]
    },
    {
     "name": "stdout",
     "output_type": "stream",
     "text": [
      "12000\n"
     ]
    },
    {
     "name": "stderr",
     "output_type": "stream",
     "text": [
      "/var/folders/nw/13n2z96d7jv211k2c2mk6pkh0000gp/T/ipykernel_11652/3016908160.py:20: PerformanceWarning: indexing past lexsort depth may impact performance.\n",
      "  temp = dfZip.loc[dftemp['dist'].idxmin(), 'postal_code']\n"
     ]
    },
    {
     "name": "stdout",
     "output_type": "stream",
     "text": [
      "79300\n"
     ]
    },
    {
     "name": "stderr",
     "output_type": "stream",
     "text": [
      "/var/folders/nw/13n2z96d7jv211k2c2mk6pkh0000gp/T/ipykernel_11652/3016908160.py:20: PerformanceWarning: indexing past lexsort depth may impact performance.\n",
      "  temp = dfZip.loc[dftemp['dist'].idxmin(), 'postal_code']\n"
     ]
    },
    {
     "name": "stdout",
     "output_type": "stream",
     "text": [
      "79000\n"
     ]
    },
    {
     "name": "stderr",
     "output_type": "stream",
     "text": [
      "/var/folders/nw/13n2z96d7jv211k2c2mk6pkh0000gp/T/ipykernel_11652/3016908160.py:20: PerformanceWarning: indexing past lexsort depth may impact performance.\n",
      "  temp = dfZip.loc[dftemp['dist'].idxmin(), 'postal_code']\n"
     ]
    },
    {
     "name": "stdout",
     "output_type": "stream",
     "text": [
      "79000\n"
     ]
    },
    {
     "name": "stderr",
     "output_type": "stream",
     "text": [
      "/var/folders/nw/13n2z96d7jv211k2c2mk6pkh0000gp/T/ipykernel_11652/3016908160.py:20: PerformanceWarning: indexing past lexsort depth may impact performance.\n",
      "  temp = dfZip.loc[dftemp['dist'].idxmin(), 'postal_code']\n"
     ]
    },
    {
     "name": "stdout",
     "output_type": "stream",
     "text": [
      "79000\n"
     ]
    },
    {
     "name": "stderr",
     "output_type": "stream",
     "text": [
      "/var/folders/nw/13n2z96d7jv211k2c2mk6pkh0000gp/T/ipykernel_11652/3016908160.py:20: PerformanceWarning: indexing past lexsort depth may impact performance.\n",
      "  temp = dfZip.loc[dftemp['dist'].idxmin(), 'postal_code']\n"
     ]
    },
    {
     "name": "stdout",
     "output_type": "stream",
     "text": [
      "79200\n"
     ]
    },
    {
     "name": "stderr",
     "output_type": "stream",
     "text": [
      "/var/folders/nw/13n2z96d7jv211k2c2mk6pkh0000gp/T/ipykernel_11652/3016908160.py:20: PerformanceWarning: indexing past lexsort depth may impact performance.\n",
      "  temp = dfZip.loc[dftemp['dist'].idxmin(), 'postal_code']\n"
     ]
    },
    {
     "name": "stdout",
     "output_type": "stream",
     "text": [
      "79100\n"
     ]
    },
    {
     "name": "stderr",
     "output_type": "stream",
     "text": [
      "/var/folders/nw/13n2z96d7jv211k2c2mk6pkh0000gp/T/ipykernel_11652/3016908160.py:20: PerformanceWarning: indexing past lexsort depth may impact performance.\n",
      "  temp = dfZip.loc[dftemp['dist'].idxmin(), 'postal_code']\n"
     ]
    },
    {
     "name": "stdout",
     "output_type": "stream",
     "text": [
      "80100\n"
     ]
    },
    {
     "name": "stderr",
     "output_type": "stream",
     "text": [
      "/var/folders/nw/13n2z96d7jv211k2c2mk6pkh0000gp/T/ipykernel_11652/3016908160.py:20: PerformanceWarning: indexing past lexsort depth may impact performance.\n",
      "  temp = dfZip.loc[dftemp['dist'].idxmin(), 'postal_code']\n"
     ]
    },
    {
     "name": "stdout",
     "output_type": "stream",
     "text": [
      "80000\n"
     ]
    },
    {
     "name": "stderr",
     "output_type": "stream",
     "text": [
      "/var/folders/nw/13n2z96d7jv211k2c2mk6pkh0000gp/T/ipykernel_11652/3016908160.py:20: PerformanceWarning: indexing past lexsort depth may impact performance.\n",
      "  temp = dfZip.loc[dftemp['dist'].idxmin(), 'postal_code']\n"
     ]
    },
    {
     "name": "stdout",
     "output_type": "stream",
     "text": [
      "80000\n"
     ]
    },
    {
     "name": "stderr",
     "output_type": "stream",
     "text": [
      "/var/folders/nw/13n2z96d7jv211k2c2mk6pkh0000gp/T/ipykernel_11652/3016908160.py:20: PerformanceWarning: indexing past lexsort depth may impact performance.\n",
      "  temp = dfZip.loc[dftemp['dist'].idxmin(), 'postal_code']\n"
     ]
    },
    {
     "name": "stdout",
     "output_type": "stream",
     "text": [
      "80000\n"
     ]
    },
    {
     "name": "stderr",
     "output_type": "stream",
     "text": [
      "/var/folders/nw/13n2z96d7jv211k2c2mk6pkh0000gp/T/ipykernel_11652/3016908160.py:20: PerformanceWarning: indexing past lexsort depth may impact performance.\n",
      "  temp = dfZip.loc[dftemp['dist'].idxmin(), 'postal_code']\n"
     ]
    },
    {
     "name": "stdout",
     "output_type": "stream",
     "text": [
      "12200\n"
     ]
    },
    {
     "name": "stderr",
     "output_type": "stream",
     "text": [
      "/var/folders/nw/13n2z96d7jv211k2c2mk6pkh0000gp/T/ipykernel_11652/3016908160.py:20: PerformanceWarning: indexing past lexsort depth may impact performance.\n",
      "  temp = dfZip.loc[dftemp['dist'].idxmin(), 'postal_code']\n"
     ]
    },
    {
     "name": "stdout",
     "output_type": "stream",
     "text": [
      "80310\n"
     ]
    },
    {
     "name": "stderr",
     "output_type": "stream",
     "text": [
      "/var/folders/nw/13n2z96d7jv211k2c2mk6pkh0000gp/T/ipykernel_11652/3016908160.py:20: PerformanceWarning: indexing past lexsort depth may impact performance.\n",
      "  temp = dfZip.loc[dftemp['dist'].idxmin(), 'postal_code']\n"
     ]
    },
    {
     "name": "stdout",
     "output_type": "stream",
     "text": [
      "81000\n"
     ]
    },
    {
     "name": "stderr",
     "output_type": "stream",
     "text": [
      "/var/folders/nw/13n2z96d7jv211k2c2mk6pkh0000gp/T/ipykernel_11652/3016908160.py:20: PerformanceWarning: indexing past lexsort depth may impact performance.\n",
      "  temp = dfZip.loc[dftemp['dist'].idxmin(), 'postal_code']\n"
     ]
    },
    {
     "name": "stdout",
     "output_type": "stream",
     "text": [
      "81000\n"
     ]
    },
    {
     "name": "stderr",
     "output_type": "stream",
     "text": [
      "/var/folders/nw/13n2z96d7jv211k2c2mk6pkh0000gp/T/ipykernel_11652/3016908160.py:20: PerformanceWarning: indexing past lexsort depth may impact performance.\n",
      "  temp = dfZip.loc[dftemp['dist'].idxmin(), 'postal_code']\n"
     ]
    },
    {
     "name": "stdout",
     "output_type": "stream",
     "text": [
      "81400\n"
     ]
    },
    {
     "name": "stderr",
     "output_type": "stream",
     "text": [
      "/var/folders/nw/13n2z96d7jv211k2c2mk6pkh0000gp/T/ipykernel_11652/3016908160.py:20: PerformanceWarning: indexing past lexsort depth may impact performance.\n",
      "  temp = dfZip.loc[dftemp['dist'].idxmin(), 'postal_code']\n"
     ]
    },
    {
     "name": "stdout",
     "output_type": "stream",
     "text": [
      "81100\n"
     ]
    },
    {
     "name": "stderr",
     "output_type": "stream",
     "text": [
      "/var/folders/nw/13n2z96d7jv211k2c2mk6pkh0000gp/T/ipykernel_11652/3016908160.py:20: PerformanceWarning: indexing past lexsort depth may impact performance.\n",
      "  temp = dfZip.loc[dftemp['dist'].idxmin(), 'postal_code']\n"
     ]
    },
    {
     "name": "stdout",
     "output_type": "stream",
     "text": [
      "82000\n"
     ]
    },
    {
     "name": "stderr",
     "output_type": "stream",
     "text": [
      "/var/folders/nw/13n2z96d7jv211k2c2mk6pkh0000gp/T/ipykernel_11652/3016908160.py:20: PerformanceWarning: indexing past lexsort depth may impact performance.\n",
      "  temp = dfZip.loc[dftemp['dist'].idxmin(), 'postal_code']\n"
     ]
    },
    {
     "name": "stdout",
     "output_type": "stream",
     "text": [
      "82000\n"
     ]
    },
    {
     "name": "stderr",
     "output_type": "stream",
     "text": [
      "/var/folders/nw/13n2z96d7jv211k2c2mk6pkh0000gp/T/ipykernel_11652/3016908160.py:20: PerformanceWarning: indexing past lexsort depth may impact performance.\n",
      "  temp = dfZip.loc[dftemp['dist'].idxmin(), 'postal_code']\n"
     ]
    },
    {
     "name": "stdout",
     "output_type": "stream",
     "text": [
      "83170\n"
     ]
    },
    {
     "name": "stderr",
     "output_type": "stream",
     "text": [
      "/var/folders/nw/13n2z96d7jv211k2c2mk6pkh0000gp/T/ipykernel_11652/3016908160.py:20: PerformanceWarning: indexing past lexsort depth may impact performance.\n",
      "  temp = dfZip.loc[dftemp['dist'].idxmin(), 'postal_code']\n"
     ]
    },
    {
     "name": "stdout",
     "output_type": "stream",
     "text": [
      "83260\n"
     ]
    },
    {
     "name": "stderr",
     "output_type": "stream",
     "text": [
      "/var/folders/nw/13n2z96d7jv211k2c2mk6pkh0000gp/T/ipykernel_11652/3016908160.py:20: PerformanceWarning: indexing past lexsort depth may impact performance.\n",
      "  temp = dfZip.loc[dftemp['dist'].idxmin(), 'postal_code']\n"
     ]
    },
    {
     "name": "stdout",
     "output_type": "stream",
     "text": [
      "83390\n"
     ]
    },
    {
     "name": "stderr",
     "output_type": "stream",
     "text": [
      "/var/folders/nw/13n2z96d7jv211k2c2mk6pkh0000gp/T/ipykernel_11652/3016908160.py:20: PerformanceWarning: indexing past lexsort depth may impact performance.\n",
      "  temp = dfZip.loc[dftemp['dist'].idxmin(), 'postal_code']\n"
     ]
    },
    {
     "name": "stdout",
     "output_type": "stream",
     "text": [
      "13080\n"
     ]
    },
    {
     "name": "stderr",
     "output_type": "stream",
     "text": [
      "/var/folders/nw/13n2z96d7jv211k2c2mk6pkh0000gp/T/ipykernel_11652/3016908160.py:20: PerformanceWarning: indexing past lexsort depth may impact performance.\n",
      "  temp = dfZip.loc[dftemp['dist'].idxmin(), 'postal_code']\n"
     ]
    },
    {
     "name": "stdout",
     "output_type": "stream",
     "text": [
      "83001 CEDEX\n"
     ]
    },
    {
     "name": "stderr",
     "output_type": "stream",
     "text": [
      "/var/folders/nw/13n2z96d7jv211k2c2mk6pkh0000gp/T/ipykernel_11652/3016908160.py:20: PerformanceWarning: indexing past lexsort depth may impact performance.\n",
      "  temp = dfZip.loc[dftemp['dist'].idxmin(), 'postal_code']\n"
     ]
    },
    {
     "name": "stdout",
     "output_type": "stream",
     "text": [
      "83001 CEDEX\n"
     ]
    },
    {
     "name": "stderr",
     "output_type": "stream",
     "text": [
      "/var/folders/nw/13n2z96d7jv211k2c2mk6pkh0000gp/T/ipykernel_11652/3016908160.py:20: PerformanceWarning: indexing past lexsort depth may impact performance.\n",
      "  temp = dfZip.loc[dftemp['dist'].idxmin(), 'postal_code']\n"
     ]
    },
    {
     "name": "stdout",
     "output_type": "stream",
     "text": [
      "83530\n"
     ]
    },
    {
     "name": "stderr",
     "output_type": "stream",
     "text": [
      "/var/folders/nw/13n2z96d7jv211k2c2mk6pkh0000gp/T/ipykernel_11652/3016908160.py:20: PerformanceWarning: indexing past lexsort depth may impact performance.\n",
      "  temp = dfZip.loc[dftemp['dist'].idxmin(), 'postal_code']\n"
     ]
    },
    {
     "name": "stdout",
     "output_type": "stream",
     "text": [
      "83130\n"
     ]
    },
    {
     "name": "stderr",
     "output_type": "stream",
     "text": [
      "/var/folders/nw/13n2z96d7jv211k2c2mk6pkh0000gp/T/ipykernel_11652/3016908160.py:20: PerformanceWarning: indexing past lexsort depth may impact performance.\n",
      "  temp = dfZip.loc[dftemp['dist'].idxmin(), 'postal_code']\n"
     ]
    },
    {
     "name": "stdout",
     "output_type": "stream",
     "text": [
      "83400\n"
     ]
    },
    {
     "name": "stderr",
     "output_type": "stream",
     "text": [
      "/var/folders/nw/13n2z96d7jv211k2c2mk6pkh0000gp/T/ipykernel_11652/3016908160.py:20: PerformanceWarning: indexing past lexsort depth may impact performance.\n",
      "  temp = dfZip.loc[dftemp['dist'].idxmin(), 'postal_code']\n"
     ]
    },
    {
     "name": "stdout",
     "output_type": "stream",
     "text": [
      "83380\n"
     ]
    },
    {
     "name": "stderr",
     "output_type": "stream",
     "text": [
      "/var/folders/nw/13n2z96d7jv211k2c2mk6pkh0000gp/T/ipykernel_11652/3016908160.py:20: PerformanceWarning: indexing past lexsort depth may impact performance.\n",
      "  temp = dfZip.loc[dftemp['dist'].idxmin(), 'postal_code']\n"
     ]
    },
    {
     "name": "stdout",
     "output_type": "stream",
     "text": [
      "83120\n"
     ]
    },
    {
     "name": "stderr",
     "output_type": "stream",
     "text": [
      "/var/folders/nw/13n2z96d7jv211k2c2mk6pkh0000gp/T/ipykernel_11652/3016908160.py:20: PerformanceWarning: indexing past lexsort depth may impact performance.\n",
      "  temp = dfZip.loc[dftemp['dist'].idxmin(), 'postal_code']\n"
     ]
    },
    {
     "name": "stdout",
     "output_type": "stream",
     "text": [
      "83530\n"
     ]
    },
    {
     "name": "stderr",
     "output_type": "stream",
     "text": [
      "/var/folders/nw/13n2z96d7jv211k2c2mk6pkh0000gp/T/ipykernel_11652/3016908160.py:20: PerformanceWarning: indexing past lexsort depth may impact performance.\n",
      "  temp = dfZip.loc[dftemp['dist'].idxmin(), 'postal_code']\n"
     ]
    },
    {
     "name": "stdout",
     "output_type": "stream",
     "text": [
      "83530\n"
     ]
    },
    {
     "name": "stderr",
     "output_type": "stream",
     "text": [
      "/var/folders/nw/13n2z96d7jv211k2c2mk6pkh0000gp/T/ipykernel_11652/3016908160.py:20: PerformanceWarning: indexing past lexsort depth may impact performance.\n",
      "  temp = dfZip.loc[dftemp['dist'].idxmin(), 'postal_code']\n"
     ]
    },
    {
     "name": "stdout",
     "output_type": "stream",
     "text": [
      "83990\n"
     ]
    },
    {
     "name": "stderr",
     "output_type": "stream",
     "text": [
      "/var/folders/nw/13n2z96d7jv211k2c2mk6pkh0000gp/T/ipykernel_11652/3016908160.py:20: PerformanceWarning: indexing past lexsort depth may impact performance.\n",
      "  temp = dfZip.loc[dftemp['dist'].idxmin(), 'postal_code']\n"
     ]
    },
    {
     "name": "stdout",
     "output_type": "stream",
     "text": [
      "13320\n"
     ]
    },
    {
     "name": "stderr",
     "output_type": "stream",
     "text": [
      "/var/folders/nw/13n2z96d7jv211k2c2mk6pkh0000gp/T/ipykernel_11652/3016908160.py:20: PerformanceWarning: indexing past lexsort depth may impact performance.\n",
      "  temp = dfZip.loc[dftemp['dist'].idxmin(), 'postal_code']\n"
     ]
    },
    {
     "name": "stdout",
     "output_type": "stream",
     "text": [
      "83110\n"
     ]
    },
    {
     "name": "stderr",
     "output_type": "stream",
     "text": [
      "/var/folders/nw/13n2z96d7jv211k2c2mk6pkh0000gp/T/ipykernel_11652/3016908160.py:20: PerformanceWarning: indexing past lexsort depth may impact performance.\n",
      "  temp = dfZip.loc[dftemp['dist'].idxmin(), 'postal_code']\n"
     ]
    },
    {
     "name": "stdout",
     "output_type": "stream",
     "text": [
      "83500\n"
     ]
    },
    {
     "name": "stderr",
     "output_type": "stream",
     "text": [
      "/var/folders/nw/13n2z96d7jv211k2c2mk6pkh0000gp/T/ipykernel_11652/3016908160.py:20: PerformanceWarning: indexing past lexsort depth may impact performance.\n",
      "  temp = dfZip.loc[dftemp['dist'].idxmin(), 'postal_code']\n"
     ]
    },
    {
     "name": "stdout",
     "output_type": "stream",
     "text": [
      "83140\n"
     ]
    },
    {
     "name": "stderr",
     "output_type": "stream",
     "text": [
      "/var/folders/nw/13n2z96d7jv211k2c2mk6pkh0000gp/T/ipykernel_11652/3016908160.py:20: PerformanceWarning: indexing past lexsort depth may impact performance.\n",
      "  temp = dfZip.loc[dftemp['dist'].idxmin(), 'postal_code']\n"
     ]
    },
    {
     "name": "stdout",
     "output_type": "stream",
     "text": [
      "83000\n"
     ]
    },
    {
     "name": "stderr",
     "output_type": "stream",
     "text": [
      "/var/folders/nw/13n2z96d7jv211k2c2mk6pkh0000gp/T/ipykernel_11652/3016908160.py:20: PerformanceWarning: indexing past lexsort depth may impact performance.\n",
      "  temp = dfZip.loc[dftemp['dist'].idxmin(), 'postal_code']\n"
     ]
    },
    {
     "name": "stdout",
     "output_type": "stream",
     "text": [
      "83160\n"
     ]
    },
    {
     "name": "stderr",
     "output_type": "stream",
     "text": [
      "/var/folders/nw/13n2z96d7jv211k2c2mk6pkh0000gp/T/ipykernel_11652/3016908160.py:20: PerformanceWarning: indexing past lexsort depth may impact performance.\n",
      "  temp = dfZip.loc[dftemp['dist'].idxmin(), 'postal_code']\n"
     ]
    },
    {
     "name": "stdout",
     "output_type": "stream",
     "text": [
      "84400\n"
     ]
    },
    {
     "name": "stderr",
     "output_type": "stream",
     "text": [
      "/var/folders/nw/13n2z96d7jv211k2c2mk6pkh0000gp/T/ipykernel_11652/3016908160.py:20: PerformanceWarning: indexing past lexsort depth may impact performance.\n",
      "  temp = dfZip.loc[dftemp['dist'].idxmin(), 'postal_code']\n"
     ]
    },
    {
     "name": "stdout",
     "output_type": "stream",
     "text": [
      "84141 CEDEX\n"
     ]
    },
    {
     "name": "stderr",
     "output_type": "stream",
     "text": [
      "/var/folders/nw/13n2z96d7jv211k2c2mk6pkh0000gp/T/ipykernel_11652/3016908160.py:20: PerformanceWarning: indexing past lexsort depth may impact performance.\n",
      "  temp = dfZip.loc[dftemp['dist'].idxmin(), 'postal_code']\n"
     ]
    },
    {
     "name": "stdout",
     "output_type": "stream",
     "text": [
      "84000\n"
     ]
    },
    {
     "name": "stderr",
     "output_type": "stream",
     "text": [
      "/var/folders/nw/13n2z96d7jv211k2c2mk6pkh0000gp/T/ipykernel_11652/3016908160.py:20: PerformanceWarning: indexing past lexsort depth may impact performance.\n",
      "  temp = dfZip.loc[dftemp['dist'].idxmin(), 'postal_code']\n"
     ]
    },
    {
     "name": "stdout",
     "output_type": "stream",
     "text": [
      "84141 CEDEX\n"
     ]
    },
    {
     "name": "stderr",
     "output_type": "stream",
     "text": [
      "/var/folders/nw/13n2z96d7jv211k2c2mk6pkh0000gp/T/ipykernel_11652/3016908160.py:20: PerformanceWarning: indexing past lexsort depth may impact performance.\n",
      "  temp = dfZip.loc[dftemp['dist'].idxmin(), 'postal_code']\n"
     ]
    },
    {
     "name": "stdout",
     "output_type": "stream",
     "text": [
      "84141 CEDEX\n"
     ]
    },
    {
     "name": "stderr",
     "output_type": "stream",
     "text": [
      "/var/folders/nw/13n2z96d7jv211k2c2mk6pkh0000gp/T/ipykernel_11652/3016908160.py:20: PerformanceWarning: indexing past lexsort depth may impact performance.\n",
      "  temp = dfZip.loc[dftemp['dist'].idxmin(), 'postal_code']\n"
     ]
    },
    {
     "name": "stdout",
     "output_type": "stream",
     "text": [
      "13080\n"
     ]
    },
    {
     "name": "stderr",
     "output_type": "stream",
     "text": [
      "/var/folders/nw/13n2z96d7jv211k2c2mk6pkh0000gp/T/ipykernel_11652/3016908160.py:20: PerformanceWarning: indexing past lexsort depth may impact performance.\n",
      "  temp = dfZip.loc[dftemp['dist'].idxmin(), 'postal_code']\n"
     ]
    },
    {
     "name": "stdout",
     "output_type": "stream",
     "text": [
      "84500\n"
     ]
    },
    {
     "name": "stderr",
     "output_type": "stream",
     "text": [
      "/var/folders/nw/13n2z96d7jv211k2c2mk6pkh0000gp/T/ipykernel_11652/3016908160.py:20: PerformanceWarning: indexing past lexsort depth may impact performance.\n",
      "  temp = dfZip.loc[dftemp['dist'].idxmin(), 'postal_code']\n"
     ]
    },
    {
     "name": "stdout",
     "output_type": "stream",
     "text": [
      "84200\n"
     ]
    },
    {
     "name": "stderr",
     "output_type": "stream",
     "text": [
      "/var/folders/nw/13n2z96d7jv211k2c2mk6pkh0000gp/T/ipykernel_11652/3016908160.py:20: PerformanceWarning: indexing past lexsort depth may impact performance.\n",
      "  temp = dfZip.loc[dftemp['dist'].idxmin(), 'postal_code']\n"
     ]
    },
    {
     "name": "stdout",
     "output_type": "stream",
     "text": [
      "84200\n"
     ]
    },
    {
     "name": "stderr",
     "output_type": "stream",
     "text": [
      "/var/folders/nw/13n2z96d7jv211k2c2mk6pkh0000gp/T/ipykernel_11652/3016908160.py:20: PerformanceWarning: indexing past lexsort depth may impact performance.\n",
      "  temp = dfZip.loc[dftemp['dist'].idxmin(), 'postal_code']\n"
     ]
    },
    {
     "name": "stdout",
     "output_type": "stream",
     "text": [
      "84300\n"
     ]
    },
    {
     "name": "stderr",
     "output_type": "stream",
     "text": [
      "/var/folders/nw/13n2z96d7jv211k2c2mk6pkh0000gp/T/ipykernel_11652/3016908160.py:20: PerformanceWarning: indexing past lexsort depth may impact performance.\n",
      "  temp = dfZip.loc[dftemp['dist'].idxmin(), 'postal_code']\n"
     ]
    },
    {
     "name": "stdout",
     "output_type": "stream",
     "text": [
      "84800\n"
     ]
    },
    {
     "name": "stderr",
     "output_type": "stream",
     "text": [
      "/var/folders/nw/13n2z96d7jv211k2c2mk6pkh0000gp/T/ipykernel_11652/3016908160.py:20: PerformanceWarning: indexing past lexsort depth may impact performance.\n",
      "  temp = dfZip.loc[dftemp['dist'].idxmin(), 'postal_code']\n"
     ]
    },
    {
     "name": "stdout",
     "output_type": "stream",
     "text": [
      "84100\n"
     ]
    },
    {
     "name": "stderr",
     "output_type": "stream",
     "text": [
      "/var/folders/nw/13n2z96d7jv211k2c2mk6pkh0000gp/T/ipykernel_11652/3016908160.py:20: PerformanceWarning: indexing past lexsort depth may impact performance.\n",
      "  temp = dfZip.loc[dftemp['dist'].idxmin(), 'postal_code']\n"
     ]
    },
    {
     "name": "stdout",
     "output_type": "stream",
     "text": [
      "84100\n"
     ]
    },
    {
     "name": "stderr",
     "output_type": "stream",
     "text": [
      "/var/folders/nw/13n2z96d7jv211k2c2mk6pkh0000gp/T/ipykernel_11652/3016908160.py:20: PerformanceWarning: indexing past lexsort depth may impact performance.\n",
      "  temp = dfZip.loc[dftemp['dist'].idxmin(), 'postal_code']\n"
     ]
    },
    {
     "name": "stdout",
     "output_type": "stream",
     "text": [
      "84120\n"
     ]
    },
    {
     "name": "stderr",
     "output_type": "stream",
     "text": [
      "/var/folders/nw/13n2z96d7jv211k2c2mk6pkh0000gp/T/ipykernel_11652/3016908160.py:20: PerformanceWarning: indexing past lexsort depth may impact performance.\n",
      "  temp = dfZip.loc[dftemp['dist'].idxmin(), 'postal_code']\n"
     ]
    },
    {
     "name": "stdout",
     "output_type": "stream",
     "text": [
      "84130\n"
     ]
    },
    {
     "name": "stderr",
     "output_type": "stream",
     "text": [
      "/var/folders/nw/13n2z96d7jv211k2c2mk6pkh0000gp/T/ipykernel_11652/3016908160.py:20: PerformanceWarning: indexing past lexsort depth may impact performance.\n",
      "  temp = dfZip.loc[dftemp['dist'].idxmin(), 'postal_code']\n"
     ]
    },
    {
     "name": "stdout",
     "output_type": "stream",
     "text": [
      "84700\n"
     ]
    },
    {
     "name": "stderr",
     "output_type": "stream",
     "text": [
      "/var/folders/nw/13n2z96d7jv211k2c2mk6pkh0000gp/T/ipykernel_11652/3016908160.py:20: PerformanceWarning: indexing past lexsort depth may impact performance.\n",
      "  temp = dfZip.loc[dftemp['dist'].idxmin(), 'postal_code']\n"
     ]
    },
    {
     "name": "stdout",
     "output_type": "stream",
     "text": [
      "13080\n"
     ]
    },
    {
     "name": "stderr",
     "output_type": "stream",
     "text": [
      "/var/folders/nw/13n2z96d7jv211k2c2mk6pkh0000gp/T/ipykernel_11652/3016908160.py:20: PerformanceWarning: indexing past lexsort depth may impact performance.\n",
      "  temp = dfZip.loc[dftemp['dist'].idxmin(), 'postal_code']\n"
     ]
    },
    {
     "name": "stdout",
     "output_type": "stream",
     "text": [
      "84110\n"
     ]
    },
    {
     "name": "stderr",
     "output_type": "stream",
     "text": [
      "/var/folders/nw/13n2z96d7jv211k2c2mk6pkh0000gp/T/ipykernel_11652/3016908160.py:20: PerformanceWarning: indexing past lexsort depth may impact performance.\n",
      "  temp = dfZip.loc[dftemp['dist'].idxmin(), 'postal_code']\n"
     ]
    },
    {
     "name": "stdout",
     "output_type": "stream",
     "text": [
      "85500\n"
     ]
    },
    {
     "name": "stderr",
     "output_type": "stream",
     "text": [
      "/var/folders/nw/13n2z96d7jv211k2c2mk6pkh0000gp/T/ipykernel_11652/3016908160.py:20: PerformanceWarning: indexing past lexsort depth may impact performance.\n",
      "  temp = dfZip.loc[dftemp['dist'].idxmin(), 'postal_code']\n"
     ]
    },
    {
     "name": "stdout",
     "output_type": "stream",
     "text": [
      "85000\n"
     ]
    },
    {
     "name": "stderr",
     "output_type": "stream",
     "text": [
      "/var/folders/nw/13n2z96d7jv211k2c2mk6pkh0000gp/T/ipykernel_11652/3016908160.py:20: PerformanceWarning: indexing past lexsort depth may impact performance.\n",
      "  temp = dfZip.loc[dftemp['dist'].idxmin(), 'postal_code']\n"
     ]
    },
    {
     "name": "stdout",
     "output_type": "stream",
     "text": [
      "85000\n"
     ]
    },
    {
     "name": "stderr",
     "output_type": "stream",
     "text": [
      "/var/folders/nw/13n2z96d7jv211k2c2mk6pkh0000gp/T/ipykernel_11652/3016908160.py:20: PerformanceWarning: indexing past lexsort depth may impact performance.\n",
      "  temp = dfZip.loc[dftemp['dist'].idxmin(), 'postal_code']\n"
     ]
    },
    {
     "name": "stdout",
     "output_type": "stream",
     "text": [
      "85000\n"
     ]
    },
    {
     "name": "stderr",
     "output_type": "stream",
     "text": [
      "/var/folders/nw/13n2z96d7jv211k2c2mk6pkh0000gp/T/ipykernel_11652/3016908160.py:20: PerformanceWarning: indexing past lexsort depth may impact performance.\n",
      "  temp = dfZip.loc[dftemp['dist'].idxmin(), 'postal_code']\n"
     ]
    },
    {
     "name": "stdout",
     "output_type": "stream",
     "text": [
      "85340\n"
     ]
    },
    {
     "name": "stderr",
     "output_type": "stream",
     "text": [
      "/var/folders/nw/13n2z96d7jv211k2c2mk6pkh0000gp/T/ipykernel_11652/3016908160.py:20: PerformanceWarning: indexing past lexsort depth may impact performance.\n",
      "  temp = dfZip.loc[dftemp['dist'].idxmin(), 'postal_code']\n"
     ]
    },
    {
     "name": "stdout",
     "output_type": "stream",
     "text": [
      "85180\n"
     ]
    },
    {
     "name": "stderr",
     "output_type": "stream",
     "text": [
      "/var/folders/nw/13n2z96d7jv211k2c2mk6pkh0000gp/T/ipykernel_11652/3016908160.py:20: PerformanceWarning: indexing past lexsort depth may impact performance.\n",
      "  temp = dfZip.loc[dftemp['dist'].idxmin(), 'postal_code']\n"
     ]
    },
    {
     "name": "stdout",
     "output_type": "stream",
     "text": [
      "85100\n"
     ]
    },
    {
     "name": "stderr",
     "output_type": "stream",
     "text": [
      "/var/folders/nw/13n2z96d7jv211k2c2mk6pkh0000gp/T/ipykernel_11652/3016908160.py:20: PerformanceWarning: indexing past lexsort depth may impact performance.\n",
      "  temp = dfZip.loc[dftemp['dist'].idxmin(), 'postal_code']\n"
     ]
    },
    {
     "name": "stdout",
     "output_type": "stream",
     "text": [
      "85160\n"
     ]
    },
    {
     "name": "stderr",
     "output_type": "stream",
     "text": [
      "/var/folders/nw/13n2z96d7jv211k2c2mk6pkh0000gp/T/ipykernel_11652/3016908160.py:20: PerformanceWarning: indexing past lexsort depth may impact performance.\n",
      "  temp = dfZip.loc[dftemp['dist'].idxmin(), 'postal_code']\n"
     ]
    },
    {
     "name": "stdout",
     "output_type": "stream",
     "text": [
      "85440\n"
     ]
    },
    {
     "name": "stderr",
     "output_type": "stream",
     "text": [
      "/var/folders/nw/13n2z96d7jv211k2c2mk6pkh0000gp/T/ipykernel_11652/3016908160.py:20: PerformanceWarning: indexing past lexsort depth may impact performance.\n",
      "  temp = dfZip.loc[dftemp['dist'].idxmin(), 'postal_code']\n"
     ]
    },
    {
     "name": "stdout",
     "output_type": "stream",
     "text": [
      "13190\n"
     ]
    },
    {
     "name": "stderr",
     "output_type": "stream",
     "text": [
      "/var/folders/nw/13n2z96d7jv211k2c2mk6pkh0000gp/T/ipykernel_11652/3016908160.py:20: PerformanceWarning: indexing past lexsort depth may impact performance.\n",
      "  temp = dfZip.loc[dftemp['dist'].idxmin(), 'postal_code']\n"
     ]
    },
    {
     "name": "stdout",
     "output_type": "stream",
     "text": [
      "86960 CEDEX\n"
     ]
    },
    {
     "name": "stderr",
     "output_type": "stream",
     "text": [
      "/var/folders/nw/13n2z96d7jv211k2c2mk6pkh0000gp/T/ipykernel_11652/3016908160.py:20: PerformanceWarning: indexing past lexsort depth may impact performance.\n",
      "  temp = dfZip.loc[dftemp['dist'].idxmin(), 'postal_code']\n"
     ]
    },
    {
     "name": "stdout",
     "output_type": "stream",
     "text": [
      "86100\n"
     ]
    },
    {
     "name": "stderr",
     "output_type": "stream",
     "text": [
      "/var/folders/nw/13n2z96d7jv211k2c2mk6pkh0000gp/T/ipykernel_11652/3016908160.py:20: PerformanceWarning: indexing past lexsort depth may impact performance.\n",
      "  temp = dfZip.loc[dftemp['dist'].idxmin(), 'postal_code']\n"
     ]
    },
    {
     "name": "stdout",
     "output_type": "stream",
     "text": [
      "86580\n"
     ]
    },
    {
     "name": "stderr",
     "output_type": "stream",
     "text": [
      "/var/folders/nw/13n2z96d7jv211k2c2mk6pkh0000gp/T/ipykernel_11652/3016908160.py:20: PerformanceWarning: indexing past lexsort depth may impact performance.\n",
      "  temp = dfZip.loc[dftemp['dist'].idxmin(), 'postal_code']\n"
     ]
    },
    {
     "name": "stdout",
     "output_type": "stream",
     "text": [
      "86000\n"
     ]
    },
    {
     "name": "stderr",
     "output_type": "stream",
     "text": [
      "/var/folders/nw/13n2z96d7jv211k2c2mk6pkh0000gp/T/ipykernel_11652/3016908160.py:20: PerformanceWarning: indexing past lexsort depth may impact performance.\n",
      "  temp = dfZip.loc[dftemp['dist'].idxmin(), 'postal_code']\n"
     ]
    },
    {
     "name": "stdout",
     "output_type": "stream",
     "text": [
      "86000\n"
     ]
    },
    {
     "name": "stderr",
     "output_type": "stream",
     "text": [
      "/var/folders/nw/13n2z96d7jv211k2c2mk6pkh0000gp/T/ipykernel_11652/3016908160.py:20: PerformanceWarning: indexing past lexsort depth may impact performance.\n",
      "  temp = dfZip.loc[dftemp['dist'].idxmin(), 'postal_code']\n"
     ]
    },
    {
     "name": "stdout",
     "output_type": "stream",
     "text": [
      "86000\n"
     ]
    },
    {
     "name": "stderr",
     "output_type": "stream",
     "text": [
      "/var/folders/nw/13n2z96d7jv211k2c2mk6pkh0000gp/T/ipykernel_11652/3016908160.py:20: PerformanceWarning: indexing past lexsort depth may impact performance.\n",
      "  temp = dfZip.loc[dftemp['dist'].idxmin(), 'postal_code']\n"
     ]
    },
    {
     "name": "stdout",
     "output_type": "stream",
     "text": [
      "87000\n"
     ]
    },
    {
     "name": "stderr",
     "output_type": "stream",
     "text": [
      "/var/folders/nw/13n2z96d7jv211k2c2mk6pkh0000gp/T/ipykernel_11652/3016908160.py:20: PerformanceWarning: indexing past lexsort depth may impact performance.\n",
      "  temp = dfZip.loc[dftemp['dist'].idxmin(), 'postal_code']\n"
     ]
    },
    {
     "name": "stdout",
     "output_type": "stream",
     "text": [
      "87170\n"
     ]
    },
    {
     "name": "stderr",
     "output_type": "stream",
     "text": [
      "/var/folders/nw/13n2z96d7jv211k2c2mk6pkh0000gp/T/ipykernel_11652/3016908160.py:20: PerformanceWarning: indexing past lexsort depth may impact performance.\n",
      "  temp = dfZip.loc[dftemp['dist'].idxmin(), 'postal_code']\n"
     ]
    },
    {
     "name": "stdout",
     "output_type": "stream",
     "text": [
      "87000\n"
     ]
    },
    {
     "name": "stderr",
     "output_type": "stream",
     "text": [
      "/var/folders/nw/13n2z96d7jv211k2c2mk6pkh0000gp/T/ipykernel_11652/3016908160.py:20: PerformanceWarning: indexing past lexsort depth may impact performance.\n",
      "  temp = dfZip.loc[dftemp['dist'].idxmin(), 'postal_code']\n"
     ]
    },
    {
     "name": "stdout",
     "output_type": "stream",
     "text": [
      "88000\n"
     ]
    },
    {
     "name": "stderr",
     "output_type": "stream",
     "text": [
      "/var/folders/nw/13n2z96d7jv211k2c2mk6pkh0000gp/T/ipykernel_11652/3016908160.py:20: PerformanceWarning: indexing past lexsort depth may impact performance.\n",
      "  temp = dfZip.loc[dftemp['dist'].idxmin(), 'postal_code']\n"
     ]
    },
    {
     "name": "stdout",
     "output_type": "stream",
     "text": [
      "13104\n"
     ]
    },
    {
     "name": "stderr",
     "output_type": "stream",
     "text": [
      "/var/folders/nw/13n2z96d7jv211k2c2mk6pkh0000gp/T/ipykernel_11652/3016908160.py:20: PerformanceWarning: indexing past lexsort depth may impact performance.\n",
      "  temp = dfZip.loc[dftemp['dist'].idxmin(), 'postal_code']\n"
     ]
    },
    {
     "name": "stdout",
     "output_type": "stream",
     "text": [
      "88190\n"
     ]
    },
    {
     "name": "stderr",
     "output_type": "stream",
     "text": [
      "/var/folders/nw/13n2z96d7jv211k2c2mk6pkh0000gp/T/ipykernel_11652/3016908160.py:20: PerformanceWarning: indexing past lexsort depth may impact performance.\n",
      "  temp = dfZip.loc[dftemp['dist'].idxmin(), 'postal_code']\n"
     ]
    },
    {
     "name": "stdout",
     "output_type": "stream",
     "text": [
      "88000\n"
     ]
    },
    {
     "name": "stderr",
     "output_type": "stream",
     "text": [
      "/var/folders/nw/13n2z96d7jv211k2c2mk6pkh0000gp/T/ipykernel_11652/3016908160.py:20: PerformanceWarning: indexing past lexsort depth may impact performance.\n",
      "  temp = dfZip.loc[dftemp['dist'].idxmin(), 'postal_code']\n"
     ]
    },
    {
     "name": "stdout",
     "output_type": "stream",
     "text": [
      "88300\n"
     ]
    },
    {
     "name": "stderr",
     "output_type": "stream",
     "text": [
      "/var/folders/nw/13n2z96d7jv211k2c2mk6pkh0000gp/T/ipykernel_11652/3016908160.py:20: PerformanceWarning: indexing past lexsort depth may impact performance.\n",
      "  temp = dfZip.loc[dftemp['dist'].idxmin(), 'postal_code']\n"
     ]
    },
    {
     "name": "stdout",
     "output_type": "stream",
     "text": [
      "88200\n"
     ]
    },
    {
     "name": "stderr",
     "output_type": "stream",
     "text": [
      "/var/folders/nw/13n2z96d7jv211k2c2mk6pkh0000gp/T/ipykernel_11652/3016908160.py:20: PerformanceWarning: indexing past lexsort depth may impact performance.\n",
      "  temp = dfZip.loc[dftemp['dist'].idxmin(), 'postal_code']\n"
     ]
    },
    {
     "name": "stdout",
     "output_type": "stream",
     "text": [
      "88100\n"
     ]
    },
    {
     "name": "stderr",
     "output_type": "stream",
     "text": [
      "/var/folders/nw/13n2z96d7jv211k2c2mk6pkh0000gp/T/ipykernel_11652/3016908160.py:20: PerformanceWarning: indexing past lexsort depth may impact performance.\n",
      "  temp = dfZip.loc[dftemp['dist'].idxmin(), 'postal_code']\n"
     ]
    },
    {
     "name": "stdout",
     "output_type": "stream",
     "text": [
      "89000\n"
     ]
    },
    {
     "name": "stderr",
     "output_type": "stream",
     "text": [
      "/var/folders/nw/13n2z96d7jv211k2c2mk6pkh0000gp/T/ipykernel_11652/3016908160.py:20: PerformanceWarning: indexing past lexsort depth may impact performance.\n",
      "  temp = dfZip.loc[dftemp['dist'].idxmin(), 'postal_code']\n"
     ]
    },
    {
     "name": "stdout",
     "output_type": "stream",
     "text": [
      "89000\n"
     ]
    },
    {
     "name": "stderr",
     "output_type": "stream",
     "text": [
      "/var/folders/nw/13n2z96d7jv211k2c2mk6pkh0000gp/T/ipykernel_11652/3016908160.py:20: PerformanceWarning: indexing past lexsort depth may impact performance.\n",
      "  temp = dfZip.loc[dftemp['dist'].idxmin(), 'postal_code']\n"
     ]
    },
    {
     "name": "stdout",
     "output_type": "stream",
     "text": [
      "89000\n"
     ]
    },
    {
     "name": "stderr",
     "output_type": "stream",
     "text": [
      "/var/folders/nw/13n2z96d7jv211k2c2mk6pkh0000gp/T/ipykernel_11652/3016908160.py:20: PerformanceWarning: indexing past lexsort depth may impact performance.\n",
      "  temp = dfZip.loc[dftemp['dist'].idxmin(), 'postal_code']\n"
     ]
    },
    {
     "name": "stdout",
     "output_type": "stream",
     "text": [
      "89200\n"
     ]
    },
    {
     "name": "stderr",
     "output_type": "stream",
     "text": [
      "/var/folders/nw/13n2z96d7jv211k2c2mk6pkh0000gp/T/ipykernel_11652/3016908160.py:20: PerformanceWarning: indexing past lexsort depth may impact performance.\n",
      "  temp = dfZip.loc[dftemp['dist'].idxmin(), 'postal_code']\n"
     ]
    },
    {
     "name": "stdout",
     "output_type": "stream",
     "text": [
      "89300\n"
     ]
    },
    {
     "name": "stderr",
     "output_type": "stream",
     "text": [
      "/var/folders/nw/13n2z96d7jv211k2c2mk6pkh0000gp/T/ipykernel_11652/3016908160.py:20: PerformanceWarning: indexing past lexsort depth may impact performance.\n",
      "  temp = dfZip.loc[dftemp['dist'].idxmin(), 'postal_code']\n"
     ]
    },
    {
     "name": "stdout",
     "output_type": "stream",
     "text": [
      "02880\n"
     ]
    },
    {
     "name": "stderr",
     "output_type": "stream",
     "text": [
      "/var/folders/nw/13n2z96d7jv211k2c2mk6pkh0000gp/T/ipykernel_11652/3016908160.py:20: PerformanceWarning: indexing past lexsort depth may impact performance.\n",
      "  temp = dfZip.loc[dftemp['dist'].idxmin(), 'postal_code']\n"
     ]
    },
    {
     "name": "stdout",
     "output_type": "stream",
     "text": [
      "13400\n"
     ]
    },
    {
     "name": "stderr",
     "output_type": "stream",
     "text": [
      "/var/folders/nw/13n2z96d7jv211k2c2mk6pkh0000gp/T/ipykernel_11652/3016908160.py:20: PerformanceWarning: indexing past lexsort depth may impact performance.\n",
      "  temp = dfZip.loc[dftemp['dist'].idxmin(), 'postal_code']\n"
     ]
    },
    {
     "name": "stdout",
     "output_type": "stream",
     "text": [
      "89090 CEDEX\n"
     ]
    },
    {
     "name": "stderr",
     "output_type": "stream",
     "text": [
      "/var/folders/nw/13n2z96d7jv211k2c2mk6pkh0000gp/T/ipykernel_11652/3016908160.py:20: PerformanceWarning: indexing past lexsort depth may impact performance.\n",
      "  temp = dfZip.loc[dftemp['dist'].idxmin(), 'postal_code']\n"
     ]
    },
    {
     "name": "stdout",
     "output_type": "stream",
     "text": [
      "90000\n"
     ]
    },
    {
     "name": "stderr",
     "output_type": "stream",
     "text": [
      "/var/folders/nw/13n2z96d7jv211k2c2mk6pkh0000gp/T/ipykernel_11652/3016908160.py:20: PerformanceWarning: indexing past lexsort depth may impact performance.\n",
      "  temp = dfZip.loc[dftemp['dist'].idxmin(), 'postal_code']\n"
     ]
    },
    {
     "name": "stdout",
     "output_type": "stream",
     "text": [
      "90000\n"
     ]
    },
    {
     "name": "stderr",
     "output_type": "stream",
     "text": [
      "/var/folders/nw/13n2z96d7jv211k2c2mk6pkh0000gp/T/ipykernel_11652/3016908160.py:20: PerformanceWarning: indexing past lexsort depth may impact performance.\n",
      "  temp = dfZip.loc[dftemp['dist'].idxmin(), 'postal_code']\n"
     ]
    },
    {
     "name": "stdout",
     "output_type": "stream",
     "text": [
      "90000\n"
     ]
    },
    {
     "name": "stderr",
     "output_type": "stream",
     "text": [
      "/var/folders/nw/13n2z96d7jv211k2c2mk6pkh0000gp/T/ipykernel_11652/3016908160.py:20: PerformanceWarning: indexing past lexsort depth may impact performance.\n",
      "  temp = dfZip.loc[dftemp['dist'].idxmin(), 'postal_code']\n"
     ]
    },
    {
     "name": "stdout",
     "output_type": "stream",
     "text": [
      "91200\n"
     ]
    },
    {
     "name": "stderr",
     "output_type": "stream",
     "text": [
      "/var/folders/nw/13n2z96d7jv211k2c2mk6pkh0000gp/T/ipykernel_11652/3016908160.py:20: PerformanceWarning: indexing past lexsort depth may impact performance.\n",
      "  temp = dfZip.loc[dftemp['dist'].idxmin(), 'postal_code']\n"
     ]
    },
    {
     "name": "stdout",
     "output_type": "stream",
     "text": [
      "91800\n"
     ]
    },
    {
     "name": "stderr",
     "output_type": "stream",
     "text": [
      "/var/folders/nw/13n2z96d7jv211k2c2mk6pkh0000gp/T/ipykernel_11652/3016908160.py:20: PerformanceWarning: indexing past lexsort depth may impact performance.\n",
      "  temp = dfZip.loc[dftemp['dist'].idxmin(), 'postal_code']\n"
     ]
    },
    {
     "name": "stdout",
     "output_type": "stream",
     "text": [
      "91730\n"
     ]
    },
    {
     "name": "stderr",
     "output_type": "stream",
     "text": [
      "/var/folders/nw/13n2z96d7jv211k2c2mk6pkh0000gp/T/ipykernel_11652/3016908160.py:20: PerformanceWarning: indexing past lexsort depth may impact performance.\n",
      "  temp = dfZip.loc[dftemp['dist'].idxmin(), 'postal_code']\n"
     ]
    },
    {
     "name": "stdout",
     "output_type": "stream",
     "text": [
      "91380\n"
     ]
    },
    {
     "name": "stderr",
     "output_type": "stream",
     "text": [
      "/var/folders/nw/13n2z96d7jv211k2c2mk6pkh0000gp/T/ipykernel_11652/3016908160.py:20: PerformanceWarning: indexing past lexsort depth may impact performance.\n",
      "  temp = dfZip.loc[dftemp['dist'].idxmin(), 'postal_code']\n"
     ]
    },
    {
     "name": "stdout",
     "output_type": "stream",
     "text": [
      "91100\n"
     ]
    },
    {
     "name": "stderr",
     "output_type": "stream",
     "text": [
      "/var/folders/nw/13n2z96d7jv211k2c2mk6pkh0000gp/T/ipykernel_11652/3016908160.py:20: PerformanceWarning: indexing past lexsort depth may impact performance.\n",
      "  temp = dfZip.loc[dftemp['dist'].idxmin(), 'postal_code']\n"
     ]
    },
    {
     "name": "stdout",
     "output_type": "stream",
     "text": [
      "91410\n"
     ]
    },
    {
     "name": "stderr",
     "output_type": "stream",
     "text": [
      "/var/folders/nw/13n2z96d7jv211k2c2mk6pkh0000gp/T/ipykernel_11652/3016908160.py:20: PerformanceWarning: indexing past lexsort depth may impact performance.\n",
      "  temp = dfZip.loc[dftemp['dist'].idxmin(), 'postal_code']\n"
     ]
    },
    {
     "name": "stdout",
     "output_type": "stream",
     "text": [
      "13580\n"
     ]
    },
    {
     "name": "stderr",
     "output_type": "stream",
     "text": [
      "/var/folders/nw/13n2z96d7jv211k2c2mk6pkh0000gp/T/ipykernel_11652/3016908160.py:20: PerformanceWarning: indexing past lexsort depth may impact performance.\n",
      "  temp = dfZip.loc[dftemp['dist'].idxmin(), 'postal_code']\n"
     ]
    },
    {
     "name": "stdout",
     "output_type": "stream",
     "text": [
      "91210\n"
     ]
    },
    {
     "name": "stderr",
     "output_type": "stream",
     "text": [
      "/var/folders/nw/13n2z96d7jv211k2c2mk6pkh0000gp/T/ipykernel_11652/3016908160.py:20: PerformanceWarning: indexing past lexsort depth may impact performance.\n",
      "  temp = dfZip.loc[dftemp['dist'].idxmin(), 'postal_code']\n"
     ]
    },
    {
     "name": "stdout",
     "output_type": "stream",
     "text": [
      "91860\n"
     ]
    },
    {
     "name": "stderr",
     "output_type": "stream",
     "text": [
      "/var/folders/nw/13n2z96d7jv211k2c2mk6pkh0000gp/T/ipykernel_11652/3016908160.py:20: PerformanceWarning: indexing past lexsort depth may impact performance.\n",
      "  temp = dfZip.loc[dftemp['dist'].idxmin(), 'postal_code']\n"
     ]
    },
    {
     "name": "stdout",
     "output_type": "stream",
     "text": [
      "91150\n"
     ]
    },
    {
     "name": "stderr",
     "output_type": "stream",
     "text": [
      "/var/folders/nw/13n2z96d7jv211k2c2mk6pkh0000gp/T/ipykernel_11652/3016908160.py:20: PerformanceWarning: indexing past lexsort depth may impact performance.\n",
      "  temp = dfZip.loc[dftemp['dist'].idxmin(), 'postal_code']\n"
     ]
    },
    {
     "name": "stdout",
     "output_type": "stream",
     "text": [
      "77127\n"
     ]
    },
    {
     "name": "stderr",
     "output_type": "stream",
     "text": [
      "/var/folders/nw/13n2z96d7jv211k2c2mk6pkh0000gp/T/ipykernel_11652/3016908160.py:20: PerformanceWarning: indexing past lexsort depth may impact performance.\n",
      "  temp = dfZip.loc[dftemp['dist'].idxmin(), 'postal_code']\n"
     ]
    },
    {
     "name": "stdout",
     "output_type": "stream",
     "text": [
      "91190\n"
     ]
    },
    {
     "name": "stderr",
     "output_type": "stream",
     "text": [
      "/var/folders/nw/13n2z96d7jv211k2c2mk6pkh0000gp/T/ipykernel_11652/3016908160.py:20: PerformanceWarning: indexing past lexsort depth may impact performance.\n",
      "  temp = dfZip.loc[dftemp['dist'].idxmin(), 'postal_code']\n"
     ]
    },
    {
     "name": "stdout",
     "output_type": "stream",
     "text": [
      "91350\n"
     ]
    },
    {
     "name": "stderr",
     "output_type": "stream",
     "text": [
      "/var/folders/nw/13n2z96d7jv211k2c2mk6pkh0000gp/T/ipykernel_11652/3016908160.py:20: PerformanceWarning: indexing past lexsort depth may impact performance.\n",
      "  temp = dfZip.loc[dftemp['dist'].idxmin(), 'postal_code']\n"
     ]
    },
    {
     "name": "stdout",
     "output_type": "stream",
     "text": [
      "91300\n"
     ]
    },
    {
     "name": "stderr",
     "output_type": "stream",
     "text": [
      "/var/folders/nw/13n2z96d7jv211k2c2mk6pkh0000gp/T/ipykernel_11652/3016908160.py:20: PerformanceWarning: indexing past lexsort depth may impact performance.\n",
      "  temp = dfZip.loc[dftemp['dist'].idxmin(), 'postal_code']\n"
     ]
    },
    {
     "name": "stdout",
     "output_type": "stream",
     "text": [
      "91400\n"
     ]
    },
    {
     "name": "stderr",
     "output_type": "stream",
     "text": [
      "/var/folders/nw/13n2z96d7jv211k2c2mk6pkh0000gp/T/ipykernel_11652/3016908160.py:20: PerformanceWarning: indexing past lexsort depth may impact performance.\n",
      "  temp = dfZip.loc[dftemp['dist'].idxmin(), 'postal_code']\n"
     ]
    },
    {
     "name": "stdout",
     "output_type": "stream",
     "text": [
      "91120\n"
     ]
    },
    {
     "name": "stderr",
     "output_type": "stream",
     "text": [
      "/var/folders/nw/13n2z96d7jv211k2c2mk6pkh0000gp/T/ipykernel_11652/3016908160.py:20: PerformanceWarning: indexing past lexsort depth may impact performance.\n",
      "  temp = dfZip.loc[dftemp['dist'].idxmin(), 'postal_code']\n"
     ]
    },
    {
     "name": "stdout",
     "output_type": "stream",
     "text": [
      "91600\n"
     ]
    },
    {
     "name": "stderr",
     "output_type": "stream",
     "text": [
      "/var/folders/nw/13n2z96d7jv211k2c2mk6pkh0000gp/T/ipykernel_11652/3016908160.py:20: PerformanceWarning: indexing past lexsort depth may impact performance.\n",
      "  temp = dfZip.loc[dftemp['dist'].idxmin(), 'postal_code']\n"
     ]
    },
    {
     "name": "stdout",
     "output_type": "stream",
     "text": [
      "13161 CEDEX\n"
     ]
    },
    {
     "name": "stderr",
     "output_type": "stream",
     "text": [
      "/var/folders/nw/13n2z96d7jv211k2c2mk6pkh0000gp/T/ipykernel_11652/3016908160.py:20: PerformanceWarning: indexing past lexsort depth may impact performance.\n",
      "  temp = dfZip.loc[dftemp['dist'].idxmin(), 'postal_code']\n"
     ]
    },
    {
     "name": "stdout",
     "output_type": "stream",
     "text": [
      "91270\n"
     ]
    },
    {
     "name": "stderr",
     "output_type": "stream",
     "text": [
      "/var/folders/nw/13n2z96d7jv211k2c2mk6pkh0000gp/T/ipykernel_11652/3016908160.py:20: PerformanceWarning: indexing past lexsort depth may impact performance.\n",
      "  temp = dfZip.loc[dftemp['dist'].idxmin(), 'postal_code']\n"
     ]
    },
    {
     "name": "stdout",
     "output_type": "stream",
     "text": [
      "91140\n"
     ]
    },
    {
     "name": "stderr",
     "output_type": "stream",
     "text": [
      "/var/folders/nw/13n2z96d7jv211k2c2mk6pkh0000gp/T/ipykernel_11652/3016908160.py:20: PerformanceWarning: indexing past lexsort depth may impact performance.\n",
      "  temp = dfZip.loc[dftemp['dist'].idxmin(), 'postal_code']\n"
     ]
    },
    {
     "name": "stdout",
     "output_type": "stream",
     "text": [
      "91360\n"
     ]
    },
    {
     "name": "stderr",
     "output_type": "stream",
     "text": [
      "/var/folders/nw/13n2z96d7jv211k2c2mk6pkh0000gp/T/ipykernel_11652/3016908160.py:20: PerformanceWarning: indexing past lexsort depth may impact performance.\n",
      "  temp = dfZip.loc[dftemp['dist'].idxmin(), 'postal_code']\n"
     ]
    },
    {
     "name": "stdout",
     "output_type": "stream",
     "text": [
      "91170\n"
     ]
    },
    {
     "name": "stderr",
     "output_type": "stream",
     "text": [
      "/var/folders/nw/13n2z96d7jv211k2c2mk6pkh0000gp/T/ipykernel_11652/3016908160.py:20: PerformanceWarning: indexing past lexsort depth may impact performance.\n",
      "  temp = dfZip.loc[dftemp['dist'].idxmin(), 'postal_code']\n"
     ]
    },
    {
     "name": "stdout",
     "output_type": "stream",
     "text": [
      "91330\n"
     ]
    },
    {
     "name": "stderr",
     "output_type": "stream",
     "text": [
      "/var/folders/nw/13n2z96d7jv211k2c2mk6pkh0000gp/T/ipykernel_11652/3016908160.py:20: PerformanceWarning: indexing past lexsort depth may impact performance.\n",
      "  temp = dfZip.loc[dftemp['dist'].idxmin(), 'postal_code']\n"
     ]
    },
    {
     "name": "stdout",
     "output_type": "stream",
     "text": [
      "91940\n"
     ]
    },
    {
     "name": "stderr",
     "output_type": "stream",
     "text": [
      "/var/folders/nw/13n2z96d7jv211k2c2mk6pkh0000gp/T/ipykernel_11652/3016908160.py:20: PerformanceWarning: indexing past lexsort depth may impact performance.\n",
      "  temp = dfZip.loc[dftemp['dist'].idxmin(), 'postal_code']\n"
     ]
    },
    {
     "name": "stdout",
     "output_type": "stream",
     "text": [
      "92160\n"
     ]
    },
    {
     "name": "stderr",
     "output_type": "stream",
     "text": [
      "/var/folders/nw/13n2z96d7jv211k2c2mk6pkh0000gp/T/ipykernel_11652/3016908160.py:20: PerformanceWarning: indexing past lexsort depth may impact performance.\n",
      "  temp = dfZip.loc[dftemp['dist'].idxmin(), 'postal_code']\n"
     ]
    },
    {
     "name": "stdout",
     "output_type": "stream",
     "text": [
      "92600\n"
     ]
    },
    {
     "name": "stderr",
     "output_type": "stream",
     "text": [
      "/var/folders/nw/13n2z96d7jv211k2c2mk6pkh0000gp/T/ipykernel_11652/3016908160.py:20: PerformanceWarning: indexing past lexsort depth may impact performance.\n",
      "  temp = dfZip.loc[dftemp['dist'].idxmin(), 'postal_code']\n"
     ]
    },
    {
     "name": "stdout",
     "output_type": "stream",
     "text": [
      "92220\n"
     ]
    },
    {
     "name": "stderr",
     "output_type": "stream",
     "text": [
      "/var/folders/nw/13n2z96d7jv211k2c2mk6pkh0000gp/T/ipykernel_11652/3016908160.py:20: PerformanceWarning: indexing past lexsort depth may impact performance.\n",
      "  temp = dfZip.loc[dftemp['dist'].idxmin(), 'postal_code']\n"
     ]
    },
    {
     "name": "stdout",
     "output_type": "stream",
     "text": [
      "92270\n"
     ]
    },
    {
     "name": "stderr",
     "output_type": "stream",
     "text": [
      "/var/folders/nw/13n2z96d7jv211k2c2mk6pkh0000gp/T/ipykernel_11652/3016908160.py:20: PerformanceWarning: indexing past lexsort depth may impact performance.\n",
      "  temp = dfZip.loc[dftemp['dist'].idxmin(), 'postal_code']\n"
     ]
    },
    {
     "name": "stdout",
     "output_type": "stream",
     "text": [
      "13600\n"
     ]
    },
    {
     "name": "stderr",
     "output_type": "stream",
     "text": [
      "/var/folders/nw/13n2z96d7jv211k2c2mk6pkh0000gp/T/ipykernel_11652/3016908160.py:20: PerformanceWarning: indexing past lexsort depth may impact performance.\n",
      "  temp = dfZip.loc[dftemp['dist'].idxmin(), 'postal_code']\n"
     ]
    },
    {
     "name": "stdout",
     "output_type": "stream",
     "text": [
      "92100\n"
     ]
    },
    {
     "name": "stderr",
     "output_type": "stream",
     "text": [
      "/var/folders/nw/13n2z96d7jv211k2c2mk6pkh0000gp/T/ipykernel_11652/3016908160.py:20: PerformanceWarning: indexing past lexsort depth may impact performance.\n",
      "  temp = dfZip.loc[dftemp['dist'].idxmin(), 'postal_code']\n"
     ]
    },
    {
     "name": "stdout",
     "output_type": "stream",
     "text": [
      "92290\n"
     ]
    },
    {
     "name": "stderr",
     "output_type": "stream",
     "text": [
      "/var/folders/nw/13n2z96d7jv211k2c2mk6pkh0000gp/T/ipykernel_11652/3016908160.py:20: PerformanceWarning: indexing past lexsort depth may impact performance.\n",
      "  temp = dfZip.loc[dftemp['dist'].idxmin(), 'postal_code']\n"
     ]
    },
    {
     "name": "stdout",
     "output_type": "stream",
     "text": [
      "92320\n"
     ]
    },
    {
     "name": "stderr",
     "output_type": "stream",
     "text": [
      "/var/folders/nw/13n2z96d7jv211k2c2mk6pkh0000gp/T/ipykernel_11652/3016908160.py:20: PerformanceWarning: indexing past lexsort depth may impact performance.\n",
      "  temp = dfZip.loc[dftemp['dist'].idxmin(), 'postal_code']\n"
     ]
    },
    {
     "name": "stdout",
     "output_type": "stream",
     "text": [
      "92370\n"
     ]
    },
    {
     "name": "stderr",
     "output_type": "stream",
     "text": [
      "/var/folders/nw/13n2z96d7jv211k2c2mk6pkh0000gp/T/ipykernel_11652/3016908160.py:20: PerformanceWarning: indexing past lexsort depth may impact performance.\n",
      "  temp = dfZip.loc[dftemp['dist'].idxmin(), 'postal_code']\n"
     ]
    },
    {
     "name": "stdout",
     "output_type": "stream",
     "text": [
      "92140\n"
     ]
    },
    {
     "name": "stderr",
     "output_type": "stream",
     "text": [
      "/var/folders/nw/13n2z96d7jv211k2c2mk6pkh0000gp/T/ipykernel_11652/3016908160.py:20: PerformanceWarning: indexing past lexsort depth may impact performance.\n",
      "  temp = dfZip.loc[dftemp['dist'].idxmin(), 'postal_code']\n"
     ]
    },
    {
     "name": "stdout",
     "output_type": "stream",
     "text": [
      "92110\n"
     ]
    },
    {
     "name": "stderr",
     "output_type": "stream",
     "text": [
      "/var/folders/nw/13n2z96d7jv211k2c2mk6pkh0000gp/T/ipykernel_11652/3016908160.py:20: PerformanceWarning: indexing past lexsort depth may impact performance.\n",
      "  temp = dfZip.loc[dftemp['dist'].idxmin(), 'postal_code']\n"
     ]
    },
    {
     "name": "stdout",
     "output_type": "stream",
     "text": [
      "92700\n"
     ]
    },
    {
     "name": "stderr",
     "output_type": "stream",
     "text": [
      "/var/folders/nw/13n2z96d7jv211k2c2mk6pkh0000gp/T/ipykernel_11652/3016908160.py:20: PerformanceWarning: indexing past lexsort depth may impact performance.\n",
      "  temp = dfZip.loc[dftemp['dist'].idxmin(), 'postal_code']\n"
     ]
    },
    {
     "name": "stdout",
     "output_type": "stream",
     "text": [
      "92400\n"
     ]
    },
    {
     "name": "stderr",
     "output_type": "stream",
     "text": [
      "/var/folders/nw/13n2z96d7jv211k2c2mk6pkh0000gp/T/ipykernel_11652/3016908160.py:20: PerformanceWarning: indexing past lexsort depth may impact performance.\n",
      "  temp = dfZip.loc[dftemp['dist'].idxmin(), 'postal_code']\n"
     ]
    },
    {
     "name": "stdout",
     "output_type": "stream",
     "text": [
      "92260\n"
     ]
    },
    {
     "name": "stderr",
     "output_type": "stream",
     "text": [
      "/var/folders/nw/13n2z96d7jv211k2c2mk6pkh0000gp/T/ipykernel_11652/3016908160.py:20: PerformanceWarning: indexing past lexsort depth may impact performance.\n",
      "  temp = dfZip.loc[dftemp['dist'].idxmin(), 'postal_code']\n"
     ]
    },
    {
     "name": "stdout",
     "output_type": "stream",
     "text": [
      "92380\n"
     ]
    },
    {
     "name": "stderr",
     "output_type": "stream",
     "text": [
      "/var/folders/nw/13n2z96d7jv211k2c2mk6pkh0000gp/T/ipykernel_11652/3016908160.py:20: PerformanceWarning: indexing past lexsort depth may impact performance.\n",
      "  temp = dfZip.loc[dftemp['dist'].idxmin(), 'postal_code']\n"
     ]
    },
    {
     "name": "stdout",
     "output_type": "stream",
     "text": [
      "13580\n"
     ]
    },
    {
     "name": "stderr",
     "output_type": "stream",
     "text": [
      "/var/folders/nw/13n2z96d7jv211k2c2mk6pkh0000gp/T/ipykernel_11652/3016908160.py:20: PerformanceWarning: indexing past lexsort depth may impact performance.\n",
      "  temp = dfZip.loc[dftemp['dist'].idxmin(), 'postal_code']\n"
     ]
    },
    {
     "name": "stdout",
     "output_type": "stream",
     "text": [
      "92250\n"
     ]
    },
    {
     "name": "stderr",
     "output_type": "stream",
     "text": [
      "/var/folders/nw/13n2z96d7jv211k2c2mk6pkh0000gp/T/ipykernel_11652/3016908160.py:20: PerformanceWarning: indexing past lexsort depth may impact performance.\n",
      "  temp = dfZip.loc[dftemp['dist'].idxmin(), 'postal_code']\n"
     ]
    },
    {
     "name": "stdout",
     "output_type": "stream",
     "text": [
      "92230\n"
     ]
    },
    {
     "name": "stderr",
     "output_type": "stream",
     "text": [
      "/var/folders/nw/13n2z96d7jv211k2c2mk6pkh0000gp/T/ipykernel_11652/3016908160.py:20: PerformanceWarning: indexing past lexsort depth may impact performance.\n",
      "  temp = dfZip.loc[dftemp['dist'].idxmin(), 'postal_code']\n"
     ]
    },
    {
     "name": "stdout",
     "output_type": "stream",
     "text": [
      "92300\n"
     ]
    },
    {
     "name": "stderr",
     "output_type": "stream",
     "text": [
      "/var/folders/nw/13n2z96d7jv211k2c2mk6pkh0000gp/T/ipykernel_11652/3016908160.py:20: PerformanceWarning: indexing past lexsort depth may impact performance.\n",
      "  temp = dfZip.loc[dftemp['dist'].idxmin(), 'postal_code']\n"
     ]
    },
    {
     "name": "stdout",
     "output_type": "stream",
     "text": [
      "92240\n"
     ]
    },
    {
     "name": "stderr",
     "output_type": "stream",
     "text": [
      "/var/folders/nw/13n2z96d7jv211k2c2mk6pkh0000gp/T/ipykernel_11652/3016908160.py:20: PerformanceWarning: indexing past lexsort depth may impact performance.\n",
      "  temp = dfZip.loc[dftemp['dist'].idxmin(), 'postal_code']\n"
     ]
    },
    {
     "name": "stdout",
     "output_type": "stream",
     "text": [
      "92190\n"
     ]
    },
    {
     "name": "stderr",
     "output_type": "stream",
     "text": [
      "/var/folders/nw/13n2z96d7jv211k2c2mk6pkh0000gp/T/ipykernel_11652/3016908160.py:20: PerformanceWarning: indexing past lexsort depth may impact performance.\n",
      "  temp = dfZip.loc[dftemp['dist'].idxmin(), 'postal_code']\n"
     ]
    },
    {
     "name": "stdout",
     "output_type": "stream",
     "text": [
      "92120\n"
     ]
    },
    {
     "name": "stderr",
     "output_type": "stream",
     "text": [
      "/var/folders/nw/13n2z96d7jv211k2c2mk6pkh0000gp/T/ipykernel_11652/3016908160.py:20: PerformanceWarning: indexing past lexsort depth may impact performance.\n",
      "  temp = dfZip.loc[dftemp['dist'].idxmin(), 'postal_code']\n"
     ]
    },
    {
     "name": "stdout",
     "output_type": "stream",
     "text": [
      "92000\n"
     ]
    },
    {
     "name": "stderr",
     "output_type": "stream",
     "text": [
      "/var/folders/nw/13n2z96d7jv211k2c2mk6pkh0000gp/T/ipykernel_11652/3016908160.py:20: PerformanceWarning: indexing past lexsort depth may impact performance.\n",
      "  temp = dfZip.loc[dftemp['dist'].idxmin(), 'postal_code']\n"
     ]
    },
    {
     "name": "stdout",
     "output_type": "stream",
     "text": [
      "92000\n"
     ]
    },
    {
     "name": "stderr",
     "output_type": "stream",
     "text": [
      "/var/folders/nw/13n2z96d7jv211k2c2mk6pkh0000gp/T/ipykernel_11652/3016908160.py:20: PerformanceWarning: indexing past lexsort depth may impact performance.\n",
      "  temp = dfZip.loc[dftemp['dist'].idxmin(), 'postal_code']\n"
     ]
    },
    {
     "name": "stdout",
     "output_type": "stream",
     "text": [
      "92200\n"
     ]
    },
    {
     "name": "stderr",
     "output_type": "stream",
     "text": [
      "/var/folders/nw/13n2z96d7jv211k2c2mk6pkh0000gp/T/ipykernel_11652/3016908160.py:20: PerformanceWarning: indexing past lexsort depth may impact performance.\n",
      "  temp = dfZip.loc[dftemp['dist'].idxmin(), 'postal_code']\n"
     ]
    },
    {
     "name": "stdout",
     "output_type": "stream",
     "text": [
      "92350\n"
     ]
    },
    {
     "name": "stderr",
     "output_type": "stream",
     "text": [
      "/var/folders/nw/13n2z96d7jv211k2c2mk6pkh0000gp/T/ipykernel_11652/3016908160.py:20: PerformanceWarning: indexing past lexsort depth may impact performance.\n",
      "  temp = dfZip.loc[dftemp['dist'].idxmin(), 'postal_code']\n"
     ]
    },
    {
     "name": "stdout",
     "output_type": "stream",
     "text": [
      "13270\n"
     ]
    },
    {
     "name": "stderr",
     "output_type": "stream",
     "text": [
      "/var/folders/nw/13n2z96d7jv211k2c2mk6pkh0000gp/T/ipykernel_11652/3016908160.py:20: PerformanceWarning: indexing past lexsort depth may impact performance.\n",
      "  temp = dfZip.loc[dftemp['dist'].idxmin(), 'postal_code']\n"
     ]
    },
    {
     "name": "stdout",
     "output_type": "stream",
     "text": [
      "92800\n"
     ]
    },
    {
     "name": "stderr",
     "output_type": "stream",
     "text": [
      "/var/folders/nw/13n2z96d7jv211k2c2mk6pkh0000gp/T/ipykernel_11652/3016908160.py:20: PerformanceWarning: indexing past lexsort depth may impact performance.\n",
      "  temp = dfZip.loc[dftemp['dist'].idxmin(), 'postal_code']\n"
     ]
    },
    {
     "name": "stdout",
     "output_type": "stream",
     "text": [
      "92500\n"
     ]
    },
    {
     "name": "stderr",
     "output_type": "stream",
     "text": [
      "/var/folders/nw/13n2z96d7jv211k2c2mk6pkh0000gp/T/ipykernel_11652/3016908160.py:20: PerformanceWarning: indexing past lexsort depth may impact performance.\n",
      "  temp = dfZip.loc[dftemp['dist'].idxmin(), 'postal_code']\n"
     ]
    },
    {
     "name": "stdout",
     "output_type": "stream",
     "text": [
      "92210\n"
     ]
    },
    {
     "name": "stderr",
     "output_type": "stream",
     "text": [
      "/var/folders/nw/13n2z96d7jv211k2c2mk6pkh0000gp/T/ipykernel_11652/3016908160.py:20: PerformanceWarning: indexing past lexsort depth may impact performance.\n",
      "  temp = dfZip.loc[dftemp['dist'].idxmin(), 'postal_code']\n"
     ]
    },
    {
     "name": "stdout",
     "output_type": "stream",
     "text": [
      "92330\n"
     ]
    },
    {
     "name": "stderr",
     "output_type": "stream",
     "text": [
      "/var/folders/nw/13n2z96d7jv211k2c2mk6pkh0000gp/T/ipykernel_11652/3016908160.py:20: PerformanceWarning: indexing past lexsort depth may impact performance.\n",
      "  temp = dfZip.loc[dftemp['dist'].idxmin(), 'postal_code']\n"
     ]
    },
    {
     "name": "stdout",
     "output_type": "stream",
     "text": [
      "92310\n"
     ]
    },
    {
     "name": "stderr",
     "output_type": "stream",
     "text": [
      "/var/folders/nw/13n2z96d7jv211k2c2mk6pkh0000gp/T/ipykernel_11652/3016908160.py:20: PerformanceWarning: indexing past lexsort depth may impact performance.\n",
      "  temp = dfZip.loc[dftemp['dist'].idxmin(), 'postal_code']\n"
     ]
    },
    {
     "name": "stdout",
     "output_type": "stream",
     "text": [
      "92150\n"
     ]
    },
    {
     "name": "stderr",
     "output_type": "stream",
     "text": [
      "/var/folders/nw/13n2z96d7jv211k2c2mk6pkh0000gp/T/ipykernel_11652/3016908160.py:20: PerformanceWarning: indexing past lexsort depth may impact performance.\n",
      "  temp = dfZip.loc[dftemp['dist'].idxmin(), 'postal_code']\n"
     ]
    },
    {
     "name": "stdout",
     "output_type": "stream",
     "text": [
      "92170\n"
     ]
    },
    {
     "name": "stderr",
     "output_type": "stream",
     "text": [
      "/var/folders/nw/13n2z96d7jv211k2c2mk6pkh0000gp/T/ipykernel_11652/3016908160.py:20: PerformanceWarning: indexing past lexsort depth may impact performance.\n",
      "  temp = dfZip.loc[dftemp['dist'].idxmin(), 'postal_code']\n"
     ]
    },
    {
     "name": "stdout",
     "output_type": "stream",
     "text": [
      "93450\n"
     ]
    },
    {
     "name": "stderr",
     "output_type": "stream",
     "text": [
      "/var/folders/nw/13n2z96d7jv211k2c2mk6pkh0000gp/T/ipykernel_11652/3016908160.py:20: PerformanceWarning: indexing past lexsort depth may impact performance.\n",
      "  temp = dfZip.loc[dftemp['dist'].idxmin(), 'postal_code']\n"
     ]
    },
    {
     "name": "stdout",
     "output_type": "stream",
     "text": [
      "93300\n"
     ]
    },
    {
     "name": "stderr",
     "output_type": "stream",
     "text": [
      "/var/folders/nw/13n2z96d7jv211k2c2mk6pkh0000gp/T/ipykernel_11652/3016908160.py:20: PerformanceWarning: indexing past lexsort depth may impact performance.\n",
      "  temp = dfZip.loc[dftemp['dist'].idxmin(), 'postal_code']\n"
     ]
    },
    {
     "name": "stdout",
     "output_type": "stream",
     "text": [
      "93600\n"
     ]
    },
    {
     "name": "stderr",
     "output_type": "stream",
     "text": [
      "/var/folders/nw/13n2z96d7jv211k2c2mk6pkh0000gp/T/ipykernel_11652/3016908160.py:20: PerformanceWarning: indexing past lexsort depth may impact performance.\n",
      "  temp = dfZip.loc[dftemp['dist'].idxmin(), 'postal_code']\n"
     ]
    },
    {
     "name": "stdout",
     "output_type": "stream",
     "text": [
      "13118\n"
     ]
    },
    {
     "name": "stderr",
     "output_type": "stream",
     "text": [
      "/var/folders/nw/13n2z96d7jv211k2c2mk6pkh0000gp/T/ipykernel_11652/3016908160.py:20: PerformanceWarning: indexing past lexsort depth may impact performance.\n",
      "  temp = dfZip.loc[dftemp['dist'].idxmin(), 'postal_code']\n"
     ]
    },
    {
     "name": "stdout",
     "output_type": "stream",
     "text": [
      "93170\n"
     ]
    },
    {
     "name": "stderr",
     "output_type": "stream",
     "text": [
      "/var/folders/nw/13n2z96d7jv211k2c2mk6pkh0000gp/T/ipykernel_11652/3016908160.py:20: PerformanceWarning: indexing past lexsort depth may impact performance.\n",
      "  temp = dfZip.loc[dftemp['dist'].idxmin(), 'postal_code']\n"
     ]
    },
    {
     "name": "stdout",
     "output_type": "stream",
     "text": [
      "93150\n"
     ]
    },
    {
     "name": "stderr",
     "output_type": "stream",
     "text": [
      "/var/folders/nw/13n2z96d7jv211k2c2mk6pkh0000gp/T/ipykernel_11652/3016908160.py:20: PerformanceWarning: indexing past lexsort depth may impact performance.\n",
      "  temp = dfZip.loc[dftemp['dist'].idxmin(), 'postal_code']\n"
     ]
    },
    {
     "name": "stdout",
     "output_type": "stream",
     "text": [
      "93000\n"
     ]
    },
    {
     "name": "stderr",
     "output_type": "stream",
     "text": [
      "/var/folders/nw/13n2z96d7jv211k2c2mk6pkh0000gp/T/ipykernel_11652/3016908160.py:20: PerformanceWarning: indexing past lexsort depth may impact performance.\n",
      "  temp = dfZip.loc[dftemp['dist'].idxmin(), 'postal_code']\n"
     ]
    },
    {
     "name": "stdout",
     "output_type": "stream",
     "text": [
      "93000\n"
     ]
    },
    {
     "name": "stderr",
     "output_type": "stream",
     "text": [
      "/var/folders/nw/13n2z96d7jv211k2c2mk6pkh0000gp/T/ipykernel_11652/3016908160.py:20: PerformanceWarning: indexing past lexsort depth may impact performance.\n",
      "  temp = dfZip.loc[dftemp['dist'].idxmin(), 'postal_code']\n"
     ]
    },
    {
     "name": "stdout",
     "output_type": "stream",
     "text": [
      "93140\n"
     ]
    },
    {
     "name": "stderr",
     "output_type": "stream",
     "text": [
      "/var/folders/nw/13n2z96d7jv211k2c2mk6pkh0000gp/T/ipykernel_11652/3016908160.py:20: PerformanceWarning: indexing past lexsort depth may impact performance.\n",
      "  temp = dfZip.loc[dftemp['dist'].idxmin(), 'postal_code']\n"
     ]
    },
    {
     "name": "stdout",
     "output_type": "stream",
     "text": [
      "93350\n"
     ]
    },
    {
     "name": "stderr",
     "output_type": "stream",
     "text": [
      "/var/folders/nw/13n2z96d7jv211k2c2mk6pkh0000gp/T/ipykernel_11652/3016908160.py:20: PerformanceWarning: indexing past lexsort depth may impact performance.\n",
      "  temp = dfZip.loc[dftemp['dist'].idxmin(), 'postal_code']\n"
     ]
    },
    {
     "name": "stdout",
     "output_type": "stream",
     "text": [
      "93390\n"
     ]
    },
    {
     "name": "stderr",
     "output_type": "stream",
     "text": [
      "/var/folders/nw/13n2z96d7jv211k2c2mk6pkh0000gp/T/ipykernel_11652/3016908160.py:20: PerformanceWarning: indexing past lexsort depth may impact performance.\n",
      "  temp = dfZip.loc[dftemp['dist'].idxmin(), 'postal_code']\n"
     ]
    },
    {
     "name": "stdout",
     "output_type": "stream",
     "text": [
      "93120\n"
     ]
    },
    {
     "name": "stderr",
     "output_type": "stream",
     "text": [
      "/var/folders/nw/13n2z96d7jv211k2c2mk6pkh0000gp/T/ipykernel_11652/3016908160.py:20: PerformanceWarning: indexing past lexsort depth may impact performance.\n",
      "  temp = dfZip.loc[dftemp['dist'].idxmin(), 'postal_code']\n"
     ]
    },
    {
     "name": "stdout",
     "output_type": "stream",
     "text": [
      "93700\n"
     ]
    },
    {
     "name": "stderr",
     "output_type": "stream",
     "text": [
      "/var/folders/nw/13n2z96d7jv211k2c2mk6pkh0000gp/T/ipykernel_11652/3016908160.py:20: PerformanceWarning: indexing past lexsort depth may impact performance.\n",
      "  temp = dfZip.loc[dftemp['dist'].idxmin(), 'postal_code']\n"
     ]
    },
    {
     "name": "stdout",
     "output_type": "stream",
     "text": [
      "95140\n"
     ]
    },
    {
     "name": "stderr",
     "output_type": "stream",
     "text": [
      "/var/folders/nw/13n2z96d7jv211k2c2mk6pkh0000gp/T/ipykernel_11652/3016908160.py:20: PerformanceWarning: indexing past lexsort depth may impact performance.\n",
      "  temp = dfZip.loc[dftemp['dist'].idxmin(), 'postal_code']\n"
     ]
    },
    {
     "name": "stdout",
     "output_type": "stream",
     "text": [
      "13140\n"
     ]
    },
    {
     "name": "stderr",
     "output_type": "stream",
     "text": [
      "/var/folders/nw/13n2z96d7jv211k2c2mk6pkh0000gp/T/ipykernel_11652/3016908160.py:20: PerformanceWarning: indexing past lexsort depth may impact performance.\n",
      "  temp = dfZip.loc[dftemp['dist'].idxmin(), 'postal_code']\n"
     ]
    },
    {
     "name": "stdout",
     "output_type": "stream",
     "text": [
      "93800\n"
     ]
    },
    {
     "name": "stderr",
     "output_type": "stream",
     "text": [
      "/var/folders/nw/13n2z96d7jv211k2c2mk6pkh0000gp/T/ipykernel_11652/3016908160.py:20: PerformanceWarning: indexing past lexsort depth may impact performance.\n",
      "  temp = dfZip.loc[dftemp['dist'].idxmin(), 'postal_code']\n"
     ]
    },
    {
     "name": "stdout",
     "output_type": "stream",
     "text": [
      "93220\n"
     ]
    },
    {
     "name": "stderr",
     "output_type": "stream",
     "text": [
      "/var/folders/nw/13n2z96d7jv211k2c2mk6pkh0000gp/T/ipykernel_11652/3016908160.py:20: PerformanceWarning: indexing past lexsort depth may impact performance.\n",
      "  temp = dfZip.loc[dftemp['dist'].idxmin(), 'postal_code']\n"
     ]
    },
    {
     "name": "stdout",
     "output_type": "stream",
     "text": [
      "93260\n"
     ]
    },
    {
     "name": "stderr",
     "output_type": "stream",
     "text": [
      "/var/folders/nw/13n2z96d7jv211k2c2mk6pkh0000gp/T/ipykernel_11652/3016908160.py:20: PerformanceWarning: indexing past lexsort depth may impact performance.\n",
      "  temp = dfZip.loc[dftemp['dist'].idxmin(), 'postal_code']\n"
     ]
    },
    {
     "name": "stdout",
     "output_type": "stream",
     "text": [
      "93370\n"
     ]
    },
    {
     "name": "stderr",
     "output_type": "stream",
     "text": [
      "/var/folders/nw/13n2z96d7jv211k2c2mk6pkh0000gp/T/ipykernel_11652/3016908160.py:20: PerformanceWarning: indexing past lexsort depth may impact performance.\n",
      "  temp = dfZip.loc[dftemp['dist'].idxmin(), 'postal_code']\n"
     ]
    },
    {
     "name": "stdout",
     "output_type": "stream",
     "text": [
      "93100\n"
     ]
    },
    {
     "name": "stderr",
     "output_type": "stream",
     "text": [
      "/var/folders/nw/13n2z96d7jv211k2c2mk6pkh0000gp/T/ipykernel_11652/3016908160.py:20: PerformanceWarning: indexing past lexsort depth may impact performance.\n",
      "  temp = dfZip.loc[dftemp['dist'].idxmin(), 'postal_code']\n"
     ]
    },
    {
     "name": "stdout",
     "output_type": "stream",
     "text": [
      "93330\n"
     ]
    },
    {
     "name": "stderr",
     "output_type": "stream",
     "text": [
      "/var/folders/nw/13n2z96d7jv211k2c2mk6pkh0000gp/T/ipykernel_11652/3016908160.py:20: PerformanceWarning: indexing past lexsort depth may impact performance.\n",
      "  temp = dfZip.loc[dftemp['dist'].idxmin(), 'postal_code']\n"
     ]
    },
    {
     "name": "stdout",
     "output_type": "stream",
     "text": [
      "93330\n"
     ]
    },
    {
     "name": "stderr",
     "output_type": "stream",
     "text": [
      "/var/folders/nw/13n2z96d7jv211k2c2mk6pkh0000gp/T/ipykernel_11652/3016908160.py:20: PerformanceWarning: indexing past lexsort depth may impact performance.\n",
      "  temp = dfZip.loc[dftemp['dist'].idxmin(), 'postal_code']\n"
     ]
    },
    {
     "name": "stdout",
     "output_type": "stream",
     "text": [
      "93130\n"
     ]
    },
    {
     "name": "stderr",
     "output_type": "stream",
     "text": [
      "/var/folders/nw/13n2z96d7jv211k2c2mk6pkh0000gp/T/ipykernel_11652/3016908160.py:20: PerformanceWarning: indexing past lexsort depth may impact performance.\n",
      "  temp = dfZip.loc[dftemp['dist'].idxmin(), 'postal_code']\n"
     ]
    },
    {
     "name": "stdout",
     "output_type": "stream",
     "text": [
      "93500\n"
     ]
    },
    {
     "name": "stderr",
     "output_type": "stream",
     "text": [
      "/var/folders/nw/13n2z96d7jv211k2c2mk6pkh0000gp/T/ipykernel_11652/3016908160.py:20: PerformanceWarning: indexing past lexsort depth may impact performance.\n",
      "  temp = dfZip.loc[dftemp['dist'].idxmin(), 'postal_code']\n"
     ]
    },
    {
     "name": "stdout",
     "output_type": "stream",
     "text": [
      "93240\n"
     ]
    },
    {
     "name": "stderr",
     "output_type": "stream",
     "text": [
      "/var/folders/nw/13n2z96d7jv211k2c2mk6pkh0000gp/T/ipykernel_11652/3016908160.py:20: PerformanceWarning: indexing past lexsort depth may impact performance.\n",
      "  temp = dfZip.loc[dftemp['dist'].idxmin(), 'postal_code']\n"
     ]
    },
    {
     "name": "stdout",
     "output_type": "stream",
     "text": [
      "13700\n"
     ]
    },
    {
     "name": "stderr",
     "output_type": "stream",
     "text": [
      "/var/folders/nw/13n2z96d7jv211k2c2mk6pkh0000gp/T/ipykernel_11652/3016908160.py:20: PerformanceWarning: indexing past lexsort depth may impact performance.\n",
      "  temp = dfZip.loc[dftemp['dist'].idxmin(), 'postal_code']\n"
     ]
    },
    {
     "name": "stdout",
     "output_type": "stream",
     "text": [
      "93430\n"
     ]
    },
    {
     "name": "stderr",
     "output_type": "stream",
     "text": [
      "/var/folders/nw/13n2z96d7jv211k2c2mk6pkh0000gp/T/ipykernel_11652/3016908160.py:20: PerformanceWarning: indexing past lexsort depth may impact performance.\n",
      "  temp = dfZip.loc[dftemp['dist'].idxmin(), 'postal_code']\n"
     ]
    },
    {
     "name": "stdout",
     "output_type": "stream",
     "text": [
      "93230\n"
     ]
    },
    {
     "name": "stderr",
     "output_type": "stream",
     "text": [
      "/var/folders/nw/13n2z96d7jv211k2c2mk6pkh0000gp/T/ipykernel_11652/3016908160.py:20: PerformanceWarning: indexing past lexsort depth may impact performance.\n",
      "  temp = dfZip.loc[dftemp['dist'].idxmin(), 'postal_code']\n"
     ]
    },
    {
     "name": "stdout",
     "output_type": "stream",
     "text": [
      "93230\n"
     ]
    },
    {
     "name": "stderr",
     "output_type": "stream",
     "text": [
      "/var/folders/nw/13n2z96d7jv211k2c2mk6pkh0000gp/T/ipykernel_11652/3016908160.py:20: PerformanceWarning: indexing past lexsort depth may impact performance.\n",
      "  temp = dfZip.loc[dftemp['dist'].idxmin(), 'postal_code']\n"
     ]
    },
    {
     "name": "stdout",
     "output_type": "stream",
     "text": [
      "93110\n"
     ]
    },
    {
     "name": "stderr",
     "output_type": "stream",
     "text": [
      "/var/folders/nw/13n2z96d7jv211k2c2mk6pkh0000gp/T/ipykernel_11652/3016908160.py:20: PerformanceWarning: indexing past lexsort depth may impact performance.\n",
      "  temp = dfZip.loc[dftemp['dist'].idxmin(), 'postal_code']\n"
     ]
    },
    {
     "name": "stdout",
     "output_type": "stream",
     "text": [
      "93200\n"
     ]
    },
    {
     "name": "stderr",
     "output_type": "stream",
     "text": [
      "/var/folders/nw/13n2z96d7jv211k2c2mk6pkh0000gp/T/ipykernel_11652/3016908160.py:20: PerformanceWarning: indexing past lexsort depth may impact performance.\n",
      "  temp = dfZip.loc[dftemp['dist'].idxmin(), 'postal_code']\n"
     ]
    },
    {
     "name": "stdout",
     "output_type": "stream",
     "text": [
      "85520\n"
     ]
    },
    {
     "name": "stderr",
     "output_type": "stream",
     "text": [
      "/var/folders/nw/13n2z96d7jv211k2c2mk6pkh0000gp/T/ipykernel_11652/3016908160.py:20: PerformanceWarning: indexing past lexsort depth may impact performance.\n",
      "  temp = dfZip.loc[dftemp['dist'].idxmin(), 'postal_code']\n"
     ]
    },
    {
     "name": "stdout",
     "output_type": "stream",
     "text": [
      "93400\n"
     ]
    },
    {
     "name": "stderr",
     "output_type": "stream",
     "text": [
      "/var/folders/nw/13n2z96d7jv211k2c2mk6pkh0000gp/T/ipykernel_11652/3016908160.py:20: PerformanceWarning: indexing past lexsort depth may impact performance.\n",
      "  temp = dfZip.loc[dftemp['dist'].idxmin(), 'postal_code']\n"
     ]
    },
    {
     "name": "stdout",
     "output_type": "stream",
     "text": [
      "93400\n"
     ]
    },
    {
     "name": "stderr",
     "output_type": "stream",
     "text": [
      "/var/folders/nw/13n2z96d7jv211k2c2mk6pkh0000gp/T/ipykernel_11652/3016908160.py:20: PerformanceWarning: indexing past lexsort depth may impact performance.\n",
      "  temp = dfZip.loc[dftemp['dist'].idxmin(), 'postal_code']\n"
     ]
    },
    {
     "name": "stdout",
     "output_type": "stream",
     "text": [
      "93270\n"
     ]
    },
    {
     "name": "stderr",
     "output_type": "stream",
     "text": [
      "/var/folders/nw/13n2z96d7jv211k2c2mk6pkh0000gp/T/ipykernel_11652/3016908160.py:20: PerformanceWarning: indexing past lexsort depth may impact performance.\n",
      "  temp = dfZip.loc[dftemp['dist'].idxmin(), 'postal_code']\n"
     ]
    },
    {
     "name": "stdout",
     "output_type": "stream",
     "text": [
      "93240\n"
     ]
    },
    {
     "name": "stderr",
     "output_type": "stream",
     "text": [
      "/var/folders/nw/13n2z96d7jv211k2c2mk6pkh0000gp/T/ipykernel_11652/3016908160.py:20: PerformanceWarning: indexing past lexsort depth may impact performance.\n",
      "  temp = dfZip.loc[dftemp['dist'].idxmin(), 'postal_code']\n"
     ]
    },
    {
     "name": "stdout",
     "output_type": "stream",
     "text": [
      "13117\n"
     ]
    },
    {
     "name": "stderr",
     "output_type": "stream",
     "text": [
      "/var/folders/nw/13n2z96d7jv211k2c2mk6pkh0000gp/T/ipykernel_11652/3016908160.py:20: PerformanceWarning: indexing past lexsort depth may impact performance.\n",
      "  temp = dfZip.loc[dftemp['dist'].idxmin(), 'postal_code']\n"
     ]
    },
    {
     "name": "stdout",
     "output_type": "stream",
     "text": [
      "93290\n"
     ]
    },
    {
     "name": "stderr",
     "output_type": "stream",
     "text": [
      "/var/folders/nw/13n2z96d7jv211k2c2mk6pkh0000gp/T/ipykernel_11652/3016908160.py:20: PerformanceWarning: indexing past lexsort depth may impact performance.\n",
      "  temp = dfZip.loc[dftemp['dist'].idxmin(), 'postal_code']\n"
     ]
    },
    {
     "name": "stdout",
     "output_type": "stream",
     "text": [
      "93420\n"
     ]
    },
    {
     "name": "stderr",
     "output_type": "stream",
     "text": [
      "/var/folders/nw/13n2z96d7jv211k2c2mk6pkh0000gp/T/ipykernel_11652/3016908160.py:20: PerformanceWarning: indexing past lexsort depth may impact performance.\n",
      "  temp = dfZip.loc[dftemp['dist'].idxmin(), 'postal_code']\n"
     ]
    },
    {
     "name": "stdout",
     "output_type": "stream",
     "text": [
      "94140\n"
     ]
    },
    {
     "name": "stderr",
     "output_type": "stream",
     "text": [
      "/var/folders/nw/13n2z96d7jv211k2c2mk6pkh0000gp/T/ipykernel_11652/3016908160.py:20: PerformanceWarning: indexing past lexsort depth may impact performance.\n",
      "  temp = dfZip.loc[dftemp['dist'].idxmin(), 'postal_code']\n"
     ]
    },
    {
     "name": "stdout",
     "output_type": "stream",
     "text": [
      "94110\n"
     ]
    },
    {
     "name": "stderr",
     "output_type": "stream",
     "text": [
      "/var/folders/nw/13n2z96d7jv211k2c2mk6pkh0000gp/T/ipykernel_11652/3016908160.py:20: PerformanceWarning: indexing past lexsort depth may impact performance.\n",
      "  temp = dfZip.loc[dftemp['dist'].idxmin(), 'postal_code']\n"
     ]
    },
    {
     "name": "stdout",
     "output_type": "stream",
     "text": [
      "94380\n"
     ]
    },
    {
     "name": "stderr",
     "output_type": "stream",
     "text": [
      "/var/folders/nw/13n2z96d7jv211k2c2mk6pkh0000gp/T/ipykernel_11652/3016908160.py:20: PerformanceWarning: indexing past lexsort depth may impact performance.\n",
      "  temp = dfZip.loc[dftemp['dist'].idxmin(), 'postal_code']\n"
     ]
    },
    {
     "name": "stdout",
     "output_type": "stream",
     "text": [
      "94360\n"
     ]
    },
    {
     "name": "stderr",
     "output_type": "stream",
     "text": [
      "/var/folders/nw/13n2z96d7jv211k2c2mk6pkh0000gp/T/ipykernel_11652/3016908160.py:20: PerformanceWarning: indexing past lexsort depth may impact performance.\n",
      "  temp = dfZip.loc[dftemp['dist'].idxmin(), 'postal_code']\n"
     ]
    },
    {
     "name": "stdout",
     "output_type": "stream",
     "text": [
      "94230\n"
     ]
    },
    {
     "name": "stderr",
     "output_type": "stream",
     "text": [
      "/var/folders/nw/13n2z96d7jv211k2c2mk6pkh0000gp/T/ipykernel_11652/3016908160.py:20: PerformanceWarning: indexing past lexsort depth may impact performance.\n",
      "  temp = dfZip.loc[dftemp['dist'].idxmin(), 'postal_code']\n"
     ]
    },
    {
     "name": "stdout",
     "output_type": "stream",
     "text": [
      "94500\n"
     ]
    },
    {
     "name": "stderr",
     "output_type": "stream",
     "text": [
      "/var/folders/nw/13n2z96d7jv211k2c2mk6pkh0000gp/T/ipykernel_11652/3016908160.py:20: PerformanceWarning: indexing past lexsort depth may impact performance.\n",
      "  temp = dfZip.loc[dftemp['dist'].idxmin(), 'postal_code']\n"
     ]
    },
    {
     "name": "stdout",
     "output_type": "stream",
     "text": [
      "94220\n"
     ]
    },
    {
     "name": "stderr",
     "output_type": "stream",
     "text": [
      "/var/folders/nw/13n2z96d7jv211k2c2mk6pkh0000gp/T/ipykernel_11652/3016908160.py:20: PerformanceWarning: indexing past lexsort depth may impact performance.\n",
      "  temp = dfZip.loc[dftemp['dist'].idxmin(), 'postal_code']\n"
     ]
    },
    {
     "name": "stdout",
     "output_type": "stream",
     "text": [
      "94240\n"
     ]
    },
    {
     "name": "stderr",
     "output_type": "stream",
     "text": [
      "/var/folders/nw/13n2z96d7jv211k2c2mk6pkh0000gp/T/ipykernel_11652/3016908160.py:20: PerformanceWarning: indexing past lexsort depth may impact performance.\n",
      "  temp = dfZip.loc[dftemp['dist'].idxmin(), 'postal_code']\n"
     ]
    },
    {
     "name": "stdout",
     "output_type": "stream",
     "text": [
      "02000\n"
     ]
    },
    {
     "name": "stderr",
     "output_type": "stream",
     "text": [
      "/var/folders/nw/13n2z96d7jv211k2c2mk6pkh0000gp/T/ipykernel_11652/3016908160.py:20: PerformanceWarning: indexing past lexsort depth may impact performance.\n",
      "  temp = dfZip.loc[dftemp['dist'].idxmin(), 'postal_code']\n"
     ]
    },
    {
     "name": "stdout",
     "output_type": "stream",
     "text": [
      "13140\n"
     ]
    },
    {
     "name": "stderr",
     "output_type": "stream",
     "text": [
      "/var/folders/nw/13n2z96d7jv211k2c2mk6pkh0000gp/T/ipykernel_11652/3016908160.py:20: PerformanceWarning: indexing past lexsort depth may impact performance.\n",
      "  temp = dfZip.loc[dftemp['dist'].idxmin(), 'postal_code']\n"
     ]
    },
    {
     "name": "stdout",
     "output_type": "stream",
     "text": [
      "94600\n"
     ]
    },
    {
     "name": "stderr",
     "output_type": "stream",
     "text": [
      "/var/folders/nw/13n2z96d7jv211k2c2mk6pkh0000gp/T/ipykernel_11652/3016908160.py:20: PerformanceWarning: indexing past lexsort depth may impact performance.\n",
      "  temp = dfZip.loc[dftemp['dist'].idxmin(), 'postal_code']\n"
     ]
    },
    {
     "name": "stdout",
     "output_type": "stream",
     "text": [
      "94380\n"
     ]
    },
    {
     "name": "stderr",
     "output_type": "stream",
     "text": [
      "/var/folders/nw/13n2z96d7jv211k2c2mk6pkh0000gp/T/ipykernel_11652/3016908160.py:20: PerformanceWarning: indexing past lexsort depth may impact performance.\n",
      "  temp = dfZip.loc[dftemp['dist'].idxmin(), 'postal_code']\n"
     ]
    },
    {
     "name": "stdout",
     "output_type": "stream",
     "text": [
      "94000\n"
     ]
    },
    {
     "name": "stderr",
     "output_type": "stream",
     "text": [
      "/var/folders/nw/13n2z96d7jv211k2c2mk6pkh0000gp/T/ipykernel_11652/3016908160.py:20: PerformanceWarning: indexing past lexsort depth may impact performance.\n",
      "  temp = dfZip.loc[dftemp['dist'].idxmin(), 'postal_code']\n"
     ]
    },
    {
     "name": "stdout",
     "output_type": "stream",
     "text": [
      "94000\n"
     ]
    },
    {
     "name": "stderr",
     "output_type": "stream",
     "text": [
      "/var/folders/nw/13n2z96d7jv211k2c2mk6pkh0000gp/T/ipykernel_11652/3016908160.py:20: PerformanceWarning: indexing past lexsort depth may impact performance.\n",
      "  temp = dfZip.loc[dftemp['dist'].idxmin(), 'postal_code']\n"
     ]
    },
    {
     "name": "stdout",
     "output_type": "stream",
     "text": [
      "94120\n"
     ]
    },
    {
     "name": "stderr",
     "output_type": "stream",
     "text": [
      "/var/folders/nw/13n2z96d7jv211k2c2mk6pkh0000gp/T/ipykernel_11652/3016908160.py:20: PerformanceWarning: indexing past lexsort depth may impact performance.\n",
      "  temp = dfZip.loc[dftemp['dist'].idxmin(), 'postal_code']\n"
     ]
    },
    {
     "name": "stdout",
     "output_type": "stream",
     "text": [
      "94260\n"
     ]
    },
    {
     "name": "stderr",
     "output_type": "stream",
     "text": [
      "/var/folders/nw/13n2z96d7jv211k2c2mk6pkh0000gp/T/ipykernel_11652/3016908160.py:20: PerformanceWarning: indexing past lexsort depth may impact performance.\n",
      "  temp = dfZip.loc[dftemp['dist'].idxmin(), 'postal_code']\n"
     ]
    },
    {
     "name": "stdout",
     "output_type": "stream",
     "text": [
      "94250\n"
     ]
    },
    {
     "name": "stderr",
     "output_type": "stream",
     "text": [
      "/var/folders/nw/13n2z96d7jv211k2c2mk6pkh0000gp/T/ipykernel_11652/3016908160.py:20: PerformanceWarning: indexing past lexsort depth may impact performance.\n",
      "  temp = dfZip.loc[dftemp['dist'].idxmin(), 'postal_code']\n"
     ]
    },
    {
     "name": "stdout",
     "output_type": "stream",
     "text": [
      "94200\n"
     ]
    },
    {
     "name": "stderr",
     "output_type": "stream",
     "text": [
      "/var/folders/nw/13n2z96d7jv211k2c2mk6pkh0000gp/T/ipykernel_11652/3016908160.py:20: PerformanceWarning: indexing past lexsort depth may impact performance.\n",
      "  temp = dfZip.loc[dftemp['dist'].idxmin(), 'postal_code']\n"
     ]
    },
    {
     "name": "stdout",
     "output_type": "stream",
     "text": [
      "94270\n"
     ]
    },
    {
     "name": "stderr",
     "output_type": "stream",
     "text": [
      "/var/folders/nw/13n2z96d7jv211k2c2mk6pkh0000gp/T/ipykernel_11652/3016908160.py:20: PerformanceWarning: indexing past lexsort depth may impact performance.\n",
      "  temp = dfZip.loc[dftemp['dist'].idxmin(), 'postal_code']\n"
     ]
    },
    {
     "name": "stdout",
     "output_type": "stream",
     "text": [
      "94470\n"
     ]
    },
    {
     "name": "stderr",
     "output_type": "stream",
     "text": [
      "/var/folders/nw/13n2z96d7jv211k2c2mk6pkh0000gp/T/ipykernel_11652/3016908160.py:20: PerformanceWarning: indexing past lexsort depth may impact performance.\n",
      "  temp = dfZip.loc[dftemp['dist'].idxmin(), 'postal_code']\n"
     ]
    },
    {
     "name": "stdout",
     "output_type": "stream",
     "text": [
      "13250\n"
     ]
    },
    {
     "name": "stderr",
     "output_type": "stream",
     "text": [
      "/var/folders/nw/13n2z96d7jv211k2c2mk6pkh0000gp/T/ipykernel_11652/3016908160.py:20: PerformanceWarning: indexing past lexsort depth may impact performance.\n",
      "  temp = dfZip.loc[dftemp['dist'].idxmin(), 'postal_code']\n"
     ]
    },
    {
     "name": "stdout",
     "output_type": "stream",
     "text": [
      "94140\n"
     ]
    },
    {
     "name": "stderr",
     "output_type": "stream",
     "text": [
      "/var/folders/nw/13n2z96d7jv211k2c2mk6pkh0000gp/T/ipykernel_11652/3016908160.py:20: PerformanceWarning: indexing past lexsort depth may impact performance.\n",
      "  temp = dfZip.loc[dftemp['dist'].idxmin(), 'postal_code']\n"
     ]
    },
    {
     "name": "stdout",
     "output_type": "stream",
     "text": [
      "94130\n"
     ]
    },
    {
     "name": "stderr",
     "output_type": "stream",
     "text": [
      "/var/folders/nw/13n2z96d7jv211k2c2mk6pkh0000gp/T/ipykernel_11652/3016908160.py:20: PerformanceWarning: indexing past lexsort depth may impact performance.\n",
      "  temp = dfZip.loc[dftemp['dist'].idxmin(), 'postal_code']\n"
     ]
    },
    {
     "name": "stdout",
     "output_type": "stream",
     "text": [
      "94290\n"
     ]
    },
    {
     "name": "stderr",
     "output_type": "stream",
     "text": [
      "/var/folders/nw/13n2z96d7jv211k2c2mk6pkh0000gp/T/ipykernel_11652/3016908160.py:20: PerformanceWarning: indexing past lexsort depth may impact performance.\n",
      "  temp = dfZip.loc[dftemp['dist'].idxmin(), 'postal_code']\n"
     ]
    },
    {
     "name": "stdout",
     "output_type": "stream",
     "text": [
      "94360\n"
     ]
    },
    {
     "name": "stderr",
     "output_type": "stream",
     "text": [
      "/var/folders/nw/13n2z96d7jv211k2c2mk6pkh0000gp/T/ipykernel_11652/3016908160.py:20: PerformanceWarning: indexing past lexsort depth may impact performance.\n",
      "  temp = dfZip.loc[dftemp['dist'].idxmin(), 'postal_code']\n"
     ]
    },
    {
     "name": "stdout",
     "output_type": "stream",
     "text": [
      "94160\n"
     ]
    },
    {
     "name": "stderr",
     "output_type": "stream",
     "text": [
      "/var/folders/nw/13n2z96d7jv211k2c2mk6pkh0000gp/T/ipykernel_11652/3016908160.py:20: PerformanceWarning: indexing past lexsort depth may impact performance.\n",
      "  temp = dfZip.loc[dftemp['dist'].idxmin(), 'postal_code']\n"
     ]
    },
    {
     "name": "stdout",
     "output_type": "stream",
     "text": [
      "94000\n"
     ]
    },
    {
     "name": "stderr",
     "output_type": "stream",
     "text": [
      "/var/folders/nw/13n2z96d7jv211k2c2mk6pkh0000gp/T/ipykernel_11652/3016908160.py:20: PerformanceWarning: indexing past lexsort depth may impact performance.\n",
      "  temp = dfZip.loc[dftemp['dist'].idxmin(), 'postal_code']\n"
     ]
    },
    {
     "name": "stdout",
     "output_type": "stream",
     "text": [
      "94410\n"
     ]
    },
    {
     "name": "stderr",
     "output_type": "stream",
     "text": [
      "/var/folders/nw/13n2z96d7jv211k2c2mk6pkh0000gp/T/ipykernel_11652/3016908160.py:20: PerformanceWarning: indexing past lexsort depth may impact performance.\n",
      "  temp = dfZip.loc[dftemp['dist'].idxmin(), 'postal_code']\n"
     ]
    },
    {
     "name": "stdout",
     "output_type": "stream",
     "text": [
      "94320\n"
     ]
    },
    {
     "name": "stderr",
     "output_type": "stream",
     "text": [
      "/var/folders/nw/13n2z96d7jv211k2c2mk6pkh0000gp/T/ipykernel_11652/3016908160.py:20: PerformanceWarning: indexing past lexsort depth may impact performance.\n",
      "  temp = dfZip.loc[dftemp['dist'].idxmin(), 'postal_code']\n"
     ]
    },
    {
     "name": "stdout",
     "output_type": "stream",
     "text": [
      "94460\n"
     ]
    },
    {
     "name": "stderr",
     "output_type": "stream",
     "text": [
      "/var/folders/nw/13n2z96d7jv211k2c2mk6pkh0000gp/T/ipykernel_11652/3016908160.py:20: PerformanceWarning: indexing past lexsort depth may impact performance.\n",
      "  temp = dfZip.loc[dftemp['dist'].idxmin(), 'postal_code']\n"
     ]
    },
    {
     "name": "stdout",
     "output_type": "stream",
     "text": [
      "71500\n"
     ]
    },
    {
     "name": "stderr",
     "output_type": "stream",
     "text": [
      "/var/folders/nw/13n2z96d7jv211k2c2mk6pkh0000gp/T/ipykernel_11652/3016908160.py:20: PerformanceWarning: indexing past lexsort depth may impact performance.\n",
      "  temp = dfZip.loc[dftemp['dist'].idxmin(), 'postal_code']\n"
     ]
    },
    {
     "name": "stdout",
     "output_type": "stream",
     "text": [
      "53100\n"
     ]
    },
    {
     "name": "stderr",
     "output_type": "stream",
     "text": [
      "/var/folders/nw/13n2z96d7jv211k2c2mk6pkh0000gp/T/ipykernel_11652/3016908160.py:20: PerformanceWarning: indexing past lexsort depth may impact performance.\n",
      "  temp = dfZip.loc[dftemp['dist'].idxmin(), 'postal_code']\n"
     ]
    },
    {
     "name": "stdout",
     "output_type": "stream",
     "text": [
      "76170\n"
     ]
    },
    {
     "name": "stderr",
     "output_type": "stream",
     "text": [
      "/var/folders/nw/13n2z96d7jv211k2c2mk6pkh0000gp/T/ipykernel_11652/3016908160.py:20: PerformanceWarning: indexing past lexsort depth may impact performance.\n",
      "  temp = dfZip.loc[dftemp['dist'].idxmin(), 'postal_code']\n"
     ]
    },
    {
     "name": "stdout",
     "output_type": "stream",
     "text": [
      "56500\n"
     ]
    },
    {
     "name": "stderr",
     "output_type": "stream",
     "text": [
      "/var/folders/nw/13n2z96d7jv211k2c2mk6pkh0000gp/T/ipykernel_11652/3016908160.py:20: PerformanceWarning: indexing past lexsort depth may impact performance.\n",
      "  temp = dfZip.loc[dftemp['dist'].idxmin(), 'postal_code']\n"
     ]
    },
    {
     "name": "stdout",
     "output_type": "stream",
     "text": [
      "69110\n"
     ]
    },
    {
     "name": "stderr",
     "output_type": "stream",
     "text": [
      "/var/folders/nw/13n2z96d7jv211k2c2mk6pkh0000gp/T/ipykernel_11652/3016908160.py:20: PerformanceWarning: indexing past lexsort depth may impact performance.\n",
      "  temp = dfZip.loc[dftemp['dist'].idxmin(), 'postal_code']\n"
     ]
    },
    {
     "name": "stdout",
     "output_type": "stream",
     "text": [
      "28630\n"
     ]
    },
    {
     "name": "stderr",
     "output_type": "stream",
     "text": [
      "/var/folders/nw/13n2z96d7jv211k2c2mk6pkh0000gp/T/ipykernel_11652/3016908160.py:20: PerformanceWarning: indexing past lexsort depth may impact performance.\n",
      "  temp = dfZip.loc[dftemp['dist'].idxmin(), 'postal_code']\n"
     ]
    },
    {
     "name": "stdout",
     "output_type": "stream",
     "text": [
      "17440\n"
     ]
    },
    {
     "name": "stderr",
     "output_type": "stream",
     "text": [
      "/var/folders/nw/13n2z96d7jv211k2c2mk6pkh0000gp/T/ipykernel_11652/3016908160.py:20: PerformanceWarning: indexing past lexsort depth may impact performance.\n",
      "  temp = dfZip.loc[dftemp['dist'].idxmin(), 'postal_code']\n"
     ]
    },
    {
     "name": "stdout",
     "output_type": "stream",
     "text": [
      "07200\n"
     ]
    },
    {
     "name": "stderr",
     "output_type": "stream",
     "text": [
      "/var/folders/nw/13n2z96d7jv211k2c2mk6pkh0000gp/T/ipykernel_11652/3016908160.py:20: PerformanceWarning: indexing past lexsort depth may impact performance.\n",
      "  temp = dfZip.loc[dftemp['dist'].idxmin(), 'postal_code']\n"
     ]
    },
    {
     "name": "stdout",
     "output_type": "stream",
     "text": [
      "36000\n"
     ]
    },
    {
     "name": "stderr",
     "output_type": "stream",
     "text": [
      "/var/folders/nw/13n2z96d7jv211k2c2mk6pkh0000gp/T/ipykernel_11652/3016908160.py:20: PerformanceWarning: indexing past lexsort depth may impact performance.\n",
      "  temp = dfZip.loc[dftemp['dist'].idxmin(), 'postal_code']\n"
     ]
    },
    {
     "name": "stdout",
     "output_type": "stream",
     "text": [
      "61000\n"
     ]
    },
    {
     "name": "stderr",
     "output_type": "stream",
     "text": [
      "/var/folders/nw/13n2z96d7jv211k2c2mk6pkh0000gp/T/ipykernel_11652/3016908160.py:20: PerformanceWarning: indexing past lexsort depth may impact performance.\n",
      "  temp = dfZip.loc[dftemp['dist'].idxmin(), 'postal_code']\n"
     ]
    },
    {
     "name": "stdout",
     "output_type": "stream",
     "text": [
      "24650\n"
     ]
    },
    {
     "name": "stderr",
     "output_type": "stream",
     "text": [
      "/var/folders/nw/13n2z96d7jv211k2c2mk6pkh0000gp/T/ipykernel_11652/3016908160.py:20: PerformanceWarning: indexing past lexsort depth may impact performance.\n",
      "  temp = dfZip.loc[dftemp['dist'].idxmin(), 'postal_code']\n"
     ]
    },
    {
     "name": "stdout",
     "output_type": "stream",
     "text": [
      "51000\n"
     ]
    },
    {
     "name": "stderr",
     "output_type": "stream",
     "text": [
      "/var/folders/nw/13n2z96d7jv211k2c2mk6pkh0000gp/T/ipykernel_11652/3016908160.py:20: PerformanceWarning: indexing past lexsort depth may impact performance.\n",
      "  temp = dfZip.loc[dftemp['dist'].idxmin(), 'postal_code']\n"
     ]
    },
    {
     "name": "stdout",
     "output_type": "stream",
     "text": [
      "79400\n"
     ]
    },
    {
     "name": "stderr",
     "output_type": "stream",
     "text": [
      "/var/folders/nw/13n2z96d7jv211k2c2mk6pkh0000gp/T/ipykernel_11652/3016908160.py:20: PerformanceWarning: indexing past lexsort depth may impact performance.\n",
      "  temp = dfZip.loc[dftemp['dist'].idxmin(), 'postal_code']\n"
     ]
    },
    {
     "name": "stdout",
     "output_type": "stream",
     "text": [
      "59190\n"
     ]
    },
    {
     "name": "stderr",
     "output_type": "stream",
     "text": [
      "/var/folders/nw/13n2z96d7jv211k2c2mk6pkh0000gp/T/ipykernel_11652/3016908160.py:20: PerformanceWarning: indexing past lexsort depth may impact performance.\n",
      "  temp = dfZip.loc[dftemp['dist'].idxmin(), 'postal_code']\n"
     ]
    },
    {
     "name": "stdout",
     "output_type": "stream",
     "text": [
      "57600\n"
     ]
    },
    {
     "name": "stderr",
     "output_type": "stream",
     "text": [
      "/var/folders/nw/13n2z96d7jv211k2c2mk6pkh0000gp/T/ipykernel_11652/3016908160.py:20: PerformanceWarning: indexing past lexsort depth may impact performance.\n",
      "  temp = dfZip.loc[dftemp['dist'].idxmin(), 'postal_code']\n"
     ]
    },
    {
     "name": "stdout",
     "output_type": "stream",
     "text": [
      "91000\n"
     ]
    },
    {
     "name": "stderr",
     "output_type": "stream",
     "text": [
      "/var/folders/nw/13n2z96d7jv211k2c2mk6pkh0000gp/T/ipykernel_11652/3016908160.py:20: PerformanceWarning: indexing past lexsort depth may impact performance.\n",
      "  temp = dfZip.loc[dftemp['dist'].idxmin(), 'postal_code']\n"
     ]
    },
    {
     "name": "stdout",
     "output_type": "stream",
     "text": [
      "63200\n"
     ]
    },
    {
     "name": "stderr",
     "output_type": "stream",
     "text": [
      "/var/folders/nw/13n2z96d7jv211k2c2mk6pkh0000gp/T/ipykernel_11652/3016908160.py:20: PerformanceWarning: indexing past lexsort depth may impact performance.\n",
      "  temp = dfZip.loc[dftemp['dist'].idxmin(), 'postal_code']\n"
     ]
    },
    {
     "name": "stdout",
     "output_type": "stream",
     "text": [
      "95700\n"
     ]
    },
    {
     "name": "stderr",
     "output_type": "stream",
     "text": [
      "/var/folders/nw/13n2z96d7jv211k2c2mk6pkh0000gp/T/ipykernel_11652/3016908160.py:20: PerformanceWarning: indexing past lexsort depth may impact performance.\n",
      "  temp = dfZip.loc[dftemp['dist'].idxmin(), 'postal_code']\n"
     ]
    },
    {
     "name": "stdout",
     "output_type": "stream",
     "text": [
      "27950\n"
     ]
    },
    {
     "name": "stderr",
     "output_type": "stream",
     "text": [
      "/var/folders/nw/13n2z96d7jv211k2c2mk6pkh0000gp/T/ipykernel_11652/3016908160.py:20: PerformanceWarning: indexing past lexsort depth may impact performance.\n",
      "  temp = dfZip.loc[dftemp['dist'].idxmin(), 'postal_code']\n"
     ]
    },
    {
     "name": "stdout",
     "output_type": "stream",
     "text": [
      "26500\n"
     ]
    },
    {
     "name": "stderr",
     "output_type": "stream",
     "text": [
      "/var/folders/nw/13n2z96d7jv211k2c2mk6pkh0000gp/T/ipykernel_11652/3016908160.py:20: PerformanceWarning: indexing past lexsort depth may impact performance.\n",
      "  temp = dfZip.loc[dftemp['dist'].idxmin(), 'postal_code']\n"
     ]
    },
    {
     "name": "stdout",
     "output_type": "stream",
     "text": [
      "78117\n"
     ]
    },
    {
     "name": "stderr",
     "output_type": "stream",
     "text": [
      "/var/folders/nw/13n2z96d7jv211k2c2mk6pkh0000gp/T/ipykernel_11652/3016908160.py:20: PerformanceWarning: indexing past lexsort depth may impact performance.\n",
      "  temp = dfZip.loc[dftemp['dist'].idxmin(), 'postal_code']\n"
     ]
    },
    {
     "name": "stdout",
     "output_type": "stream",
     "text": [
      "02850\n"
     ]
    },
    {
     "name": "stderr",
     "output_type": "stream",
     "text": [
      "/var/folders/nw/13n2z96d7jv211k2c2mk6pkh0000gp/T/ipykernel_11652/3016908160.py:20: PerformanceWarning: indexing past lexsort depth may impact performance.\n",
      "  temp = dfZip.loc[dftemp['dist'].idxmin(), 'postal_code']\n"
     ]
    },
    {
     "name": "stdout",
     "output_type": "stream",
     "text": [
      "30200\n"
     ]
    },
    {
     "name": "stderr",
     "output_type": "stream",
     "text": [
      "/var/folders/nw/13n2z96d7jv211k2c2mk6pkh0000gp/T/ipykernel_11652/3016908160.py:20: PerformanceWarning: indexing past lexsort depth may impact performance.\n",
      "  temp = dfZip.loc[dftemp['dist'].idxmin(), 'postal_code']\n"
     ]
    },
    {
     "name": "stdout",
     "output_type": "stream",
     "text": [
      "45260\n"
     ]
    },
    {
     "name": "stderr",
     "output_type": "stream",
     "text": [
      "/var/folders/nw/13n2z96d7jv211k2c2mk6pkh0000gp/T/ipykernel_11652/3016908160.py:20: PerformanceWarning: indexing past lexsort depth may impact performance.\n",
      "  temp = dfZip.loc[dftemp['dist'].idxmin(), 'postal_code']\n"
     ]
    },
    {
     "name": "stdout",
     "output_type": "stream",
     "text": [
      "38550\n"
     ]
    },
    {
     "name": "stderr",
     "output_type": "stream",
     "text": [
      "/var/folders/nw/13n2z96d7jv211k2c2mk6pkh0000gp/T/ipykernel_11652/3016908160.py:20: PerformanceWarning: indexing past lexsort depth may impact performance.\n",
      "  temp = dfZip.loc[dftemp['dist'].idxmin(), 'postal_code']\n"
     ]
    },
    {
     "name": "stdout",
     "output_type": "stream",
     "text": [
      "79500\n"
     ]
    },
    {
     "name": "stderr",
     "output_type": "stream",
     "text": [
      "/var/folders/nw/13n2z96d7jv211k2c2mk6pkh0000gp/T/ipykernel_11652/3016908160.py:20: PerformanceWarning: indexing past lexsort depth may impact performance.\n",
      "  temp = dfZip.loc[dftemp['dist'].idxmin(), 'postal_code']\n"
     ]
    },
    {
     "name": "stdout",
     "output_type": "stream",
     "text": [
      "69220\n"
     ]
    },
    {
     "name": "stderr",
     "output_type": "stream",
     "text": [
      "/var/folders/nw/13n2z96d7jv211k2c2mk6pkh0000gp/T/ipykernel_11652/3016908160.py:20: PerformanceWarning: indexing past lexsort depth may impact performance.\n",
      "  temp = dfZip.loc[dftemp['dist'].idxmin(), 'postal_code']\n"
     ]
    },
    {
     "name": "stdout",
     "output_type": "stream",
     "text": [
      "85450\n"
     ]
    },
    {
     "name": "stderr",
     "output_type": "stream",
     "text": [
      "/var/folders/nw/13n2z96d7jv211k2c2mk6pkh0000gp/T/ipykernel_11652/3016908160.py:20: PerformanceWarning: indexing past lexsort depth may impact performance.\n",
      "  temp = dfZip.loc[dftemp['dist'].idxmin(), 'postal_code']\n"
     ]
    },
    {
     "name": "stdout",
     "output_type": "stream",
     "text": [
      "76450\n"
     ]
    },
    {
     "name": "stderr",
     "output_type": "stream",
     "text": [
      "/var/folders/nw/13n2z96d7jv211k2c2mk6pkh0000gp/T/ipykernel_11652/3016908160.py:20: PerformanceWarning: indexing past lexsort depth may impact performance.\n",
      "  temp = dfZip.loc[dftemp['dist'].idxmin(), 'postal_code']\n"
     ]
    },
    {
     "name": "stdout",
     "output_type": "stream",
     "text": [
      "83310\n"
     ]
    },
    {
     "name": "stderr",
     "output_type": "stream",
     "text": [
      "/var/folders/nw/13n2z96d7jv211k2c2mk6pkh0000gp/T/ipykernel_11652/3016908160.py:20: PerformanceWarning: indexing past lexsort depth may impact performance.\n",
      "  temp = dfZip.loc[dftemp['dist'].idxmin(), 'postal_code']\n"
     ]
    },
    {
     "name": "stdout",
     "output_type": "stream",
     "text": [
      "68150\n"
     ]
    },
    {
     "name": "stderr",
     "output_type": "stream",
     "text": [
      "/var/folders/nw/13n2z96d7jv211k2c2mk6pkh0000gp/T/ipykernel_11652/3016908160.py:20: PerformanceWarning: indexing past lexsort depth may impact performance.\n",
      "  temp = dfZip.loc[dftemp['dist'].idxmin(), 'postal_code']\n"
     ]
    },
    {
     "name": "stdout",
     "output_type": "stream",
     "text": [
      "31390\n"
     ]
    },
    {
     "name": "stderr",
     "output_type": "stream",
     "text": [
      "/var/folders/nw/13n2z96d7jv211k2c2mk6pkh0000gp/T/ipykernel_11652/3016908160.py:20: PerformanceWarning: indexing past lexsort depth may impact performance.\n",
      "  temp = dfZip.loc[dftemp['dist'].idxmin(), 'postal_code']\n"
     ]
    },
    {
     "name": "stdout",
     "output_type": "stream",
     "text": [
      "98799\n"
     ]
    },
    {
     "name": "stderr",
     "output_type": "stream",
     "text": [
      "/var/folders/nw/13n2z96d7jv211k2c2mk6pkh0000gp/T/ipykernel_11652/3016908160.py:20: PerformanceWarning: indexing past lexsort depth may impact performance.\n",
      "  temp = dfZip.loc[dftemp['dist'].idxmin(), 'postal_code']\n"
     ]
    },
    {
     "name": "stdout",
     "output_type": "stream",
     "text": [
      "38250\n"
     ]
    },
    {
     "name": "stderr",
     "output_type": "stream",
     "text": [
      "/var/folders/nw/13n2z96d7jv211k2c2mk6pkh0000gp/T/ipykernel_11652/3016908160.py:20: PerformanceWarning: indexing past lexsort depth may impact performance.\n",
      "  temp = dfZip.loc[dftemp['dist'].idxmin(), 'postal_code']\n"
     ]
    },
    {
     "name": "stdout",
     "output_type": "stream",
     "text": [
      "31450\n"
     ]
    },
    {
     "name": "stderr",
     "output_type": "stream",
     "text": [
      "/var/folders/nw/13n2z96d7jv211k2c2mk6pkh0000gp/T/ipykernel_11652/3016908160.py:20: PerformanceWarning: indexing past lexsort depth may impact performance.\n",
      "  temp = dfZip.loc[dftemp['dist'].idxmin(), 'postal_code']\n"
     ]
    },
    {
     "name": "stdout",
     "output_type": "stream",
     "text": [
      "20169\n"
     ]
    },
    {
     "name": "stderr",
     "output_type": "stream",
     "text": [
      "/var/folders/nw/13n2z96d7jv211k2c2mk6pkh0000gp/T/ipykernel_11652/3016908160.py:20: PerformanceWarning: indexing past lexsort depth may impact performance.\n",
      "  temp = dfZip.loc[dftemp['dist'].idxmin(), 'postal_code']\n"
     ]
    },
    {
     "name": "stdout",
     "output_type": "stream",
     "text": [
      "62217\n"
     ]
    },
    {
     "name": "stderr",
     "output_type": "stream",
     "text": [
      "/var/folders/nw/13n2z96d7jv211k2c2mk6pkh0000gp/T/ipykernel_11652/3016908160.py:20: PerformanceWarning: indexing past lexsort depth may impact performance.\n",
      "  temp = dfZip.loc[dftemp['dist'].idxmin(), 'postal_code']\n"
     ]
    },
    {
     "name": "stdout",
     "output_type": "stream",
     "text": [
      "07200\n"
     ]
    },
    {
     "name": "stderr",
     "output_type": "stream",
     "text": [
      "/var/folders/nw/13n2z96d7jv211k2c2mk6pkh0000gp/T/ipykernel_11652/3016908160.py:20: PerformanceWarning: indexing past lexsort depth may impact performance.\n",
      "  temp = dfZip.loc[dftemp['dist'].idxmin(), 'postal_code']\n"
     ]
    },
    {
     "name": "stdout",
     "output_type": "stream",
     "text": [
      "38130\n"
     ]
    },
    {
     "name": "stderr",
     "output_type": "stream",
     "text": [
      "/var/folders/nw/13n2z96d7jv211k2c2mk6pkh0000gp/T/ipykernel_11652/3016908160.py:20: PerformanceWarning: indexing past lexsort depth may impact performance.\n",
      "  temp = dfZip.loc[dftemp['dist'].idxmin(), 'postal_code']\n"
     ]
    },
    {
     "name": "stdout",
     "output_type": "stream",
     "text": [
      "91000\n"
     ]
    },
    {
     "name": "stderr",
     "output_type": "stream",
     "text": [
      "/var/folders/nw/13n2z96d7jv211k2c2mk6pkh0000gp/T/ipykernel_11652/3016908160.py:20: PerformanceWarning: indexing past lexsort depth may impact performance.\n",
      "  temp = dfZip.loc[dftemp['dist'].idxmin(), 'postal_code']\n"
     ]
    },
    {
     "name": "stdout",
     "output_type": "stream",
     "text": [
      "24200\n"
     ]
    },
    {
     "name": "stderr",
     "output_type": "stream",
     "text": [
      "/var/folders/nw/13n2z96d7jv211k2c2mk6pkh0000gp/T/ipykernel_11652/3016908160.py:20: PerformanceWarning: indexing past lexsort depth may impact performance.\n",
      "  temp = dfZip.loc[dftemp['dist'].idxmin(), 'postal_code']\n"
     ]
    },
    {
     "name": "stdout",
     "output_type": "stream",
     "text": [
      "20200\n"
     ]
    },
    {
     "name": "stderr",
     "output_type": "stream",
     "text": [
      "/var/folders/nw/13n2z96d7jv211k2c2mk6pkh0000gp/T/ipykernel_11652/3016908160.py:20: PerformanceWarning: indexing past lexsort depth may impact performance.\n",
      "  temp = dfZip.loc[dftemp['dist'].idxmin(), 'postal_code']\n"
     ]
    },
    {
     "name": "stdout",
     "output_type": "stream",
     "text": [
      "84200\n"
     ]
    },
    {
     "name": "stderr",
     "output_type": "stream",
     "text": [
      "/var/folders/nw/13n2z96d7jv211k2c2mk6pkh0000gp/T/ipykernel_11652/3016908160.py:20: PerformanceWarning: indexing past lexsort depth may impact performance.\n",
      "  temp = dfZip.loc[dftemp['dist'].idxmin(), 'postal_code']\n"
     ]
    },
    {
     "name": "stdout",
     "output_type": "stream",
     "text": [
      "78310\n"
     ]
    },
    {
     "name": "stderr",
     "output_type": "stream",
     "text": [
      "/var/folders/nw/13n2z96d7jv211k2c2mk6pkh0000gp/T/ipykernel_11652/3016908160.py:20: PerformanceWarning: indexing past lexsort depth may impact performance.\n",
      "  temp = dfZip.loc[dftemp['dist'].idxmin(), 'postal_code']\n"
     ]
    },
    {
     "name": "stdout",
     "output_type": "stream",
     "text": [
      "59220\n"
     ]
    },
    {
     "name": "stderr",
     "output_type": "stream",
     "text": [
      "/var/folders/nw/13n2z96d7jv211k2c2mk6pkh0000gp/T/ipykernel_11652/3016908160.py:20: PerformanceWarning: indexing past lexsort depth may impact performance.\n",
      "  temp = dfZip.loc[dftemp['dist'].idxmin(), 'postal_code']\n"
     ]
    },
    {
     "name": "stdout",
     "output_type": "stream",
     "text": [
      "76200\n"
     ]
    },
    {
     "name": "stderr",
     "output_type": "stream",
     "text": [
      "/var/folders/nw/13n2z96d7jv211k2c2mk6pkh0000gp/T/ipykernel_11652/3016908160.py:20: PerformanceWarning: indexing past lexsort depth may impact performance.\n",
      "  temp = dfZip.loc[dftemp['dist'].idxmin(), 'postal_code']\n"
     ]
    },
    {
     "name": "stdout",
     "output_type": "stream",
     "text": [
      "22100\n"
     ]
    },
    {
     "name": "stderr",
     "output_type": "stream",
     "text": [
      "/var/folders/nw/13n2z96d7jv211k2c2mk6pkh0000gp/T/ipykernel_11652/3016908160.py:20: PerformanceWarning: indexing past lexsort depth may impact performance.\n",
      "  temp = dfZip.loc[dftemp['dist'].idxmin(), 'postal_code']\n"
     ]
    },
    {
     "name": "stdout",
     "output_type": "stream",
     "text": [
      "45400\n"
     ]
    },
    {
     "name": "stderr",
     "output_type": "stream",
     "text": [
      "/var/folders/nw/13n2z96d7jv211k2c2mk6pkh0000gp/T/ipykernel_11652/3016908160.py:20: PerformanceWarning: indexing past lexsort depth may impact performance.\n",
      "  temp = dfZip.loc[dftemp['dist'].idxmin(), 'postal_code']\n"
     ]
    },
    {
     "name": "stdout",
     "output_type": "stream",
     "text": [
      "85200\n"
     ]
    },
    {
     "name": "stderr",
     "output_type": "stream",
     "text": [
      "/var/folders/nw/13n2z96d7jv211k2c2mk6pkh0000gp/T/ipykernel_11652/3016908160.py:20: PerformanceWarning: indexing past lexsort depth may impact performance.\n",
      "  temp = dfZip.loc[dftemp['dist'].idxmin(), 'postal_code']\n"
     ]
    },
    {
     "name": "stdout",
     "output_type": "stream",
     "text": [
      "34990\n"
     ]
    },
    {
     "name": "stderr",
     "output_type": "stream",
     "text": [
      "/var/folders/nw/13n2z96d7jv211k2c2mk6pkh0000gp/T/ipykernel_11652/3016908160.py:20: PerformanceWarning: indexing past lexsort depth may impact performance.\n",
      "  temp = dfZip.loc[dftemp['dist'].idxmin(), 'postal_code']\n"
     ]
    },
    {
     "name": "stdout",
     "output_type": "stream",
     "text": [
      "20169\n"
     ]
    },
    {
     "name": "stderr",
     "output_type": "stream",
     "text": [
      "/var/folders/nw/13n2z96d7jv211k2c2mk6pkh0000gp/T/ipykernel_11652/3016908160.py:20: PerformanceWarning: indexing past lexsort depth may impact performance.\n",
      "  temp = dfZip.loc[dftemp['dist'].idxmin(), 'postal_code']\n"
     ]
    },
    {
     "name": "stdout",
     "output_type": "stream",
     "text": [
      "94240\n"
     ]
    },
    {
     "name": "stderr",
     "output_type": "stream",
     "text": [
      "/var/folders/nw/13n2z96d7jv211k2c2mk6pkh0000gp/T/ipykernel_11652/3016908160.py:20: PerformanceWarning: indexing past lexsort depth may impact performance.\n",
      "  temp = dfZip.loc[dftemp['dist'].idxmin(), 'postal_code']\n"
     ]
    },
    {
     "name": "stdout",
     "output_type": "stream",
     "text": [
      "34280\n"
     ]
    },
    {
     "name": "stderr",
     "output_type": "stream",
     "text": [
      "/var/folders/nw/13n2z96d7jv211k2c2mk6pkh0000gp/T/ipykernel_11652/3016908160.py:20: PerformanceWarning: indexing past lexsort depth may impact performance.\n",
      "  temp = dfZip.loc[dftemp['dist'].idxmin(), 'postal_code']\n"
     ]
    },
    {
     "name": "stdout",
     "output_type": "stream",
     "text": [
      "59110\n"
     ]
    },
    {
     "name": "stderr",
     "output_type": "stream",
     "text": [
      "/var/folders/nw/13n2z96d7jv211k2c2mk6pkh0000gp/T/ipykernel_11652/3016908160.py:20: PerformanceWarning: indexing past lexsort depth may impact performance.\n",
      "  temp = dfZip.loc[dftemp['dist'].idxmin(), 'postal_code']\n"
     ]
    },
    {
     "name": "stdout",
     "output_type": "stream",
     "text": [
      "34400\n"
     ]
    },
    {
     "name": "stderr",
     "output_type": "stream",
     "text": [
      "/var/folders/nw/13n2z96d7jv211k2c2mk6pkh0000gp/T/ipykernel_11652/3016908160.py:20: PerformanceWarning: indexing past lexsort depth may impact performance.\n",
      "  temp = dfZip.loc[dftemp['dist'].idxmin(), 'postal_code']\n"
     ]
    },
    {
     "name": "stdout",
     "output_type": "stream",
     "text": [
      "91460\n"
     ]
    },
    {
     "name": "stderr",
     "output_type": "stream",
     "text": [
      "/var/folders/nw/13n2z96d7jv211k2c2mk6pkh0000gp/T/ipykernel_11652/3016908160.py:20: PerformanceWarning: indexing past lexsort depth may impact performance.\n",
      "  temp = dfZip.loc[dftemp['dist'].idxmin(), 'postal_code']\n"
     ]
    },
    {
     "name": "stdout",
     "output_type": "stream",
     "text": [
      "78320\n"
     ]
    },
    {
     "name": "stderr",
     "output_type": "stream",
     "text": [
      "/var/folders/nw/13n2z96d7jv211k2c2mk6pkh0000gp/T/ipykernel_11652/3016908160.py:20: PerformanceWarning: indexing past lexsort depth may impact performance.\n",
      "  temp = dfZip.loc[dftemp['dist'].idxmin(), 'postal_code']\n"
     ]
    },
    {
     "name": "stdout",
     "output_type": "stream",
     "text": [
      "59370\n"
     ]
    },
    {
     "name": "stderr",
     "output_type": "stream",
     "text": [
      "/var/folders/nw/13n2z96d7jv211k2c2mk6pkh0000gp/T/ipykernel_11652/3016908160.py:20: PerformanceWarning: indexing past lexsort depth may impact performance.\n",
      "  temp = dfZip.loc[dftemp['dist'].idxmin(), 'postal_code']\n"
     ]
    },
    {
     "name": "stdout",
     "output_type": "stream",
     "text": [
      "69700\n"
     ]
    },
    {
     "name": "stderr",
     "output_type": "stream",
     "text": [
      "/var/folders/nw/13n2z96d7jv211k2c2mk6pkh0000gp/T/ipykernel_11652/3016908160.py:20: PerformanceWarning: indexing past lexsort depth may impact performance.\n",
      "  temp = dfZip.loc[dftemp['dist'].idxmin(), 'postal_code']\n"
     ]
    },
    {
     "name": "stdout",
     "output_type": "stream",
     "text": [
      "38330\n"
     ]
    },
    {
     "name": "stderr",
     "output_type": "stream",
     "text": [
      "/var/folders/nw/13n2z96d7jv211k2c2mk6pkh0000gp/T/ipykernel_11652/3016908160.py:20: PerformanceWarning: indexing past lexsort depth may impact performance.\n",
      "  temp = dfZip.loc[dftemp['dist'].idxmin(), 'postal_code']\n"
     ]
    },
    {
     "name": "stdout",
     "output_type": "stream",
     "text": [
      "71300\n"
     ]
    },
    {
     "name": "stderr",
     "output_type": "stream",
     "text": [
      "/var/folders/nw/13n2z96d7jv211k2c2mk6pkh0000gp/T/ipykernel_11652/3016908160.py:20: PerformanceWarning: indexing past lexsort depth may impact performance.\n",
      "  temp = dfZip.loc[dftemp['dist'].idxmin(), 'postal_code']\n"
     ]
    },
    {
     "name": "stdout",
     "output_type": "stream",
     "text": [
      "98799\n"
     ]
    },
    {
     "name": "stderr",
     "output_type": "stream",
     "text": [
      "/var/folders/nw/13n2z96d7jv211k2c2mk6pkh0000gp/T/ipykernel_11652/3016908160.py:20: PerformanceWarning: indexing past lexsort depth may impact performance.\n",
      "  temp = dfZip.loc[dftemp['dist'].idxmin(), 'postal_code']\n"
     ]
    },
    {
     "name": "stdout",
     "output_type": "stream",
     "text": [
      "34140\n"
     ]
    },
    {
     "name": "stderr",
     "output_type": "stream",
     "text": [
      "/var/folders/nw/13n2z96d7jv211k2c2mk6pkh0000gp/T/ipykernel_11652/3016908160.py:20: PerformanceWarning: indexing past lexsort depth may impact performance.\n",
      "  temp = dfZip.loc[dftemp['dist'].idxmin(), 'postal_code']\n"
     ]
    },
    {
     "name": "stdout",
     "output_type": "stream",
     "text": [
      "30130\n"
     ]
    },
    {
     "name": "stderr",
     "output_type": "stream",
     "text": [
      "/var/folders/nw/13n2z96d7jv211k2c2mk6pkh0000gp/T/ipykernel_11652/3016908160.py:20: PerformanceWarning: indexing past lexsort depth may impact performance.\n",
      "  temp = dfZip.loc[dftemp['dist'].idxmin(), 'postal_code']\n"
     ]
    },
    {
     "name": "stdout",
     "output_type": "stream",
     "text": [
      "91130\n"
     ]
    },
    {
     "name": "stderr",
     "output_type": "stream",
     "text": [
      "/var/folders/nw/13n2z96d7jv211k2c2mk6pkh0000gp/T/ipykernel_11652/3016908160.py:20: PerformanceWarning: indexing past lexsort depth may impact performance.\n",
      "  temp = dfZip.loc[dftemp['dist'].idxmin(), 'postal_code']\n"
     ]
    },
    {
     "name": "stdout",
     "output_type": "stream",
     "text": [
      "98799\n"
     ]
    },
    {
     "name": "stderr",
     "output_type": "stream",
     "text": [
      "/var/folders/nw/13n2z96d7jv211k2c2mk6pkh0000gp/T/ipykernel_11652/3016908160.py:20: PerformanceWarning: indexing past lexsort depth may impact performance.\n",
      "  temp = dfZip.loc[dftemp['dist'].idxmin(), 'postal_code']\n"
     ]
    },
    {
     "name": "stdout",
     "output_type": "stream",
     "text": [
      "69230\n"
     ]
    },
    {
     "name": "stderr",
     "output_type": "stream",
     "text": [
      "/var/folders/nw/13n2z96d7jv211k2c2mk6pkh0000gp/T/ipykernel_11652/3016908160.py:20: PerformanceWarning: indexing past lexsort depth may impact performance.\n",
      "  temp = dfZip.loc[dftemp['dist'].idxmin(), 'postal_code']\n"
     ]
    },
    {
     "name": "stdout",
     "output_type": "stream",
     "text": [
      "87200\n"
     ]
    },
    {
     "name": "stderr",
     "output_type": "stream",
     "text": [
      "/var/folders/nw/13n2z96d7jv211k2c2mk6pkh0000gp/T/ipykernel_11652/3016908160.py:20: PerformanceWarning: indexing past lexsort depth may impact performance.\n",
      "  temp = dfZip.loc[dftemp['dist'].idxmin(), 'postal_code']\n"
     ]
    },
    {
     "name": "stdout",
     "output_type": "stream",
     "text": [
      "98799\n"
     ]
    },
    {
     "name": "stderr",
     "output_type": "stream",
     "text": [
      "/var/folders/nw/13n2z96d7jv211k2c2mk6pkh0000gp/T/ipykernel_11652/3016908160.py:20: PerformanceWarning: indexing past lexsort depth may impact performance.\n",
      "  temp = dfZip.loc[dftemp['dist'].idxmin(), 'postal_code']\n"
     ]
    },
    {
     "name": "stdout",
     "output_type": "stream",
     "text": [
      "91240\n"
     ]
    },
    {
     "name": "stderr",
     "output_type": "stream",
     "text": [
      "/var/folders/nw/13n2z96d7jv211k2c2mk6pkh0000gp/T/ipykernel_11652/3016908160.py:20: PerformanceWarning: indexing past lexsort depth may impact performance.\n",
      "  temp = dfZip.loc[dftemp['dist'].idxmin(), 'postal_code']\n"
     ]
    },
    {
     "name": "stdout",
     "output_type": "stream",
     "text": [
      "20169\n"
     ]
    },
    {
     "name": "stderr",
     "output_type": "stream",
     "text": [
      "/var/folders/nw/13n2z96d7jv211k2c2mk6pkh0000gp/T/ipykernel_11652/3016908160.py:20: PerformanceWarning: indexing past lexsort depth may impact performance.\n",
      "  temp = dfZip.loc[dftemp['dist'].idxmin(), 'postal_code']\n"
     ]
    },
    {
     "name": "stdout",
     "output_type": "stream",
     "text": [
      "94800\n"
     ]
    },
    {
     "name": "stderr",
     "output_type": "stream",
     "text": [
      "/var/folders/nw/13n2z96d7jv211k2c2mk6pkh0000gp/T/ipykernel_11652/3016908160.py:20: PerformanceWarning: indexing past lexsort depth may impact performance.\n",
      "  temp = dfZip.loc[dftemp['dist'].idxmin(), 'postal_code']\n"
     ]
    },
    {
     "name": "stdout",
     "output_type": "stream",
     "text": [
      "60300\n"
     ]
    },
    {
     "name": "stderr",
     "output_type": "stream",
     "text": [
      "/var/folders/nw/13n2z96d7jv211k2c2mk6pkh0000gp/T/ipykernel_11652/3016908160.py:20: PerformanceWarning: indexing past lexsort depth may impact performance.\n",
      "  temp = dfZip.loc[dftemp['dist'].idxmin(), 'postal_code']\n"
     ]
    },
    {
     "name": "stdout",
     "output_type": "stream",
     "text": [
      "38450\n"
     ]
    },
    {
     "name": "stderr",
     "output_type": "stream",
     "text": [
      "/var/folders/nw/13n2z96d7jv211k2c2mk6pkh0000gp/T/ipykernel_11652/3016908160.py:20: PerformanceWarning: indexing past lexsort depth may impact performance.\n",
      "  temp = dfZip.loc[dftemp['dist'].idxmin(), 'postal_code']\n"
     ]
    },
    {
     "name": "stdout",
     "output_type": "stream",
     "text": [
      "02600\n"
     ]
    },
    {
     "name": "stderr",
     "output_type": "stream",
     "text": [
      "/var/folders/nw/13n2z96d7jv211k2c2mk6pkh0000gp/T/ipykernel_11652/3016908160.py:20: PerformanceWarning: indexing past lexsort depth may impact performance.\n",
      "  temp = dfZip.loc[dftemp['dist'].idxmin(), 'postal_code']\n"
     ]
    },
    {
     "name": "stdout",
     "output_type": "stream",
     "text": [
      "98799\n"
     ]
    },
    {
     "name": "stderr",
     "output_type": "stream",
     "text": [
      "/var/folders/nw/13n2z96d7jv211k2c2mk6pkh0000gp/T/ipykernel_11652/3016908160.py:20: PerformanceWarning: indexing past lexsort depth may impact performance.\n",
      "  temp = dfZip.loc[dftemp['dist'].idxmin(), 'postal_code']\n"
     ]
    },
    {
     "name": "stdout",
     "output_type": "stream",
     "text": [
      "93310\n"
     ]
    },
    {
     "name": "stderr",
     "output_type": "stream",
     "text": [
      "/var/folders/nw/13n2z96d7jv211k2c2mk6pkh0000gp/T/ipykernel_11652/3016908160.py:20: PerformanceWarning: indexing past lexsort depth may impact performance.\n",
      "  temp = dfZip.loc[dftemp['dist'].idxmin(), 'postal_code']\n"
     ]
    },
    {
     "name": "stdout",
     "output_type": "stream",
     "text": [
      "91200\n"
     ]
    },
    {
     "name": "stderr",
     "output_type": "stream",
     "text": [
      "/var/folders/nw/13n2z96d7jv211k2c2mk6pkh0000gp/T/ipykernel_11652/3016908160.py:20: PerformanceWarning: indexing past lexsort depth may impact performance.\n",
      "  temp = dfZip.loc[dftemp['dist'].idxmin(), 'postal_code']\n"
     ]
    },
    {
     "name": "stdout",
     "output_type": "stream",
     "text": [
      "38260\n"
     ]
    },
    {
     "name": "stderr",
     "output_type": "stream",
     "text": [
      "/var/folders/nw/13n2z96d7jv211k2c2mk6pkh0000gp/T/ipykernel_11652/3016908160.py:20: PerformanceWarning: indexing past lexsort depth may impact performance.\n",
      "  temp = dfZip.loc[dftemp['dist'].idxmin(), 'postal_code']\n"
     ]
    },
    {
     "name": "stdout",
     "output_type": "stream",
     "text": [
      "31600\n"
     ]
    },
    {
     "name": "stderr",
     "output_type": "stream",
     "text": [
      "/var/folders/nw/13n2z96d7jv211k2c2mk6pkh0000gp/T/ipykernel_11652/3016908160.py:20: PerformanceWarning: indexing past lexsort depth may impact performance.\n",
      "  temp = dfZip.loc[dftemp['dist'].idxmin(), 'postal_code']\n"
     ]
    },
    {
     "name": "stdout",
     "output_type": "stream",
     "text": [
      "94130\n"
     ]
    },
    {
     "name": "stderr",
     "output_type": "stream",
     "text": [
      "/var/folders/nw/13n2z96d7jv211k2c2mk6pkh0000gp/T/ipykernel_11652/3016908160.py:20: PerformanceWarning: indexing past lexsort depth may impact performance.\n",
      "  temp = dfZip.loc[dftemp['dist'].idxmin(), 'postal_code']\n"
     ]
    },
    {
     "name": "stdout",
     "output_type": "stream",
     "text": [
      "69560\n"
     ]
    },
    {
     "name": "stderr",
     "output_type": "stream",
     "text": [
      "/var/folders/nw/13n2z96d7jv211k2c2mk6pkh0000gp/T/ipykernel_11652/3016908160.py:20: PerformanceWarning: indexing past lexsort depth may impact performance.\n",
      "  temp = dfZip.loc[dftemp['dist'].idxmin(), 'postal_code']\n"
     ]
    },
    {
     "name": "stdout",
     "output_type": "stream",
     "text": [
      "16100\n"
     ]
    },
    {
     "name": "stderr",
     "output_type": "stream",
     "text": [
      "/var/folders/nw/13n2z96d7jv211k2c2mk6pkh0000gp/T/ipykernel_11652/3016908160.py:20: PerformanceWarning: indexing past lexsort depth may impact performance.\n",
      "  temp = dfZip.loc[dftemp['dist'].idxmin(), 'postal_code']\n"
     ]
    },
    {
     "name": "stdout",
     "output_type": "stream",
     "text": [
      "02000\n"
     ]
    },
    {
     "name": "stderr",
     "output_type": "stream",
     "text": [
      "/var/folders/nw/13n2z96d7jv211k2c2mk6pkh0000gp/T/ipykernel_11652/3016908160.py:20: PerformanceWarning: indexing past lexsort depth may impact performance.\n",
      "  temp = dfZip.loc[dftemp['dist'].idxmin(), 'postal_code']\n"
     ]
    },
    {
     "name": "stdout",
     "output_type": "stream",
     "text": [
      "25300\n"
     ]
    },
    {
     "name": "stderr",
     "output_type": "stream",
     "text": [
      "/var/folders/nw/13n2z96d7jv211k2c2mk6pkh0000gp/T/ipykernel_11652/3016908160.py:20: PerformanceWarning: indexing past lexsort depth may impact performance.\n",
      "  temp = dfZip.loc[dftemp['dist'].idxmin(), 'postal_code']\n"
     ]
    },
    {
     "name": "stdout",
     "output_type": "stream",
     "text": [
      "45140\n"
     ]
    },
    {
     "name": "stderr",
     "output_type": "stream",
     "text": [
      "/var/folders/nw/13n2z96d7jv211k2c2mk6pkh0000gp/T/ipykernel_11652/3016908160.py:20: PerformanceWarning: indexing past lexsort depth may impact performance.\n",
      "  temp = dfZip.loc[dftemp['dist'].idxmin(), 'postal_code']\n"
     ]
    },
    {
     "name": "stdout",
     "output_type": "stream",
     "text": [
      "20000\n"
     ]
    },
    {
     "name": "stderr",
     "output_type": "stream",
     "text": [
      "/var/folders/nw/13n2z96d7jv211k2c2mk6pkh0000gp/T/ipykernel_11652/3016908160.py:20: PerformanceWarning: indexing past lexsort depth may impact performance.\n",
      "  temp = dfZip.loc[dftemp['dist'].idxmin(), 'postal_code']\n"
     ]
    },
    {
     "name": "stdout",
     "output_type": "stream",
     "text": [
      "98799\n"
     ]
    },
    {
     "name": "stderr",
     "output_type": "stream",
     "text": [
      "/var/folders/nw/13n2z96d7jv211k2c2mk6pkh0000gp/T/ipykernel_11652/3016908160.py:20: PerformanceWarning: indexing past lexsort depth may impact performance.\n",
      "  temp = dfZip.loc[dftemp['dist'].idxmin(), 'postal_code']\n"
     ]
    },
    {
     "name": "stdout",
     "output_type": "stream",
     "text": [
      "35000\n"
     ]
    },
    {
     "name": "stderr",
     "output_type": "stream",
     "text": [
      "/var/folders/nw/13n2z96d7jv211k2c2mk6pkh0000gp/T/ipykernel_11652/3016908160.py:20: PerformanceWarning: indexing past lexsort depth may impact performance.\n",
      "  temp = dfZip.loc[dftemp['dist'].idxmin(), 'postal_code']\n"
     ]
    },
    {
     "name": "stdout",
     "output_type": "stream",
     "text": [
      "71200\n"
     ]
    },
    {
     "name": "stderr",
     "output_type": "stream",
     "text": [
      "/var/folders/nw/13n2z96d7jv211k2c2mk6pkh0000gp/T/ipykernel_11652/3016908160.py:20: PerformanceWarning: indexing past lexsort depth may impact performance.\n",
      "  temp = dfZip.loc[dftemp['dist'].idxmin(), 'postal_code']\n"
     ]
    },
    {
     "name": "stdout",
     "output_type": "stream",
     "text": [
      "94391 CEDEX\n"
     ]
    },
    {
     "name": "stderr",
     "output_type": "stream",
     "text": [
      "/var/folders/nw/13n2z96d7jv211k2c2mk6pkh0000gp/T/ipykernel_11652/3016908160.py:20: PerformanceWarning: indexing past lexsort depth may impact performance.\n",
      "  temp = dfZip.loc[dftemp['dist'].idxmin(), 'postal_code']\n"
     ]
    },
    {
     "name": "stdout",
     "output_type": "stream",
     "text": [
      "13080\n"
     ]
    },
    {
     "name": "stderr",
     "output_type": "stream",
     "text": [
      "/var/folders/nw/13n2z96d7jv211k2c2mk6pkh0000gp/T/ipykernel_11652/3016908160.py:20: PerformanceWarning: indexing past lexsort depth may impact performance.\n",
      "  temp = dfZip.loc[dftemp['dist'].idxmin(), 'postal_code']\n"
     ]
    },
    {
     "name": "stdout",
     "output_type": "stream",
     "text": [
      "05000\n"
     ]
    },
    {
     "name": "stderr",
     "output_type": "stream",
     "text": [
      "/var/folders/nw/13n2z96d7jv211k2c2mk6pkh0000gp/T/ipykernel_11652/3016908160.py:20: PerformanceWarning: indexing past lexsort depth may impact performance.\n",
      "  temp = dfZip.loc[dftemp['dist'].idxmin(), 'postal_code']\n"
     ]
    },
    {
     "name": "stdout",
     "output_type": "stream",
     "text": [
      "94158 CEDEX\n"
     ]
    },
    {
     "name": "stderr",
     "output_type": "stream",
     "text": [
      "/var/folders/nw/13n2z96d7jv211k2c2mk6pkh0000gp/T/ipykernel_11652/3016908160.py:20: PerformanceWarning: indexing past lexsort depth may impact performance.\n",
      "  temp = dfZip.loc[dftemp['dist'].idxmin(), 'postal_code']\n"
     ]
    },
    {
     "name": "stdout",
     "output_type": "stream",
     "text": [
      "75013\n"
     ]
    },
    {
     "name": "stderr",
     "output_type": "stream",
     "text": [
      "/var/folders/nw/13n2z96d7jv211k2c2mk6pkh0000gp/T/ipykernel_11652/3016908160.py:20: PerformanceWarning: indexing past lexsort depth may impact performance.\n",
      "  temp = dfZip.loc[dftemp['dist'].idxmin(), 'postal_code']\n"
     ]
    },
    {
     "name": "stdout",
     "output_type": "stream",
     "text": [
      "91550\n"
     ]
    },
    {
     "name": "stderr",
     "output_type": "stream",
     "text": [
      "/var/folders/nw/13n2z96d7jv211k2c2mk6pkh0000gp/T/ipykernel_11652/3016908160.py:20: PerformanceWarning: indexing past lexsort depth may impact performance.\n",
      "  temp = dfZip.loc[dftemp['dist'].idxmin(), 'postal_code']\n"
     ]
    },
    {
     "name": "stdout",
     "output_type": "stream",
     "text": [
      "75019\n"
     ]
    },
    {
     "name": "stderr",
     "output_type": "stream",
     "text": [
      "/var/folders/nw/13n2z96d7jv211k2c2mk6pkh0000gp/T/ipykernel_11652/3016908160.py:20: PerformanceWarning: indexing past lexsort depth may impact performance.\n",
      "  temp = dfZip.loc[dftemp['dist'].idxmin(), 'postal_code']\n"
     ]
    },
    {
     "name": "stdout",
     "output_type": "stream",
     "text": [
      "94120\n"
     ]
    },
    {
     "name": "stderr",
     "output_type": "stream",
     "text": [
      "/var/folders/nw/13n2z96d7jv211k2c2mk6pkh0000gp/T/ipykernel_11652/3016908160.py:20: PerformanceWarning: indexing past lexsort depth may impact performance.\n",
      "  temp = dfZip.loc[dftemp['dist'].idxmin(), 'postal_code']\n"
     ]
    },
    {
     "name": "stdout",
     "output_type": "stream",
     "text": [
      "75005\n"
     ]
    },
    {
     "name": "stderr",
     "output_type": "stream",
     "text": [
      "/var/folders/nw/13n2z96d7jv211k2c2mk6pkh0000gp/T/ipykernel_11652/3016908160.py:20: PerformanceWarning: indexing past lexsort depth may impact performance.\n",
      "  temp = dfZip.loc[dftemp['dist'].idxmin(), 'postal_code']\n"
     ]
    },
    {
     "name": "stdout",
     "output_type": "stream",
     "text": [
      "95250\n"
     ]
    },
    {
     "name": "stderr",
     "output_type": "stream",
     "text": [
      "/var/folders/nw/13n2z96d7jv211k2c2mk6pkh0000gp/T/ipykernel_11652/3016908160.py:20: PerformanceWarning: indexing past lexsort depth may impact performance.\n",
      "  temp = dfZip.loc[dftemp['dist'].idxmin(), 'postal_code']\n"
     ]
    },
    {
     "name": "stdout",
     "output_type": "stream",
     "text": [
      "75004\n"
     ]
    },
    {
     "name": "stderr",
     "output_type": "stream",
     "text": [
      "/var/folders/nw/13n2z96d7jv211k2c2mk6pkh0000gp/T/ipykernel_11652/3016908160.py:20: PerformanceWarning: indexing past lexsort depth may impact performance.\n",
      "  temp = dfZip.loc[dftemp['dist'].idxmin(), 'postal_code']\n"
     ]
    },
    {
     "name": "stdout",
     "output_type": "stream",
     "text": [
      "94250\n"
     ]
    },
    {
     "name": "stderr",
     "output_type": "stream",
     "text": [
      "/var/folders/nw/13n2z96d7jv211k2c2mk6pkh0000gp/T/ipykernel_11652/3016908160.py:20: PerformanceWarning: indexing past lexsort depth may impact performance.\n",
      "  temp = dfZip.loc[dftemp['dist'].idxmin(), 'postal_code']\n"
     ]
    },
    {
     "name": "stdout",
     "output_type": "stream",
     "text": [
      "92120\n"
     ]
    },
    {
     "name": "stderr",
     "output_type": "stream",
     "text": [
      "/var/folders/nw/13n2z96d7jv211k2c2mk6pkh0000gp/T/ipykernel_11652/3016908160.py:20: PerformanceWarning: indexing past lexsort depth may impact performance.\n",
      "  temp = dfZip.loc[dftemp['dist'].idxmin(), 'postal_code']\n"
     ]
    },
    {
     "name": "stdout",
     "output_type": "stream",
     "text": [
      "93210 CEDEX\n"
     ]
    },
    {
     "name": "stderr",
     "output_type": "stream",
     "text": [
      "/var/folders/nw/13n2z96d7jv211k2c2mk6pkh0000gp/T/ipykernel_11652/3016908160.py:20: PerformanceWarning: indexing past lexsort depth may impact performance.\n",
      "  temp = dfZip.loc[dftemp['dist'].idxmin(), 'postal_code']\n"
     ]
    },
    {
     "name": "stdout",
     "output_type": "stream",
     "text": [
      "75009\n"
     ]
    },
    {
     "name": "stderr",
     "output_type": "stream",
     "text": [
      "/var/folders/nw/13n2z96d7jv211k2c2mk6pkh0000gp/T/ipykernel_11652/3016908160.py:20: PerformanceWarning: indexing past lexsort depth may impact performance.\n",
      "  temp = dfZip.loc[dftemp['dist'].idxmin(), 'postal_code']\n"
     ]
    },
    {
     "name": "stdout",
     "output_type": "stream",
     "text": [
      "92130\n"
     ]
    },
    {
     "name": "stderr",
     "output_type": "stream",
     "text": [
      "/var/folders/nw/13n2z96d7jv211k2c2mk6pkh0000gp/T/ipykernel_11652/3016908160.py:20: PerformanceWarning: indexing past lexsort depth may impact performance.\n",
      "  temp = dfZip.loc[dftemp['dist'].idxmin(), 'postal_code']\n"
     ]
    },
    {
     "name": "stdout",
     "output_type": "stream",
     "text": [
      "94200\n"
     ]
    },
    {
     "name": "stderr",
     "output_type": "stream",
     "text": [
      "/var/folders/nw/13n2z96d7jv211k2c2mk6pkh0000gp/T/ipykernel_11652/3016908160.py:20: PerformanceWarning: indexing past lexsort depth may impact performance.\n",
      "  temp = dfZip.loc[dftemp['dist'].idxmin(), 'postal_code']\n"
     ]
    },
    {
     "name": "stdout",
     "output_type": "stream",
     "text": [
      "75007\n"
     ]
    },
    {
     "name": "stderr",
     "output_type": "stream",
     "text": [
      "/var/folders/nw/13n2z96d7jv211k2c2mk6pkh0000gp/T/ipykernel_11652/3016908160.py:20: PerformanceWarning: indexing past lexsort depth may impact performance.\n",
      "  temp = dfZip.loc[dftemp['dist'].idxmin(), 'postal_code']\n"
     ]
    },
    {
     "name": "stdout",
     "output_type": "stream",
     "text": [
      "92110\n"
     ]
    },
    {
     "name": "stderr",
     "output_type": "stream",
     "text": [
      "/var/folders/nw/13n2z96d7jv211k2c2mk6pkh0000gp/T/ipykernel_11652/3016908160.py:20: PerformanceWarning: indexing past lexsort depth may impact performance.\n",
      "  temp = dfZip.loc[dftemp['dist'].idxmin(), 'postal_code']\n"
     ]
    },
    {
     "name": "stdout",
     "output_type": "stream",
     "text": [
      "25310\n"
     ]
    },
    {
     "name": "stderr",
     "output_type": "stream",
     "text": [
      "/var/folders/nw/13n2z96d7jv211k2c2mk6pkh0000gp/T/ipykernel_11652/3016908160.py:20: PerformanceWarning: indexing past lexsort depth may impact performance.\n",
      "  temp = dfZip.loc[dftemp['dist'].idxmin(), 'postal_code']\n"
     ]
    },
    {
     "name": "stdout",
     "output_type": "stream",
     "text": [
      "92130\n"
     ]
    },
    {
     "name": "stderr",
     "output_type": "stream",
     "text": [
      "/var/folders/nw/13n2z96d7jv211k2c2mk6pkh0000gp/T/ipykernel_11652/3016908160.py:20: PerformanceWarning: indexing past lexsort depth may impact performance.\n",
      "  temp = dfZip.loc[dftemp['dist'].idxmin(), 'postal_code']\n"
     ]
    },
    {
     "name": "stdout",
     "output_type": "stream",
     "text": [
      "44000\n"
     ]
    },
    {
     "name": "stderr",
     "output_type": "stream",
     "text": [
      "/var/folders/nw/13n2z96d7jv211k2c2mk6pkh0000gp/T/ipykernel_11652/3016908160.py:20: PerformanceWarning: indexing past lexsort depth may impact performance.\n",
      "  temp = dfZip.loc[dftemp['dist'].idxmin(), 'postal_code']\n"
     ]
    },
    {
     "name": "stdout",
     "output_type": "stream",
     "text": [
      "94140\n"
     ]
    },
    {
     "name": "stderr",
     "output_type": "stream",
     "text": [
      "/var/folders/nw/13n2z96d7jv211k2c2mk6pkh0000gp/T/ipykernel_11652/3016908160.py:20: PerformanceWarning: indexing past lexsort depth may impact performance.\n",
      "  temp = dfZip.loc[dftemp['dist'].idxmin(), 'postal_code']\n"
     ]
    },
    {
     "name": "stdout",
     "output_type": "stream",
     "text": [
      "75008\n"
     ]
    },
    {
     "name": "stderr",
     "output_type": "stream",
     "text": [
      "/var/folders/nw/13n2z96d7jv211k2c2mk6pkh0000gp/T/ipykernel_11652/3016908160.py:20: PerformanceWarning: indexing past lexsort depth may impact performance.\n",
      "  temp = dfZip.loc[dftemp['dist'].idxmin(), 'postal_code']\n"
     ]
    },
    {
     "name": "stdout",
     "output_type": "stream",
     "text": [
      "75016\n"
     ]
    }
   ],
   "source": [
    "dfCulture = pd.read_csv(\"Data/Culture.csv\", sep=\";\")\n",
    "\n",
    "# Load the dataset\n",
    "# Split in chunks to avoid memory error and process chunk by chunk\n",
    "\n",
    "chunks = pd.read_csv('Data/Culture.csv', chunksize=1000000, low_memory=False, sep=\";\")\n",
    "dfZip = pd.read_csv('Data/FR.csv', sep='\\t', header=None,\n",
    "                 names=[\"country\", \"postal_code\", \"city\", \"region\", \"region2\",\n",
    "                        \"region3\", \"latitude\", \"longitude\", \"accuracy\"])\n",
    "dfZip['postal_code'] = pd.to_numeric(dfZip['postal_code'], errors='coerce')\n",
    "dfZip['latitude'] = pd.to_numeric(dfZip['latitude'], errors='coerce')\n",
    "dfZip['longitude'] = pd.to_numeric(dfZip['longitude'], errors='coerce')\n",
    "\n",
    "dftemp = pd.DataFrame()\n",
    "# Collect processed chunks into a list\n",
    "chunk_list = []\n",
    "def latlong_to_postalcode(lat, lon):\n",
    "\n",
    "    dftemp['dist'] = dfZip.apply(lambda row: distance((lat, lon), (row.latitude, row.longitude)).km, axis=1)\n",
    "    temp = dfZip.loc[dftemp['dist'].idxmin(), 'postal_code']\n",
    "    CP = temp.index[0][1]\n",
    "    print(CP)\n",
    "    return CP\n",
    "\n",
    "\n",
    "for chunk in chunks:\n",
    "    print(\"Processing a new chunk...\")\n",
    "    df1 = pd.DataFrame(chunk)\n",
    "    df2 = df1[['Latitude','Longitude']].dropna()\n",
    "    df2['CodePostal'] = df2.apply(lambda row: latlong_to_postalcode(row['Latitude'], row['Longitude']), axis=1)\n",
    "    chunk_list.append(df2)\n",
    "\n",
    "# Concatenate all chunks into a single DataFrame\n",
    "df = pd.concat(chunk_list, ignore_index=True)\n",
    "\n",
    "# Display basic information about the dataset\n",
    "print(df.info())\n",
    "print(df.head())\n",
    "df.to_csv('DataCleaned/Culture_Cleaned.csv', index=False)\n"
   ]
  },
  {
   "cell_type": "code",
   "execution_count": null,
   "id": "5bcd2483",
   "metadata": {},
   "outputs": [],
   "source": [
    "# extraire les 5 first char\n",
    "# count per zipcode"
   ]
  }
 ],
 "metadata": {
  "kernelspec": {
   "display_name": "venvMacOS",
   "language": "python",
   "name": "python3"
  },
  "language_info": {
   "codemirror_mode": {
    "name": "ipython",
    "version": 3
   },
   "file_extension": ".py",
   "mimetype": "text/x-python",
   "name": "python",
   "nbconvert_exporter": "python",
   "pygments_lexer": "ipython3",
   "version": "3.13.8"
  }
 },
 "nbformat": 4,
 "nbformat_minor": 5
}
